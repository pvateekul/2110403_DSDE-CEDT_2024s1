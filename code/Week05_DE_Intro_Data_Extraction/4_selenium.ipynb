{
 "cells": [
  {
   "cell_type": "markdown",
   "metadata": {},
   "source": [
    "# Data Extraction with Selenium\n",
    "In this tutorial, we discuss how to use Selenium to extract data from the web.  Please see https://selenium-python.readthedocs.io for more details."
   ]
  },
  {
   "cell_type": "markdown",
   "metadata": {},
   "source": [
    "## Installation\n",
    "We first install selenium package.\n",
    "\n",
    "        pip install selenium"
   ]
  },
  {
   "cell_type": "code",
   "execution_count": 16,
   "metadata": {},
   "outputs": [],
   "source": [
    "from selenium import webdriver\n",
    "import time\n",
    "import os"
   ]
  },
  {
   "cell_type": "code",
   "execution_count": 17,
   "metadata": {},
   "outputs": [],
   "source": [
    "browser = webdriver.Chrome()"
   ]
  },
  {
   "cell_type": "markdown",
   "metadata": {},
   "source": [
    "## Browsing a webpage\n",
    "Once the browser starts, we can tell it to visit a webpage."
   ]
  },
  {
   "cell_type": "code",
   "execution_count": 18,
   "metadata": {
    "tags": []
   },
   "outputs": [],
   "source": [
    "url = 'https://www.google.com'"
   ]
  },
  {
   "cell_type": "code",
   "execution_count": 19,
   "metadata": {},
   "outputs": [],
   "source": [
    "browser.get(url=url)"
   ]
  },
  {
   "cell_type": "code",
   "execution_count": 20,
   "metadata": {},
   "outputs": [
    {
     "data": {
      "text/plain": [
       "'<html itemscope=\"\" itemtype=\"http://schema.org/WebPage\" lang=\"th\"><head><meta charset=\"UTF-8\"><meta content=\"origin\" name=\"referrer\"><meta content=\"/images/branding/googleg/1x/googleg_standard_color_128dp.png\" itemprop=\"image\"><title>Google</title><script src=\"https://apis.google.com/_/scs/abc-static/_/js/k=gapi.gapi.en.7LPvRDgzcqA.O/m=gapi_iframes,googleapis_client/rt=j/sv=1/d=1/ed=1/am=AACA/rs=AHpOoo9wdgl3D0Cd5pn6O1gZXHwWDc_oTg/cb=gapi.loaded_0\" nonce=\"\" async=\"\"></script><script nonce=\"\">window._hst=Date.now();performance&&performance.mark&&performance.mark(\"SearchHeadStart\");</script><script nonce=\"\">(function(){var _g={kEI:\\'vScKZ9-3CPmanesPmrS4kAw\\',kEXPI:\\'31\\',kBL:\\'hBAu\\',kOPI:89978449};(function(){var a;((a=window.google)==null?0:a.stvsc)?google.kEI=_g.kEI:window.google=_g;}).call(this);})();(function(){google.sn=\\'webhp\\';google.kHL=\\'th\\';})();(function(){\\nvar h=this||self;function l(){return window.google!==void 0&&window.google.kOPI!==void 0&&window.google.kOPI!==0?window.google.kOPI:null};var m,n=[];function p(a){for(var b;a&&(!a.getAttribute||!(b=a.getAttribute(\"eid\")));)a=a.parentNode;return b||m}function q(a){for(var b=null;a&&(!a.getAttribute||!(b=a.getAttribute(\"leid\")));)a=a.parentNode;return b}function r(a){/^http:/i.test(a)&&window.location.protocol===\"https:\"&&(google.ml&&google.ml(Error(\"a\"),!1,{src:a,glmm:1}),a=\"\");return a}\\nfunction t(a,b,c,d,k){var e=\"\";b.search(\"&ei=\")===-1&&(e=\"&ei=\"+p(d),b.search(\"&lei=\")===-1&&(d=q(d))&&(e+=\"&lei=\"+d));d=\"\";var g=b.search(\"&cshid=\")===-1&&a!==\"slh\",f=[];f.push([\"zx\",Date.now().toString()]);h._cshid&&g&&f.push([\"cshid\",h._cshid]);c=c();c!=null&&f.push([\"opi\",c.toString()]);for(c=0;c<f.length;c++){if(c===0||c>0)d+=\"&\";d+=f[c][0]+\"=\"+f[c][1]}return\"/\"+(k||\"gen_204\")+\"?atyp=i&ct=\"+String(a)+\"&cad=\"+(b+e+d)};m=google.kEI;google.getEI=p;google.getLEI=q;google.ml=function(){return null};google.log=function(a,b,c,d,k,e){e=e===void 0?l:e;c||(c=t(a,b,e,d,k));if(c=r(c)){a=new Image;var g=n.length;n[g]=a;a.onerror=a.onload=a.onabort=function(){delete n[g]};a.src=c}};google.logUrl=function(a,b){b=b===void 0?l:b;return t(\"\",a,b)};}).call(this);(function(){google.y={};google.sy=[];var d;(d=google).x||(d.x=function(a,b){if(a)var c=a.id;else{do c=Math.random();while(google.y[c])}google.y[c]=[a,b];return!1});var e;(e=google).sx||(e.sx=function(a){google.sy.push(a)});google.lm=[];var f;(f=google).plm||(f.plm=function(a){google.lm.push.apply(google.lm,a)});google.lq=[];var g;(g=google).load||(g.load=function(a,b,c){google.lq.push([[a],b,c])});var h;(h=google).loadAll||(h.loadAll=function(a,b){google.lq.push([a,b])});google.bx=!1;var k;(k=google).lx||(k.lx=function(){});var l=[],m;(m=google).fce||(m.fce=function(a,b,c,n){l.push([a,b,c,n])});google.qce=l;}).call(this);google.f={};(function(){\\ndocument.documentElement.addEventListener(\"submit\",function(b){var a;if(a=b.target){var c=a.getAttribute(\"data-submitfalse\");a=c===\"1\"||c===\"q\"&&!a.elements.q.value?!0:!1}else a=!1;a&&(b.preventDefault(),b.stopPropagation())'"
      ]
     },
     "execution_count": 20,
     "metadata": {},
     "output_type": "execute_result"
    }
   ],
   "source": [
    "html = browser.execute_script(\"return document.documentElement.outerHTML\")\n",
    "html[:3000]"
   ]
  },
  {
   "cell_type": "markdown",
   "metadata": {},
   "source": [
    "## Interact with a webpage\n",
    "When the page is loaded, we can interact with all elements in the webpage.  In this example, we will perform a search for a particular keyword in Google.  We will have to locate the correct element and then send the proper keys."
   ]
  },
  {
   "cell_type": "code",
   "execution_count": 21,
   "metadata": {
    "tags": []
   },
   "outputs": [],
   "source": [
    "from selenium.webdriver.common.by import By"
   ]
  },
  {
   "cell_type": "code",
   "execution_count": 22,
   "metadata": {},
   "outputs": [],
   "source": [
    "q_element = browser.find_element(By.CSS_SELECTOR, 'textarea[name=q]')\n",
    "q_element.clear()\n",
    "q_element.send_keys('ประเทศไทย')\n"
   ]
  },
  {
   "cell_type": "code",
   "execution_count": 23,
   "metadata": {},
   "outputs": [],
   "source": [
    "q_element.send_keys(u'\\ue007')"
   ]
  },
  {
   "cell_type": "markdown",
   "metadata": {},
   "source": [
    "## Navigate the webpage\n",
    "We can navigate the current webpage, similar to Beautiful Soup.  Selenium supports several navigation approaches."
   ]
  },
  {
   "cell_type": "code",
   "execution_count": 27,
   "metadata": {},
   "outputs": [],
   "source": [
    "all_link = browser.find_elements(By.CSS_SELECTOR, '.g a')"
   ]
  },
  {
   "cell_type": "code",
   "execution_count": 28,
   "metadata": {},
   "outputs": [
    {
     "name": "stdout",
     "output_type": "stream",
     "text": [
      "[link text] ประเทศไทย\n",
      "Wikipedia\n",
      "https://th.wikipedia.org › wiki › ประเทศไทย\n",
      "[link href] https://th.wikipedia.org/wiki/%E0%B8%9B%E0%B8%A3%E0%B8%B0%E0%B9%80%E0%B8%97%E0%B8%A8%E0%B9%84%E0%B8%97%E0%B8%A2\n",
      "---\n",
      "[link text] \n",
      "[link href] https://th.wikipedia.org/wiki/%E0%B8%9B%E0%B8%A3%E0%B8%B0%E0%B9%80%E0%B8%97%E0%B8%A8%E0%B9%84%E0%B8%97%E0%B8%A2\n",
      "---\n",
      "[link text] จังหวัดของประเทศไทย\n",
      "[link href] https://th.wikipedia.org/wiki/%E0%B8%88%E0%B8%B1%E0%B8%87%E0%B8%AB%E0%B8%A7%E0%B8%B1%E0%B8%94%E0%B8%82%E0%B8%AD%E0%B8%87%E0%B8%9B%E0%B8%A3%E0%B8%B0%E0%B9%80%E0%B8%97%E0%B8%A8%E0%B9%84%E0%B8%97%E0%B8%A2\n",
      "---\n",
      "[link text] จำนวน ประชากร\n",
      "[link href] https://th.wikipedia.org/wiki/%E0%B8%A3%E0%B8%B2%E0%B8%A2%E0%B8%8A%E0%B8%B7%E0%B9%88%E0%B8%AD%E0%B8%9B%E0%B8%A3%E0%B8%B0%E0%B9%80%E0%B8%97%E0%B8%A8%E0%B9%80%E0%B8%A3%E0%B8%B5%E0%B8%A2%E0%B8%87%E0%B8%95%E0%B8%B2%E0%B8%A1%E0%B8%88%E0%B8%B3%E0%B8%99%E0%B8%A7%E0%B8%99%E0%B8%9B%E0%B8%A3%E0%B8%B0%E0%B8%8A%E0%B8%B2%E0%B8%81%E0%B8%A3\n",
      "---\n",
      "[link text] ประชาธิปไตยอันมีพระมหากษัตริย์...\n",
      "[link href] https://th.wikipedia.org/wiki/%E0%B8%9B%E0%B8%A3%E0%B8%B0%E0%B8%8A%E0%B8%B2%E0%B8%98%E0%B8%B4%E0%B8%9B%E0%B9%84%E0%B8%95%E0%B8%A2%E0%B8%AD%E0%B8%B1%E0%B8%99%E0%B8%A1%E0%B8%B5%E0%B8%9E%E0%B8%A3%E0%B8%B0%E0%B8%A1%E0%B8%AB%E0%B8%B2%E0%B8%81%E0%B8%A9%E0%B8%B1%E0%B8%95%E0%B8%A3%E0%B8%B4%E0%B8%A2%E0%B9%8C%E0%B8%97%E0%B8%A3%E0%B8%87%E0%B9%80%E0%B8%9B%E0%B9%87%E0%B8%99%E0%B8%9B%E0%B8%A3%E0%B8%B0%E0%B8%A1%E0%B8%B8%E0%B8%82\n",
      "---\n",
      "[link text] ราคาตลาด\n",
      "[link href] https://th.wikipedia.org/wiki/%E0%B8%A3%E0%B8%B2%E0%B8%A2%E0%B8%8A%E0%B8%B7%E0%B9%88%E0%B8%AD%E0%B8%9B%E0%B8%A3%E0%B8%B0%E0%B9%80%E0%B8%97%E0%B8%A8%E0%B9%80%E0%B8%A3%E0%B8%B5%E0%B8%A2%E0%B8%87%E0%B8%95%E0%B8%B2%E0%B8%A1%E0%B8%9C%E0%B8%A5%E0%B8%B4%E0%B8%95%E0%B8%A0%E0%B8%B1%E0%B8%93%E0%B8%91%E0%B9%8C%E0%B8%A1%E0%B8%A7%E0%B8%A5%E0%B8%A3%E0%B8%A7%E0%B8%A1%E0%B9%83%E0%B8%99%E0%B8%9B%E0%B8%A3%E0%B8%B0%E0%B9%80%E0%B8%97%E0%B8%A8_(%E0%B8%A3%E0%B8%B2%E0%B8%84%E0%B8%B2%E0%B8%95%E0%B8%A5%E0%B8%B2%E0%B8%94)\n",
      "---\n",
      "[link text] ประเทศไทย (Thailand)\n",
      "วิทยาลัยสงฆ์นครน่าน เฉลิมพระเกียรติฯ\n",
      "http://www.nan.mcu.ac.th › aec › index.php › aec-group\n",
      "[link href] http://www.nan.mcu.ac.th/aec/index.php/aec-group/thailand\n",
      "---\n",
      "[link text] เกี่ยวกับประเทศไทย\n",
      "WHA Industrial Development\n",
      "https://www.wha-industrialestate.com › about-thailand\n",
      "[link href] https://www.wha-industrialestate.com/th/why-thailand/about-thailand\n",
      "---\n",
      "[link text] ประเทศไทย\n",
      "World Bank\n",
      "https://www.worldbank.org › country › thailand\n",
      "[link href] https://www.worldbank.org/th/country/thailand\n",
      "---\n",
      "[link text] ภาพรวม\n",
      "[link href] https://www.worldbank.org/th/country/thailand/overview\n",
      "---\n",
      "[link text] รายงานตามติดเศรษฐกิจไทย\n",
      "[link href] https://www.worldbank.org/th/country/thailand/publication/temjuly2024\n",
      "---\n",
      "[link text] Thailand Systematic Country...\n",
      "[link href] https://www.worldbank.org/th/country/thailand/publication/thailand-scd2024\n",
      "---\n",
      "[link text] Wanted\n",
      "[link href] https://www.worldbank.org/th/country/thailand/publication/wanted---a-quality-education-for-all-in-thailand\n",
      "---\n",
      "[link text] หน้าหลัก - ตลาดหลักทรัพย์แห่งประเทศไทย\n",
      "SET\n",
      "https://www.set.or.th › ...\n",
      "[link href] https://www.set.or.th/th/home\n",
      "---\n",
      "[link text] การท่องเที่ยวแห่งประเทศไทย\n",
      "การท่องเที่ยวแห่งประเทศไทย\n",
      "https://www.tat.or.th\n",
      "[link href] https://www.tat.or.th/\n",
      "---\n",
      "[link text] ติดต่อเรา\n",
      "[link href] https://www.tat.or.th/th/contact/office\n",
      "---\n",
      "[link text] รายงานประจำปี\n",
      "[link href] https://www.tat.or.th/th/about-tat/annual-report\n",
      "---\n",
      "[link text] ข่าวสารและกิจกรรม\n",
      "[link href] https://www.tat.or.th/th/news\n",
      "---\n",
      "[link text] คณะผู้บริหาร\n",
      "[link href] https://www.tat.or.th/th/about-tat/board-organization\n",
      "---\n",
      "[link text] รายการ “คนไทยทันไปข้างหน้ากับไชยายิ้ม” วันที่ 12 ตุลาคม 2567 ...\n",
      "Facebook\n",
      "https://www.facebook.com › radiothailand › videos › ราย...\n",
      "[link href] https://www.facebook.com/radiothailand/videos/%E0%B8%A3%E0%B8%B2%E0%B8%A2%E0%B8%81%E0%B8%B2%E0%B8%A3-%E0%B8%84%E0%B8%99%E0%B9%84%E0%B8%97%E0%B8%A2%E0%B8%97%E0%B8%B1%E0%B8%99%E0%B9%84%E0%B8%9B%E0%B8%82%E0%B9%89%E0%B8%B2%E0%B8%87%E0%B8%AB%E0%B8%99%E0%B9%89%E0%B8%B2%E0%B8%81%E0%B8%B1%E0%B8%9A%E0%B9%84%E0%B8%8A%E0%B8%A2%E0%B8%B2%E0%B8%A2%E0%B8%B4%E0%B9%89%E0%B8%A1-%E0%B8%A7%E0%B8%B1%E0%B8%99%E0%B8%97%E0%B8%B5%E0%B9%88-12-%E0%B8%95%E0%B8%B8%E0%B8%A5%E0%B8%B2%E0%B8%84%E0%B8%A1-2567/1095686352069173/\n",
      "---\n",
      "[link text] สด\n",
      "[link href] https://www.facebook.com/radiothailand/videos/%E0%B8%A3%E0%B8%B2%E0%B8%A2%E0%B8%81%E0%B8%B2%E0%B8%A3-%E0%B8%84%E0%B8%99%E0%B9%84%E0%B8%97%E0%B8%A2%E0%B8%97%E0%B8%B1%E0%B8%99%E0%B9%84%E0%B8%9B%E0%B8%82%E0%B9%89%E0%B8%B2%E0%B8%87%E0%B8%AB%E0%B8%99%E0%B9%89%E0%B8%B2%E0%B8%81%E0%B8%B1%E0%B8%9A%E0%B9%84%E0%B8%8A%E0%B8%A2%E0%B8%B2%E0%B8%A2%E0%B8%B4%E0%B9%89%E0%B8%A1-%E0%B8%A7%E0%B8%B1%E0%B8%99%E0%B8%97%E0%B8%B5%E0%B9%88-12-%E0%B8%95%E0%B8%B8%E0%B8%A5%E0%B8%B2%E0%B8%84%E0%B8%A1-2567/1095686352069173/\n",
      "---\n",
      "[link text] การรถไฟแห่งประเทศไทย: หน้าแรก\n",
      "การรถไฟแห่งประเทศไทย\n",
      "https://www.railway.co.th\n",
      "[link href] https://www.railway.co.th/\n",
      "---\n",
      "[link text] ตรวจสอบกำหนดเวลาเดินรถ\n",
      "[link href] https://www.railway.co.th/Station/StationList\n",
      "---\n",
      "[link text] สายใต้\n",
      "[link href] https://ttsview.railway.co.th/SRT_Schedule2022.php?ln=th&line=4&trip=1\n",
      "---\n",
      "[link text] วิธี การ จอง ตั๋ว โดยสาร\n",
      "[link href] https://www.dticket.railway.co.th/DTicketPublicWeb/help/\n",
      "---\n",
      "[link text] การรถไฟแห่งประเทศไทย\n",
      "[link href] https://dticket.railway.co.th/\n",
      "---\n",
      "[link text] Bank of Thailand\n",
      "Bank of Thailand\n",
      "https://www.bot.or.th\n",
      "[link href] https://www.bot.or.th/\n",
      "---\n",
      "[link text] \n",
      "[link href] https://www.bot.or.th/\n",
      "---\n",
      "[link text] ธนาคารแห่งประเทศไทย\n",
      "[link href] https://www.bot.or.th/th/home.html\n",
      "---\n",
      "[link text] อัตราแลกเปลี่ยนเฉลี่ยของ...\n",
      "[link href] https://app.bot.or.th/BTWS_STAT/statistics/BOTWEBSTAT.aspx?reportID=123&language=TH\n",
      "---\n",
      "[link text] The website is under...\n",
      "[link href] http://iservice.bot.or.th/\n",
      "---\n"
     ]
    }
   ],
   "source": [
    "for link in all_link:\n",
    "    print('[link text]', link.text)\n",
    "    print('[link href]', link.get_attribute('href'))\n",
    "    print('---')"
   ]
  },
  {
   "cell_type": "code",
   "execution_count": 29,
   "metadata": {},
   "outputs": [],
   "source": [
    "all_link[0].click()"
   ]
  },
  {
   "cell_type": "code",
   "execution_count": 30,
   "metadata": {
    "tags": []
   },
   "outputs": [],
   "source": [
    "all_toc = browser.find_elements(By.CSS_SELECTOR, 'li[class^=\"vector-toc-list-item\"]')"
   ]
  },
  {
   "cell_type": "code",
   "execution_count": 31,
   "metadata": {},
   "outputs": [
    {
     "name": "stdout",
     "output_type": "stream",
     "text": [
      "[text] บทนำ\n",
      "[class] vector-toc-list-item vector-toc-level-1 vector-toc-level-1-active vector-toc-list-item-active\n",
      "[href] https://th.wikipedia.org/wiki/%E0%B8%9B%E0%B8%A3%E0%B8%B0%E0%B9%80%E0%B8%97%E0%B8%A8%E0%B9%84%E0%B8%97%E0%B8%A2#\n",
      "---\n",
      "[text] ชื่อเรียก\n",
      "[class] vector-toc-list-item vector-toc-level-1\n",
      "[href] https://th.wikipedia.org/wiki/%E0%B8%9B%E0%B8%A3%E0%B8%B0%E0%B9%80%E0%B8%97%E0%B8%A8%E0%B9%84%E0%B8%97%E0%B8%A2#%E0%B8%8A%E0%B8%B7%E0%B9%88%E0%B8%AD%E0%B9%80%E0%B8%A3%E0%B8%B5%E0%B8%A2%E0%B8%81\n",
      "---\n",
      "[text] ประวัติศาสตร์\n",
      "[class] vector-toc-list-item vector-toc-level-1\n",
      "[href] https://th.wikipedia.org/wiki/%E0%B8%9B%E0%B8%A3%E0%B8%B0%E0%B9%80%E0%B8%97%E0%B8%A8%E0%B9%84%E0%B8%97%E0%B8%A2#%E0%B8%9B%E0%B8%A3%E0%B8%B0%E0%B8%A7%E0%B8%B1%E0%B8%95%E0%B8%B4%E0%B8%A8%E0%B8%B2%E0%B8%AA%E0%B8%95%E0%B8%A3%E0%B9%8C\n",
      "---\n",
      "[text] \n",
      "[class] vector-toc-list-item vector-toc-level-2\n",
      "[href] https://th.wikipedia.org/wiki/%E0%B8%9B%E0%B8%A3%E0%B8%B0%E0%B9%80%E0%B8%97%E0%B8%A8%E0%B9%84%E0%B8%97%E0%B8%A2#%E0%B8%A2%E0%B8%B8%E0%B8%84%E0%B8%81%E0%B9%88%E0%B8%AD%E0%B8%99%E0%B8%9B%E0%B8%A3%E0%B8%B0%E0%B8%A7%E0%B8%B1%E0%B8%95%E0%B8%B4%E0%B8%A8%E0%B8%B2%E0%B8%AA%E0%B8%95%E0%B8%A3%E0%B9%8C\n",
      "---\n",
      "[text] \n",
      "[class] vector-toc-list-item vector-toc-level-2\n",
      "[href] https://th.wikipedia.org/wiki/%E0%B8%9B%E0%B8%A3%E0%B8%B0%E0%B9%80%E0%B8%97%E0%B8%A8%E0%B9%84%E0%B8%97%E0%B8%A2#%E0%B8%AD%E0%B8%B2%E0%B8%93%E0%B8%B2%E0%B8%88%E0%B8%B1%E0%B8%81%E0%B8%A3%E0%B8%AA%E0%B8%B8%E0%B9%82%E0%B8%82%E0%B8%97%E0%B8%B1%E0%B8%A2%E0%B9%81%E0%B8%A5%E0%B8%B0%E0%B9%81%E0%B8%84%E0%B8%A7%E0%B9%89%E0%B8%99%E0%B8%95%E0%B9%88%E0%B8%B2%E0%B8%87_%E0%B9%86\n",
      "---\n",
      "[text] \n",
      "[class] vector-toc-list-item vector-toc-level-2\n",
      "[href] https://th.wikipedia.org/wiki/%E0%B8%9B%E0%B8%A3%E0%B8%B0%E0%B9%80%E0%B8%97%E0%B8%A8%E0%B9%84%E0%B8%97%E0%B8%A2#%E0%B8%AD%E0%B8%B2%E0%B8%93%E0%B8%B2%E0%B8%88%E0%B8%B1%E0%B8%81%E0%B8%A3%E0%B8%AD%E0%B8%A2%E0%B8%B8%E0%B8%98%E0%B8%A2%E0%B8%B2%E0%B9%81%E0%B8%A5%E0%B8%B0%E0%B8%98%E0%B8%99%E0%B8%9A%E0%B8%B8%E0%B8%A3%E0%B8%B5\n",
      "---\n",
      "[text] \n",
      "[class] vector-toc-list-item vector-toc-level-2\n",
      "[href] https://th.wikipedia.org/wiki/%E0%B8%9B%E0%B8%A3%E0%B8%B0%E0%B9%80%E0%B8%97%E0%B8%A8%E0%B9%84%E0%B8%97%E0%B8%A2#%E0%B8%81%E0%B8%A3%E0%B8%B8%E0%B8%87%E0%B8%A3%E0%B8%B1%E0%B8%95%E0%B8%99%E0%B9%82%E0%B8%81%E0%B8%AA%E0%B8%B4%E0%B8%99%E0%B8%97%E0%B8%A3%E0%B9%8C%E0%B8%95%E0%B8%AD%E0%B8%99%E0%B8%95%E0%B9%89%E0%B8%99%E0%B9%81%E0%B8%A5%E0%B8%B0%E0%B8%AA%E0%B8%A1%E0%B8%B1%E0%B8%A2%E0%B8%AD%E0%B8%B2%E0%B8%93%E0%B8%B2%E0%B8%99%E0%B8%B4%E0%B8%84%E0%B8%A1\n",
      "---\n",
      "[text] \n",
      "[class] vector-toc-list-item vector-toc-level-2\n",
      "[href] https://th.wikipedia.org/wiki/%E0%B8%9B%E0%B8%A3%E0%B8%B0%E0%B9%80%E0%B8%97%E0%B8%A8%E0%B9%84%E0%B8%97%E0%B8%A2#%E0%B8%A3%E0%B8%B2%E0%B8%8A%E0%B8%B2%E0%B8%98%E0%B8%B4%E0%B8%9B%E0%B9%84%E0%B8%95%E0%B8%A2%E0%B8%A0%E0%B8%B2%E0%B8%A2%E0%B9%83%E0%B8%95%E0%B9%89%E0%B8%A3%E0%B8%B1%E0%B8%90%E0%B8%98%E0%B8%A3%E0%B8%A3%E0%B8%A1%E0%B8%99%E0%B8%B9%E0%B8%8D_%E0%B8%AA%E0%B8%87%E0%B8%84%E0%B8%A3%E0%B8%B2%E0%B8%A1%E0%B9%82%E0%B8%A5%E0%B8%81%E0%B8%84%E0%B8%A3%E0%B8%B1%E0%B9%89%E0%B8%87%E0%B8%97%E0%B8%B5%E0%B9%88%E0%B8%AA%E0%B8%AD%E0%B8%87_%E0%B9%81%E0%B8%A5%E0%B8%B0%E0%B8%AA%E0%B8%87%E0%B8%84%E0%B8%A3%E0%B8%B2%E0%B8%A1%E0%B9%80%E0%B8%A2%E0%B9%87%E0%B8%99\n",
      "---\n",
      "[text] \n",
      "[class] vector-toc-list-item vector-toc-level-2\n",
      "[href] https://th.wikipedia.org/wiki/%E0%B8%9B%E0%B8%A3%E0%B8%B0%E0%B9%80%E0%B8%97%E0%B8%A8%E0%B9%84%E0%B8%97%E0%B8%A2#%E0%B8%A3%E0%B9%88%E0%B8%A7%E0%B8%A1%E0%B8%AA%E0%B8%A1%E0%B8%B1%E0%B8%A2\n",
      "---\n",
      "[text] ภูมิประเทศ\n",
      "[class] vector-toc-list-item vector-toc-level-1\n",
      "[href] https://th.wikipedia.org/wiki/%E0%B8%9B%E0%B8%A3%E0%B8%B0%E0%B9%80%E0%B8%97%E0%B8%A8%E0%B9%84%E0%B8%97%E0%B8%A2#%E0%B8%A0%E0%B8%B9%E0%B8%A1%E0%B8%B4%E0%B8%9B%E0%B8%A3%E0%B8%B0%E0%B9%80%E0%B8%97%E0%B8%A8\n",
      "---\n",
      "[text] \n",
      "[class] vector-toc-list-item vector-toc-level-2\n",
      "[href] https://th.wikipedia.org/wiki/%E0%B8%9B%E0%B8%A3%E0%B8%B0%E0%B9%80%E0%B8%97%E0%B8%A8%E0%B9%84%E0%B8%97%E0%B8%A2#%E0%B8%A0%E0%B8%B9%E0%B8%A1%E0%B8%B4%E0%B8%AD%E0%B8%B2%E0%B8%81%E0%B8%B2%E0%B8%A8\n",
      "---\n",
      "[text] \n",
      "[class] vector-toc-list-item vector-toc-level-2\n",
      "[href] https://th.wikipedia.org/wiki/%E0%B8%9B%E0%B8%A3%E0%B8%B0%E0%B9%80%E0%B8%97%E0%B8%A8%E0%B9%84%E0%B8%97%E0%B8%A2#%E0%B8%84%E0%B8%A7%E0%B8%B2%E0%B8%A1%E0%B8%AB%E0%B8%A5%E0%B8%B2%E0%B8%81%E0%B8%AB%E0%B8%A5%E0%B8%B2%E0%B8%A2%E0%B8%97%E0%B8%B2%E0%B8%87%E0%B8%8A%E0%B8%B5%E0%B8%A7%E0%B8%A0%E0%B8%B2%E0%B8%9E\n",
      "---\n",
      "[text] การเมืองการปกครอง\n",
      "[class] vector-toc-list-item vector-toc-level-1\n",
      "[href] https://th.wikipedia.org/wiki/%E0%B8%9B%E0%B8%A3%E0%B8%B0%E0%B9%80%E0%B8%97%E0%B8%A8%E0%B9%84%E0%B8%97%E0%B8%A2#%E0%B8%81%E0%B8%B2%E0%B8%A3%E0%B9%80%E0%B8%A1%E0%B8%B7%E0%B8%AD%E0%B8%87%E0%B8%81%E0%B8%B2%E0%B8%A3%E0%B8%9B%E0%B8%81%E0%B8%84%E0%B8%A3%E0%B8%AD%E0%B8%87\n",
      "---\n",
      "[text] \n",
      "[class] vector-toc-list-item vector-toc-level-2\n",
      "[href] https://th.wikipedia.org/wiki/%E0%B8%9B%E0%B8%A3%E0%B8%B0%E0%B9%80%E0%B8%97%E0%B8%A8%E0%B9%84%E0%B8%97%E0%B8%A2#%E0%B8%81%E0%B8%B2%E0%B8%A3%E0%B9%81%E0%B8%9A%E0%B9%88%E0%B8%87%E0%B9%80%E0%B8%82%E0%B8%95%E0%B8%81%E0%B8%B2%E0%B8%A3%E0%B8%9B%E0%B8%81%E0%B8%84%E0%B8%A3%E0%B8%AD%E0%B8%87\n",
      "---\n",
      "[text] \n",
      "[class] vector-toc-list-item vector-toc-level-2\n",
      "[href] https://th.wikipedia.org/wiki/%E0%B8%9B%E0%B8%A3%E0%B8%B0%E0%B9%80%E0%B8%97%E0%B8%A8%E0%B9%84%E0%B8%97%E0%B8%A2#%E0%B8%84%E0%B8%A7%E0%B8%B2%E0%B8%A1%E0%B8%AA%E0%B8%B1%E0%B8%A1%E0%B8%9E%E0%B8%B1%E0%B8%99%E0%B8%98%E0%B9%8C%E0%B8%A3%E0%B8%B0%E0%B8%AB%E0%B8%A7%E0%B9%88%E0%B8%B2%E0%B8%87%E0%B8%9B%E0%B8%A3%E0%B8%B0%E0%B9%80%E0%B8%97%E0%B8%A8\n",
      "---\n",
      "[text] \n",
      "[class] vector-toc-list-item vector-toc-level-2\n",
      "[href] https://th.wikipedia.org/wiki/%E0%B8%9B%E0%B8%A3%E0%B8%B0%E0%B9%80%E0%B8%97%E0%B8%A8%E0%B9%84%E0%B8%97%E0%B8%A2#%E0%B8%81%E0%B8%AD%E0%B8%87%E0%B8%97%E0%B8%B1%E0%B8%9E\n",
      "---\n",
      "[text] \n",
      "[class] vector-toc-list-item vector-toc-level-2\n",
      "[href] https://th.wikipedia.org/wiki/%E0%B8%9B%E0%B8%A3%E0%B8%B0%E0%B9%80%E0%B8%97%E0%B8%A8%E0%B9%84%E0%B8%97%E0%B8%A2#%E0%B8%AD%E0%B8%B2%E0%B8%8A%E0%B8%8D%E0%B8%B2%E0%B8%81%E0%B8%A3%E0%B8%A3%E0%B8%A1%E0%B9%81%E0%B8%A5%E0%B8%B0%E0%B8%81%E0%B8%B2%E0%B8%A3%E0%B8%9A%E0%B8%B1%E0%B8%87%E0%B8%84%E0%B8%B1%E0%B8%9A%E0%B9%83%E0%B8%8A%E0%B9%89%E0%B8%81%E0%B8%8E%E0%B8%AB%E0%B8%A1%E0%B8%B2%E0%B8%A2\n",
      "---\n",
      "[text] เศรษฐกิจ\n",
      "[class] vector-toc-list-item vector-toc-level-1\n",
      "[href] https://th.wikipedia.org/wiki/%E0%B8%9B%E0%B8%A3%E0%B8%B0%E0%B9%80%E0%B8%97%E0%B8%A8%E0%B9%84%E0%B8%97%E0%B8%A2#%E0%B9%80%E0%B8%A8%E0%B8%A3%E0%B8%A9%E0%B8%90%E0%B8%81%E0%B8%B4%E0%B8%88\n",
      "---\n",
      "[text] \n",
      "[class] vector-toc-list-item vector-toc-level-2\n",
      "[href] https://th.wikipedia.org/wiki/%E0%B8%9B%E0%B8%A3%E0%B8%B0%E0%B9%80%E0%B8%97%E0%B8%A8%E0%B9%84%E0%B8%97%E0%B8%A2#%E0%B8%84%E0%B8%A7%E0%B8%B2%E0%B8%A1%E0%B8%A1%E0%B8%B1%E0%B9%88%E0%B8%87%E0%B8%84%E0%B8%B1%E0%B9%88%E0%B8%87_%E0%B8%84%E0%B8%A7%E0%B8%B2%E0%B8%A1%E0%B8%A2%E0%B8%B2%E0%B8%81%E0%B8%88%E0%B8%99%E0%B9%81%E0%B8%A5%E0%B8%B0%E0%B8%84%E0%B8%A7%E0%B8%B2%E0%B8%A1%E0%B9%80%E0%B8%AB%E0%B8%A5%E0%B8%B7%E0%B9%88%E0%B8%AD%E0%B8%A1%E0%B8%A5%E0%B9%89%E0%B8%B3\n",
      "---\n",
      "[text] \n",
      "[class] vector-toc-list-item vector-toc-level-2\n",
      "[href] https://th.wikipedia.org/wiki/%E0%B8%9B%E0%B8%A3%E0%B8%B0%E0%B9%80%E0%B8%97%E0%B8%A8%E0%B9%84%E0%B8%97%E0%B8%A2#%E0%B9%80%E0%B8%81%E0%B8%A9%E0%B8%95%E0%B8%A3%E0%B8%81%E0%B8%A3%E0%B8%A3%E0%B8%A1\n",
      "---\n",
      "[text] \n",
      "[class] vector-toc-list-item vector-toc-level-2\n",
      "[href] https://th.wikipedia.org/wiki/%E0%B8%9B%E0%B8%A3%E0%B8%B0%E0%B9%80%E0%B8%97%E0%B8%A8%E0%B9%84%E0%B8%97%E0%B8%A2#%E0%B8%AD%E0%B8%B8%E0%B8%95%E0%B8%AA%E0%B8%B2%E0%B8%AB%E0%B8%81%E0%B8%A3%E0%B8%A3%E0%B8%A1\n",
      "---\n",
      "[text] \n",
      "[class] vector-toc-list-item vector-toc-level-2\n",
      "[href] https://th.wikipedia.org/wiki/%E0%B8%9B%E0%B8%A3%E0%B8%B0%E0%B9%80%E0%B8%97%E0%B8%A8%E0%B9%84%E0%B8%97%E0%B8%A2#%E0%B8%9E%E0%B8%A5%E0%B8%B1%E0%B8%87%E0%B8%87%E0%B8%B2%E0%B8%99\n",
      "---\n",
      "[text] \n",
      "[class] vector-toc-list-item vector-toc-level-2\n",
      "[href] https://th.wikipedia.org/wiki/%E0%B8%9B%E0%B8%A3%E0%B8%B0%E0%B9%80%E0%B8%97%E0%B8%A8%E0%B9%84%E0%B8%97%E0%B8%A2#%E0%B8%81%E0%B8%B2%E0%B8%A3%E0%B8%82%E0%B8%99%E0%B8%AA%E0%B9%88%E0%B8%87\n",
      "---\n",
      "[text] \n",
      "[class] vector-toc-list-item vector-toc-level-2\n",
      "[href] https://th.wikipedia.org/wiki/%E0%B8%9B%E0%B8%A3%E0%B8%B0%E0%B9%80%E0%B8%97%E0%B8%A8%E0%B9%84%E0%B8%97%E0%B8%A2#%E0%B8%81%E0%B8%B2%E0%B8%A3%E0%B8%97%E0%B9%88%E0%B8%AD%E0%B8%87%E0%B9%80%E0%B8%97%E0%B8%B5%E0%B9%88%E0%B8%A2%E0%B8%A7\n",
      "---\n",
      "[text] \n",
      "[class] vector-toc-list-item vector-toc-level-2\n",
      "[href] https://th.wikipedia.org/wiki/%E0%B8%9B%E0%B8%A3%E0%B8%B0%E0%B9%80%E0%B8%97%E0%B8%A8%E0%B9%84%E0%B8%97%E0%B8%A2#%E0%B8%A7%E0%B8%B4%E0%B8%97%E0%B8%A2%E0%B8%B2%E0%B8%A8%E0%B8%B2%E0%B8%AA%E0%B8%95%E0%B8%A3%E0%B9%8C%E0%B9%81%E0%B8%A5%E0%B8%B0%E0%B9%80%E0%B8%97%E0%B8%84%E0%B9%82%E0%B8%99%E0%B9%82%E0%B8%A5%E0%B8%A2%E0%B8%B5\n",
      "---\n",
      "[text] ประชากรศาสตร์\n",
      "[class] vector-toc-list-item vector-toc-level-1\n",
      "[href] https://th.wikipedia.org/wiki/%E0%B8%9B%E0%B8%A3%E0%B8%B0%E0%B9%80%E0%B8%97%E0%B8%A8%E0%B9%84%E0%B8%97%E0%B8%A2#%E0%B8%9B%E0%B8%A3%E0%B8%B0%E0%B8%8A%E0%B8%B2%E0%B8%81%E0%B8%A3%E0%B8%A8%E0%B8%B2%E0%B8%AA%E0%B8%95%E0%B8%A3%E0%B9%8C\n",
      "---\n",
      "[text] \n",
      "[class] vector-toc-list-item vector-toc-level-2\n",
      "[href] https://th.wikipedia.org/wiki/%E0%B8%9B%E0%B8%A3%E0%B8%B0%E0%B9%80%E0%B8%97%E0%B8%A8%E0%B9%84%E0%B8%97%E0%B8%A2#%E0%B8%9B%E0%B8%A3%E0%B8%B0%E0%B8%8A%E0%B8%B2%E0%B8%81%E0%B8%A3\n",
      "---\n",
      "[text] \n",
      "[class] vector-toc-list-item vector-toc-level-2\n",
      "[href] https://th.wikipedia.org/wiki/%E0%B8%9B%E0%B8%A3%E0%B8%B0%E0%B9%80%E0%B8%97%E0%B8%A8%E0%B9%84%E0%B8%97%E0%B8%A2#%E0%B8%99%E0%B8%84%E0%B8%A3%E0%B9%83%E0%B8%AB%E0%B8%8D%E0%B9%88\n",
      "---\n",
      "[text] \n",
      "[class] vector-toc-list-item vector-toc-level-2\n",
      "[href] https://th.wikipedia.org/wiki/%E0%B8%9B%E0%B8%A3%E0%B8%B0%E0%B9%80%E0%B8%97%E0%B8%A8%E0%B9%84%E0%B8%97%E0%B8%A2#%E0%B8%A8%E0%B8%B2%E0%B8%AA%E0%B8%99%E0%B8%B2\n",
      "---\n",
      "[text] \n",
      "[class] vector-toc-list-item vector-toc-level-2\n",
      "[href] https://th.wikipedia.org/wiki/%E0%B8%9B%E0%B8%A3%E0%B8%B0%E0%B9%80%E0%B8%97%E0%B8%A8%E0%B9%84%E0%B8%97%E0%B8%A2#%E0%B8%A0%E0%B8%B2%E0%B8%A9%E0%B8%B2\n",
      "---\n",
      "[text] \n",
      "[class] vector-toc-list-item vector-toc-level-2\n",
      "[href] https://th.wikipedia.org/wiki/%E0%B8%9B%E0%B8%A3%E0%B8%B0%E0%B9%80%E0%B8%97%E0%B8%A8%E0%B9%84%E0%B8%97%E0%B8%A2#%E0%B8%81%E0%B8%B2%E0%B8%A3%E0%B8%A8%E0%B8%B6%E0%B8%81%E0%B8%A9%E0%B8%B2\n",
      "---\n",
      "[text] \n",
      "[class] vector-toc-list-item vector-toc-level-2\n",
      "[href] https://th.wikipedia.org/wiki/%E0%B8%9B%E0%B8%A3%E0%B8%B0%E0%B9%80%E0%B8%97%E0%B8%A8%E0%B9%84%E0%B8%97%E0%B8%A2#%E0%B8%AA%E0%B8%B2%E0%B8%98%E0%B8%B2%E0%B8%A3%E0%B8%93%E0%B8%AA%E0%B8%B8%E0%B8%82\n",
      "---\n",
      "[text] วัฒนธรรม\n",
      "[class] vector-toc-list-item vector-toc-level-1\n",
      "[href] https://th.wikipedia.org/wiki/%E0%B8%9B%E0%B8%A3%E0%B8%B0%E0%B9%80%E0%B8%97%E0%B8%A8%E0%B9%84%E0%B8%97%E0%B8%A2#%E0%B8%A7%E0%B8%B1%E0%B8%92%E0%B8%99%E0%B8%98%E0%B8%A3%E0%B8%A3%E0%B8%A1\n",
      "---\n",
      "[text] \n",
      "[class] vector-toc-list-item vector-toc-level-2\n",
      "[href] https://th.wikipedia.org/wiki/%E0%B8%9B%E0%B8%A3%E0%B8%B0%E0%B9%80%E0%B8%97%E0%B8%A8%E0%B9%84%E0%B8%97%E0%B8%A2#%E0%B8%A8%E0%B8%B4%E0%B8%A5%E0%B8%9B%E0%B8%B0\n",
      "---\n",
      "[text] \n",
      "[class] vector-toc-list-item vector-toc-level-2\n",
      "[href] https://th.wikipedia.org/wiki/%E0%B8%9B%E0%B8%A3%E0%B8%B0%E0%B9%80%E0%B8%97%E0%B8%A8%E0%B9%84%E0%B8%97%E0%B8%A2#%E0%B8%AD%E0%B8%B2%E0%B8%AB%E0%B8%B2%E0%B8%A3\n",
      "---\n",
      "[text] \n",
      "[class] vector-toc-list-item vector-toc-level-2\n",
      "[href] https://th.wikipedia.org/wiki/%E0%B8%9B%E0%B8%A3%E0%B8%B0%E0%B9%80%E0%B8%97%E0%B8%A8%E0%B9%84%E0%B8%97%E0%B8%A2#%E0%B8%A7%E0%B8%87%E0%B8%81%E0%B8%B2%E0%B8%A3%E0%B8%9A%E0%B8%B1%E0%B8%99%E0%B9%80%E0%B8%97%E0%B8%B4%E0%B8%87\n",
      "---\n",
      "[text] \n",
      "[class] vector-toc-list-item vector-toc-level-2\n",
      "[href] https://th.wikipedia.org/wiki/%E0%B8%9B%E0%B8%A3%E0%B8%B0%E0%B9%80%E0%B8%97%E0%B8%A8%E0%B9%84%E0%B8%97%E0%B8%A2#%E0%B8%94%E0%B8%99%E0%B8%95%E0%B8%A3%E0%B8%B5%E0%B9%81%E0%B8%A5%E0%B8%B0%E0%B8%99%E0%B8%B2%E0%B8%8F%E0%B8%A8%E0%B8%B4%E0%B8%A5%E0%B8%9B%E0%B9%8C\n",
      "---\n",
      "[text] \n",
      "[class] vector-toc-list-item vector-toc-level-2\n",
      "[href] https://th.wikipedia.org/wiki/%E0%B8%9B%E0%B8%A3%E0%B8%B0%E0%B9%80%E0%B8%97%E0%B8%A8%E0%B9%84%E0%B8%97%E0%B8%A2#%E0%B9%80%E0%B8%97%E0%B8%A8%E0%B8%81%E0%B8%B2%E0%B8%A5%E0%B8%9B%E0%B8%A3%E0%B8%B0%E0%B9%80%E0%B8%9E%E0%B8%93%E0%B8%B5\n",
      "---\n",
      "[text] \n",
      "[class] vector-toc-list-item vector-toc-level-2\n",
      "[href] https://th.wikipedia.org/wiki/%E0%B8%9B%E0%B8%A3%E0%B8%B0%E0%B9%80%E0%B8%97%E0%B8%A8%E0%B9%84%E0%B8%97%E0%B8%A2#%E0%B8%A7%E0%B8%A3%E0%B8%A3%E0%B8%93%E0%B8%81%E0%B8%A3%E0%B8%A3%E0%B8%A1\n",
      "---\n",
      "[text] \n",
      "[class] vector-toc-list-item vector-toc-level-2\n",
      "[href] https://th.wikipedia.org/wiki/%E0%B8%9B%E0%B8%A3%E0%B8%B0%E0%B9%80%E0%B8%97%E0%B8%A8%E0%B9%84%E0%B8%97%E0%B8%A2#%E0%B8%81%E0%B8%B5%E0%B8%AC%E0%B8%B2\n",
      "---\n",
      "[text] \n",
      "[class] vector-toc-list-item vector-toc-level-2\n",
      "[href] https://th.wikipedia.org/wiki/%E0%B8%9B%E0%B8%A3%E0%B8%B0%E0%B9%80%E0%B8%97%E0%B8%A8%E0%B9%84%E0%B8%97%E0%B8%A2#%E0%B8%AA%E0%B8%B7%E0%B9%88%E0%B8%AD%E0%B8%A1%E0%B8%A7%E0%B8%A5%E0%B8%8A%E0%B8%99\n",
      "---\n",
      "[text] เชิงอรรถ\n",
      "[class] vector-toc-list-item vector-toc-level-1\n",
      "[href] https://th.wikipedia.org/wiki/%E0%B8%9B%E0%B8%A3%E0%B8%B0%E0%B9%80%E0%B8%97%E0%B8%A8%E0%B9%84%E0%B8%97%E0%B8%A2#%E0%B9%80%E0%B8%8A%E0%B8%B4%E0%B8%87%E0%B8%AD%E0%B8%A3%E0%B8%A3%E0%B8%96\n",
      "---\n",
      "[text] อ้างอิง\n",
      "[class] vector-toc-list-item vector-toc-level-1\n",
      "[href] https://th.wikipedia.org/wiki/%E0%B8%9B%E0%B8%A3%E0%B8%B0%E0%B9%80%E0%B8%97%E0%B8%A8%E0%B9%84%E0%B8%97%E0%B8%A2#%E0%B8%AD%E0%B9%89%E0%B8%B2%E0%B8%87%E0%B8%AD%E0%B8%B4%E0%B8%87\n",
      "---\n",
      "[text] อ่านเพิ่ม\n",
      "[class] vector-toc-list-item vector-toc-level-1\n",
      "[href] https://th.wikipedia.org/wiki/%E0%B8%9B%E0%B8%A3%E0%B8%B0%E0%B9%80%E0%B8%97%E0%B8%A8%E0%B9%84%E0%B8%97%E0%B8%A2#%E0%B8%AD%E0%B9%88%E0%B8%B2%E0%B8%99%E0%B9%80%E0%B8%9E%E0%B8%B4%E0%B9%88%E0%B8%A1\n",
      "---\n",
      "[text] แหล่งข้อมูลอื่น\n"
     ]
    },
    {
     "name": "stdout",
     "output_type": "stream",
     "text": [
      "[class] vector-toc-list-item vector-toc-level-1\n",
      "[href] https://th.wikipedia.org/wiki/%E0%B8%9B%E0%B8%A3%E0%B8%B0%E0%B9%80%E0%B8%97%E0%B8%A8%E0%B9%84%E0%B8%97%E0%B8%A2#%E0%B9%81%E0%B8%AB%E0%B8%A5%E0%B9%88%E0%B8%87%E0%B8%82%E0%B9%89%E0%B8%AD%E0%B8%A1%E0%B8%B9%E0%B8%A5%E0%B8%AD%E0%B8%B7%E0%B9%88%E0%B8%99\n",
      "---\n"
     ]
    }
   ],
   "source": [
    "for toc in all_toc:\n",
    "    a = toc.find_element(By.CSS_SELECTOR, 'a')\n",
    "    print('[text]', a.text)\n",
    "    print('[class]', toc.get_attribute('class'))\n",
    "    print('[href]', a.get_attribute('href'))\n",
    "    print('---')"
   ]
  },
  {
   "cell_type": "code",
   "execution_count": 32,
   "metadata": {},
   "outputs": [],
   "source": [
    "all_toc[2].find_element(By.CSS_SELECTOR, 'a').click()"
   ]
  },
  {
   "cell_type": "markdown",
   "metadata": {},
   "source": [
    "## End browsing session"
   ]
  },
  {
   "cell_type": "code",
   "execution_count": 33,
   "metadata": {
    "tags": []
   },
   "outputs": [],
   "source": [
    "browser.quit()"
   ]
  },
  {
   "cell_type": "code",
   "execution_count": null,
   "metadata": {},
   "outputs": [],
   "source": []
  }
 ],
 "metadata": {
  "kernelspec": {
   "display_name": "Python 3 (ipykernel)",
   "language": "python",
   "name": "python3"
  },
  "language_info": {
   "codemirror_mode": {
    "name": "ipython",
    "version": 3
   },
   "file_extension": ".py",
   "mimetype": "text/x-python",
   "name": "python",
   "nbconvert_exporter": "python",
   "pygments_lexer": "ipython3",
   "version": "3.11.5"
  },
  "toc": {
   "base_numbering": 1,
   "nav_menu": {},
   "number_sections": true,
   "sideBar": true,
   "skip_h1_title": false,
   "title_cell": "Table of Contents",
   "title_sidebar": "Contents",
   "toc_cell": false,
   "toc_position": {},
   "toc_section_display": true,
   "toc_window_display": false
  },
  "varInspector": {
   "cols": {
    "lenName": 16,
    "lenType": 16,
    "lenVar": 40
   },
   "kernels_config": {
    "python": {
     "delete_cmd_postfix": "",
     "delete_cmd_prefix": "del ",
     "library": "var_list.py",
     "varRefreshCmd": "print(var_dic_list())"
    },
    "r": {
     "delete_cmd_postfix": ") ",
     "delete_cmd_prefix": "rm(",
     "library": "var_list.r",
     "varRefreshCmd": "cat(var_dic_list()) "
    }
   },
   "types_to_exclude": [
    "module",
    "function",
    "builtin_function_or_method",
    "instance",
    "_Feature"
   ],
   "window_display": false
  }
 },
 "nbformat": 4,
 "nbformat_minor": 4
}
