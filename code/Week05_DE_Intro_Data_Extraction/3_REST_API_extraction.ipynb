{
 "cells": [
  {
   "cell_type": "markdown",
   "metadata": {},
   "source": [
    "# REST API Data Extraction\n",
    "Gathering data from a REST API is quite typical.  Most Single-Page-Application (SPA) and AJAX dynamic pages rely on REST APIs.  In addition, most vendor-specific APIs such as Facebook, Twitter, etc., base on REST.\n",
    "\n",
    "The most important step of extracting data via REST API is to identify the endpoint."
   ]
  },
  {
   "cell_type": "code",
   "execution_count": 1,
   "metadata": {
    "scrolled": true
   },
   "outputs": [],
   "source": [
    "import requests\n",
    "import json\n",
    "import pprint"
   ]
  },
  {
   "cell_type": "markdown",
   "metadata": {},
   "source": [
    "## Call REST API\n",
    "After we investigate the main page of settrade.com, we can figure out the endpoint of the market information using debugger in the browser."
   ]
  },
  {
   "cell_type": "code",
   "execution_count": 2,
   "metadata": {},
   "outputs": [],
   "source": [
    "api_url = 'http://api.settrade.com/api/market/SET/info'"
   ]
  },
  {
   "cell_type": "code",
   "execution_count": 3,
   "metadata": {},
   "outputs": [
    {
     "data": {
      "text/plain": [
       "'{\"market_name\":\"SET\",\"market_display_name\":\"SET\",\"market_status\":\"Closed\",\"datetime\":\"12/10/2024 03:04:46\",\"gainer_amount\":187,\"gainer_volume\":1.818569E9,\"unchange_amount\":215,\"unchange_volume\":1.818569E9,\"loser_amount\":263,\"loser_volume\":1.7900033E9,\"index\":[{\"index_name\":\"SET\",\"index_display_name\":\"SET\",\"market\":\"SET\",\"prior\":1468.52,\"last\":1470.1,\"change\":1.58,\"percent_change\":0.11,\"high\":1482.02,\"low\":1470.1,\"total_volume\":8.675897292E9,\"total_value\":6.0196604809E10,\"flag_url\":null},{\"index_name\":\"SET50\",\"index_display_name\":\"SET50\",\"market\":\"SET\",\"prior\":935.24,\"last\":936.64,\"change\":1.4,\"percent_change\":0.15,\"high\":945.43,\"low\":936.08,\"total_volume\":1.569924E9,\"total_value\":4.3835441897E10,\"flag_url\":null},{\"index_name\":\"SET50FF\",\"index_display_name\":\"SET50FF\",\"market\":\"SET\",\"prior\":906.28,\"last\":906.13,\"change\":-0.15,\"percent_change\":-0.02,\"high\":913.38,\"low\":905.92,\"total_volume\":1.569924E9,\"total_value\":4.3835441897E10,\"flag_url\":null},{\"index_name\":\"SET100\",\"index_display_name\":\"SET100\",\"market\":\"SET\",\"prior\":2036.62,\"last\":2038.73,\"change\":2.11,\"percent_change\":0.1,\"high\":2058.15,\"low\":2038.51,\"total_volume\":2.3692927E9,\"total_value\":5.1352722991E10,\"flag_url\":null},{\"index_name\":\"SET100FF\",\"index_display_name\":\"SET100FF\",\"market\":\"SET\",\"prior\":1982.91,\"last\":1982.67,\"change\":-0.24,\"percent_change\":-0.01,\"high\":1998.65,\"low\":1982.67,\"total_volume\":2.3692927E9,\"total_value\":5.1352722991E10,\"flag_url\":null},{\"index_name\":\"sSET\",\"index_display_name\":\"sSET\",\"market\":\"SET\",\"prior\":853.43,\"last\":851.76,\"change\":-1.67,\"percent_change\":-0.2,\"high\":859.87,\"low\":851.76,\"total_volume\":5.54114E8,\"total_value\":2.662167283E9,\"flag_url\":null},{\"index_name\":\"SETCLMV\",\"index_display_name\":\"SETCLMV\",\"market\":\"SET\",\"prior\":826.86,\"last\":819.89,\"change\":-6.97,\"percent_change\":-0.84,\"high\":831.63,\"low\":819.89,\"total_volume\":1.0569622E9,\"total_value\":3.5425475465E10,\"flag_url\":null},{\"index_name\":\"SETHD\",\"index_display_name\":\"SETHD\",\"market\":\"SET\",\"prior\":1218.55,\"last\":1230.35,\"change\":11.8,\"percent_change\":0.97,\"high\":1234.16,\"low\":1222.0,\"total_volume\":9.160663E8,\"total_value\":2.0102404643E10,\"flag_url\":null},{\"index_name\":\"SETESG\",\"index_display_name\":\"SETESG\",\"market\":\"SET\",\"prior\":939.34,\"last\":939.09,\"change\":-0.25,\"percent_change\":-0.03,\"high\":947.18,\"low\":939.09,\"total_volume\":2.0449507E9,\"total_value\":4.5472704784E10,\"flag_url\":null},{\"index_name\":\"SETWB\",\"index_display_name\":\"SETWB\",\"market\":\"SET\",\"prior\":857.27,\"last\":850.43,\"change\":-6.84,\"percent_change\":-0.8,\"high\":861.32,\"low\":850.43,\"total_volume\":6.445078E8,\"total_value\":1.1881661657E10,\"flag_url\":null}]}'"
      ]
     },
     "execution_count": 3,
     "metadata": {},
     "output_type": "execute_result"
    }
   ],
   "source": [
    "data_info = requests.get(api_url)\n",
    "data_info.text"
   ]
  },
  {
   "cell_type": "markdown",
   "metadata": {},
   "source": [
    "## Extract data\n",
    "Unmarshal or convert the json text in the response from the API into a variable"
   ]
  },
  {
   "cell_type": "code",
   "execution_count": 4,
   "metadata": {
    "scrolled": true
   },
   "outputs": [
    {
     "name": "stdout",
     "output_type": "stream",
     "text": [
      "[{'change': 1.58,\n",
      "  'flag_url': None,\n",
      "  'high': 1482.02,\n",
      "  'index_display_name': 'SET',\n",
      "  'index_name': 'SET',\n",
      "  'last': 1470.1,\n",
      "  'low': 1470.1,\n",
      "  'market': 'SET',\n",
      "  'percent_change': 0.11,\n",
      "  'prior': 1468.52,\n",
      "  'total_value': 60196604809.0,\n",
      "  'total_volume': 8675897292.0},\n",
      " {'change': 1.4,\n",
      "  'flag_url': None,\n",
      "  'high': 945.43,\n",
      "  'index_display_name': 'SET50',\n",
      "  'index_name': 'SET50',\n",
      "  'last': 936.64,\n",
      "  'low': 936.08,\n",
      "  'market': 'SET',\n",
      "  'percent_change': 0.15,\n",
      "  'prior': 935.24,\n",
      "  'total_value': 43835441897.0,\n",
      "  'total_volume': 1569924000.0},\n",
      " {'change': -0.15,\n",
      "  'flag_url': None,\n",
      "  'high': 913.38,\n",
      "  'index_display_name': 'SET50FF',\n",
      "  'index_name': 'SET50FF',\n",
      "  'last': 906.13,\n",
      "  'low': 905.92,\n",
      "  'market': 'SET',\n",
      "  'percent_change': -0.02,\n",
      "  'prior': 906.28,\n",
      "  'total_value': 43835441897.0,\n",
      "  'total_volume': 1569924000.0},\n",
      " {'change': 2.11,\n",
      "  'flag_url': None,\n",
      "  'high': 2058.15,\n",
      "  'index_display_name': 'SET100',\n",
      "  'index_name': 'SET100',\n",
      "  'last': 2038.73,\n",
      "  'low': 2038.51,\n",
      "  'market': 'SET',\n",
      "  'percent_change': 0.1,\n",
      "  'prior': 2036.62,\n",
      "  'total_value': 51352722991.0,\n",
      "  'total_volume': 2369292700.0},\n",
      " {'change': -0.24,\n",
      "  'flag_url': None,\n",
      "  'high': 1998.65,\n",
      "  'index_display_name': 'SET100FF',\n",
      "  'index_name': 'SET100FF',\n",
      "  'last': 1982.67,\n",
      "  'low': 1982.67,\n",
      "  'market': 'SET',\n",
      "  'percent_change': -0.01,\n",
      "  'prior': 1982.91,\n",
      "  'total_value': 51352722991.0,\n",
      "  'total_volume': 2369292700.0},\n",
      " {'change': -1.67,\n",
      "  'flag_url': None,\n",
      "  'high': 859.87,\n",
      "  'index_display_name': 'sSET',\n",
      "  'index_name': 'sSET',\n",
      "  'last': 851.76,\n",
      "  'low': 851.76,\n",
      "  'market': 'SET',\n",
      "  'percent_change': -0.2,\n",
      "  'prior': 853.43,\n",
      "  'total_value': 2662167283.0,\n",
      "  'total_volume': 554114000.0},\n",
      " {'change': -6.97,\n",
      "  'flag_url': None,\n",
      "  'high': 831.63,\n",
      "  'index_display_name': 'SETCLMV',\n",
      "  'index_name': 'SETCLMV',\n",
      "  'last': 819.89,\n",
      "  'low': 819.89,\n",
      "  'market': 'SET',\n",
      "  'percent_change': -0.84,\n",
      "  'prior': 826.86,\n",
      "  'total_value': 35425475465.0,\n",
      "  'total_volume': 1056962200.0},\n",
      " {'change': 11.8,\n",
      "  'flag_url': None,\n",
      "  'high': 1234.16,\n",
      "  'index_display_name': 'SETHD',\n",
      "  'index_name': 'SETHD',\n",
      "  'last': 1230.35,\n",
      "  'low': 1222.0,\n",
      "  'market': 'SET',\n",
      "  'percent_change': 0.97,\n",
      "  'prior': 1218.55,\n",
      "  'total_value': 20102404643.0,\n",
      "  'total_volume': 916066300.0},\n",
      " {'change': -0.25,\n",
      "  'flag_url': None,\n",
      "  'high': 947.18,\n",
      "  'index_display_name': 'SETESG',\n",
      "  'index_name': 'SETESG',\n",
      "  'last': 939.09,\n",
      "  'low': 939.09,\n",
      "  'market': 'SET',\n",
      "  'percent_change': -0.03,\n",
      "  'prior': 939.34,\n",
      "  'total_value': 45472704784.0,\n",
      "  'total_volume': 2044950700.0},\n",
      " {'change': -6.84,\n",
      "  'flag_url': None,\n",
      "  'high': 861.32,\n",
      "  'index_display_name': 'SETWB',\n",
      "  'index_name': 'SETWB',\n",
      "  'last': 850.43,\n",
      "  'low': 850.43,\n",
      "  'market': 'SET',\n",
      "  'percent_change': -0.8,\n",
      "  'prior': 857.27,\n",
      "  'total_value': 11881661657.0,\n",
      "  'total_volume': 644507800.0}]\n"
     ]
    }
   ],
   "source": [
    "set_info = json.loads(data_info.text)\n",
    "pprint.pprint(set_info['index'])"
   ]
  },
  {
   "cell_type": "code",
   "execution_count": 5,
   "metadata": {},
   "outputs": [
    {
     "name": "stdout",
     "output_type": "stream",
     "text": [
      "SET 1470.1\n"
     ]
    }
   ],
   "source": [
    "market = set_info['index'][0]\n",
    "print(market['market'], market['last'])"
   ]
  },
  {
   "cell_type": "code",
   "execution_count": 6,
   "metadata": {},
   "outputs": [
    {
     "name": "stdout",
     "output_type": "stream",
     "text": [
      "SET 1470.1\n",
      "SET50 936.64\n",
      "SET50FF 906.13\n",
      "SET100 2038.73\n",
      "SET100FF 1982.67\n",
      "sSET 851.76\n",
      "SETCLMV 819.89\n",
      "SETHD 1230.35\n",
      "SETESG 939.09\n",
      "SETWB 850.43\n"
     ]
    }
   ],
   "source": [
    "for ind in set_info['index']:\n",
    "    print(ind['index_name'], ind['last'])"
   ]
  },
  {
   "cell_type": "code",
   "execution_count": null,
   "metadata": {},
   "outputs": [],
   "source": []
  }
 ],
 "metadata": {
  "kernelspec": {
   "display_name": "Python 3 (ipykernel)",
   "language": "python",
   "name": "python3"
  },
  "language_info": {
   "codemirror_mode": {
    "name": "ipython",
    "version": 3
   },
   "file_extension": ".py",
   "mimetype": "text/x-python",
   "name": "python",
   "nbconvert_exporter": "python",
   "pygments_lexer": "ipython3",
   "version": "3.11.5"
  },
  "toc": {
   "base_numbering": 1,
   "nav_menu": {},
   "number_sections": true,
   "sideBar": true,
   "skip_h1_title": false,
   "title_cell": "Table of Contents",
   "title_sidebar": "Contents",
   "toc_cell": false,
   "toc_position": {},
   "toc_section_display": true,
   "toc_window_display": false
  },
  "varInspector": {
   "cols": {
    "lenName": 16,
    "lenType": 16,
    "lenVar": 40
   },
   "kernels_config": {
    "python": {
     "delete_cmd_postfix": "",
     "delete_cmd_prefix": "del ",
     "library": "var_list.py",
     "varRefreshCmd": "print(var_dic_list())"
    },
    "r": {
     "delete_cmd_postfix": ") ",
     "delete_cmd_prefix": "rm(",
     "library": "var_list.r",
     "varRefreshCmd": "cat(var_dic_list()) "
    }
   },
   "types_to_exclude": [
    "module",
    "function",
    "builtin_function_or_method",
    "instance",
    "_Feature"
   ],
   "window_display": false
  }
 },
 "nbformat": 4,
 "nbformat_minor": 4
}
