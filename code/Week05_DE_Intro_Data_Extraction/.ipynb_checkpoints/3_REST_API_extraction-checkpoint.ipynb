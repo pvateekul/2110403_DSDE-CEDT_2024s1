{
 "cells": [
  {
   "cell_type": "markdown",
   "metadata": {},
   "source": [
    "# REST API Data Extraction\n",
    "Gathering data from a REST API is quite typical.  Most Single-Page-Application (SPA) and AJAX dynamic pages rely on REST APIs.  In addition, most vendor-specific APIs such as Facebook, Twitter, etc., base on REST.\n",
    "\n",
    "The most important step of extracting data via REST API is to identify the endpoint."
   ]
  },
  {
   "cell_type": "code",
   "execution_count": 1,
   "metadata": {
    "scrolled": true
   },
   "outputs": [],
   "source": [
    "import requests\n",
    "import json\n",
    "import pprint"
   ]
  },
  {
   "cell_type": "markdown",
   "metadata": {},
   "source": [
    "## Call REST API\n",
    "After we investigate the main page of settrade.com, we can figure out the endpoint of the market information using debugger in the browser."
   ]
  },
  {
   "cell_type": "code",
   "execution_count": 2,
   "metadata": {},
   "outputs": [],
   "source": [
    "api_url = 'http://api.settrade.com/api/market/SET/info'"
   ]
  },
  {
   "cell_type": "code",
   "execution_count": 3,
   "metadata": {},
   "outputs": [
    {
     "data": {
      "text/plain": [
       "'{\"market_name\":\"SET\",\"market_display_name\":\"SET\",\"market_status\":\"Open1\",\"datetime\":\"05/11/2024 11:23:21\",\"gainer_amount\":221,\"gainer_volume\":4.043307E8,\"unchange_amount\":210,\"unchange_volume\":4.043307E8,\"loser_amount\":187,\"loser_volume\":3.329066E8,\"index\":[{\"index_name\":\"SET\",\"index_display_name\":\"SET\",\"market\":\"SET\",\"prior\":1462.95,\"last\":1474.5,\"change\":11.55,\"percent_change\":0.79,\"high\":1476.26,\"low\":1462.63,\"total_volume\":5.84314948E9,\"total_value\":1.5549043967E10,\"flag_url\":null},{\"index_name\":\"SET50\",\"index_display_name\":\"SET50\",\"market\":\"SET\",\"prior\":937.15,\"last\":947.35,\"change\":10.2,\"percent_change\":1.09,\"high\":948.65,\"low\":936.93,\"total_volume\":3.688601E8,\"total_value\":1.0873584885E10,\"flag_url\":null},{\"index_name\":\"SET50FF\",\"index_display_name\":\"SET50FF\",\"market\":\"SET\",\"prior\":892.7,\"last\":898.84,\"change\":6.14,\"percent_change\":0.69,\"high\":900.44,\"low\":892.53,\"total_volume\":3.688601E8,\"total_value\":1.0873584885E10,\"flag_url\":null},{\"index_name\":\"SET100\",\"index_display_name\":\"SET100\",\"market\":\"SET\",\"prior\":2034.05,\"last\":2054.45,\"change\":20.4,\"percent_change\":1.0,\"high\":2057.12,\"low\":2033.71,\"total_volume\":5.37787E8,\"total_value\":1.2570067745E10,\"flag_url\":null},{\"index_name\":\"SET100FF\",\"index_display_name\":\"SET100FF\",\"market\":\"SET\",\"prior\":1951.08,\"last\":1963.67,\"change\":12.59,\"percent_change\":0.65,\"high\":1966.35,\"low\":1950.78,\"total_volume\":5.338079E8,\"total_value\":1.2546027101E10,\"flag_url\":null},{\"index_name\":\"sSET\",\"index_display_name\":\"sSET\",\"market\":\"SET\",\"prior\":824.12,\"last\":824.8,\"change\":0.68,\"percent_change\":0.08,\"high\":826.84,\"low\":824.31,\"total_volume\":1.529977E8,\"total_value\":4.26460378E8,\"flag_url\":null},{\"index_name\":\"SETCLMV\",\"index_display_name\":\"SETCLMV\",\"market\":\"SET\",\"prior\":796.43,\"last\":799.29,\"change\":2.86,\"percent_change\":0.36,\"high\":800.57,\"low\":796.99,\"total_volume\":2.075748E8,\"total_value\":8.791250094E9,\"flag_url\":null},{\"index_name\":\"SETHD\",\"index_display_name\":\"SETHD\",\"market\":\"SET\",\"prior\":1185.7,\"last\":1189.1,\"change\":3.4,\"percent_change\":0.29,\"high\":1192.53,\"low\":1186.62,\"total_volume\":2.1169E8,\"total_value\":4.196312136E9,\"flag_url\":null},{\"index_name\":\"SETESG\",\"index_display_name\":\"SETESG\",\"market\":\"SET\",\"prior\":910.53,\"last\":912.14,\"change\":1.61,\"percent_change\":0.18,\"high\":914.1,\"low\":909.88,\"total_volume\":4.04504E8,\"total_value\":8.351760411E9,\"flag_url\":null},{\"index_name\":\"SETWB\",\"index_display_name\":\"SETWB\",\"market\":\"SET\",\"prior\":827.72,\"last\":830.76,\"change\":3.04,\"percent_change\":0.37,\"high\":832.46,\"low\":827.51,\"total_volume\":1.450835E8,\"total_value\":2.712046703E9,\"flag_url\":null}]}'"
      ]
     },
     "execution_count": 3,
     "metadata": {},
     "output_type": "execute_result"
    }
   ],
   "source": [
    "data_info = requests.get(api_url)\n",
    "data_info.text"
   ]
  },
  {
   "cell_type": "markdown",
   "metadata": {},
   "source": [
    "## Extract data\n",
    "Unmarshal or convert the json text in the response from the API into a variable"
   ]
  },
  {
   "cell_type": "code",
   "execution_count": 4,
   "metadata": {
    "scrolled": true
   },
   "outputs": [
    {
     "name": "stdout",
     "output_type": "stream",
     "text": [
      "[{'change': 11.55,\n",
      "  'flag_url': None,\n",
      "  'high': 1476.26,\n",
      "  'index_display_name': 'SET',\n",
      "  'index_name': 'SET',\n",
      "  'last': 1474.5,\n",
      "  'low': 1462.63,\n",
      "  'market': 'SET',\n",
      "  'percent_change': 0.79,\n",
      "  'prior': 1462.95,\n",
      "  'total_value': 15549043967.0,\n",
      "  'total_volume': 5843149480.0},\n",
      " {'change': 10.2,\n",
      "  'flag_url': None,\n",
      "  'high': 948.65,\n",
      "  'index_display_name': 'SET50',\n",
      "  'index_name': 'SET50',\n",
      "  'last': 947.35,\n",
      "  'low': 936.93,\n",
      "  'market': 'SET',\n",
      "  'percent_change': 1.09,\n",
      "  'prior': 937.15,\n",
      "  'total_value': 10873584885.0,\n",
      "  'total_volume': 368860100.0},\n",
      " {'change': 6.14,\n",
      "  'flag_url': None,\n",
      "  'high': 900.44,\n",
      "  'index_display_name': 'SET50FF',\n",
      "  'index_name': 'SET50FF',\n",
      "  'last': 898.84,\n",
      "  'low': 892.53,\n",
      "  'market': 'SET',\n",
      "  'percent_change': 0.69,\n",
      "  'prior': 892.7,\n",
      "  'total_value': 10873584885.0,\n",
      "  'total_volume': 368860100.0},\n",
      " {'change': 20.4,\n",
      "  'flag_url': None,\n",
      "  'high': 2057.12,\n",
      "  'index_display_name': 'SET100',\n",
      "  'index_name': 'SET100',\n",
      "  'last': 2054.45,\n",
      "  'low': 2033.71,\n",
      "  'market': 'SET',\n",
      "  'percent_change': 1.0,\n",
      "  'prior': 2034.05,\n",
      "  'total_value': 12570067745.0,\n",
      "  'total_volume': 537787000.0},\n",
      " {'change': 12.59,\n",
      "  'flag_url': None,\n",
      "  'high': 1966.35,\n",
      "  'index_display_name': 'SET100FF',\n",
      "  'index_name': 'SET100FF',\n",
      "  'last': 1963.67,\n",
      "  'low': 1950.78,\n",
      "  'market': 'SET',\n",
      "  'percent_change': 0.65,\n",
      "  'prior': 1951.08,\n",
      "  'total_value': 12546027101.0,\n",
      "  'total_volume': 533807900.0},\n",
      " {'change': 0.68,\n",
      "  'flag_url': None,\n",
      "  'high': 826.84,\n",
      "  'index_display_name': 'sSET',\n",
      "  'index_name': 'sSET',\n",
      "  'last': 824.8,\n",
      "  'low': 824.31,\n",
      "  'market': 'SET',\n",
      "  'percent_change': 0.08,\n",
      "  'prior': 824.12,\n",
      "  'total_value': 426460378.0,\n",
      "  'total_volume': 152997700.0},\n",
      " {'change': 2.86,\n",
      "  'flag_url': None,\n",
      "  'high': 800.57,\n",
      "  'index_display_name': 'SETCLMV',\n",
      "  'index_name': 'SETCLMV',\n",
      "  'last': 799.29,\n",
      "  'low': 796.99,\n",
      "  'market': 'SET',\n",
      "  'percent_change': 0.36,\n",
      "  'prior': 796.43,\n",
      "  'total_value': 8791250094.0,\n",
      "  'total_volume': 207574800.0},\n",
      " {'change': 3.4,\n",
      "  'flag_url': None,\n",
      "  'high': 1192.53,\n",
      "  'index_display_name': 'SETHD',\n",
      "  'index_name': 'SETHD',\n",
      "  'last': 1189.1,\n",
      "  'low': 1186.62,\n",
      "  'market': 'SET',\n",
      "  'percent_change': 0.29,\n",
      "  'prior': 1185.7,\n",
      "  'total_value': 4196312136.0,\n",
      "  'total_volume': 211690000.0},\n",
      " {'change': 1.61,\n",
      "  'flag_url': None,\n",
      "  'high': 914.1,\n",
      "  'index_display_name': 'SETESG',\n",
      "  'index_name': 'SETESG',\n",
      "  'last': 912.14,\n",
      "  'low': 909.88,\n",
      "  'market': 'SET',\n",
      "  'percent_change': 0.18,\n",
      "  'prior': 910.53,\n",
      "  'total_value': 8351760411.0,\n",
      "  'total_volume': 404504000.0},\n",
      " {'change': 3.04,\n",
      "  'flag_url': None,\n",
      "  'high': 832.46,\n",
      "  'index_display_name': 'SETWB',\n",
      "  'index_name': 'SETWB',\n",
      "  'last': 830.76,\n",
      "  'low': 827.51,\n",
      "  'market': 'SET',\n",
      "  'percent_change': 0.37,\n",
      "  'prior': 827.72,\n",
      "  'total_value': 2712046703.0,\n",
      "  'total_volume': 145083500.0}]\n"
     ]
    }
   ],
   "source": [
    "set_info = json.loads(data_info.text)\n",
    "pprint.pprint(set_info['index'])"
   ]
  },
  {
   "cell_type": "code",
   "execution_count": 5,
   "metadata": {},
   "outputs": [
    {
     "name": "stdout",
     "output_type": "stream",
     "text": [
      "SET 1474.5\n"
     ]
    }
   ],
   "source": [
    "market = set_info['index'][0]\n",
    "print(market['market'], market['last'])"
   ]
  },
  {
   "cell_type": "code",
   "execution_count": 6,
   "metadata": {},
   "outputs": [
    {
     "name": "stdout",
     "output_type": "stream",
     "text": [
      "SET 1474.5\n",
      "SET50 947.35\n",
      "SET50FF 898.84\n",
      "SET100 2054.45\n",
      "SET100FF 1963.67\n",
      "sSET 824.8\n",
      "SETCLMV 799.29\n",
      "SETHD 1189.1\n",
      "SETESG 912.14\n",
      "SETWB 830.76\n"
     ]
    }
   ],
   "source": [
    "for ind in set_info['index']:\n",
    "    print(ind['index_name'], ind['last'])"
   ]
  },
  {
   "cell_type": "code",
   "execution_count": null,
   "metadata": {},
   "outputs": [],
   "source": []
  }
 ],
 "metadata": {
  "kernelspec": {
   "display_name": "Python 3 (ipykernel)",
   "language": "python",
   "name": "python3"
  },
  "language_info": {
   "codemirror_mode": {
    "name": "ipython",
    "version": 3
   },
   "file_extension": ".py",
   "mimetype": "text/x-python",
   "name": "python",
   "nbconvert_exporter": "python",
   "pygments_lexer": "ipython3",
   "version": "3.11.5"
  },
  "toc": {
   "base_numbering": 1,
   "nav_menu": {},
   "number_sections": true,
   "sideBar": true,
   "skip_h1_title": false,
   "title_cell": "Table of Contents",
   "title_sidebar": "Contents",
   "toc_cell": false,
   "toc_position": {},
   "toc_section_display": true,
   "toc_window_display": false
  },
  "varInspector": {
   "cols": {
    "lenName": 16,
    "lenType": 16,
    "lenVar": 40
   },
   "kernels_config": {
    "python": {
     "delete_cmd_postfix": "",
     "delete_cmd_prefix": "del ",
     "library": "var_list.py",
     "varRefreshCmd": "print(var_dic_list())"
    },
    "r": {
     "delete_cmd_postfix": ") ",
     "delete_cmd_prefix": "rm(",
     "library": "var_list.r",
     "varRefreshCmd": "cat(var_dic_list()) "
    }
   },
   "types_to_exclude": [
    "module",
    "function",
    "builtin_function_or_method",
    "instance",
    "_Feature"
   ],
   "window_display": false
  }
 },
 "nbformat": 4,
 "nbformat_minor": 4
}
