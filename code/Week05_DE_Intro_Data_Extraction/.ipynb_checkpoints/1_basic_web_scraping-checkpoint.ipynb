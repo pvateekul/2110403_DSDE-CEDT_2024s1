{
 "cells": [
  {
   "cell_type": "markdown",
   "metadata": {},
   "source": [
    "# Basic Webpage Scraping\n",
    "Webpage scraping consists of two steps: crawling and parsing.  In this tutorial, we focus on parsing HTML data.   Beautifulsoup is a powerful tool to process static HTML.  More details can be found at https://www.crummy.com/software/BeautifulSoup/bs4/doc/\n",
    "\n",
    "To simplify our learning, we will use a simple example from W3Schools: https://www.w3schools.com/howto/tryit.asp?filename=tryhow_css_example_website\n",
    "\n",
    "This simple example contains in a single HTML for simplicity and has been saved in an html file, simple_page.html.\n"
   ]
  },
  {
   "cell_type": "markdown",
   "metadata": {},
   "source": [
    "## Parsing a webpage\n",
    "First we read the content from simple_page.html file, store content in variable 'html'"
   ]
  },
  {
   "cell_type": "code",
   "execution_count": 1,
   "metadata": {},
   "outputs": [],
   "source": [
    "with open('simple_page.html') as f:\n",
    "    html = f.read()"
   ]
  },
  {
   "cell_type": "code",
   "execution_count": 2,
   "metadata": {
    "scrolled": true
   },
   "outputs": [
    {
     "data": {
      "text/plain": [
       "'<!DOCTYPE html>\\n<html lang=\"en\">\\n<head>\\n<title>Page Title</title>\\n<meta charset=\"UTF-8\">\\n<meta name=\"viewport\" content=\"width=device-width, initial-scale=1\">\\n<style>\\n* {\\n  box-sizing: border-box;\\n}\\n\\n/* Style the body */\\nbody {\\n  font-family: Arial, Helvetica, sans-serif;\\n  margin: 0;\\n}\\n\\n/* Header/logo Title */\\n.header {\\n  padding: 80px;\\n  text-align: center;\\n  background: #1abc9c;\\n  color: white;\\n}\\n\\n/* Increase the font size of the heading */\\n.header h1 {\\n  font-size: 40px;\\n}\\n\\n/* Sticky navbar - toggles between relative and fixed, depending on the scroll position. It is positioned relative until a given offset position is met in the viewport - then it \"sticks\" in place (like position:fixed). The sticky value is not supported in IE or Edge 15 and earlier versions. However, for these versions the navbar will inherit default position */\\n.navbar {\\n  overflow: hidden;\\n  background-color: #333;\\n  position: sticky;\\n  position: -webkit-sticky;\\n  top: 0;\\n}\\n\\n/* Style the navigation bar links */\\n.navbar a {\\n  float: left;\\n  display: block;\\n  color: white;\\n  text-align: center;\\n  padding: 14px 20px;\\n  text-decoration: none;\\n}\\n\\n\\n/* Right-aligned link */\\n.navbar a.right {\\n  float: right;\\n}\\n\\n/* Change color on hover */\\n.navbar a:hover {\\n  background-color: #ddd;\\n  color: black;\\n}\\n\\n/* Active/current link */\\n.navbar a.active {\\n  background-color: #666;\\n  color: white;\\n}\\n\\n/* Column container */\\n.row {  \\n  display: -ms-flexbox; /* IE10 */\\n  display: flex;\\n  -ms-flex-wrap: wrap; /* IE10 */\\n  flex-wrap: wrap;\\n}\\n\\n/* Create two unequal columns that sits next to each other */\\n/* Sidebar/left column */\\n.side {\\n  -ms-flex: 30%; /* IE10 */\\n  flex: 30%;\\n  background-color: #f1f1f1;\\n  padding: 20px;\\n}\\n\\n/* Main column */\\n.main {   \\n  -ms-flex: 70%; /* IE10 */\\n  flex: 70%;\\n  background-color: white;\\n  padding: 20px;\\n}\\n\\n/* Fake image, just for this example */\\n.fakeimg {\\n  background-color: #aaa;\\n  width: 100%;\\n  padding: 20px;\\n}\\n\\n/* Footer */\\n.footer {\\n  padding: 20px;\\n  text-align: center;\\n  background: #ddd;\\n}\\n\\n/* Responsive layout - when the screen is less than 700px wide, make the two columns stack on top of each other instead of next to each other */\\n@media screen and (max-width: 700px) {\\n  .row {   \\n    flex-direction: column;\\n  }\\n}\\n\\n/* Responsive layout - when the screen is less than 400px wide, make the navigation links stack on top of each other instead of next to each other */\\n@media screen and (max-width: 400px) {\\n  .navbar a {\\n    float: none;\\n    width: 100%;\\n  }\\n}\\n</style>\\n</head>\\n<body>\\n\\n<div class=\"header\">\\n  <h1>My Website</h1>\\n  <p>A <b>responsive</b> website created by me.</p>\\n</div>\\n\\n<div class=\"navbar\">\\n  <a href=\"#\" class=\"active\">Home</a>\\n  <a href=\"#\">Link</a>\\n  <a href=\"#\">Link</a>\\n  <a href=\"#\" class=\"right\">Link</a>\\n</div>\\n\\n<div class=\"row\">\\n  <div class=\"side\">\\n    <h2>About Me</h2>\\n    <h5>Photo of me:</h5>\\n    <div id=\"my_photo\" class=\"fakeimg\" style=\"height:200px;\">Image</div>\\n    <p>Some text about me in culpa qui officia deserunt mollit anim..</p>\\n    <h3>More Text</h3>\\n    <p>Lorem ipsum dolor sit ame.</p>\\n    <div class=\"fakeimg\" style=\"height:60px;\">Image</div><br>\\n    <div class=\"fakeimg\" style=\"height:60px;\">Image</div><br>\\n    <div class=\"fakeimg\" style=\"height:60px;\">Image</div>\\n  </div>\\n  <div class=\"main\" id=\"div_1\">\\n    <h2>TITLE HEADING</h2>\\n    <h5>Title description, Dec 7, 2017</h5>\\n    <div class=\"fakeimg\" style=\"height:200px;\">Image</div>\\n    <p id=\"more_text\">Some text..</p>\\n    <p>Sunt in culpa qui officia deserunt mollit anim id est laborum consectetur adipiscing elit, sed do eiusmod tempor incididunt ut labore et dolore magna aliqua. Ut enim ad minim veniam, quis nostrud exercitation ullamco.</p>\\n    <br>\\n    <h2>TITLE HEADING</h2>\\n    <h5>Title description, Sep 2, 2017</h5>\\n    <div class=\"fakeimg\" style=\"height:200px;\">Image</div>\\n    <p>Some text..</p>\\n    <p>Sunt in culpa qui officia deserunt mollit anim id est laborum consectetur adipiscing elit, sed do eiusmod tempor incididunt ut labore et dolore magna aliqua. Ut enim ad minim veniam, quis nostrud exercitation ullamco.</p>\\n  </div>\\n</div>\\n\\n<div class=\"footer\">\\n  <h2>Footer</h2>\\n</div>\\n\\n</body>\\n</html>\\n\\n'"
      ]
     },
     "execution_count": 2,
     "metadata": {},
     "output_type": "execute_result"
    }
   ],
   "source": [
    "html"
   ]
  },
  {
   "cell_type": "markdown",
   "metadata": {},
   "source": [
    "Import all necessary packages"
   ]
  },
  {
   "cell_type": "code",
   "execution_count": 3,
   "metadata": {},
   "outputs": [],
   "source": [
    "from bs4 import BeautifulSoup\n",
    "from bs4.element import Tag"
   ]
  },
  {
   "cell_type": "markdown",
   "metadata": {},
   "source": [
    "Parse HTML content in 'html' variable.  Note that prettify is a bs4 method that returns a string with formatted HTML content."
   ]
  },
  {
   "cell_type": "code",
   "execution_count": 4,
   "metadata": {
    "scrolled": true
   },
   "outputs": [
    {
     "name": "stdout",
     "output_type": "stream",
     "text": [
      "<!DOCTYPE html>\n",
      "<html lang=\"en\">\n",
      " <head>\n",
      "  <title>\n",
      "   Page Title\n",
      "  </title>\n",
      "  <meta charset=\"utf-8\"/>\n",
      "  <meta content=\"width=device-width, initial-scale=1\" name=\"viewport\"/>\n",
      "  <style>\n",
      "   * {\n",
      "  box-sizing: border-box;\n",
      "}\n",
      "\n",
      "/* Style the body */\n",
      "body {\n",
      "  font-family: Arial, Helvetica, sans-serif;\n",
      "  margin: 0;\n",
      "}\n",
      "\n",
      "/* Header/logo Title */\n",
      ".header {\n",
      "  padding: 80px;\n",
      "  text-align: center;\n",
      "  background: #1abc9c;\n",
      "  color: white;\n",
      "}\n",
      "\n",
      "/* Increase the font size of the heading */\n",
      ".header h1 {\n",
      "  font-size: 40px;\n",
      "}\n",
      "\n",
      "/* Sticky navbar - toggles between relative and fixed, depending on the scroll position. It is positioned relative until a given offset position is met in the viewport - then it \"sticks\" in place (like position:fixed). The sticky value is not supported in IE or Edge 15 and earlier versions. However, for these versions the navbar will inherit default position */\n",
      ".navbar {\n",
      "  overflow: hidden;\n",
      "  background-color: #333;\n",
      "  position: sticky;\n",
      "  position: -webkit-sticky;\n",
      "  top: 0;\n",
      "}\n",
      "\n",
      "/* Style the navigation bar links */\n",
      ".navbar a {\n",
      "  float: left;\n",
      "  display: block;\n",
      "  color: white;\n",
      "  text-align: center;\n",
      "  padding: 14px 20px;\n",
      "  text-decoration: none;\n",
      "}\n",
      "\n",
      "\n",
      "/* Right-aligned link */\n",
      ".navbar a.right {\n",
      "  float: right;\n",
      "}\n",
      "\n",
      "/* Change color on hover */\n",
      ".navbar a:hover {\n",
      "  background-color: #ddd;\n",
      "  color: black;\n",
      "}\n",
      "\n",
      "/* Active/current link */\n",
      ".navbar a.active {\n",
      "  background-color: #666;\n",
      "  color: white;\n",
      "}\n",
      "\n",
      "/* Column container */\n",
      ".row {  \n",
      "  display: -ms-flexbox; /* IE10 */\n",
      "  display: flex;\n",
      "  -ms-flex-wrap: wrap; /* IE10 */\n",
      "  flex-wrap: wrap;\n",
      "}\n",
      "\n",
      "/* Create two unequal columns that sits next to each other */\n",
      "/* Sidebar/left column */\n",
      ".side {\n",
      "  -ms-flex: 30%; /* IE10 */\n",
      "  flex: 30%;\n",
      "  background-color: #f1f1f1;\n",
      "  padding: 20px;\n",
      "}\n",
      "\n",
      "/* Main column */\n",
      ".main {   \n",
      "  -ms-flex: 70%; /* IE10 */\n",
      "  flex: 70%;\n",
      "  background-color: white;\n",
      "  padding: 20px;\n",
      "}\n",
      "\n",
      "/* Fake image, just for this example */\n",
      ".fakeimg {\n",
      "  background-color: #aaa;\n",
      "  width: 100%;\n",
      "  padding: 20px;\n",
      "}\n",
      "\n",
      "/* Footer */\n",
      ".footer {\n",
      "  padding: 20px;\n",
      "  text-align: center;\n",
      "  background: #ddd;\n",
      "}\n",
      "\n",
      "/* Responsive layout - when the screen is less than 700px wide, make the two columns stack on top of each other instead of next to each other */\n",
      "@media screen and (max-width: 700px) {\n",
      "  .row {   \n",
      "    flex-direction: column;\n",
      "  }\n",
      "}\n",
      "\n",
      "/* Responsive layout - when the screen is less than 400px wide, make the navigation links stack on top of each other instead of next to each other */\n",
      "@media screen and (max-width: 400px) {\n",
      "  .navbar a {\n",
      "    float: none;\n",
      "    width: 100%;\n",
      "  }\n",
      "}\n",
      "  </style>\n",
      " </head>\n",
      " <body>\n",
      "  <div class=\"header\">\n",
      "   <h1>\n",
      "    My Website\n",
      "   </h1>\n",
      "   <p>\n",
      "    A\n",
      "    <b>\n",
      "     responsive\n",
      "    </b>\n",
      "    website created by me.\n",
      "   </p>\n",
      "  </div>\n",
      "  <div class=\"navbar\">\n",
      "   <a class=\"active\" href=\"#\">\n",
      "    Home\n",
      "   </a>\n",
      "   <a href=\"#\">\n",
      "    Link\n",
      "   </a>\n",
      "   <a href=\"#\">\n",
      "    Link\n",
      "   </a>\n",
      "   <a class=\"right\" href=\"#\">\n",
      "    Link\n",
      "   </a>\n",
      "  </div>\n",
      "  <div class=\"row\">\n",
      "   <div class=\"side\">\n",
      "    <h2>\n",
      "     About Me\n",
      "    </h2>\n",
      "    <h5>\n",
      "     Photo of me:\n",
      "    </h5>\n",
      "    <div class=\"fakeimg\" id=\"my_photo\" style=\"height:200px;\">\n",
      "     Image\n",
      "    </div>\n",
      "    <p>\n",
      "     Some text about me in culpa qui officia deserunt mollit anim..\n",
      "    </p>\n",
      "    <h3>\n",
      "     More Text\n",
      "    </h3>\n",
      "    <p>\n",
      "     Lorem ipsum dolor sit ame.\n",
      "    </p>\n",
      "    <div class=\"fakeimg\" style=\"height:60px;\">\n",
      "     Image\n",
      "    </div>\n",
      "    <br/>\n",
      "    <div class=\"fakeimg\" style=\"height:60px;\">\n",
      "     Image\n",
      "    </div>\n",
      "    <br/>\n",
      "    <div class=\"fakeimg\" style=\"height:60px;\">\n",
      "     Image\n",
      "    </div>\n",
      "   </div>\n",
      "   <div class=\"main\" id=\"div_1\">\n",
      "    <h2>\n",
      "     TITLE HEADING\n",
      "    </h2>\n",
      "    <h5>\n",
      "     Title description, Dec 7, 2017\n",
      "    </h5>\n",
      "    <div class=\"fakeimg\" style=\"height:200px;\">\n",
      "     Image\n",
      "    </div>\n",
      "    <p id=\"more_text\">\n",
      "     Some text..\n",
      "    </p>\n",
      "    <p>\n",
      "     Sunt in culpa qui officia deserunt mollit anim id est laborum consectetur adipiscing elit, sed do eiusmod tempor incididunt ut labore et dolore magna aliqua. Ut enim ad minim veniam, quis nostrud exercitation ullamco.\n",
      "    </p>\n",
      "    <br/>\n",
      "    <h2>\n",
      "     TITLE HEADING\n",
      "    </h2>\n",
      "    <h5>\n",
      "     Title description, Sep 2, 2017\n",
      "    </h5>\n",
      "    <div class=\"fakeimg\" style=\"height:200px;\">\n",
      "     Image\n",
      "    </div>\n",
      "    <p>\n",
      "     Some text..\n",
      "    </p>\n",
      "    <p>\n",
      "     Sunt in culpa qui officia deserunt mollit anim id est laborum consectetur adipiscing elit, sed do eiusmod tempor incididunt ut labore et dolore magna aliqua. Ut enim ad minim veniam, quis nostrud exercitation ullamco.\n",
      "    </p>\n",
      "   </div>\n",
      "  </div>\n",
      "  <div class=\"footer\">\n",
      "   <h2>\n",
      "    Footer\n",
      "   </h2>\n",
      "  </div>\n",
      " </body>\n",
      "</html>\n",
      "\n"
     ]
    }
   ],
   "source": [
    "soup = BeautifulSoup(html, \"lxml\")\n",
    "print(soup.prettify())"
   ]
  },
  {
   "cell_type": "markdown",
   "metadata": {},
   "source": [
    "## Beautiful Soup DOM Tree\n",
    "The structure of Beautiful Soup bases on the concept of DOM, which is used in all web browsers.  DOM is a tree of all elements in the webpage.  Each element node consists of:\n",
    "- tag\n",
    "- innerHTML/outerHTML\n",
    "- id\n",
    "- attributes\n",
    "- parent and children"
   ]
  },
  {
   "cell_type": "markdown",
   "metadata": {},
   "source": [
    "### DOM Element Node\n",
    "Tag **'title'** is a tag of one of the element node in the example; \n",
    "we can refer to the node by using the tag name\n",
    "\n",
    "Note that title is not a root node.  The root node is 'html'.  We can access nodes via the root node.  We can also refer to the tag directly.  In this case, bs4 will return the first node with the refered tag."
   ]
  },
  {
   "cell_type": "code",
   "execution_count": 5,
   "metadata": {},
   "outputs": [
    {
     "data": {
      "text/plain": [
       "bs4.element.Tag"
      ]
     },
     "execution_count": 5,
     "metadata": {},
     "output_type": "execute_result"
    }
   ],
   "source": [
    "type(soup.title)"
   ]
  },
  {
   "cell_type": "code",
   "execution_count": 6,
   "metadata": {},
   "outputs": [
    {
     "data": {
      "text/plain": [
       "'title'"
      ]
     },
     "execution_count": 6,
     "metadata": {},
     "output_type": "execute_result"
    }
   ],
   "source": [
    "# we can get tag of a node with 'name'\n",
    "soup.title.name"
   ]
  },
  {
   "cell_type": "code",
   "execution_count": 7,
   "metadata": {},
   "outputs": [
    {
     "data": {
      "text/plain": [
       "'<title>Page Title</title>'"
      ]
     },
     "execution_count": 7,
     "metadata": {},
     "output_type": "execute_result"
    }
   ],
   "source": [
    "# we can get outerHTML by converting node to string\n",
    "str(soup.title)"
   ]
  },
  {
   "cell_type": "code",
   "execution_count": null,
   "metadata": {},
   "outputs": [],
   "source": [
    "# direct reference to a node leads to the same result\n",
    "soup.title"
   ]
  },
  {
   "cell_type": "code",
   "execution_count": null,
   "metadata": {},
   "outputs": [],
   "source": [
    "# we can get innerHTML with 'string'\n",
    "soup.title.string"
   ]
  },
  {
   "cell_type": "code",
   "execution_count": null,
   "metadata": {},
   "outputs": [],
   "source": [
    "# we can get id with 'id' (it is empty in this example)\n",
    "soup.title.id"
   ]
  },
  {
   "cell_type": "code",
   "execution_count": null,
   "metadata": {},
   "outputs": [],
   "source": [
    "# we can get attribute values with 'attrs'\n",
    "soup.title.attrs"
   ]
  },
  {
   "cell_type": "code",
   "execution_count": null,
   "metadata": {},
   "outputs": [],
   "source": [
    "# getting the parent node with 'parent'\n",
    "soup.title.parent.name"
   ]
  },
  {
   "cell_type": "code",
   "execution_count": null,
   "metadata": {},
   "outputs": [],
   "source": [
    "# referring to children\n",
    "soup.title.children"
   ]
  },
  {
   "cell_type": "markdown",
   "metadata": {},
   "source": [
    "### Traversing simple HTML's DOM Tree\n",
    "\n",
    "In our example, the structure is as followed:\n",
    "\n",
    "```\n",
    "html\n",
    "+-- head\n",
    "|   +-- title\n",
    "|   +-- meta\n",
    "|   +-- meta\n",
    "|   +-- style\n",
    "+-- body\n",
    "    +-- div\n",
    "    |   +-- h1\n",
    "    |   +-- p\n",
    "    |       +-- b\n",
    "    +-- div\n",
    "    |   +-- a\n",
    "    |   +-- a\n",
    "    |   +-- a\n",
    "    |   +-- a\n",
    "    +-- div\n",
    "    |   +--div\n",
    "    |   |   +-- h2\n",
    "    |   |   +-- h5\n",
    "    |   |   +-- ...\n",
    "    |   +--div\n",
    "    |       +-- h2\n",
    "    |       +-- h5\n",
    "    |       +-- ...\n",
    "    +-- div\n",
    "        +-- h2\n",
    "```"
   ]
  },
  {
   "cell_type": "markdown",
   "metadata": {},
   "source": [
    "Let refer to the first anchor (tag = a) in this structure.  Notice that even if we have 4 anchors in this HTML, bs4 returns only the first one."
   ]
  },
  {
   "cell_type": "code",
   "execution_count": null,
   "metadata": {
    "tags": []
   },
   "outputs": [],
   "source": [
    "soup.a"
   ]
  },
  {
   "cell_type": "markdown",
   "metadata": {},
   "source": [
    "Assign this node to a variable 'a_node'"
   ]
  },
  {
   "cell_type": "code",
   "execution_count": null,
   "metadata": {},
   "outputs": [],
   "source": [
    "a_node = soup.a"
   ]
  },
  {
   "cell_type": "markdown",
   "metadata": {},
   "source": [
    "A node can have multiple (or 0) attributes.  We can access all attributes using get method."
   ]
  },
  {
   "cell_type": "code",
   "execution_count": null,
   "metadata": {},
   "outputs": [],
   "source": [
    "a_node.attrs"
   ]
  },
  {
   "cell_type": "code",
   "execution_count": null,
   "metadata": {},
   "outputs": [],
   "source": [
    "print(a_node.get('href'))\n",
    "print(a_node.get('class'))"
   ]
  },
  {
   "cell_type": "markdown",
   "metadata": {},
   "source": [
    "### Relative Reference\n",
    "Let's navigate based on a_node using parent and children"
   ]
  },
  {
   "cell_type": "code",
   "execution_count": null,
   "metadata": {},
   "outputs": [],
   "source": [
    "a_parent = a_node.parent\n",
    "a_parent"
   ]
  },
  {
   "cell_type": "code",
   "execution_count": null,
   "metadata": {},
   "outputs": [],
   "source": [
    "a_parent.name"
   ]
  },
  {
   "cell_type": "markdown",
   "metadata": {},
   "source": [
    "Note that bs4 turns any spaces in between elements into NavigableString"
   ]
  },
  {
   "cell_type": "code",
   "execution_count": null,
   "metadata": {},
   "outputs": [],
   "source": [
    "for node in a_parent.children:\n",
    "    print('[{}] {}'.format(type(node), node))"
   ]
  },
  {
   "cell_type": "code",
   "execution_count": null,
   "metadata": {},
   "outputs": [],
   "source": [
    "for node in a_node.previous_siblings:\n",
    "    print('[{}] {}'.format(type(node), node))"
   ]
  },
  {
   "cell_type": "code",
   "execution_count": null,
   "metadata": {},
   "outputs": [],
   "source": [
    "for node in a_node.next_siblings:\n",
    "    print('[{}] {}'.format(type(node), node))"
   ]
  },
  {
   "cell_type": "markdown",
   "metadata": {},
   "source": [
    "Let's try with first div node in this HTML"
   ]
  },
  {
   "cell_type": "code",
   "execution_count": null,
   "metadata": {},
   "outputs": [],
   "source": [
    "soup.div"
   ]
  },
  {
   "cell_type": "code",
   "execution_count": null,
   "metadata": {},
   "outputs": [],
   "source": [
    "soup.div.parent.name"
   ]
  },
  {
   "cell_type": "markdown",
   "metadata": {},
   "source": [
    "Here is the list of DOM navigation:\n",
    "- **node.children**: iterator for all children of a node\n",
    "- **node.descendants**: iterator for all of a tag’s children, recursively: its direct children, the children of its direct children, and so on\n",
    "- **node.parent**: parent of the existing node\n",
    "- **node.parents**: iterator for all of an element’s parents to the root of the DOM tree\n",
    "- **node.next_sibling / node.previous_sibling**: navigate between page elements that are on the same level of the DOM tree\n",
    "- **node.next_element / node.previous_element**: navigate between page elements in the DOM tree, regardless of the level"
   ]
  },
  {
   "cell_type": "markdown",
   "metadata": {},
   "source": [
    "### Direct Reference\n",
    "We can refer to any node via the root node, html, with dot separated.\n",
    "Refer to our DOM tree structure in the following examples."
   ]
  },
  {
   "cell_type": "code",
   "execution_count": null,
   "metadata": {},
   "outputs": [],
   "source": [
    "soup.head"
   ]
  },
  {
   "cell_type": "markdown",
   "metadata": {},
   "source": [
    "We can access the css style at node:\n",
    "\n",
    "**html -> head -> style**\n",
    "\n",
    "Note that we do not have to include html in the reference"
   ]
  },
  {
   "cell_type": "code",
   "execution_count": null,
   "metadata": {},
   "outputs": [],
   "source": [
    "soup.head.style"
   ]
  },
  {
   "cell_type": "markdown",
   "metadata": {},
   "source": [
    "We do not have to include everythin in the path.  Let access the first h2 node inside body."
   ]
  },
  {
   "cell_type": "code",
   "execution_count": null,
   "metadata": {},
   "outputs": [],
   "source": [
    "soup.body.h2"
   ]
  },
  {
   "cell_type": "code",
   "execution_count": null,
   "metadata": {},
   "outputs": [],
   "source": [
    "soup.body.h2.parent"
   ]
  },
  {
   "cell_type": "markdown",
   "metadata": {},
   "source": [
    "We can jump back and forth between nodes, parents, and children"
   ]
  },
  {
   "cell_type": "code",
   "execution_count": null,
   "metadata": {},
   "outputs": [],
   "source": [
    "soup.body.h2.parent.p"
   ]
  },
  {
   "cell_type": "markdown",
   "metadata": {},
   "source": [
    "## Finding Nodes\n",
    "We usually have more than one element with the same tag.  We can get all those nodes using find_all method.  Note that find method is also avaiable and will return the first node that match the criteria."
   ]
  },
  {
   "cell_type": "code",
   "execution_count": null,
   "metadata": {},
   "outputs": [],
   "source": [
    "all_div = soup.find_all('div')"
   ]
  },
  {
   "cell_type": "code",
   "execution_count": null,
   "metadata": {},
   "outputs": [],
   "source": [
    "len(all_div)"
   ]
  },
  {
   "cell_type": "code",
   "execution_count": null,
   "metadata": {
    "scrolled": true
   },
   "outputs": [],
   "source": [
    "n = 0\n",
    "for div in all_div:\n",
    "    print('-- {} --'.format(n))\n",
    "    print(div)\n",
    "    n += 1"
   ]
  },
  {
   "cell_type": "code",
   "execution_count": null,
   "metadata": {
    "scrolled": true
   },
   "outputs": [],
   "source": [
    "div8 = all_div[8]\n",
    "div8"
   ]
  },
  {
   "cell_type": "code",
   "execution_count": null,
   "metadata": {},
   "outputs": [],
   "source": [
    "div8.attrs"
   ]
  },
  {
   "cell_type": "code",
   "execution_count": null,
   "metadata": {},
   "outputs": [],
   "source": [
    "div8.get('class')"
   ]
  },
  {
   "cell_type": "markdown",
   "metadata": {},
   "source": [
    "find_all method can be used at any node.  This effectly limits the finding scope."
   ]
  },
  {
   "cell_type": "code",
   "execution_count": null,
   "metadata": {},
   "outputs": [],
   "source": [
    "div8.find_all('div')"
   ]
  },
  {
   "cell_type": "code",
   "execution_count": null,
   "metadata": {},
   "outputs": [],
   "source": [
    "div8.find('div')"
   ]
  },
  {
   "cell_type": "markdown",
   "metadata": {},
   "source": [
    "### Find with Criteria\n",
    "find and find_all methods accept criteria for searching.  For example, we can find all nodes with specific id or with specific attributes."
   ]
  },
  {
   "cell_type": "code",
   "execution_count": null,
   "metadata": {},
   "outputs": [],
   "source": [
    "soup.find_all(id='more_text')"
   ]
  },
  {
   "cell_type": "code",
   "execution_count": null,
   "metadata": {},
   "outputs": [],
   "source": [
    "soup.find_all(attrs={'class': 'fakeimg'})"
   ]
  },
  {
   "cell_type": "code",
   "execution_count": null,
   "metadata": {},
   "outputs": [],
   "source": [
    "soup.find_all(attrs={'style': 'height:60px;'})"
   ]
  },
  {
   "cell_type": "code",
   "execution_count": null,
   "metadata": {},
   "outputs": [],
   "source": [
    "soup.find_all('div', attrs={'class': 'main'})"
   ]
  },
  {
   "cell_type": "markdown",
   "metadata": {},
   "source": [
    "## CSS Selector\n",
    "CSS Selector is very powerful for node searching.  We can search by tag name, id, class, and combination of criteria.  The CSS Selector includes:\n",
    "- **string**: select node with the specific *tag* e.g. div for node with tag 'div'\n",
    "- **.class**: select node with the specific *class*\n",
    "- **#id**: select node with the specific *id*\n",
    "- **tag[attr]**: select node with the specific *tag* and *attr*"
   ]
  },
  {
   "cell_type": "code",
   "execution_count": null,
   "metadata": {},
   "outputs": [],
   "source": [
    "soup.select('p')"
   ]
  },
  {
   "cell_type": "code",
   "execution_count": null,
   "metadata": {},
   "outputs": [],
   "source": [
    "soup.select('h2')"
   ]
  },
  {
   "cell_type": "code",
   "execution_count": null,
   "metadata": {},
   "outputs": [],
   "source": [
    "soup.select('#more_text')"
   ]
  },
  {
   "cell_type": "code",
   "execution_count": null,
   "metadata": {},
   "outputs": [],
   "source": [
    "soup.select('.fakeimg')"
   ]
  },
  {
   "cell_type": "code",
   "execution_count": null,
   "metadata": {},
   "outputs": [],
   "source": [
    "soup.select('#my_photo.fakeimg')"
   ]
  },
  {
   "cell_type": "code",
   "execution_count": null,
   "metadata": {},
   "outputs": [],
   "source": [
    "node = soup.select('div div h2')\n",
    "node"
   ]
  },
  {
   "cell_type": "code",
   "execution_count": null,
   "metadata": {},
   "outputs": [],
   "source": []
  }
 ],
 "metadata": {
  "kernelspec": {
   "display_name": "Python 3 (ipykernel)",
   "language": "python",
   "name": "python3"
  },
  "language_info": {
   "codemirror_mode": {
    "name": "ipython",
    "version": 3
   },
   "file_extension": ".py",
   "mimetype": "text/x-python",
   "name": "python",
   "nbconvert_exporter": "python",
   "pygments_lexer": "ipython3",
   "version": "3.11.5"
  },
  "toc": {
   "base_numbering": 1,
   "nav_menu": {},
   "number_sections": true,
   "sideBar": true,
   "skip_h1_title": false,
   "title_cell": "Table of Contents",
   "title_sidebar": "Contents",
   "toc_cell": false,
   "toc_position": {},
   "toc_section_display": true,
   "toc_window_display": false
  },
  "varInspector": {
   "cols": {
    "lenName": 16,
    "lenType": 16,
    "lenVar": 40
   },
   "kernels_config": {
    "python": {
     "delete_cmd_postfix": "",
     "delete_cmd_prefix": "del ",
     "library": "var_list.py",
     "varRefreshCmd": "print(var_dic_list())"
    },
    "r": {
     "delete_cmd_postfix": ") ",
     "delete_cmd_prefix": "rm(",
     "library": "var_list.r",
     "varRefreshCmd": "cat(var_dic_list()) "
    }
   },
   "types_to_exclude": [
    "module",
    "function",
    "builtin_function_or_method",
    "instance",
    "_Feature"
   ],
   "window_display": false
  }
 },
 "nbformat": 4,
 "nbformat_minor": 4
}
