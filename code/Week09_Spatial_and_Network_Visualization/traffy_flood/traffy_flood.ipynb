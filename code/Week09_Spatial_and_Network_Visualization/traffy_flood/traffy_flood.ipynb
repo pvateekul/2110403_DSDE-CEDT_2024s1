{
 "cells": [
  {
   "cell_type": "code",
   "execution_count": null,
   "id": "fb431e6e-e453-4586-bb92-98c7c2260a17",
   "metadata": {},
   "outputs": [],
   "source": [
    "import pydeck as pdk\n",
    "import pandas as pd\n",
    "import matplotlib.pyplot as plt\n",
    "\n",
    "df = pd.read_csv(\"traffy_flood.csv\")"
   ]
  },
  {
   "cell_type": "code",
   "execution_count": null,
   "id": "57063db3-ac7b-43c3-9e25-07638cbe3c3d",
   "metadata": {},
   "outputs": [],
   "source": [
    "df"
   ]
  },
  {
   "cell_type": "code",
   "execution_count": null,
   "id": "bdd1b493-0929-4b5c-9253-82185f955f20",
   "metadata": {},
   "outputs": [],
   "source": [
    "# Define a layer to display on a map\n",
    "layer = pdk.Layer(\n",
    "    \"ScatterplotLayer\",\n",
    "    df,\n",
    "    get_position=[\"longitude\", \"latitude\"],\n",
    "    get_radius=200,\n",
    "    get_fill_color=[255, 140, 0],\n",
    "    opacity=0.6,\n",
    "    pickable=True\n",
    ")\n",
    "\n",
    "# Set the viewport location\n",
    "view_state = pdk.data_utils.compute_view(df[[\"longitude\", \"latitude\"]])\n",
    "view_state.zoom = 10\n",
    "\n",
    "# Render\n",
    "deck = pdk.Deck(layers=[layer], initial_view_state=view_state, \n",
    "                tooltip={\"text\": \"{subdistrict} {district}\\n{timestamp}\\n{comment}\"})\n",
    "deck.to_html(\"pydeck_traffy.html\")"
   ]
  },
  {
   "cell_type": "code",
   "execution_count": null,
   "id": "278533f3-7364-4de4-90a9-29ff7695030e",
   "metadata": {},
   "outputs": [],
   "source": [
    "# Define the heatmap layer\n",
    "heatmap_layer = pdk.Layer(\n",
    "    \"HeatmapLayer\",\n",
    "    df,\n",
    "    get_position=\"[longitude, latitude]\",\n",
    "    opacity=0.5,\n",
    "    pickable=True\n",
    ")\n",
    "\n",
    "view_state = pdk.ViewState(\n",
    "    latitude=df['latitude'].mean(),\n",
    "    longitude=df['longitude'].mean(),\n",
    "    zoom=10\n",
    ")\n",
    "pdk.Deck(layers=[heatmap_layer], initial_view_state=view_state)"
   ]
  },
  {
   "cell_type": "code",
   "execution_count": null,
   "id": "19a4f7e1-5fd9-45d2-a280-658afc0753be",
   "metadata": {},
   "outputs": [],
   "source": [
    "\n",
    "pdk.Deck(layers=[layer, heatmap_layer], initial_view_state=view_state)\n"
   ]
  },
  {
   "cell_type": "code",
   "execution_count": null,
   "id": "46e19340-a571-4819-877c-2e8571b191c0",
   "metadata": {},
   "outputs": [],
   "source": [
    "# DBSCAN clustering\n",
    "from sklearn.cluster import DBSCAN\n",
    "\n",
    "coords = df[['latitude', 'longitude']]\n",
    "db = DBSCAN(eps=0.005, min_samples=10).fit(coords)\n",
    "df['cluster'] = db.labels_\n",
    "\n",
    "# Filter out noise points\n",
    "df = df[df['cluster'] != -1].copy()\n",
    "\n",
    "# Count the number of points in each cluster and identify the largest clusters\n",
    "clusters_count = df['cluster'].value_counts()\n",
    "\n",
    "# Exclude the '-1' cluster, which represents noise\n",
    "clusters_count = clusters_count[clusters_count.index != -1]\n",
    "\n",
    "unique_clusters = df['cluster'].unique()\n",
    "num_clusters = len(unique_clusters)\n",
    "\n",
    "# Use a continuous colormap to generate colors, ensure we have enough colors for all clusters.\n",
    "colormap = plt.get_cmap('hsv')\n",
    "cluster_colors = {cluster: [int(x*255) for x in colormap(i/num_clusters)[:3]]\n",
    "                      for i, cluster in enumerate(unique_clusters)}\n",
    "    \n",
    "# Map cluster ID to color for each row in the dataframe\n",
    "df['color'] = df['cluster'].map(cluster_colors)\n",
    "\n",
    "# Define the scatter plot layer\n",
    "scatter_layer = pdk.Layer(\n",
    "    \"ScatterplotLayer\",\n",
    "    df,\n",
    "    get_position=\"[longitude, latitude]\",\n",
    "    get_color='color',\n",
    "    get_radius=200,\n",
    "    opacity=0.5,\n",
    "    pickable=True\n",
    ")\n",
    "\n",
    "view_state = pdk.ViewState(\n",
    "    latitude=df['latitude'].mean(),\n",
    "    longitude=df['longitude'].mean(),\n",
    "    zoom=10\n",
    ")\n",
    "pdk.Deck(layers=[scatter_layer], initial_view_state=view_state, tooltip={\"text\": \"{cluster}\\n{subdistrict} {district}\\n{timestamp}\"})\n"
   ]
  },
  {
   "cell_type": "code",
   "execution_count": null,
   "id": "68d6c17d-9d3f-440e-adb7-cbb3330e5de3",
   "metadata": {},
   "outputs": [],
   "source": [
    "import matplotlib.pyplot as plt\n",
    "\n",
    "# Plotting the data\n",
    "clusters_count.plot(kind='bar', color='blue')  # You can customize the color\n",
    "\n",
    "plt.xticks(fontsize=8)\n",
    "\n",
    "# Optional: adjust figure size if labels still overlap\n",
    "plt.gcf().set_size_inches(12, 6)  # Adjust the size as needed\n",
    "\n",
    "plt.xlabel('Cluster')  # Set x-axis label, if needed\n",
    "plt.ylabel('Count')    # Set y-axis label\n",
    "plt.title('Size of Clusters')  # Set title\n",
    "plt.show()\n",
    "\n"
   ]
  },
  {
   "cell_type": "code",
   "execution_count": null,
   "id": "2aa6b187-7c96-4845-b93b-060d86e2dbdc",
   "metadata": {},
   "outputs": [],
   "source": []
  },
  {
   "cell_type": "code",
   "execution_count": null,
   "id": "296b63a0-bbac-4475-a33b-0f649487a4bc",
   "metadata": {},
   "outputs": [],
   "source": []
  }
 ],
 "metadata": {
  "kernelspec": {
   "display_name": "Python 3 (ipykernel)",
   "language": "python",
   "name": "python3"
  },
  "language_info": {
   "codemirror_mode": {
    "name": "ipython",
    "version": 3
   },
   "file_extension": ".py",
   "mimetype": "text/x-python",
   "name": "python",
   "nbconvert_exporter": "python",
   "pygments_lexer": "ipython3",
   "version": "3.12.3"
  }
 },
 "nbformat": 4,
 "nbformat_minor": 5
}
