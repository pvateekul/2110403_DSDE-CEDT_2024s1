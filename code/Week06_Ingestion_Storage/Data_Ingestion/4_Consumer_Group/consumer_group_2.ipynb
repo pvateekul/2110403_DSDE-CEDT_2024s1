{
 "cells": [
  {
   "cell_type": "code",
   "execution_count": 1,
   "metadata": {},
   "outputs": [],
   "source": [
    "# import required libraries\n",
    "from kafka import KafkaConsumer\n",
    "from time import localtime, strftime"
   ]
  },
  {
   "cell_type": "code",
   "execution_count": 2,
   "metadata": {},
   "outputs": [],
   "source": [
    "# Connect to kafka broker running in your local host (docker). Change this to your kafka broker if needed\n",
    "kafka_broker = 'localhost:9092'"
   ]
  },
  {
   "cell_type": "code",
   "execution_count": 3,
   "metadata": {},
   "outputs": [],
   "source": [
    "consumer = KafkaConsumer(\n",
    "    'sample2',\n",
    "    bootstrap_servers=[kafka_broker],\n",
    "    enable_auto_commit=True,\n",
    "    group_id='my-group',\n",
    "    session_timeout_ms=6000,\n",
    "    max_poll_interval_ms=6000,\n",
    "    value_deserializer=lambda x: x.decode('utf-8'))"
   ]
  },
  {
   "cell_type": "code",
   "execution_count": null,
   "metadata": {},
   "outputs": [
    {
     "name": "stdout",
     "output_type": "stream",
     "text": [
      "Running Consumer Group\n",
      "[10:50:31] message #65 from producer\n",
      "{TopicPartition(topic='sample2', partition=1)}\n",
      "[10:50:33] message #66 from producer\n",
      "{TopicPartition(topic='sample2', partition=1)}\n",
      "[10:50:37] message #68 from producer\n",
      "{TopicPartition(topic='sample2', partition=1)}\n",
      "[10:50:41] message #70 from producer\n",
      "{TopicPartition(topic='sample2', partition=1)}\n",
      "[10:50:43] message #71 from producer\n",
      "{TopicPartition(topic='sample2', partition=1)}\n",
      "[10:50:45] message #72 from producer\n",
      "{TopicPartition(topic='sample2', partition=1)}\n",
      "[10:50:47] message #73 from producer\n",
      "{TopicPartition(topic='sample2', partition=1)}\n",
      "[10:50:49] message #74 from producer\n",
      "{TopicPartition(topic='sample2', partition=1)}\n",
      "[10:50:53] message #76 from producer\n",
      "{TopicPartition(topic='sample2', partition=1)}\n",
      "[10:50:57] message #78 from producer\n",
      "{TopicPartition(topic='sample2', partition=1)}\n",
      "[10:51:03] message #81 from producer\n",
      "{TopicPartition(topic='sample2', partition=1)}\n",
      "[10:51:09] message #84 from producer\n",
      "{TopicPartition(topic='sample2', partition=1)}\n",
      "[10:51:13] message #86 from producer\n",
      "{TopicPartition(topic='sample2', partition=1)}\n",
      "[10:51:19] message #89 from producer\n",
      "{TopicPartition(topic='sample2', partition=1)}\n",
      "[10:51:23] message #91 from producer\n",
      "{TopicPartition(topic='sample2', partition=1)}\n",
      "[10:51:28] message #87 from producer\n",
      "{TopicPartition(topic='sample2', partition=0), TopicPartition(topic='sample2', partition=1)}\n",
      "[10:51:28] message #88 from producer\n",
      "{TopicPartition(topic='sample2', partition=0), TopicPartition(topic='sample2', partition=1)}\n",
      "[10:51:28] message #90 from producer\n",
      "{TopicPartition(topic='sample2', partition=0), TopicPartition(topic='sample2', partition=1)}\n"
     ]
    }
   ],
   "source": [
    "print('Running Consumer Group')\n",
    "for message in consumer:\n",
    "    ts = strftime(\"%H:%M:%S\", localtime())\n",
    "    print('[{}] {}'.format(ts, message.value, message.offset))\n",
    "    print(consumer.assignment())"
   ]
  },
  {
   "cell_type": "code",
   "execution_count": null,
   "metadata": {},
   "outputs": [],
   "source": [
    "consumer.close()"
   ]
  },
  {
   "cell_type": "code",
   "execution_count": null,
   "metadata": {},
   "outputs": [],
   "source": []
  }
 ],
 "metadata": {
  "kernelspec": {
   "display_name": "Python 3 (ipykernel)",
   "language": "python",
   "name": "python3"
  },
  "language_info": {
   "codemirror_mode": {
    "name": "ipython",
    "version": 3
   },
   "file_extension": ".py",
   "mimetype": "text/x-python",
   "name": "python",
   "nbconvert_exporter": "python",
   "pygments_lexer": "ipython3",
   "version": "3.11.5"
  },
  "toc": {
   "base_numbering": 1,
   "nav_menu": {},
   "number_sections": true,
   "sideBar": true,
   "skip_h1_title": false,
   "title_cell": "Table of Contents",
   "title_sidebar": "Contents",
   "toc_cell": false,
   "toc_position": {},
   "toc_section_display": true,
   "toc_window_display": false
  },
  "varInspector": {
   "cols": {
    "lenName": 16,
    "lenType": 16,
    "lenVar": 40
   },
   "kernels_config": {
    "python": {
     "delete_cmd_postfix": "",
     "delete_cmd_prefix": "del ",
     "library": "var_list.py",
     "varRefreshCmd": "print(var_dic_list())"
    },
    "r": {
     "delete_cmd_postfix": ") ",
     "delete_cmd_prefix": "rm(",
     "library": "var_list.r",
     "varRefreshCmd": "cat(var_dic_list()) "
    }
   },
   "types_to_exclude": [
    "module",
    "function",
    "builtin_function_or_method",
    "instance",
    "_Feature"
   ],
   "window_display": false
  }
 },
 "nbformat": 4,
 "nbformat_minor": 2
}
