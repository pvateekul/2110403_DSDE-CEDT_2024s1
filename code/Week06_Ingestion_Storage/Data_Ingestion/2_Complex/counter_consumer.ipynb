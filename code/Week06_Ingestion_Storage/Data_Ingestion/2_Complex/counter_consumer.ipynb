{
 "cells": [
  {
   "cell_type": "code",
   "execution_count": 1,
   "metadata": {},
   "outputs": [],
   "source": [
    "import threading\n",
    "import json\n",
    "import time\n",
    "from kafka import KafkaProducer, KafkaConsumer"
   ]
  },
  {
   "cell_type": "code",
   "execution_count": 2,
   "metadata": {},
   "outputs": [],
   "source": [
    "class Counter:\n",
    "    def __init__(self):\n",
    "        self._lock = threading.Lock()\n",
    "        self.reset()\n",
    "        \n",
    "    def reset(self):\n",
    "        with self._lock:\n",
    "            self.counter = 0\n",
    "            \n",
    "    def incr(self, value):\n",
    "        with self._lock:\n",
    "            self.counter += value\n",
    "            \n",
    "    def get(self):\n",
    "        return self.counter"
   ]
  },
  {
   "cell_type": "code",
   "execution_count": 3,
   "metadata": {},
   "outputs": [],
   "source": [
    "# Connect to kafka broker running in your local host (docker). Change this to your kafka broker if needed\n",
    "kafka_broker = 'localhost:9092'\n",
    "data_topic = 'data'\n",
    "notification_topic = 'notification'"
   ]
  },
  {
   "cell_type": "code",
   "execution_count": 4,
   "metadata": {},
   "outputs": [],
   "source": [
    "producer = KafkaProducer(bootstrap_servers=[kafka_broker])"
   ]
  },
  {
   "cell_type": "code",
   "execution_count": 5,
   "metadata": {},
   "outputs": [],
   "source": [
    "consumer = KafkaConsumer(\n",
    "     bootstrap_servers=[kafka_broker],\n",
    "     enable_auto_commit=True,\n",
    "     value_deserializer=lambda x: x.decode('utf-8'))\n",
    "consumer.subscribe(data_topic)"
   ]
  },
  {
   "cell_type": "code",
   "execution_count": 6,
   "metadata": {},
   "outputs": [],
   "source": [
    "def monitor_thread(interval, counters, topic):\n",
    "    print('[monitor] starting')\n",
    "    while True:\n",
    "        time.sleep(interval)\n",
    "        for id in counters:\n",
    "            count = counters[id].get()\n",
    "            counters[id].reset()\n",
    "            s = '{} - {} messages during last {} seconds'.format(id, count, interval)\n",
    "            producer.send(topic, s.encode('utf-8'))\n",
    "        print('send notificiation', flush=True)"
   ]
  },
  {
   "cell_type": "code",
   "execution_count": 7,
   "metadata": {},
   "outputs": [
    {
     "name": "stdout",
     "output_type": "stream",
     "text": [
      "[monitor] starting\n"
     ]
    }
   ],
   "source": [
    "monitor_interval = 10\n",
    "counters = {}\n",
    "monitor = threading.Thread(target=monitor_thread, args=(monitor_interval, counters, notification_topic), daemon=True)\n",
    "monitor.start()"
   ]
  },
  {
   "cell_type": "code",
   "execution_count": null,
   "metadata": {
    "scrolled": true
   },
   "outputs": [
    {
     "name": "stdout",
     "output_type": "stream",
     "text": [
      "send notificiation\n",
      "send notificiation\n",
      "send notificiation\n",
      "send notificiation\n",
      "send notificiation\n",
      "send notificiation\n",
      "send notificiation\n",
      "send notificiation\n"
     ]
    }
   ],
   "source": [
    "for message in consumer:\n",
    "    m = message.value\n",
    "    data = json.loads(m)\n",
    "    if 'id' in data:\n",
    "        if data['id'] not in counters:\n",
    "            counters[data['id']] = Counter()\n",
    "        counters[data['id']].incr(1)\n",
    "    else:\n",
    "        print(data, flush=True)"
   ]
  },
  {
   "cell_type": "code",
   "execution_count": null,
   "metadata": {},
   "outputs": [],
   "source": []
  }
 ],
 "metadata": {
  "kernelspec": {
   "display_name": "Python 3 (ipykernel)",
   "language": "python",
   "name": "python3"
  },
  "language_info": {
   "codemirror_mode": {
    "name": "ipython",
    "version": 3
   },
   "file_extension": ".py",
   "mimetype": "text/x-python",
   "name": "python",
   "nbconvert_exporter": "python",
   "pygments_lexer": "ipython3",
   "version": "3.11.5"
  },
  "toc": {
   "base_numbering": 1,
   "nav_menu": {},
   "number_sections": true,
   "sideBar": true,
   "skip_h1_title": false,
   "title_cell": "Table of Contents",
   "title_sidebar": "Contents",
   "toc_cell": false,
   "toc_position": {},
   "toc_section_display": true,
   "toc_window_display": false
  },
  "varInspector": {
   "cols": {
    "lenName": 16,
    "lenType": 16,
    "lenVar": 40
   },
   "kernels_config": {
    "python": {
     "delete_cmd_postfix": "",
     "delete_cmd_prefix": "del ",
     "library": "var_list.py",
     "varRefreshCmd": "print(var_dic_list())"
    },
    "r": {
     "delete_cmd_postfix": ") ",
     "delete_cmd_prefix": "rm(",
     "library": "var_list.r",
     "varRefreshCmd": "cat(var_dic_list()) "
    }
   },
   "types_to_exclude": [
    "module",
    "function",
    "builtin_function_or_method",
    "instance",
    "_Feature"
   ],
   "window_display": false
  }
 },
 "nbformat": 4,
 "nbformat_minor": 2
}
