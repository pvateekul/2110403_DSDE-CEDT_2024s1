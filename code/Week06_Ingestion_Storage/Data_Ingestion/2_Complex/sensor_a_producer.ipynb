{
 "cells": [
  {
   "cell_type": "code",
   "execution_count": 1,
   "metadata": {
    "scrolled": true
   },
   "outputs": [],
   "source": [
    "# import required libraries\n",
    "from kafka import KafkaProducer\n",
    "import time, random, json"
   ]
  },
  {
   "cell_type": "code",
   "execution_count": null,
   "metadata": {},
   "outputs": [],
   "source": []
  },
  {
   "cell_type": "code",
   "execution_count": 2,
   "metadata": {},
   "outputs": [],
   "source": [
    "sensor_id = 'sensor-A'"
   ]
  },
  {
   "cell_type": "code",
   "execution_count": 3,
   "metadata": {},
   "outputs": [],
   "source": [
    "# Connect to kafka broker running in your local host (docker). Change this to your kafka broker if needed\n",
    "kafka_broker = 'localhost:9092'\n",
    "topic = 'data'"
   ]
  },
  {
   "cell_type": "code",
   "execution_count": 4,
   "metadata": {},
   "outputs": [],
   "source": [
    "producer = KafkaProducer(bootstrap_servers=[kafka_broker])"
   ]
  },
  {
   "cell_type": "code",
   "execution_count": null,
   "metadata": {},
   "outputs": [
    {
     "name": "stdout",
     "output_type": "stream",
     "text": [
      "{\"id\": \"sensor-A\", \"timestamp\": 1731380088, \"value\": 29}\n",
      "{\"id\": \"sensor-A\", \"timestamp\": 1731380091, \"value\": 14}\n",
      "{\"id\": \"sensor-A\", \"timestamp\": 1731380093, \"value\": 36}\n",
      "{\"id\": \"sensor-A\", \"timestamp\": 1731380096, \"value\": 16}\n",
      "{\"id\": \"sensor-A\", \"timestamp\": 1731380098, \"value\": 40}\n",
      "{\"id\": \"sensor-A\", \"timestamp\": 1731380101, \"value\": 32}\n",
      "{\"id\": \"sensor-A\", \"timestamp\": 1731380105, \"value\": 28}\n",
      "{\"id\": \"sensor-A\", \"timestamp\": 1731380107, \"value\": 39}\n",
      "{\"id\": \"sensor-A\", \"timestamp\": 1731380110, \"value\": 15}\n",
      "{\"id\": \"sensor-A\", \"timestamp\": 1731380114, \"value\": 17}\n",
      "{\"id\": \"sensor-A\", \"timestamp\": 1731380117, \"value\": 25}\n",
      "{\"id\": \"sensor-A\", \"timestamp\": 1731380119, \"value\": 37}\n",
      "{\"id\": \"sensor-A\", \"timestamp\": 1731380122, \"value\": 32}\n",
      "{\"id\": \"sensor-A\", \"timestamp\": 1731380125, \"value\": 31}\n",
      "{\"id\": \"sensor-A\", \"timestamp\": 1731380128, \"value\": 22}\n",
      "{\"id\": \"sensor-A\", \"timestamp\": 1731380132, \"value\": 21}\n",
      "{\"id\": \"sensor-A\", \"timestamp\": 1731380135, \"value\": 15}\n",
      "{\"id\": \"sensor-A\", \"timestamp\": 1731380139, \"value\": 40}\n",
      "{\"id\": \"sensor-A\", \"timestamp\": 1731380142, \"value\": 18}\n",
      "{\"id\": \"sensor-A\", \"timestamp\": 1731380145, \"value\": 18}\n",
      "{\"id\": \"sensor-A\", \"timestamp\": 1731380148, \"value\": 19}\n",
      "{\"id\": \"sensor-A\", \"timestamp\": 1731380151, \"value\": 17}\n",
      "{\"id\": \"sensor-A\", \"timestamp\": 1731380153, \"value\": 39}\n",
      "{\"id\": \"sensor-A\", \"timestamp\": 1731380155, \"value\": 26}\n",
      "{\"id\": \"sensor-A\", \"timestamp\": 1731380158, \"value\": 24}\n",
      "{\"id\": \"sensor-A\", \"timestamp\": 1731380162, \"value\": 13}\n",
      "{\"id\": \"sensor-A\", \"timestamp\": 1731380165, \"value\": 22}\n",
      "{\"id\": \"sensor-A\", \"timestamp\": 1731380168, \"value\": 20}\n",
      "{\"id\": \"sensor-A\", \"timestamp\": 1731380171, \"value\": 36}\n",
      "{\"id\": \"sensor-A\", \"timestamp\": 1731380175, \"value\": 13}\n",
      "{\"id\": \"sensor-A\", \"timestamp\": 1731380178, \"value\": 16}\n",
      "{\"id\": \"sensor-A\", \"timestamp\": 1731380181, \"value\": 27}\n",
      "{\"id\": \"sensor-A\", \"timestamp\": 1731380184, \"value\": 17}\n",
      "{\"id\": \"sensor-A\", \"timestamp\": 1731380188, \"value\": 20}\n",
      "{\"id\": \"sensor-A\", \"timestamp\": 1731380191, \"value\": 21}\n",
      "{\"id\": \"sensor-A\", \"timestamp\": 1731380194, \"value\": 12}\n",
      "{\"id\": \"sensor-A\", \"timestamp\": 1731380197, \"value\": 28}\n",
      "{\"id\": \"sensor-A\", \"timestamp\": 1731380200, \"value\": 14}\n",
      "{\"id\": \"sensor-A\", \"timestamp\": 1731380203, \"value\": 22}\n",
      "{\"id\": \"sensor-A\", \"timestamp\": 1731380207, \"value\": 34}\n",
      "{\"id\": \"sensor-A\", \"timestamp\": 1731380209, \"value\": 37}\n",
      "{\"id\": \"sensor-A\", \"timestamp\": 1731380211, \"value\": 12}\n",
      "{\"id\": \"sensor-A\", \"timestamp\": 1731380215, \"value\": 23}\n",
      "{\"id\": \"sensor-A\", \"timestamp\": 1731380219, \"value\": 23}\n",
      "{\"id\": \"sensor-A\", \"timestamp\": 1731380222, \"value\": 17}\n",
      "{\"id\": \"sensor-A\", \"timestamp\": 1731380225, \"value\": 32}\n",
      "{\"id\": \"sensor-A\", \"timestamp\": 1731380227, \"value\": 13}\n"
     ]
    }
   ],
   "source": [
    "while(True):\n",
    "    ts = round(time.time())\n",
    "    value = round(random.uniform(10, 40))\n",
    "    data = {\n",
    "        'id': sensor_id,\n",
    "        'timestamp': ts,\n",
    "        'value': value\n",
    "    }\n",
    "    s = json.dumps(data)\n",
    "    print(s)\n",
    "    producer.send(topic, s.encode('utf-8'))\n",
    "    time_to_sleep = round(random.uniform(2,4))\n",
    "    time.sleep(time_to_sleep)"
   ]
  },
  {
   "cell_type": "code",
   "execution_count": null,
   "metadata": {},
   "outputs": [],
   "source": []
  }
 ],
 "metadata": {
  "kernelspec": {
   "display_name": "Python 3 (ipykernel)",
   "language": "python",
   "name": "python3"
  },
  "language_info": {
   "codemirror_mode": {
    "name": "ipython",
    "version": 3
   },
   "file_extension": ".py",
   "mimetype": "text/x-python",
   "name": "python",
   "nbconvert_exporter": "python",
   "pygments_lexer": "ipython3",
   "version": "3.11.5"
  },
  "toc": {
   "base_numbering": 1,
   "nav_menu": {},
   "number_sections": true,
   "sideBar": true,
   "skip_h1_title": false,
   "title_cell": "Table of Contents",
   "title_sidebar": "Contents",
   "toc_cell": false,
   "toc_position": {},
   "toc_section_display": true,
   "toc_window_display": false
  },
  "varInspector": {
   "cols": {
    "lenName": 16,
    "lenType": 16,
    "lenVar": 40
   },
   "kernels_config": {
    "python": {
     "delete_cmd_postfix": "",
     "delete_cmd_prefix": "del ",
     "library": "var_list.py",
     "varRefreshCmd": "print(var_dic_list())"
    },
    "r": {
     "delete_cmd_postfix": ") ",
     "delete_cmd_prefix": "rm(",
     "library": "var_list.r",
     "varRefreshCmd": "cat(var_dic_list()) "
    }
   },
   "types_to_exclude": [
    "module",
    "function",
    "builtin_function_or_method",
    "instance",
    "_Feature"
   ],
   "window_display": false
  }
 },
 "nbformat": 4,
 "nbformat_minor": 2
}
