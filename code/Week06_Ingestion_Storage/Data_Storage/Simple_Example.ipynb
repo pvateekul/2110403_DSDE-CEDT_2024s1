{
 "cells": [
  {
   "cell_type": "markdown",
   "id": "fb3021e8",
   "metadata": {},
   "source": [
    "# Simple Redis-Py Example\n",
    "This notebook contains simple redis python commands.  "
   ]
  },
  {
   "cell_type": "code",
   "execution_count": null,
   "id": "fd8b3220",
   "metadata": {},
   "outputs": [],
   "source": [
    "import redis"
   ]
  },
  {
   "cell_type": "markdown",
   "id": "cde3c78f",
   "metadata": {},
   "source": [
    "Connect to local server -- no hostname or ip is needed"
   ]
  },
  {
   "cell_type": "code",
   "execution_count": null,
   "id": "04c250e1",
   "metadata": {},
   "outputs": [],
   "source": [
    "rd = redis.Redis(charset=\"utf-8\", decode_responses=True)"
   ]
  },
  {
   "cell_type": "code",
   "execution_count": null,
   "id": "ae84b8b9",
   "metadata": {},
   "outputs": [],
   "source": [
    "rd.set('user:101:name', 'pinot')"
   ]
  },
  {
   "cell_type": "code",
   "execution_count": null,
   "id": "69ce7ef5",
   "metadata": {},
   "outputs": [],
   "source": [
    "rd.get('user:101:name')"
   ]
  },
  {
   "cell_type": "code",
   "execution_count": null,
   "id": "13879704",
   "metadata": {},
   "outputs": [],
   "source": [
    "rd.hset('post:1', 'user', 101)\n",
    "rd.hset('post:1', 'content', 'this is the first post')"
   ]
  },
  {
   "cell_type": "code",
   "execution_count": null,
   "id": "2bc97459",
   "metadata": {},
   "outputs": [],
   "source": [
    "rd.hgetall('post:1')"
   ]
  },
  {
   "cell_type": "code",
   "execution_count": null,
   "id": "a642d437",
   "metadata": {},
   "outputs": [],
   "source": [
    "rd.rpush('user:101:post', 1)\n",
    "rd.rpush('user:101:post', 8)"
   ]
  },
  {
   "cell_type": "code",
   "execution_count": null,
   "id": "73cc26fd",
   "metadata": {},
   "outputs": [],
   "source": [
    "rd.llen('user:101:post')"
   ]
  },
  {
   "cell_type": "code",
   "execution_count": null,
   "id": "b9b71e71",
   "metadata": {},
   "outputs": [],
   "source": [
    "rd.lrange('user:101:post', 0, -1)"
   ]
  },
  {
   "cell_type": "code",
   "execution_count": null,
   "id": "ca8c3bda",
   "metadata": {},
   "outputs": [],
   "source": [
    "rd.sadd('user:101:follows', 104)\n",
    "rd.sadd('user:101:follows', 105)"
   ]
  },
  {
   "cell_type": "code",
   "execution_count": null,
   "id": "d87f8b47",
   "metadata": {},
   "outputs": [],
   "source": [
    "rd.scard('user:101:follows')"
   ]
  },
  {
   "cell_type": "code",
   "execution_count": null,
   "id": "ea5c0091",
   "metadata": {},
   "outputs": [],
   "source": [
    "rd.smembers('user:101:follows')"
   ]
  },
  {
   "cell_type": "code",
   "execution_count": null,
   "id": "7772d270",
   "metadata": {},
   "outputs": [],
   "source": [
    "cursor = 0\n",
    "cursor, keys = rd.scan(cursor=cursor, match='user:*')\n",
    "while cursor > 0:\n",
    "    for key in keys:\n",
    "        print('found: ', key)\n",
    "    cursor, keys = rd.scan(cursor=cursor, match='user:*')  \n",
    "\n",
    "for key in keys:\n",
    "    print('found: ', key)"
   ]
  },
  {
   "cell_type": "code",
   "execution_count": null,
   "id": "86fc30a0",
   "metadata": {},
   "outputs": [],
   "source": []
  }
 ],
 "metadata": {
  "kernelspec": {
   "display_name": "Python 3 (ipykernel)",
   "language": "python",
   "name": "python3"
  },
  "language_info": {
   "codemirror_mode": {
    "name": "ipython",
    "version": 3
   },
   "file_extension": ".py",
   "mimetype": "text/x-python",
   "name": "python",
   "nbconvert_exporter": "python",
   "pygments_lexer": "ipython3",
   "version": "3.11.5"
  }
 },
 "nbformat": 4,
 "nbformat_minor": 5
}
