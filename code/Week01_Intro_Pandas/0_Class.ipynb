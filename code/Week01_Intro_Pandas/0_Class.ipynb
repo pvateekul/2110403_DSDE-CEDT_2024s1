{
  "nbformat": 4,
  "nbformat_minor": 0,
  "metadata": {
    "colab": {
      "name": "Lecture12_Class.ipynb",
      "provenance": [],
      "collapsed_sections": [],
      "toc_visible": true
    },
    "kernelspec": {
      "name": "python3",
      "display_name": "Python 3"
    },
    "language_info": {
      "name": "python"
    }
  },
  "cells": [
    {
      "cell_type": "markdown",
      "metadata": {
        "id": "I8MtSbfMVTl9"
      },
      "source": [
        "# **Lecture12: Class & Objects in Python**\n",
        "\n",
        "![animation](https://c.tenor.com/bQCHJwgCNuMAAAAC/kitten-cat.gif)"
      ]
    },
    {
      "cell_type": "markdown",
      "metadata": {
        "id": "4D6JREwLVr-u"
      },
      "source": [
        "# Part1: Introduction"
      ]
    },
    {
      "cell_type": "markdown",
      "metadata": {
        "id": "H6MdTk3n8WfL"
      },
      "source": [
        "Each book contains name (title), ISBN, and price.<br>\n",
        "If we have many books, what should we do?"
      ]
    },
    {
      "cell_type": "code",
      "metadata": {
        "id": "Ukexw9XiVPaT"
      },
      "source": [
        "name1 = \"Data Science\"\n",
        "ISBN1 = \"149190142X\"\n",
        "price1 = 28.79\n",
        "\n",
        "name2 = \"Learning Python\"\n",
        "ISBN2 = \"1449355730\"\n",
        "price2 = 37.06\n",
        "\n",
        "name3 = \"Data Analysis\"\n",
        "ISBN3 = \"1449319793\"\n",
        "price3 = 27.68"
      ],
      "execution_count": null,
      "outputs": []
    },
    {
      "cell_type": "code",
      "metadata": {
        "id": "3MV5IUjDWbN1"
      },
      "source": [
        "#------------------------------------\n",
        "# Solution1: tuple\n",
        "#------------------------------------\n",
        "\n",
        "# ----- functions -----\n",
        "def total_price( books ):\n",
        "   s = 0\n",
        "   for b in books:\n",
        "       s += b[2]\n",
        "   return s\n",
        "\n",
        "# ----- main -----\n",
        "b1 = (\"Data Science\",    \"149190142X\", 28.79)\n",
        "b2 = (\"Learning Python\", \"1449355730\", 37.06)\n",
        "b3 = (\"Data Analysis\",   \"1449319793\", 27.68)\n",
        "books =  [b1, b2, b3]\n",
        "print(total_price( books ))"
      ],
      "execution_count": null,
      "outputs": []
    },
    {
      "cell_type": "code",
      "metadata": {
        "id": "0f18K4VfXZM-"
      },
      "source": [
        "#------------------------------------\n",
        "# Solution2: dict\n",
        "#------------------------------------\n",
        "\n",
        "# ----- functions -----\n",
        "def total_price( books ):\n",
        "   s = 0\n",
        "   for b in books:\n",
        "       s += b[\"price\"]\n",
        "   return s\n",
        "\n",
        "# ----- main -----\n",
        "b1 = {\"title\":\"Data Science\", \"isbn\":\"1408142X\", \"price\": 28.79} \n",
        "b2 = {\"title\":\"Easy Python\",  \"isbn\":\"14455730\", \"price\": 37.06}\n",
        "b3 = {\"title\":\"Big Data\",     \"isbn\":\"14493793\", \"price\": 27.68}\n",
        "books = [b1, b2, b3]\n",
        "print(total_price( books ))"
      ],
      "execution_count": null,
      "outputs": []
    },
    {
      "cell_type": "markdown",
      "metadata": {
        "id": "z9azKH3gS5x_"
      },
      "source": [
        "A **class** is a code template for creating objects. You can also think of class as user-defined data type. \n",
        "\n",
        "**Objects** are variables created from class (template)."
      ]
    },
    {
      "cell_type": "code",
      "metadata": {
        "id": "BXKnpoNAW7vt"
      },
      "source": [
        "#------------------------------------\n",
        "# Solution3: Class\n",
        "# https://pythontutor.com/ \n",
        "#------------------------------------\n",
        "\n",
        "# ----- class -----\n",
        "class Book:\n",
        "   # this is also called \"constructor\" - how to create object!\n",
        "   def __init__(self, title, isbn, price):\n",
        "      self.title = title\n",
        "      self.isbn  = isbn\n",
        "      self.price = price\n",
        "\n",
        "# ----- main -----\n",
        "# create 3 books (objects) with one class (Book)\n",
        "b1 = Book(\"Data Science\",   \"149190142X\", 28.79)\n",
        "b2 = Book(\"Learning Python\",\"1449355730\", 37.06)\n",
        "b3 = Book(\"Data Analysis\",  \"1449319793\", 27.68)\n",
        "\n",
        "print(b1.title, b1.isbn, b1.price)"
      ],
      "execution_count": null,
      "outputs": []
    },
    {
      "cell_type": "markdown",
      "metadata": {
        "id": "_ZFuWU1L-kvt"
      },
      "source": [
        "##Exercise1: Student class (v1)\n",
        "\n",
        "Create Student class, where each student contains ID and name. Also, create two students (objects)."
      ]
    },
    {
      "cell_type": "code",
      "metadata": {
        "id": "fOyPOA9r-zK3"
      },
      "source": [
        "# ----- class -----\n",
        "class Student:\n",
        "   pass\n",
        "\n",
        "# ----- main -----\n"
      ],
      "execution_count": null,
      "outputs": []
    },
    {
      "cell_type": "code",
      "metadata": {
        "id": "GrXde59G_OxE"
      },
      "source": [
        "#@title solution\n",
        "# ----- class -----\n",
        "# https://pythontutor.com/\n",
        "class Student:\n",
        "   def __init__(self, ID, name):\n",
        "     self.ID = ID\n",
        "     self.name = name\n",
        "\n",
        "# ----- main -----\n",
        "s1 = Student(\"6438027021\", \"Mark Zuckerberg\")\n",
        "s2 = Student(\"6438073821\", \"Lisa Blackpink\")"
      ],
      "execution_count": null,
      "outputs": []
    },
    {
      "cell_type": "markdown",
      "metadata": {
        "id": "4YQe3CDgjN4b"
      },
      "source": [
        "#Part2: Sample Basic Classes\n",
        "\n",
        "There are 6 sample classes.<br>"
      ]
    },
    {
      "cell_type": "code",
      "metadata": {
        "id": "mroi5hb7jDu2"
      },
      "source": [
        "# Sample1\n",
        "class Point:\n",
        "    def __init__(self, x, y):\n",
        "        self.x = x\n",
        "        self.y = y \n",
        "\n",
        "p = Point(10, 23)"
      ],
      "execution_count": null,
      "outputs": []
    },
    {
      "cell_type": "code",
      "metadata": {
        "id": "8v4nR1LhjWhL"
      },
      "source": [
        "# Sample2\n",
        "class Date:\n",
        "    def __init__(self, d, m, y):\n",
        "        self.day = d\n",
        "        self.month = m\n",
        "        self.year = y\n",
        "\n",
        "d = Date(14, 2, 2021)"
      ],
      "execution_count": null,
      "outputs": []
    },
    {
      "cell_type": "code",
      "metadata": {
        "id": "bBOWwe3zjZap"
      },
      "source": [
        "# Sample3\n",
        "class Song:\n",
        "    # There are 4 properties, but user just needs to define only 3 inputs.\n",
        "    def __init__(self, title, artist, lyrics):\n",
        "        self.title  = title\n",
        "        self.artist = artist\n",
        "        self.lyrics = lyrics\n",
        "        self.nviews = 0\n",
        "\n",
        "x = Song(\"Hello\", \"Adele\", \"\")"
      ],
      "execution_count": null,
      "outputs": []
    },
    {
      "cell_type": "code",
      "metadata": {
        "id": "QQLpBDrLjoho"
      },
      "source": [
        "# Sample4\n",
        "class BankAccount:\n",
        "    def __init__(self, acc_no, acc_name, balance):\n",
        "        self.acc_no   = acc_no\n",
        "        self.acc_name = acc_name\n",
        "        self.balance  = balance\n",
        "\n",
        "b = BankAccount(\"101\", \"Peerapon\", 1000)"
      ],
      "execution_count": null,
      "outputs": []
    },
    {
      "cell_type": "code",
      "metadata": {
        "id": "voWQ_SpEjzEJ"
      },
      "source": [
        "# Sample5\n",
        "class Rectangle:\n",
        "    def __init__(self, lower_left, w, h):\n",
        "        self.lower_left = lower_left # class Point\n",
        "        self.height = h\n",
        "        self.width  = w\n",
        "\n",
        "r = Rectangle(Point(1,2), 4, 5)"
      ],
      "execution_count": null,
      "outputs": []
    },
    {
      "cell_type": "code",
      "metadata": {
        "id": "Gf9lbaaFj8Iw"
      },
      "source": [
        "# Sample6\n",
        "class Course:\n",
        "    # There are 3 properties, but user just needs to define only 2 inputs.\n",
        "    def __init__(self, ID, name):\n",
        "        self.ID = ID\n",
        "        self.name = name\n",
        "        self.students = [] # empty list\n",
        "\n",
        "c1 = Course(\"2190101\", \"Computer Programming\")"
      ],
      "execution_count": null,
      "outputs": []
    },
    {
      "cell_type": "markdown",
      "metadata": {
        "id": "l3f0AgVGFfdS"
      },
      "source": [
        "<font color=red>Unlike Java, Python doesn't support overloading methods, two methods the same names.</font>"
      ]
    },
    {
      "cell_type": "code",
      "metadata": {
        "id": "LW5JvENYFeq1"
      },
      "source": [
        "# After uncomment, can we run this code?\n",
        "class Point3D:\n",
        "    def __init__(self, x, y):\n",
        "        self.x = x\n",
        "        self.y = y \n",
        "        self.z = 0\n",
        "    \n",
        "    # def __init__(self, x, y, z):\n",
        "    #     self.x = x\n",
        "    #     self.y = y \n",
        "    #     self.z = z\n",
        "\n",
        "p = Point3D(10, 23)"
      ],
      "execution_count": null,
      "outputs": []
    },
    {
      "cell_type": "markdown",
      "metadata": {
        "id": "tNoKORilDa7M"
      },
      "source": [
        "##Exercise2: Student class (v2)\n",
        "\n",
        "Update Student class in Exercise1 to 3 properties including ID, name, score. Create a constructor with two user-defined inputs: ID & name, where score is initiazed with 0."
      ]
    },
    {
      "cell_type": "code",
      "metadata": {
        "id": "BxGP9O2eEB6N"
      },
      "source": [
        "# ----- class -----\n",
        "class Student:\n",
        "   pass\n",
        "\n",
        "# ----- main -----\n"
      ],
      "execution_count": null,
      "outputs": []
    },
    {
      "cell_type": "code",
      "metadata": {
        "cellView": "form",
        "id": "CVJTCw3rEDfG"
      },
      "source": [
        "#@title solution\n",
        "# ----- class -----\n",
        "# https://pythontutor.com/\n",
        "class Student:\n",
        "   def __init__(self, ID, name):\n",
        "     self.ID = ID\n",
        "     self.name = name\n",
        "     self.score = 0\n",
        "\n",
        "# ----- main -----\n",
        "s1 = Student(\"6438027021\", \"Mark Zuckerberg\")\n",
        "s2 = Student(\"6438073821\", \"Lisa Blackpink\")"
      ],
      "execution_count": null,
      "outputs": []
    },
    {
      "cell_type": "markdown",
      "metadata": {
        "id": "dOeqC10Skl3h"
      },
      "source": [
        "#Part3: How to use object (access & update)\n",
        "\n",
        "<font color=red>object</font><font color=blue>.property</font>\n",
        "\n",
        "<font color=red>c</font><font color=blue>.radius</font><br>\n",
        "<font color=red>c</font><font color=blue>.center</font>"
      ]
    },
    {
      "cell_type": "code",
      "metadata": {
        "id": "ORrdP63DkfZE"
      },
      "source": [
        "# Sample1: Point & Circle\n",
        "# ----- class -----\n",
        "class Point:\n",
        "    def __init__(self, x, y):\n",
        "        self.x = x\n",
        "        self.y = y\n",
        "\n",
        "class Circle:\n",
        "    def __init__(self, p, r):\n",
        "        self.center = p # Point\n",
        "        self.radius = r\n",
        "\n",
        "# ----- main -----\n",
        "c = Circle( Point(2,30), 100 )\n",
        "\n",
        "c.radius = 200\n",
        "c.center = Point(2, 4)\n",
        "c.center.x = 3\u000b"
      ],
      "execution_count": null,
      "outputs": []
    },
    {
      "cell_type": "code",
      "metadata": {
        "id": "X0JJvlkIlSfV"
      },
      "source": [
        "# Sample2: Book\n",
        "# ----- class -----\n",
        "class Book:\n",
        "  def __init__(self, title, isbn, price):\n",
        "    self.title = title\n",
        "    self.isbn  = isbn\n",
        "    self.price = price \n",
        "\n",
        "# ----- main -----\n",
        "b1 = Book(\"Data Science\", \"149190142X\", 28.79)\n",
        "\n",
        "print( b1.title )\u000b\n",
        "print( b1.price )\n",
        "b1.price *= 0.80\u000b\n",
        "print( b1.price )"
      ],
      "execution_count": null,
      "outputs": []
    },
    {
      "cell_type": "code",
      "metadata": {
        "id": "F7Y7it4vmPju"
      },
      "source": [
        "# Sample2-1: add functions for Book\n",
        "# ----- functions -----\n",
        "def total_price( books ):\n",
        "   s = 0\n",
        "   for book in books:\n",
        "       s += book.price\n",
        "   return s\n",
        "\n",
        "# ----- main -----\n",
        "b1 = Book(\"Data Science\",    \"149190142X\", 28.79)\n",
        "b2 = Book(\"Learning Python\", \"1449355730\", 37.06)\n",
        "b3 = Book(\"Data Analysis\",   \"1449319793\", 27.68)\n",
        "\n",
        "print( total_price( [b1, b2, b3] ) )"
      ],
      "execution_count": null,
      "outputs": []
    },
    {
      "cell_type": "code",
      "metadata": {
        "id": "gDk3_M8-wb_P"
      },
      "source": [
        "# Sample2-2: add functions for Book\n",
        "# ----- functions -----\n",
        "# no return value\n",
        "def discount( books, p ):\n",
        "  for b in books:\n",
        "     b.price *= (1 - p/100)\n",
        "\n",
        "# return a signle value (price)\n",
        "def get_min_price( books ):\n",
        "  return min([b.price for b in books])\n",
        "\n",
        "# return object\n",
        "def search( books, isbn ):\n",
        "  for b in books:\n",
        "    if isbn == b.isbn: \n",
        "      return b\n",
        "  return None"
      ],
      "execution_count": null,
      "outputs": []
    },
    {
      "cell_type": "markdown",
      "metadata": {
        "id": "Sy7JJ7qUHt5w"
      },
      "source": [
        "##Exercise3: Student class (v3): calling properties\n",
        "\n",
        "Create a function add_extra_score(student, extra) to Student. Call the function to add 20 points to s1."
      ]
    },
    {
      "cell_type": "code",
      "metadata": {
        "id": "QyUFGkVSICQR"
      },
      "source": [
        "# ----- 1) class -----\n",
        "class Student:\n",
        "  pass\n",
        "\n",
        "# ----- 2) function -----\n",
        "def add_extra_score(s, extra):\n",
        "  pass\n",
        "\n",
        "# ----- 3) main -----\n",
        "# s1 = Student(\"6438027021\", \"Mark Zuckerberg\")\n",
        "# add your code to add extra 20 points"
      ],
      "execution_count": null,
      "outputs": []
    },
    {
      "cell_type": "code",
      "metadata": {
        "cellView": "form",
        "id": "adXZEtgHINue"
      },
      "source": [
        "#@title solution\n",
        "# ----- 1) class -----\n",
        "# https://pythontutor.com/\n",
        "class Student:\n",
        "   def __init__(self, ID, name):\n",
        "     self.ID = ID\n",
        "     self.name = name\n",
        "     self.score = 0\n",
        "\n",
        "# ----- 2) function -----\n",
        "def add_extra_score(s, extra):\n",
        "  s.score += extra\n",
        "\n",
        "# ----- 3) main -----\n",
        "s1 = Student(\"6438027021\", \"Mark Zuckerberg\")\n",
        "s2 = Student(\"6438073821\", \"Lisa Blackpink\")\n",
        "\n",
        "print(s1.score)\n",
        "add_extra_score(s1, 20)\n",
        "print(s1.score)"
      ],
      "execution_count": null,
      "outputs": []
    },
    {
      "cell_type": "markdown",
      "metadata": {
        "id": "---N4raYw9a3"
      },
      "source": [
        "#Part4: Functions vs. Methods"
      ]
    },
    {
      "cell_type": "code",
      "metadata": {
        "id": "E0j1FvlPwmnQ"
      },
      "source": [
        "#------------------------------------\n",
        "# Part4-1) Class with no methods\n",
        "# Methods outside class (not recommend)\n",
        "#------------------------------------\n",
        "# ----- 1) class -----\n",
        "class Point:\n",
        "  def __init__(self, x, y):\n",
        "    self.x = x\n",
        "    self.y = y\n",
        "\n",
        "# ----- 2) functions -----\n",
        "def distance(p1, p2):\n",
        "   dx = p1.x - p2.x\n",
        "   dy = p1.y - p2.y\n",
        "   return (dx**2+dy**2)**0.5\n",
        "\n",
        "def to_str(p):\n",
        "   return \"(\" + str(p.x) + \\\n",
        "          \",\" + str(p.y) + \")\"\n",
        "\n",
        "# ----- 3) main -----\n",
        "p1 = Point(2,4)\n",
        "p2 = Point(3,5)\n",
        "d  = distance(p1, p2)\n",
        "print( to_str(p1), to_str(p2) )"
      ],
      "execution_count": null,
      "outputs": []
    },
    {
      "cell_type": "markdown",
      "metadata": {
        "id": "CP1S4YNLJTNm"
      },
      "source": [
        "**Class contains two components:**\n",
        "\n",
        "\n",
        "*   Properties (also called fields) - variables\n",
        "*   Methods (also called actions) - functions\n",
        "\n"
      ]
    },
    {
      "cell_type": "code",
      "metadata": {
        "id": "0eE7eJNexLTl"
      },
      "source": [
        "#------------------------------------\n",
        "# Part4-2) Class with methods\n",
        "# Methods inside class (recommend)\n",
        "#------------------------------------\n",
        "# https://pythontutor.com/\n",
        "\n",
        "# ----- 1) class -----\n",
        "class Point:\n",
        "  def __init__(self, x, y):\n",
        "    self.x = x\n",
        "    self.y = y\n",
        "\n",
        "  def distance(self, p):\n",
        "     dx = self.x - p.x\n",
        "     dy = self.y - p.y\n",
        "     return (dx**2+dy**2)**0.5\n",
        "\n",
        "  def to_str(self):\n",
        "   return \"(\" + str(self.x) + \\\n",
        "          \",\" + str(self.y) + \")\"\n",
        "\n",
        "# ----- 2) main -----\n",
        "p1 = Point(2,4)\n",
        "p2 = Point(3,5)\n",
        "\n",
        "d  = p1.distance(p2) # call method\n",
        "print( p1.to_str(), p2.to_str() ) # call method"
      ],
      "execution_count": null,
      "outputs": []
    },
    {
      "cell_type": "code",
      "metadata": {
        "id": "68-F_DxkxYuM"
      },
      "source": [
        "#------------------------------------\n",
        "# Part4-3) existing python class & methods\n",
        "# Functions vs. Class Methods\n",
        "#------------------------------------\n",
        "\n",
        "# ----- Part1) just call functions -----\n",
        "a = [1,2,3,4]\n",
        "k = len(a)\n",
        "print(a)\n",
        "s = sum(a)\n",
        "b = sorted(a)\n",
        "\n",
        "# just call functions in other modules\n",
        "import math\n",
        "import numpy as np\n",
        "\n",
        "k = math.sin(1)\n",
        "d = np.ndarray((2,3))\n",
        "\n",
        "# ----- Part2) call method from objects -----\n",
        "# Actually, we have been using class/objects :)\n",
        "\n",
        "# list is class.\n",
        "a = [1,2,3,4]\n",
        "a.sort()\n",
        "a.append(99)\n",
        "\n",
        "# string is class.\n",
        "t = \"aBc\"\n",
        "u = t.upper()\n",
        "v = t.lower()\n",
        "k = t.find(\"B\")\n",
        "\n",
        "# set is class.\n",
        "s = set(a)\n",
        "s = s.union([3,5])"
      ],
      "execution_count": null,
      "outputs": []
    },
    {
      "cell_type": "code",
      "metadata": {
        "id": "eVDFuTVdzuLT"
      },
      "source": [
        "#------------------------------------\n",
        "# Part4-4) BankAccount class (v1)\n",
        "# - There are 3 properties, 1 constructor, 2 methods\n",
        "#------------------------------------\n",
        "\n",
        "# ----- 1) class -----\n",
        "class BankAccount:\n",
        "    def __init__ (self, acc_no, acc_name, balance):\n",
        "        self.acc_no   = acc_no\n",
        "        self.acc_name = acc_name\n",
        "        self.balance  = balance\n",
        "\n",
        "    def deposit(self, amount):\n",
        "        if amount > 0:\n",
        "          self.balance += amount\n",
        "\n",
        "    def withdraw(self, amount):\n",
        "        if 0 < amount <= self.balance:\n",
        "          self.balance -= amount\n",
        "\n",
        "# ----- 2) main -----\n",
        "a1 = BankAccount(\"1-034-567-892\", \"Mark Zuckerberg\", 500)\n",
        "a1.deposit(1000)\n",
        "a1.withdraw(150)\n",
        "print(a1.acc_no, a1.balance)"
      ],
      "execution_count": null,
      "outputs": []
    },
    {
      "cell_type": "code",
      "metadata": {
        "id": "zhICiwt70CBg"
      },
      "source": [
        "#------------------------------------\n",
        "# Part4-4) BankAccount class (v2): call other methods\n",
        "# - There are 3 properties, 1 constructor, 3 methods\n",
        "# - adding transfer_to()\n",
        "#------------------------------------\n",
        "\n",
        "# ----- 1) class -----\n",
        "class BankAccount:\n",
        "    def __init__ (self, acc_no, acc_name, balance):\n",
        "        self.acc_no   = acc_no\n",
        "        self.acc_name = acc_name\n",
        "        self.balance  = balance\n",
        "\n",
        "    def deposit(self, amount):\n",
        "        if amount > 0:\n",
        "          self.balance += amount\n",
        "\n",
        "    def withdraw(self, amount):\n",
        "        if 0 < amount <= self.balance:\n",
        "          self.balance -= amount\n",
        "\n",
        "    def transfer_to(self, acc, amount):\n",
        "        if 0 <= amount <= self.balance:\n",
        "            self.withdraw( amount )\n",
        "            acc.deposit( amount )\n",
        "\n",
        "# ----- 2) main -----\n",
        "a1 = BankAccount(\"1-034-567-892\", \"Mark Zuckerberg\", 1000)\n",
        "a2 = BankAccount(\"1-034-567-900\", \"Lisa Blackpink\", 500)\n",
        "print(a1.balance, a2.balance)\n",
        "a1.transfer_to(a2, 200)\n",
        "print(a1.balance, a2.balance)"
      ],
      "execution_count": null,
      "outputs": []
    },
    {
      "cell_type": "code",
      "metadata": {
        "id": "fImQOTFU0WTC"
      },
      "source": [
        "#------------------------------------\n",
        "# Part4-6) Rational class (class method vs object method)\n",
        "# - gcd is called a private method. \n",
        "# - It can only be used within the class.\n",
        "#------------------------------------\n",
        "\n",
        "# ----- 1) class -----\n",
        "class Rational:\n",
        "    def __init__(self, n, d):\n",
        "      g = Rational.gcd(n, d)\n",
        "      self.n = n // g    # numerator   \n",
        "      self.d = d // g   # denominator \n",
        "\n",
        "    def gcd(a, b):\n",
        "      # stop when a can be divided by b\n",
        "      while b != 0: \n",
        "        a, b = b, a%b\n",
        "      return a\n",
        "\n",
        "# ----- 2) main -----\n",
        "r1 = Rational( 1, 2 )  # store 1/2\n",
        "r2 = Rational( 4, 8 )  # store 1/2\n",
        "\n",
        "print(r1.n, r1.d)\n",
        "print(r2.n, r2.d)\n",
        "\n",
        "print( Rational.gcd(6,9) )"
      ],
      "execution_count": null,
      "outputs": []
    },
    {
      "cell_type": "markdown",
      "metadata": {
        "id": "cAT3K3XPMeP0"
      },
      "source": [
        "##Exercise4: Student class (v4): adding method\n",
        "\n",
        "Update Student class in Exercise3 to have the method add_extra_score(student, extra) inside the class."
      ]
    },
    {
      "cell_type": "code",
      "metadata": {
        "id": "4ESq7YXCM3cc"
      },
      "source": [
        "# ----- 1) class -----\n",
        "class Student:\n",
        "  pass\n",
        "\n",
        "# ----- 2) main -----\n",
        "# s1 = Student(\"6438027021\", \"Mark Zuckerberg\")\n",
        "# add your code to add extra 20 points"
      ],
      "execution_count": null,
      "outputs": []
    },
    {
      "cell_type": "code",
      "metadata": {
        "cellView": "form",
        "id": "PUrX0X67NHW4"
      },
      "source": [
        "#@title solution\n",
        "# ----- 1) class -----\n",
        "# https://pythontutor.com/\n",
        "class Student:\n",
        "  def __init__(self, ID, name):\n",
        "     self.ID = ID\n",
        "     self.name = name\n",
        "     self.score = 0\n",
        "\n",
        "  def add_extra_score(self, extra):\n",
        "     self.score += extra\n",
        "\n",
        "# ----- 2) main -----\n",
        "s1 = Student(\"6438027021\", \"Mark Zuckerberg\")\n",
        "s2 = Student(\"6438073821\", \"Lisa Blackpink\")\n",
        "\n",
        "print(s1.score)\n",
        "s1.add_extra_score(20)\n",
        "print(s1.score)"
      ],
      "execution_count": null,
      "outputs": []
    },
    {
      "cell_type": "markdown",
      "metadata": {
        "id": "IyyLevxv3eU-"
      },
      "source": [
        "#Part5: Magic Methods"
      ]
    },
    {
      "cell_type": "markdown",
      "metadata": {
        "id": "CLRu9LkWNpI9"
      },
      "source": [
        "## What are magic methods in Python?\n",
        "\n",
        "**Magic methods** in Python are the special methods that start and end with *the double underscores*."
      ]
    },
    {
      "cell_type": "code",
      "metadata": {
        "id": "V7cdoYEO147q"
      },
      "source": [
        "#------------------------------------\n",
        "# Rational class (v2) -- not preferred\n",
        "#------------------------------------\n",
        "\n",
        "# ----- 1) class -----\n",
        "class Rational:\n",
        "  def __init__(self, n, d):\n",
        "    g = Rational.gcd(n, d)\n",
        "    self.n = n // g    # numerator   \n",
        "    self.d = d // g   # denominator \n",
        "\n",
        "  def gcd(a, b):\n",
        "    # stop when a can be divided by b\n",
        "    while b != 0: \n",
        "      a, b = b, a%b\n",
        "    return a\n",
        "\n",
        "  def mul(self, x):\n",
        "    n = self.n * x.n\n",
        "    d = self.d * x.d\n",
        "    return Rational(n, d)\n",
        "\n",
        "  def add(self, x):\n",
        "    d = self.d * x.d\n",
        "    n = self.n * x.d + x.n * self.d\n",
        "    return Rational(n, d)\n",
        "\n",
        "  def to_float(self):\n",
        "    return self.n / self.d\u000b  \n",
        "\n",
        "  def less_than(self, x):\n",
        "    return self.to_float() < x.to_float()\u000b  \n",
        "\n",
        "  def to_str(self):\n",
        "    return str(self.n) + \"/\" + str(self.d)\n",
        "    \u000b  \n",
        "# ----- 2) main -----\n",
        "r1 = Rational(20,40)\n",
        "r2 = Rational(1,4)\n",
        "\n",
        "print(r1)\n",
        "print(r1.to_str())\n",
        "print()\n",
        "\n",
        "r3 = r1.add(r2)\n",
        "print(r3.to_str())\n",
        "r4 = r1.mul(r2)\n",
        "print(r4.to_str())\n",
        "print(r3.less_than(r4))"
      ],
      "execution_count": null,
      "outputs": []
    },
    {
      "cell_type": "code",
      "metadata": {
        "id": "N-yeADSl4EZq"
      },
      "source": [
        "#------------------------------------\n",
        "# Rational class (v2) -- preferred\n",
        "#------------------------------------\n",
        "\n",
        "# ----- 1) class -----\n",
        "class Rational:\n",
        "  def __init__(self, n, d):\n",
        "    g = Rational.gcd(n, d)\n",
        "    self.n = n // g    # numerator   \n",
        "    self.d = d // g   # denominator \n",
        "\n",
        "  def gcd(a, b):\n",
        "    # stop when a can be divided by b\n",
        "    while b != 0: \n",
        "      a, b = b, a%b\n",
        "    return a\n",
        "\n",
        "  def __mul__(self, x):\n",
        "    n = self.n * x.n\n",
        "    d = self.d * x.d\n",
        "    return Rational(n, d)\n",
        "\n",
        "  def __add__(self, x):\n",
        "    d = self.d * x.d\n",
        "    n = self.n * x.d + x.n * self.d\n",
        "    return Rational(n, d)\n",
        "\n",
        "  def __float__(self):\n",
        "    return self.n / self.d\u000b  \n",
        "\n",
        "  def __lt__(self, x):\n",
        "    return float(self) < float(x) \n",
        "\n",
        "  def __str__(self):\n",
        "    return str(self.n) + \"/\" + str(self.d)\n",
        "    \u000b  \n",
        "# ----- 2) main -----\n",
        "r1 = Rational(20,40)\n",
        "r2 = Rational(1,4)\n",
        "\n",
        "print(r1)\n",
        "print(str(r1))\n",
        "print()\n",
        "\n",
        "r3 = r1 + r2\n",
        "print( str(r3), float(r3) )\n",
        "r4 = r1 * r2\n",
        "print( r3 < r4 )"
      ],
      "execution_count": null,
      "outputs": []
    },
    {
      "cell_type": "markdown",
      "metadata": {
        "id": "D0okG3wN5ugG"
      },
      "source": [
        "## Item, menu, orders"
      ]
    },
    {
      "cell_type": "code",
      "metadata": {
        "id": "1Nb0EJqy4WIV"
      },
      "source": [
        "# ----- 1) class -----\n",
        "class Item:\n",
        "    def __init__(self, name, price):\n",
        "        self.name = name\n",
        "        self.price = price\n",
        "\n",
        "# ----- 2) main -----\n",
        "menu = [ Item(\"Fried rice\",   45), \n",
        "         Item(\"Phat thai\",    50),\n",
        "         Item(\"Congee\",       30),\n",
        "         Item(\"Papaya salad\", 40) ]"
      ],
      "execution_count": null,
      "outputs": []
    },
    {
      "cell_type": "code",
      "metadata": {
        "id": "WwjyRdQq54HS"
      },
      "source": [
        "# ----- 1) class -----\n",
        "class Order:\n",
        "    def __init__(self):\n",
        "        self.order_items = []\n",
        "        self.paid = False\n",
        "\n",
        "    def add(self, item, n):\n",
        "        for i in range(n):\n",
        "            self.order_items.append(item)\n",
        "\n",
        "    def total(self):\n",
        "        s = 0\n",
        "        for item in self.order_items: \n",
        "            s += item.price\n",
        "        return s\n",
        "\n",
        "# ----- 2) main -----\n",
        "o1 = Order(); \n",
        "o1.add(menu[0], 2); \n",
        "o1.add(menu[3], 1)"
      ],
      "execution_count": null,
      "outputs": []
    },
    {
      "cell_type": "code",
      "metadata": {
        "id": "1gzkyypI6CCS"
      },
      "source": [
        "# ----- function -----\n",
        "def get_total(orders):\n",
        "  return sum( [od.total() for od in orders if od.paid] )\n",
        "\n",
        "# ----- overall main -----\n",
        "m = [ Item(\"Fried rice\", 45),\n",
        "      Item(\"Phat thai\", 50),\n",
        "      Item(\"Congee\", 30), \n",
        "      Item(\"Papaya salad\", 40) ]\n",
        "\n",
        "o1 = Order()\n",
        "o1.add(m[0],2); o1.add(m[3],1)\n",
        "o2 = Order(); \n",
        "o2.add(m[0],1); o2.add(m[1],2)\n",
        "o3 = Order(); \n",
        "o3.add(m[1],1); o3.add(m[2],1)\n",
        "orders = [o1, o2, o3]\n",
        "\n",
        "o1.paid = True\n",
        "o2.paid = True\n",
        "print(get_total(orders))"
      ],
      "execution_count": null,
      "outputs": []
    },
    {
      "cell_type": "code",
      "metadata": {
        "id": "1Aec9mVG6TeO"
      },
      "source": [
        "# ----- update Item class (v2) -----\n",
        "class Item:\n",
        "  def __init__(self, name, price):\n",
        "    self.name = name\n",
        "    self.price = price\n",
        "\n",
        "  def __lt__(self, rhs):\n",
        "     return self.price < rhs.price\n",
        "\n",
        "  def __str__(self):\n",
        "     return self.name + \":\" + str(self.price)\n",
        "\n",
        "# ----- main -----\n",
        "x1 = Item(\"Congee\", 30)\n",
        "x2 = Item(\"Phat thai\", 50)\n",
        "print(x1 < x2)          # True\n",
        "print(x2 < x1)          # False\n",
        "print(str(x1), str(x2)) # Congee:30, Phat thai:50\n",
        "print(x1, x2)           # print "
      ],
      "execution_count": null,
      "outputs": []
    },
    {
      "cell_type": "code",
      "metadata": {
        "id": "H8DLmOEn6v_2"
      },
      "source": [
        "menu = [ Item(\"Fried rice\",   45), \n",
        "         Item(\"Phat thai\",    50),\n",
        "         Item(\"Congee\",       30), \n",
        "         Item(\"Papaya salad\", 40) ]\n",
        "\n",
        "menu.sort()\n",
        "\n",
        "for item in menu:\n",
        "    print(item)"
      ],
      "execution_count": null,
      "outputs": []
    },
    {
      "cell_type": "markdown",
      "metadata": {
        "id": "SHcKqS4k66di"
      },
      "source": [
        "##Date"
      ]
    },
    {
      "cell_type": "code",
      "metadata": {
        "id": "4wj8f14N63uj"
      },
      "source": [
        "# ----- 1) class -----\n",
        "class Date:\n",
        "    def __init__(self, d, m, y):\n",
        "        self.d = d\n",
        "        self.m = m\n",
        "        self.y = y\n",
        "    def __lt__(self, rhs):\n",
        "        d1 = (self.y, self.m, self.d)\n",
        "        d2 = (rhs.y,  rhs.m,  rhs.d)\n",
        "        return d1 < d2\n",
        "    def __str__(self):\n",
        "        return str(self.d) + \"/\" + \\\n",
        "               str(self.m) + \"/\" + \\\n",
        "               str(self.y)\n",
        "\n",
        "# ----- 2) main -----\n",
        "d1 = Date(20, 1, 1990)\n",
        "d2 = Date(9, 12, 1990)\n",
        "print( d1 < d2 )\n",
        "print( d1, d2  )"
      ],
      "execution_count": null,
      "outputs": []
    },
    {
      "cell_type": "markdown",
      "metadata": {
        "id": "ENDwWvhJPFd9"
      },
      "source": [
        "![animation](https://c.tenor.com/rCfSLZ3YM_UAAAAC/cat-day-let-it-begin.gif)\n"
      ]
    },
    {
      "cell_type": "code",
      "metadata": {
        "id": "RD91r98K7IBC"
      },
      "source": [
        ""
      ],
      "execution_count": null,
      "outputs": []
    }
  ]
}