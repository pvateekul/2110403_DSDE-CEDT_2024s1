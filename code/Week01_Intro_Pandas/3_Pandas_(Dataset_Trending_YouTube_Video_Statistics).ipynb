{
  "cells": [
    {
      "cell_type": "markdown",
      "metadata": {
        "id": "VczEGASK0Q3v"
      },
      "source": [
        "# Introduction to Pandas\n",
        "<sup>Created by Natawut Nupairoj, Department of Computer Engineering, Chulalongkorn University</sup>\n",
        "\n",
        "Pandas is one of the most popular tools in Python for data analytics.  It contains data structures and data manipulation tools designed to make data cleaning and analysis fast and easy.\n",
        "\n",
        "In this tutorial, we will play with a dataset from kaggle to demonstrate Pandas' basic operations.  The dataset is [Trending YouTube Video Statistics](https://www.kaggle.com/datasnaek/youtube-new).  For simplicity, we will work with only US dataset ([USvideos.csv](https://www.kaggle.com/datasnaek/youtube-new?select=USvideos.csv) and [US_category_id.json](https://www.kaggle.com/datasnaek/youtube-new?select=US_category_id.json)).\n",
        "\n",
        "We start with importing pandas and give it a short name, \"pd\".  We also import numpy to help with pandas"
      ]
    },
    {
      "cell_type": "code",
      "execution_count": 13,
      "metadata": {
        "id": "KjCxfLMd0Q32"
      },
      "outputs": [],
      "source": [
        "import pandas as pd\n",
        "import numpy as np"
      ]
    },
    {
      "cell_type": "markdown",
      "metadata": {
        "id": "6H_08EiW0Q35"
      },
      "source": [
        "## Youtube Trending Data Exploration"
      ]
    },
    {
      "cell_type": "markdown",
      "metadata": {
        "id": "vIpI2nXL0Q36"
      },
      "source": [
        "### Downloading data files from shared drive (optional for Colab)\n",
        "\n",
        "To simplify data retrieval process on Colab, we heck if we are in the Colab environment and download data files from a shared drive and save them in folder \"data\".\n",
        "\n",
        "For those using jupyter notebook on the local computer, you can read data directly assuming you save data in the folder \"data\"."
      ]
    },
    {
      "cell_type": "code",
      "execution_count": 14,
      "metadata": {
        "colab": {
          "base_uri": "https://localhost:8080/"
        },
        "id": "nnmlEQyD0Q37",
        "outputId": "e275e811-421a-4e63-c229-beccb3faae63"
      },
      "outputs": [],
      "source": [
        "import sys\n",
        "IN_COLAB = 'google.colab' in sys.modules\n",
        "if IN_COLAB:\n",
        "    !wget https://github.com/kaopanboonyuen/2110446_DataScience_2021s2/raw/main/datasets/data.tgz -O data.tgz\n",
        "    !tar -xzvf data.tgz"
      ]
    },
    {
      "cell_type": "markdown",
      "metadata": {
        "id": "y7SLgRQ50Q38"
      },
      "source": [
        "### Read input from a data file into dataframe"
      ]
    },
    {
      "cell_type": "code",
      "execution_count": 15,
      "metadata": {
        "id": "1l2zGmtf0Q39"
      },
      "outputs": [],
      "source": [
        "vdo_df = pd.read_csv('data/USvideos.csv')"
      ]
    },
    {
      "cell_type": "code",
      "execution_count": 16,
      "metadata": {
        "colab": {
          "base_uri": "https://localhost:8080/"
        },
        "id": "sNjaKgZs0Q3-",
        "outputId": "fdc07b72-ac10-49ff-df60-dbd946bebc4d"
      },
      "outputs": [
        {
          "data": {
            "text/plain": [
              "pandas.core.frame.DataFrame"
            ]
          },
          "execution_count": 16,
          "metadata": {},
          "output_type": "execute_result"
        }
      ],
      "source": [
        "type(vdo_df)"
      ]
    },
    {
      "cell_type": "markdown",
      "metadata": {
        "id": "-ha4pkgC0Q3_"
      },
      "source": [
        "### Show some data rows"
      ]
    },
    {
      "cell_type": "code",
      "execution_count": 17,
      "metadata": {
        "colab": {
          "base_uri": "https://localhost:8080/",
          "height": 1000
        },
        "id": "w2SzhO8Z0Q4B",
        "outputId": "d201490e-88c1-4645-8a7a-d53f2bdb520a"
      },
      "outputs": [
        {
          "data": {
            "text/html": [
              "<div>\n",
              "<style scoped>\n",
              "    .dataframe tbody tr th:only-of-type {\n",
              "        vertical-align: middle;\n",
              "    }\n",
              "\n",
              "    .dataframe tbody tr th {\n",
              "        vertical-align: top;\n",
              "    }\n",
              "\n",
              "    .dataframe thead th {\n",
              "        text-align: right;\n",
              "    }\n",
              "</style>\n",
              "<table border=\"1\" class=\"dataframe\">\n",
              "  <thead>\n",
              "    <tr style=\"text-align: right;\">\n",
              "      <th></th>\n",
              "      <th>video_id</th>\n",
              "      <th>trending_date</th>\n",
              "      <th>title</th>\n",
              "      <th>channel_title</th>\n",
              "      <th>category_id</th>\n",
              "      <th>publish_time</th>\n",
              "      <th>tags</th>\n",
              "      <th>views</th>\n",
              "      <th>likes</th>\n",
              "      <th>dislikes</th>\n",
              "      <th>comment_count</th>\n",
              "      <th>thumbnail_link</th>\n",
              "      <th>comments_disabled</th>\n",
              "      <th>ratings_disabled</th>\n",
              "      <th>video_error_or_removed</th>\n",
              "      <th>description</th>\n",
              "    </tr>\n",
              "  </thead>\n",
              "  <tbody>\n",
              "    <tr>\n",
              "      <th>0</th>\n",
              "      <td>2kyS6SvSYSE</td>\n",
              "      <td>17.14.11</td>\n",
              "      <td>WE WANT TO TALK ABOUT OUR MARRIAGE</td>\n",
              "      <td>CaseyNeistat</td>\n",
              "      <td>22</td>\n",
              "      <td>2017-11-13T17:13:01.000Z</td>\n",
              "      <td>SHANtell martin</td>\n",
              "      <td>748374</td>\n",
              "      <td>57527</td>\n",
              "      <td>2966</td>\n",
              "      <td>15954</td>\n",
              "      <td>https://i.ytimg.com/vi/2kyS6SvSYSE/default.jpg</td>\n",
              "      <td>False</td>\n",
              "      <td>False</td>\n",
              "      <td>False</td>\n",
              "      <td>SHANTELL'S CHANNEL - https://www.youtube.com/s...</td>\n",
              "    </tr>\n",
              "    <tr>\n",
              "      <th>1</th>\n",
              "      <td>1ZAPwfrtAFY</td>\n",
              "      <td>17.14.11</td>\n",
              "      <td>The Trump Presidency: Last Week Tonight with J...</td>\n",
              "      <td>LastWeekTonight</td>\n",
              "      <td>24</td>\n",
              "      <td>2017-11-13T07:30:00.000Z</td>\n",
              "      <td>last week tonight trump presidency|\"last week ...</td>\n",
              "      <td>2418783</td>\n",
              "      <td>97185</td>\n",
              "      <td>6146</td>\n",
              "      <td>12703</td>\n",
              "      <td>https://i.ytimg.com/vi/1ZAPwfrtAFY/default.jpg</td>\n",
              "      <td>False</td>\n",
              "      <td>False</td>\n",
              "      <td>False</td>\n",
              "      <td>One year after the presidential election, John...</td>\n",
              "    </tr>\n",
              "    <tr>\n",
              "      <th>2</th>\n",
              "      <td>5qpjK5DgCt4</td>\n",
              "      <td>17.14.11</td>\n",
              "      <td>Racist Superman | Rudy Mancuso, King Bach &amp; Le...</td>\n",
              "      <td>Rudy Mancuso</td>\n",
              "      <td>23</td>\n",
              "      <td>2017-11-12T19:05:24.000Z</td>\n",
              "      <td>racist superman|\"rudy\"|\"mancuso\"|\"king\"|\"bach\"...</td>\n",
              "      <td>3191434</td>\n",
              "      <td>146033</td>\n",
              "      <td>5339</td>\n",
              "      <td>8181</td>\n",
              "      <td>https://i.ytimg.com/vi/5qpjK5DgCt4/default.jpg</td>\n",
              "      <td>False</td>\n",
              "      <td>False</td>\n",
              "      <td>False</td>\n",
              "      <td>WATCH MY PREVIOUS VIDEO ▶ \\n\\nSUBSCRIBE ► http...</td>\n",
              "    </tr>\n",
              "    <tr>\n",
              "      <th>3</th>\n",
              "      <td>puqaWrEC7tY</td>\n",
              "      <td>17.14.11</td>\n",
              "      <td>Nickelback Lyrics: Real or Fake?</td>\n",
              "      <td>Good Mythical Morning</td>\n",
              "      <td>24</td>\n",
              "      <td>2017-11-13T11:00:04.000Z</td>\n",
              "      <td>rhett and link|\"gmm\"|\"good mythical morning\"|\"...</td>\n",
              "      <td>343168</td>\n",
              "      <td>10172</td>\n",
              "      <td>666</td>\n",
              "      <td>2146</td>\n",
              "      <td>https://i.ytimg.com/vi/puqaWrEC7tY/default.jpg</td>\n",
              "      <td>False</td>\n",
              "      <td>False</td>\n",
              "      <td>False</td>\n",
              "      <td>Today we find out if Link is a Nickelback amat...</td>\n",
              "    </tr>\n",
              "    <tr>\n",
              "      <th>4</th>\n",
              "      <td>d380meD0W0M</td>\n",
              "      <td>17.14.11</td>\n",
              "      <td>I Dare You: GOING BALD!?</td>\n",
              "      <td>nigahiga</td>\n",
              "      <td>24</td>\n",
              "      <td>2017-11-12T18:01:41.000Z</td>\n",
              "      <td>ryan|\"higa\"|\"higatv\"|\"nigahiga\"|\"i dare you\"|\"...</td>\n",
              "      <td>2095731</td>\n",
              "      <td>132235</td>\n",
              "      <td>1989</td>\n",
              "      <td>17518</td>\n",
              "      <td>https://i.ytimg.com/vi/d380meD0W0M/default.jpg</td>\n",
              "      <td>False</td>\n",
              "      <td>False</td>\n",
              "      <td>False</td>\n",
              "      <td>I know it's been a while since we did this sho...</td>\n",
              "    </tr>\n",
              "    <tr>\n",
              "      <th>...</th>\n",
              "      <td>...</td>\n",
              "      <td>...</td>\n",
              "      <td>...</td>\n",
              "      <td>...</td>\n",
              "      <td>...</td>\n",
              "      <td>...</td>\n",
              "      <td>...</td>\n",
              "      <td>...</td>\n",
              "      <td>...</td>\n",
              "      <td>...</td>\n",
              "      <td>...</td>\n",
              "      <td>...</td>\n",
              "      <td>...</td>\n",
              "      <td>...</td>\n",
              "      <td>...</td>\n",
              "      <td>...</td>\n",
              "    </tr>\n",
              "    <tr>\n",
              "      <th>40944</th>\n",
              "      <td>BZt0qjTWNhw</td>\n",
              "      <td>18.14.06</td>\n",
              "      <td>The Cat Who Caught the Laser</td>\n",
              "      <td>AaronsAnimals</td>\n",
              "      <td>15</td>\n",
              "      <td>2018-05-18T13:00:04.000Z</td>\n",
              "      <td>aarons animals|\"aarons\"|\"animals\"|\"cat\"|\"cats\"...</td>\n",
              "      <td>1685609</td>\n",
              "      <td>38160</td>\n",
              "      <td>1385</td>\n",
              "      <td>2657</td>\n",
              "      <td>https://i.ytimg.com/vi/BZt0qjTWNhw/default.jpg</td>\n",
              "      <td>False</td>\n",
              "      <td>False</td>\n",
              "      <td>False</td>\n",
              "      <td>The Cat Who Caught the Laser - Aaron's Animals</td>\n",
              "    </tr>\n",
              "    <tr>\n",
              "      <th>40945</th>\n",
              "      <td>1h7KV2sjUWY</td>\n",
              "      <td>18.14.06</td>\n",
              "      <td>True Facts : Ant Mutualism</td>\n",
              "      <td>zefrank1</td>\n",
              "      <td>22</td>\n",
              "      <td>2018-05-18T01:00:06.000Z</td>\n",
              "      <td>[none]</td>\n",
              "      <td>1064798</td>\n",
              "      <td>60008</td>\n",
              "      <td>382</td>\n",
              "      <td>3936</td>\n",
              "      <td>https://i.ytimg.com/vi/1h7KV2sjUWY/default.jpg</td>\n",
              "      <td>False</td>\n",
              "      <td>False</td>\n",
              "      <td>False</td>\n",
              "      <td>NaN</td>\n",
              "    </tr>\n",
              "    <tr>\n",
              "      <th>40946</th>\n",
              "      <td>D6Oy4LfoqsU</td>\n",
              "      <td>18.14.06</td>\n",
              "      <td>I GAVE SAFIYA NYGAARD A PERFECT HAIR MAKEOVER ...</td>\n",
              "      <td>Brad Mondo</td>\n",
              "      <td>24</td>\n",
              "      <td>2018-05-18T17:34:22.000Z</td>\n",
              "      <td>I gave safiya nygaard a perfect hair makeover ...</td>\n",
              "      <td>1066451</td>\n",
              "      <td>48068</td>\n",
              "      <td>1032</td>\n",
              "      <td>3992</td>\n",
              "      <td>https://i.ytimg.com/vi/D6Oy4LfoqsU/default.jpg</td>\n",
              "      <td>False</td>\n",
              "      <td>False</td>\n",
              "      <td>False</td>\n",
              "      <td>I had so much fun transforming Safiyas hair in...</td>\n",
              "    </tr>\n",
              "    <tr>\n",
              "      <th>40947</th>\n",
              "      <td>oV0zkMe1K8s</td>\n",
              "      <td>18.14.06</td>\n",
              "      <td>How Black Panther Should Have Ended</td>\n",
              "      <td>How It Should Have Ended</td>\n",
              "      <td>1</td>\n",
              "      <td>2018-05-17T17:00:04.000Z</td>\n",
              "      <td>Black Panther|\"HISHE\"|\"Marvel\"|\"Infinity War\"|...</td>\n",
              "      <td>5660813</td>\n",
              "      <td>192957</td>\n",
              "      <td>2846</td>\n",
              "      <td>13088</td>\n",
              "      <td>https://i.ytimg.com/vi/oV0zkMe1K8s/default.jpg</td>\n",
              "      <td>False</td>\n",
              "      <td>False</td>\n",
              "      <td>False</td>\n",
              "      <td>How Black Panther Should Have EndedWatch More ...</td>\n",
              "    </tr>\n",
              "    <tr>\n",
              "      <th>40948</th>\n",
              "      <td>ooyjaVdt-jA</td>\n",
              "      <td>18.14.06</td>\n",
              "      <td>Official Call of Duty®: Black Ops 4 — Multipla...</td>\n",
              "      <td>Call of Duty</td>\n",
              "      <td>20</td>\n",
              "      <td>2018-05-17T17:09:38.000Z</td>\n",
              "      <td>call of duty|\"cod\"|\"activision\"|\"Black Ops 4\"</td>\n",
              "      <td>10306119</td>\n",
              "      <td>357079</td>\n",
              "      <td>212976</td>\n",
              "      <td>144795</td>\n",
              "      <td>https://i.ytimg.com/vi/ooyjaVdt-jA/default.jpg</td>\n",
              "      <td>False</td>\n",
              "      <td>False</td>\n",
              "      <td>False</td>\n",
              "      <td>Call of Duty: Black Ops 4 Multiplayer raises t...</td>\n",
              "    </tr>\n",
              "  </tbody>\n",
              "</table>\n",
              "<p>40949 rows × 16 columns</p>\n",
              "</div>"
            ],
            "text/plain": [
              "          video_id trending_date  \\\n",
              "0      2kyS6SvSYSE      17.14.11   \n",
              "1      1ZAPwfrtAFY      17.14.11   \n",
              "2      5qpjK5DgCt4      17.14.11   \n",
              "3      puqaWrEC7tY      17.14.11   \n",
              "4      d380meD0W0M      17.14.11   \n",
              "...            ...           ...   \n",
              "40944  BZt0qjTWNhw      18.14.06   \n",
              "40945  1h7KV2sjUWY      18.14.06   \n",
              "40946  D6Oy4LfoqsU      18.14.06   \n",
              "40947  oV0zkMe1K8s      18.14.06   \n",
              "40948  ooyjaVdt-jA      18.14.06   \n",
              "\n",
              "                                                   title  \\\n",
              "0                     WE WANT TO TALK ABOUT OUR MARRIAGE   \n",
              "1      The Trump Presidency: Last Week Tonight with J...   \n",
              "2      Racist Superman | Rudy Mancuso, King Bach & Le...   \n",
              "3                       Nickelback Lyrics: Real or Fake?   \n",
              "4                               I Dare You: GOING BALD!?   \n",
              "...                                                  ...   \n",
              "40944                       The Cat Who Caught the Laser   \n",
              "40945                         True Facts : Ant Mutualism   \n",
              "40946  I GAVE SAFIYA NYGAARD A PERFECT HAIR MAKEOVER ...   \n",
              "40947                How Black Panther Should Have Ended   \n",
              "40948  Official Call of Duty®: Black Ops 4 — Multipla...   \n",
              "\n",
              "                  channel_title  category_id              publish_time  \\\n",
              "0                  CaseyNeistat           22  2017-11-13T17:13:01.000Z   \n",
              "1               LastWeekTonight           24  2017-11-13T07:30:00.000Z   \n",
              "2                  Rudy Mancuso           23  2017-11-12T19:05:24.000Z   \n",
              "3         Good Mythical Morning           24  2017-11-13T11:00:04.000Z   \n",
              "4                      nigahiga           24  2017-11-12T18:01:41.000Z   \n",
              "...                         ...          ...                       ...   \n",
              "40944             AaronsAnimals           15  2018-05-18T13:00:04.000Z   \n",
              "40945                  zefrank1           22  2018-05-18T01:00:06.000Z   \n",
              "40946                Brad Mondo           24  2018-05-18T17:34:22.000Z   \n",
              "40947  How It Should Have Ended            1  2018-05-17T17:00:04.000Z   \n",
              "40948              Call of Duty           20  2018-05-17T17:09:38.000Z   \n",
              "\n",
              "                                                    tags     views   likes  \\\n",
              "0                                        SHANtell martin    748374   57527   \n",
              "1      last week tonight trump presidency|\"last week ...   2418783   97185   \n",
              "2      racist superman|\"rudy\"|\"mancuso\"|\"king\"|\"bach\"...   3191434  146033   \n",
              "3      rhett and link|\"gmm\"|\"good mythical morning\"|\"...    343168   10172   \n",
              "4      ryan|\"higa\"|\"higatv\"|\"nigahiga\"|\"i dare you\"|\"...   2095731  132235   \n",
              "...                                                  ...       ...     ...   \n",
              "40944  aarons animals|\"aarons\"|\"animals\"|\"cat\"|\"cats\"...   1685609   38160   \n",
              "40945                                             [none]   1064798   60008   \n",
              "40946  I gave safiya nygaard a perfect hair makeover ...   1066451   48068   \n",
              "40947  Black Panther|\"HISHE\"|\"Marvel\"|\"Infinity War\"|...   5660813  192957   \n",
              "40948      call of duty|\"cod\"|\"activision\"|\"Black Ops 4\"  10306119  357079   \n",
              "\n",
              "       dislikes  comment_count  \\\n",
              "0          2966          15954   \n",
              "1          6146          12703   \n",
              "2          5339           8181   \n",
              "3           666           2146   \n",
              "4          1989          17518   \n",
              "...         ...            ...   \n",
              "40944      1385           2657   \n",
              "40945       382           3936   \n",
              "40946      1032           3992   \n",
              "40947      2846          13088   \n",
              "40948    212976         144795   \n",
              "\n",
              "                                       thumbnail_link  comments_disabled  \\\n",
              "0      https://i.ytimg.com/vi/2kyS6SvSYSE/default.jpg              False   \n",
              "1      https://i.ytimg.com/vi/1ZAPwfrtAFY/default.jpg              False   \n",
              "2      https://i.ytimg.com/vi/5qpjK5DgCt4/default.jpg              False   \n",
              "3      https://i.ytimg.com/vi/puqaWrEC7tY/default.jpg              False   \n",
              "4      https://i.ytimg.com/vi/d380meD0W0M/default.jpg              False   \n",
              "...                                               ...                ...   \n",
              "40944  https://i.ytimg.com/vi/BZt0qjTWNhw/default.jpg              False   \n",
              "40945  https://i.ytimg.com/vi/1h7KV2sjUWY/default.jpg              False   \n",
              "40946  https://i.ytimg.com/vi/D6Oy4LfoqsU/default.jpg              False   \n",
              "40947  https://i.ytimg.com/vi/oV0zkMe1K8s/default.jpg              False   \n",
              "40948  https://i.ytimg.com/vi/ooyjaVdt-jA/default.jpg              False   \n",
              "\n",
              "       ratings_disabled  video_error_or_removed  \\\n",
              "0                 False                   False   \n",
              "1                 False                   False   \n",
              "2                 False                   False   \n",
              "3                 False                   False   \n",
              "4                 False                   False   \n",
              "...                 ...                     ...   \n",
              "40944             False                   False   \n",
              "40945             False                   False   \n",
              "40946             False                   False   \n",
              "40947             False                   False   \n",
              "40948             False                   False   \n",
              "\n",
              "                                             description  \n",
              "0      SHANTELL'S CHANNEL - https://www.youtube.com/s...  \n",
              "1      One year after the presidential election, John...  \n",
              "2      WATCH MY PREVIOUS VIDEO ▶ \\n\\nSUBSCRIBE ► http...  \n",
              "3      Today we find out if Link is a Nickelback amat...  \n",
              "4      I know it's been a while since we did this sho...  \n",
              "...                                                  ...  \n",
              "40944     The Cat Who Caught the Laser - Aaron's Animals  \n",
              "40945                                                NaN  \n",
              "40946  I had so much fun transforming Safiyas hair in...  \n",
              "40947  How Black Panther Should Have EndedWatch More ...  \n",
              "40948  Call of Duty: Black Ops 4 Multiplayer raises t...  \n",
              "\n",
              "[40949 rows x 16 columns]"
            ]
          },
          "execution_count": 17,
          "metadata": {},
          "output_type": "execute_result"
        }
      ],
      "source": [
        "vdo_df"
      ]
    },
    {
      "cell_type": "code",
      "execution_count": 18,
      "metadata": {
        "colab": {
          "base_uri": "https://localhost:8080/",
          "height": 565
        },
        "id": "tsDEl_cc0Q4C",
        "outputId": "24d173a4-2ae0-4205-cbf6-b89fd9c29ddd"
      },
      "outputs": [
        {
          "data": {
            "text/html": [
              "<div>\n",
              "<style scoped>\n",
              "    .dataframe tbody tr th:only-of-type {\n",
              "        vertical-align: middle;\n",
              "    }\n",
              "\n",
              "    .dataframe tbody tr th {\n",
              "        vertical-align: top;\n",
              "    }\n",
              "\n",
              "    .dataframe thead th {\n",
              "        text-align: right;\n",
              "    }\n",
              "</style>\n",
              "<table border=\"1\" class=\"dataframe\">\n",
              "  <thead>\n",
              "    <tr style=\"text-align: right;\">\n",
              "      <th></th>\n",
              "      <th>video_id</th>\n",
              "      <th>trending_date</th>\n",
              "      <th>title</th>\n",
              "      <th>channel_title</th>\n",
              "      <th>category_id</th>\n",
              "      <th>publish_time</th>\n",
              "      <th>tags</th>\n",
              "      <th>views</th>\n",
              "      <th>likes</th>\n",
              "      <th>dislikes</th>\n",
              "      <th>comment_count</th>\n",
              "      <th>thumbnail_link</th>\n",
              "      <th>comments_disabled</th>\n",
              "      <th>ratings_disabled</th>\n",
              "      <th>video_error_or_removed</th>\n",
              "      <th>description</th>\n",
              "    </tr>\n",
              "  </thead>\n",
              "  <tbody>\n",
              "    <tr>\n",
              "      <th>0</th>\n",
              "      <td>2kyS6SvSYSE</td>\n",
              "      <td>17.14.11</td>\n",
              "      <td>WE WANT TO TALK ABOUT OUR MARRIAGE</td>\n",
              "      <td>CaseyNeistat</td>\n",
              "      <td>22</td>\n",
              "      <td>2017-11-13T17:13:01.000Z</td>\n",
              "      <td>SHANtell martin</td>\n",
              "      <td>748374</td>\n",
              "      <td>57527</td>\n",
              "      <td>2966</td>\n",
              "      <td>15954</td>\n",
              "      <td>https://i.ytimg.com/vi/2kyS6SvSYSE/default.jpg</td>\n",
              "      <td>False</td>\n",
              "      <td>False</td>\n",
              "      <td>False</td>\n",
              "      <td>SHANTELL'S CHANNEL - https://www.youtube.com/s...</td>\n",
              "    </tr>\n",
              "    <tr>\n",
              "      <th>1</th>\n",
              "      <td>1ZAPwfrtAFY</td>\n",
              "      <td>17.14.11</td>\n",
              "      <td>The Trump Presidency: Last Week Tonight with J...</td>\n",
              "      <td>LastWeekTonight</td>\n",
              "      <td>24</td>\n",
              "      <td>2017-11-13T07:30:00.000Z</td>\n",
              "      <td>last week tonight trump presidency|\"last week ...</td>\n",
              "      <td>2418783</td>\n",
              "      <td>97185</td>\n",
              "      <td>6146</td>\n",
              "      <td>12703</td>\n",
              "      <td>https://i.ytimg.com/vi/1ZAPwfrtAFY/default.jpg</td>\n",
              "      <td>False</td>\n",
              "      <td>False</td>\n",
              "      <td>False</td>\n",
              "      <td>One year after the presidential election, John...</td>\n",
              "    </tr>\n",
              "    <tr>\n",
              "      <th>2</th>\n",
              "      <td>5qpjK5DgCt4</td>\n",
              "      <td>17.14.11</td>\n",
              "      <td>Racist Superman | Rudy Mancuso, King Bach &amp; Le...</td>\n",
              "      <td>Rudy Mancuso</td>\n",
              "      <td>23</td>\n",
              "      <td>2017-11-12T19:05:24.000Z</td>\n",
              "      <td>racist superman|\"rudy\"|\"mancuso\"|\"king\"|\"bach\"...</td>\n",
              "      <td>3191434</td>\n",
              "      <td>146033</td>\n",
              "      <td>5339</td>\n",
              "      <td>8181</td>\n",
              "      <td>https://i.ytimg.com/vi/5qpjK5DgCt4/default.jpg</td>\n",
              "      <td>False</td>\n",
              "      <td>False</td>\n",
              "      <td>False</td>\n",
              "      <td>WATCH MY PREVIOUS VIDEO ▶ \\n\\nSUBSCRIBE ► http...</td>\n",
              "    </tr>\n",
              "    <tr>\n",
              "      <th>3</th>\n",
              "      <td>puqaWrEC7tY</td>\n",
              "      <td>17.14.11</td>\n",
              "      <td>Nickelback Lyrics: Real or Fake?</td>\n",
              "      <td>Good Mythical Morning</td>\n",
              "      <td>24</td>\n",
              "      <td>2017-11-13T11:00:04.000Z</td>\n",
              "      <td>rhett and link|\"gmm\"|\"good mythical morning\"|\"...</td>\n",
              "      <td>343168</td>\n",
              "      <td>10172</td>\n",
              "      <td>666</td>\n",
              "      <td>2146</td>\n",
              "      <td>https://i.ytimg.com/vi/puqaWrEC7tY/default.jpg</td>\n",
              "      <td>False</td>\n",
              "      <td>False</td>\n",
              "      <td>False</td>\n",
              "      <td>Today we find out if Link is a Nickelback amat...</td>\n",
              "    </tr>\n",
              "    <tr>\n",
              "      <th>4</th>\n",
              "      <td>d380meD0W0M</td>\n",
              "      <td>17.14.11</td>\n",
              "      <td>I Dare You: GOING BALD!?</td>\n",
              "      <td>nigahiga</td>\n",
              "      <td>24</td>\n",
              "      <td>2017-11-12T18:01:41.000Z</td>\n",
              "      <td>ryan|\"higa\"|\"higatv\"|\"nigahiga\"|\"i dare you\"|\"...</td>\n",
              "      <td>2095731</td>\n",
              "      <td>132235</td>\n",
              "      <td>1989</td>\n",
              "      <td>17518</td>\n",
              "      <td>https://i.ytimg.com/vi/d380meD0W0M/default.jpg</td>\n",
              "      <td>False</td>\n",
              "      <td>False</td>\n",
              "      <td>False</td>\n",
              "      <td>I know it's been a while since we did this sho...</td>\n",
              "    </tr>\n",
              "  </tbody>\n",
              "</table>\n",
              "</div>"
            ],
            "text/plain": [
              "      video_id trending_date  \\\n",
              "0  2kyS6SvSYSE      17.14.11   \n",
              "1  1ZAPwfrtAFY      17.14.11   \n",
              "2  5qpjK5DgCt4      17.14.11   \n",
              "3  puqaWrEC7tY      17.14.11   \n",
              "4  d380meD0W0M      17.14.11   \n",
              "\n",
              "                                               title          channel_title  \\\n",
              "0                 WE WANT TO TALK ABOUT OUR MARRIAGE           CaseyNeistat   \n",
              "1  The Trump Presidency: Last Week Tonight with J...        LastWeekTonight   \n",
              "2  Racist Superman | Rudy Mancuso, King Bach & Le...           Rudy Mancuso   \n",
              "3                   Nickelback Lyrics: Real or Fake?  Good Mythical Morning   \n",
              "4                           I Dare You: GOING BALD!?               nigahiga   \n",
              "\n",
              "   category_id              publish_time  \\\n",
              "0           22  2017-11-13T17:13:01.000Z   \n",
              "1           24  2017-11-13T07:30:00.000Z   \n",
              "2           23  2017-11-12T19:05:24.000Z   \n",
              "3           24  2017-11-13T11:00:04.000Z   \n",
              "4           24  2017-11-12T18:01:41.000Z   \n",
              "\n",
              "                                                tags    views   likes  \\\n",
              "0                                    SHANtell martin   748374   57527   \n",
              "1  last week tonight trump presidency|\"last week ...  2418783   97185   \n",
              "2  racist superman|\"rudy\"|\"mancuso\"|\"king\"|\"bach\"...  3191434  146033   \n",
              "3  rhett and link|\"gmm\"|\"good mythical morning\"|\"...   343168   10172   \n",
              "4  ryan|\"higa\"|\"higatv\"|\"nigahiga\"|\"i dare you\"|\"...  2095731  132235   \n",
              "\n",
              "   dislikes  comment_count                                  thumbnail_link  \\\n",
              "0      2966          15954  https://i.ytimg.com/vi/2kyS6SvSYSE/default.jpg   \n",
              "1      6146          12703  https://i.ytimg.com/vi/1ZAPwfrtAFY/default.jpg   \n",
              "2      5339           8181  https://i.ytimg.com/vi/5qpjK5DgCt4/default.jpg   \n",
              "3       666           2146  https://i.ytimg.com/vi/puqaWrEC7tY/default.jpg   \n",
              "4      1989          17518  https://i.ytimg.com/vi/d380meD0W0M/default.jpg   \n",
              "\n",
              "   comments_disabled  ratings_disabled  video_error_or_removed  \\\n",
              "0              False             False                   False   \n",
              "1              False             False                   False   \n",
              "2              False             False                   False   \n",
              "3              False             False                   False   \n",
              "4              False             False                   False   \n",
              "\n",
              "                                         description  \n",
              "0  SHANTELL'S CHANNEL - https://www.youtube.com/s...  \n",
              "1  One year after the presidential election, John...  \n",
              "2  WATCH MY PREVIOUS VIDEO ▶ \\n\\nSUBSCRIBE ► http...  \n",
              "3  Today we find out if Link is a Nickelback amat...  \n",
              "4  I know it's been a while since we did this sho...  "
            ]
          },
          "execution_count": 18,
          "metadata": {},
          "output_type": "execute_result"
        }
      ],
      "source": [
        "vdo_df.head()"
      ]
    },
    {
      "cell_type": "code",
      "execution_count": 19,
      "metadata": {
        "colab": {
          "base_uri": "https://localhost:8080/",
          "height": 600
        },
        "id": "oOqUdAPt0Q4C",
        "outputId": "07439ae9-1301-4dcb-f0a2-eca6b64b9910"
      },
      "outputs": [
        {
          "data": {
            "text/html": [
              "<div>\n",
              "<style scoped>\n",
              "    .dataframe tbody tr th:only-of-type {\n",
              "        vertical-align: middle;\n",
              "    }\n",
              "\n",
              "    .dataframe tbody tr th {\n",
              "        vertical-align: top;\n",
              "    }\n",
              "\n",
              "    .dataframe thead th {\n",
              "        text-align: right;\n",
              "    }\n",
              "</style>\n",
              "<table border=\"1\" class=\"dataframe\">\n",
              "  <thead>\n",
              "    <tr style=\"text-align: right;\">\n",
              "      <th></th>\n",
              "      <th>video_id</th>\n",
              "      <th>trending_date</th>\n",
              "      <th>title</th>\n",
              "      <th>channel_title</th>\n",
              "      <th>category_id</th>\n",
              "      <th>publish_time</th>\n",
              "      <th>tags</th>\n",
              "      <th>views</th>\n",
              "      <th>likes</th>\n",
              "      <th>dislikes</th>\n",
              "      <th>comment_count</th>\n",
              "      <th>thumbnail_link</th>\n",
              "      <th>comments_disabled</th>\n",
              "      <th>ratings_disabled</th>\n",
              "      <th>video_error_or_removed</th>\n",
              "      <th>description</th>\n",
              "    </tr>\n",
              "  </thead>\n",
              "  <tbody>\n",
              "    <tr>\n",
              "      <th>40944</th>\n",
              "      <td>BZt0qjTWNhw</td>\n",
              "      <td>18.14.06</td>\n",
              "      <td>The Cat Who Caught the Laser</td>\n",
              "      <td>AaronsAnimals</td>\n",
              "      <td>15</td>\n",
              "      <td>2018-05-18T13:00:04.000Z</td>\n",
              "      <td>aarons animals|\"aarons\"|\"animals\"|\"cat\"|\"cats\"...</td>\n",
              "      <td>1685609</td>\n",
              "      <td>38160</td>\n",
              "      <td>1385</td>\n",
              "      <td>2657</td>\n",
              "      <td>https://i.ytimg.com/vi/BZt0qjTWNhw/default.jpg</td>\n",
              "      <td>False</td>\n",
              "      <td>False</td>\n",
              "      <td>False</td>\n",
              "      <td>The Cat Who Caught the Laser - Aaron's Animals</td>\n",
              "    </tr>\n",
              "    <tr>\n",
              "      <th>40945</th>\n",
              "      <td>1h7KV2sjUWY</td>\n",
              "      <td>18.14.06</td>\n",
              "      <td>True Facts : Ant Mutualism</td>\n",
              "      <td>zefrank1</td>\n",
              "      <td>22</td>\n",
              "      <td>2018-05-18T01:00:06.000Z</td>\n",
              "      <td>[none]</td>\n",
              "      <td>1064798</td>\n",
              "      <td>60008</td>\n",
              "      <td>382</td>\n",
              "      <td>3936</td>\n",
              "      <td>https://i.ytimg.com/vi/1h7KV2sjUWY/default.jpg</td>\n",
              "      <td>False</td>\n",
              "      <td>False</td>\n",
              "      <td>False</td>\n",
              "      <td>NaN</td>\n",
              "    </tr>\n",
              "    <tr>\n",
              "      <th>40946</th>\n",
              "      <td>D6Oy4LfoqsU</td>\n",
              "      <td>18.14.06</td>\n",
              "      <td>I GAVE SAFIYA NYGAARD A PERFECT HAIR MAKEOVER ...</td>\n",
              "      <td>Brad Mondo</td>\n",
              "      <td>24</td>\n",
              "      <td>2018-05-18T17:34:22.000Z</td>\n",
              "      <td>I gave safiya nygaard a perfect hair makeover ...</td>\n",
              "      <td>1066451</td>\n",
              "      <td>48068</td>\n",
              "      <td>1032</td>\n",
              "      <td>3992</td>\n",
              "      <td>https://i.ytimg.com/vi/D6Oy4LfoqsU/default.jpg</td>\n",
              "      <td>False</td>\n",
              "      <td>False</td>\n",
              "      <td>False</td>\n",
              "      <td>I had so much fun transforming Safiyas hair in...</td>\n",
              "    </tr>\n",
              "    <tr>\n",
              "      <th>40947</th>\n",
              "      <td>oV0zkMe1K8s</td>\n",
              "      <td>18.14.06</td>\n",
              "      <td>How Black Panther Should Have Ended</td>\n",
              "      <td>How It Should Have Ended</td>\n",
              "      <td>1</td>\n",
              "      <td>2018-05-17T17:00:04.000Z</td>\n",
              "      <td>Black Panther|\"HISHE\"|\"Marvel\"|\"Infinity War\"|...</td>\n",
              "      <td>5660813</td>\n",
              "      <td>192957</td>\n",
              "      <td>2846</td>\n",
              "      <td>13088</td>\n",
              "      <td>https://i.ytimg.com/vi/oV0zkMe1K8s/default.jpg</td>\n",
              "      <td>False</td>\n",
              "      <td>False</td>\n",
              "      <td>False</td>\n",
              "      <td>How Black Panther Should Have EndedWatch More ...</td>\n",
              "    </tr>\n",
              "    <tr>\n",
              "      <th>40948</th>\n",
              "      <td>ooyjaVdt-jA</td>\n",
              "      <td>18.14.06</td>\n",
              "      <td>Official Call of Duty®: Black Ops 4 — Multipla...</td>\n",
              "      <td>Call of Duty</td>\n",
              "      <td>20</td>\n",
              "      <td>2018-05-17T17:09:38.000Z</td>\n",
              "      <td>call of duty|\"cod\"|\"activision\"|\"Black Ops 4\"</td>\n",
              "      <td>10306119</td>\n",
              "      <td>357079</td>\n",
              "      <td>212976</td>\n",
              "      <td>144795</td>\n",
              "      <td>https://i.ytimg.com/vi/ooyjaVdt-jA/default.jpg</td>\n",
              "      <td>False</td>\n",
              "      <td>False</td>\n",
              "      <td>False</td>\n",
              "      <td>Call of Duty: Black Ops 4 Multiplayer raises t...</td>\n",
              "    </tr>\n",
              "  </tbody>\n",
              "</table>\n",
              "</div>"
            ],
            "text/plain": [
              "          video_id trending_date  \\\n",
              "40944  BZt0qjTWNhw      18.14.06   \n",
              "40945  1h7KV2sjUWY      18.14.06   \n",
              "40946  D6Oy4LfoqsU      18.14.06   \n",
              "40947  oV0zkMe1K8s      18.14.06   \n",
              "40948  ooyjaVdt-jA      18.14.06   \n",
              "\n",
              "                                                   title  \\\n",
              "40944                       The Cat Who Caught the Laser   \n",
              "40945                         True Facts : Ant Mutualism   \n",
              "40946  I GAVE SAFIYA NYGAARD A PERFECT HAIR MAKEOVER ...   \n",
              "40947                How Black Panther Should Have Ended   \n",
              "40948  Official Call of Duty®: Black Ops 4 — Multipla...   \n",
              "\n",
              "                  channel_title  category_id              publish_time  \\\n",
              "40944             AaronsAnimals           15  2018-05-18T13:00:04.000Z   \n",
              "40945                  zefrank1           22  2018-05-18T01:00:06.000Z   \n",
              "40946                Brad Mondo           24  2018-05-18T17:34:22.000Z   \n",
              "40947  How It Should Have Ended            1  2018-05-17T17:00:04.000Z   \n",
              "40948              Call of Duty           20  2018-05-17T17:09:38.000Z   \n",
              "\n",
              "                                                    tags     views   likes  \\\n",
              "40944  aarons animals|\"aarons\"|\"animals\"|\"cat\"|\"cats\"...   1685609   38160   \n",
              "40945                                             [none]   1064798   60008   \n",
              "40946  I gave safiya nygaard a perfect hair makeover ...   1066451   48068   \n",
              "40947  Black Panther|\"HISHE\"|\"Marvel\"|\"Infinity War\"|...   5660813  192957   \n",
              "40948      call of duty|\"cod\"|\"activision\"|\"Black Ops 4\"  10306119  357079   \n",
              "\n",
              "       dislikes  comment_count  \\\n",
              "40944      1385           2657   \n",
              "40945       382           3936   \n",
              "40946      1032           3992   \n",
              "40947      2846          13088   \n",
              "40948    212976         144795   \n",
              "\n",
              "                                       thumbnail_link  comments_disabled  \\\n",
              "40944  https://i.ytimg.com/vi/BZt0qjTWNhw/default.jpg              False   \n",
              "40945  https://i.ytimg.com/vi/1h7KV2sjUWY/default.jpg              False   \n",
              "40946  https://i.ytimg.com/vi/D6Oy4LfoqsU/default.jpg              False   \n",
              "40947  https://i.ytimg.com/vi/oV0zkMe1K8s/default.jpg              False   \n",
              "40948  https://i.ytimg.com/vi/ooyjaVdt-jA/default.jpg              False   \n",
              "\n",
              "       ratings_disabled  video_error_or_removed  \\\n",
              "40944             False                   False   \n",
              "40945             False                   False   \n",
              "40946             False                   False   \n",
              "40947             False                   False   \n",
              "40948             False                   False   \n",
              "\n",
              "                                             description  \n",
              "40944     The Cat Who Caught the Laser - Aaron's Animals  \n",
              "40945                                                NaN  \n",
              "40946  I had so much fun transforming Safiyas hair in...  \n",
              "40947  How Black Panther Should Have EndedWatch More ...  \n",
              "40948  Call of Duty: Black Ops 4 Multiplayer raises t...  "
            ]
          },
          "execution_count": 19,
          "metadata": {},
          "output_type": "execute_result"
        }
      ],
      "source": [
        "vdo_df.tail()"
      ]
    },
    {
      "cell_type": "markdown",
      "metadata": {
        "id": "fTKmMZuR0Q4D"
      },
      "source": [
        "### Explore structure"
      ]
    },
    {
      "cell_type": "code",
      "execution_count": 20,
      "metadata": {
        "colab": {
          "base_uri": "https://localhost:8080/"
        },
        "id": "7AsUPjh00Q4E",
        "outputId": "e4959758-04b6-4f31-b94d-662db5a03a75"
      },
      "outputs": [
        {
          "data": {
            "text/plain": [
              "(40949, 16)"
            ]
          },
          "execution_count": 20,
          "metadata": {},
          "output_type": "execute_result"
        }
      ],
      "source": [
        "vdo_df.shape"
      ]
    },
    {
      "cell_type": "code",
      "execution_count": 21,
      "metadata": {
        "colab": {
          "base_uri": "https://localhost:8080/"
        },
        "id": "CjwASDyi0Q4E",
        "outputId": "ef21529e-0f6a-4c4c-cfcc-34aaf80ea011"
      },
      "outputs": [
        {
          "data": {
            "text/plain": [
              "Index(['video_id', 'trending_date', 'title', 'channel_title', 'category_id',\n",
              "       'publish_time', 'tags', 'views', 'likes', 'dislikes', 'comment_count',\n",
              "       'thumbnail_link', 'comments_disabled', 'ratings_disabled',\n",
              "       'video_error_or_removed', 'description'],\n",
              "      dtype='object')"
            ]
          },
          "execution_count": 21,
          "metadata": {},
          "output_type": "execute_result"
        }
      ],
      "source": [
        "vdo_df.columns"
      ]
    },
    {
      "cell_type": "code",
      "execution_count": 22,
      "metadata": {
        "colab": {
          "base_uri": "https://localhost:8080/"
        },
        "id": "cLAthPQk0Q4E",
        "outputId": "e225482f-9a92-49a2-d971-d699aaab9046"
      },
      "outputs": [
        {
          "data": {
            "text/plain": [
              "RangeIndex(start=0, stop=40949, step=1)"
            ]
          },
          "execution_count": 22,
          "metadata": {},
          "output_type": "execute_result"
        }
      ],
      "source": [
        "vdo_df.index"
      ]
    },
    {
      "cell_type": "code",
      "execution_count": 23,
      "metadata": {
        "colab": {
          "base_uri": "https://localhost:8080/"
        },
        "id": "UkWM7VPm0Q4F",
        "outputId": "d30264b1-66c0-4773-d501-baf7ea960cb0"
      },
      "outputs": [
        {
          "data": {
            "text/plain": [
              "video_id                  object\n",
              "trending_date             object\n",
              "title                     object\n",
              "channel_title             object\n",
              "category_id                int64\n",
              "publish_time              object\n",
              "tags                      object\n",
              "views                      int64\n",
              "likes                      int64\n",
              "dislikes                   int64\n",
              "comment_count              int64\n",
              "thumbnail_link            object\n",
              "comments_disabled           bool\n",
              "ratings_disabled            bool\n",
              "video_error_or_removed      bool\n",
              "description               object\n",
              "dtype: object"
            ]
          },
          "execution_count": 23,
          "metadata": {},
          "output_type": "execute_result"
        }
      ],
      "source": [
        "vdo_df.dtypes"
      ]
    },
    {
      "cell_type": "markdown",
      "metadata": {
        "id": "qBuYYGGF0Q4F"
      },
      "source": [
        "### Show partial data\n",
        "- show some rows"
      ]
    },
    {
      "cell_type": "code",
      "execution_count": 24,
      "metadata": {
        "colab": {
          "base_uri": "https://localhost:8080/",
          "height": 315
        },
        "id": "NaSOMUkG0Q4G",
        "outputId": "230bd788-9ec7-4b8b-9f8c-883d4934ef9c"
      },
      "outputs": [
        {
          "data": {
            "text/html": [
              "<div>\n",
              "<style scoped>\n",
              "    .dataframe tbody tr th:only-of-type {\n",
              "        vertical-align: middle;\n",
              "    }\n",
              "\n",
              "    .dataframe tbody tr th {\n",
              "        vertical-align: top;\n",
              "    }\n",
              "\n",
              "    .dataframe thead th {\n",
              "        text-align: right;\n",
              "    }\n",
              "</style>\n",
              "<table border=\"1\" class=\"dataframe\">\n",
              "  <thead>\n",
              "    <tr style=\"text-align: right;\">\n",
              "      <th></th>\n",
              "      <th>video_id</th>\n",
              "      <th>trending_date</th>\n",
              "      <th>title</th>\n",
              "      <th>channel_title</th>\n",
              "      <th>category_id</th>\n",
              "      <th>publish_time</th>\n",
              "      <th>tags</th>\n",
              "      <th>views</th>\n",
              "      <th>likes</th>\n",
              "      <th>dislikes</th>\n",
              "      <th>comment_count</th>\n",
              "      <th>thumbnail_link</th>\n",
              "      <th>comments_disabled</th>\n",
              "      <th>ratings_disabled</th>\n",
              "      <th>video_error_or_removed</th>\n",
              "      <th>description</th>\n",
              "    </tr>\n",
              "  </thead>\n",
              "  <tbody>\n",
              "    <tr>\n",
              "      <th>0</th>\n",
              "      <td>2kyS6SvSYSE</td>\n",
              "      <td>17.14.11</td>\n",
              "      <td>WE WANT TO TALK ABOUT OUR MARRIAGE</td>\n",
              "      <td>CaseyNeistat</td>\n",
              "      <td>22</td>\n",
              "      <td>2017-11-13T17:13:01.000Z</td>\n",
              "      <td>SHANtell martin</td>\n",
              "      <td>748374</td>\n",
              "      <td>57527</td>\n",
              "      <td>2966</td>\n",
              "      <td>15954</td>\n",
              "      <td>https://i.ytimg.com/vi/2kyS6SvSYSE/default.jpg</td>\n",
              "      <td>False</td>\n",
              "      <td>False</td>\n",
              "      <td>False</td>\n",
              "      <td>SHANTELL'S CHANNEL - https://www.youtube.com/s...</td>\n",
              "    </tr>\n",
              "    <tr>\n",
              "      <th>1</th>\n",
              "      <td>1ZAPwfrtAFY</td>\n",
              "      <td>17.14.11</td>\n",
              "      <td>The Trump Presidency: Last Week Tonight with J...</td>\n",
              "      <td>LastWeekTonight</td>\n",
              "      <td>24</td>\n",
              "      <td>2017-11-13T07:30:00.000Z</td>\n",
              "      <td>last week tonight trump presidency|\"last week ...</td>\n",
              "      <td>2418783</td>\n",
              "      <td>97185</td>\n",
              "      <td>6146</td>\n",
              "      <td>12703</td>\n",
              "      <td>https://i.ytimg.com/vi/1ZAPwfrtAFY/default.jpg</td>\n",
              "      <td>False</td>\n",
              "      <td>False</td>\n",
              "      <td>False</td>\n",
              "      <td>One year after the presidential election, John...</td>\n",
              "    </tr>\n",
              "  </tbody>\n",
              "</table>\n",
              "</div>"
            ],
            "text/plain": [
              "      video_id trending_date  \\\n",
              "0  2kyS6SvSYSE      17.14.11   \n",
              "1  1ZAPwfrtAFY      17.14.11   \n",
              "\n",
              "                                               title    channel_title  \\\n",
              "0                 WE WANT TO TALK ABOUT OUR MARRIAGE     CaseyNeistat   \n",
              "1  The Trump Presidency: Last Week Tonight with J...  LastWeekTonight   \n",
              "\n",
              "   category_id              publish_time  \\\n",
              "0           22  2017-11-13T17:13:01.000Z   \n",
              "1           24  2017-11-13T07:30:00.000Z   \n",
              "\n",
              "                                                tags    views  likes  \\\n",
              "0                                    SHANtell martin   748374  57527   \n",
              "1  last week tonight trump presidency|\"last week ...  2418783  97185   \n",
              "\n",
              "   dislikes  comment_count                                  thumbnail_link  \\\n",
              "0      2966          15954  https://i.ytimg.com/vi/2kyS6SvSYSE/default.jpg   \n",
              "1      6146          12703  https://i.ytimg.com/vi/1ZAPwfrtAFY/default.jpg   \n",
              "\n",
              "   comments_disabled  ratings_disabled  video_error_or_removed  \\\n",
              "0              False             False                   False   \n",
              "1              False             False                   False   \n",
              "\n",
              "                                         description  \n",
              "0  SHANTELL'S CHANNEL - https://www.youtube.com/s...  \n",
              "1  One year after the presidential election, John...  "
            ]
          },
          "execution_count": 24,
          "metadata": {},
          "output_type": "execute_result"
        }
      ],
      "source": [
        "vdo_df[0:2]"
      ]
    },
    {
      "cell_type": "code",
      "execution_count": 25,
      "metadata": {
        "colab": {
          "base_uri": "https://localhost:8080/",
          "height": 416
        },
        "id": "Kn9_qCut0Q4G",
        "outputId": "606727a5-9771-4db6-fc6b-74cb83996dfd"
      },
      "outputs": [
        {
          "data": {
            "text/html": [
              "<div>\n",
              "<style scoped>\n",
              "    .dataframe tbody tr th:only-of-type {\n",
              "        vertical-align: middle;\n",
              "    }\n",
              "\n",
              "    .dataframe tbody tr th {\n",
              "        vertical-align: top;\n",
              "    }\n",
              "\n",
              "    .dataframe thead th {\n",
              "        text-align: right;\n",
              "    }\n",
              "</style>\n",
              "<table border=\"1\" class=\"dataframe\">\n",
              "  <thead>\n",
              "    <tr style=\"text-align: right;\">\n",
              "      <th></th>\n",
              "      <th>video_id</th>\n",
              "      <th>trending_date</th>\n",
              "      <th>title</th>\n",
              "      <th>channel_title</th>\n",
              "      <th>category_id</th>\n",
              "      <th>publish_time</th>\n",
              "      <th>tags</th>\n",
              "      <th>views</th>\n",
              "      <th>likes</th>\n",
              "      <th>dislikes</th>\n",
              "      <th>comment_count</th>\n",
              "      <th>thumbnail_link</th>\n",
              "      <th>comments_disabled</th>\n",
              "      <th>ratings_disabled</th>\n",
              "      <th>video_error_or_removed</th>\n",
              "      <th>description</th>\n",
              "    </tr>\n",
              "  </thead>\n",
              "  <tbody>\n",
              "    <tr>\n",
              "      <th>40945</th>\n",
              "      <td>1h7KV2sjUWY</td>\n",
              "      <td>18.14.06</td>\n",
              "      <td>True Facts : Ant Mutualism</td>\n",
              "      <td>zefrank1</td>\n",
              "      <td>22</td>\n",
              "      <td>2018-05-18T01:00:06.000Z</td>\n",
              "      <td>[none]</td>\n",
              "      <td>1064798</td>\n",
              "      <td>60008</td>\n",
              "      <td>382</td>\n",
              "      <td>3936</td>\n",
              "      <td>https://i.ytimg.com/vi/1h7KV2sjUWY/default.jpg</td>\n",
              "      <td>False</td>\n",
              "      <td>False</td>\n",
              "      <td>False</td>\n",
              "      <td>NaN</td>\n",
              "    </tr>\n",
              "    <tr>\n",
              "      <th>40946</th>\n",
              "      <td>D6Oy4LfoqsU</td>\n",
              "      <td>18.14.06</td>\n",
              "      <td>I GAVE SAFIYA NYGAARD A PERFECT HAIR MAKEOVER ...</td>\n",
              "      <td>Brad Mondo</td>\n",
              "      <td>24</td>\n",
              "      <td>2018-05-18T17:34:22.000Z</td>\n",
              "      <td>I gave safiya nygaard a perfect hair makeover ...</td>\n",
              "      <td>1066451</td>\n",
              "      <td>48068</td>\n",
              "      <td>1032</td>\n",
              "      <td>3992</td>\n",
              "      <td>https://i.ytimg.com/vi/D6Oy4LfoqsU/default.jpg</td>\n",
              "      <td>False</td>\n",
              "      <td>False</td>\n",
              "      <td>False</td>\n",
              "      <td>I had so much fun transforming Safiyas hair in...</td>\n",
              "    </tr>\n",
              "    <tr>\n",
              "      <th>40947</th>\n",
              "      <td>oV0zkMe1K8s</td>\n",
              "      <td>18.14.06</td>\n",
              "      <td>How Black Panther Should Have Ended</td>\n",
              "      <td>How It Should Have Ended</td>\n",
              "      <td>1</td>\n",
              "      <td>2018-05-17T17:00:04.000Z</td>\n",
              "      <td>Black Panther|\"HISHE\"|\"Marvel\"|\"Infinity War\"|...</td>\n",
              "      <td>5660813</td>\n",
              "      <td>192957</td>\n",
              "      <td>2846</td>\n",
              "      <td>13088</td>\n",
              "      <td>https://i.ytimg.com/vi/oV0zkMe1K8s/default.jpg</td>\n",
              "      <td>False</td>\n",
              "      <td>False</td>\n",
              "      <td>False</td>\n",
              "      <td>How Black Panther Should Have EndedWatch More ...</td>\n",
              "    </tr>\n",
              "  </tbody>\n",
              "</table>\n",
              "</div>"
            ],
            "text/plain": [
              "          video_id trending_date  \\\n",
              "40945  1h7KV2sjUWY      18.14.06   \n",
              "40946  D6Oy4LfoqsU      18.14.06   \n",
              "40947  oV0zkMe1K8s      18.14.06   \n",
              "\n",
              "                                                   title  \\\n",
              "40945                         True Facts : Ant Mutualism   \n",
              "40946  I GAVE SAFIYA NYGAARD A PERFECT HAIR MAKEOVER ...   \n",
              "40947                How Black Panther Should Have Ended   \n",
              "\n",
              "                  channel_title  category_id              publish_time  \\\n",
              "40945                  zefrank1           22  2018-05-18T01:00:06.000Z   \n",
              "40946                Brad Mondo           24  2018-05-18T17:34:22.000Z   \n",
              "40947  How It Should Have Ended            1  2018-05-17T17:00:04.000Z   \n",
              "\n",
              "                                                    tags    views   likes  \\\n",
              "40945                                             [none]  1064798   60008   \n",
              "40946  I gave safiya nygaard a perfect hair makeover ...  1066451   48068   \n",
              "40947  Black Panther|\"HISHE\"|\"Marvel\"|\"Infinity War\"|...  5660813  192957   \n",
              "\n",
              "       dislikes  comment_count  \\\n",
              "40945       382           3936   \n",
              "40946      1032           3992   \n",
              "40947      2846          13088   \n",
              "\n",
              "                                       thumbnail_link  comments_disabled  \\\n",
              "40945  https://i.ytimg.com/vi/1h7KV2sjUWY/default.jpg              False   \n",
              "40946  https://i.ytimg.com/vi/D6Oy4LfoqsU/default.jpg              False   \n",
              "40947  https://i.ytimg.com/vi/oV0zkMe1K8s/default.jpg              False   \n",
              "\n",
              "       ratings_disabled  video_error_or_removed  \\\n",
              "40945             False                   False   \n",
              "40946             False                   False   \n",
              "40947             False                   False   \n",
              "\n",
              "                                             description  \n",
              "40945                                                NaN  \n",
              "40946  I had so much fun transforming Safiyas hair in...  \n",
              "40947  How Black Panther Should Have EndedWatch More ...  "
            ]
          },
          "execution_count": 25,
          "metadata": {},
          "output_type": "execute_result"
        }
      ],
      "source": [
        "vdo_df[-4:-1]"
      ]
    },
    {
      "cell_type": "markdown",
      "metadata": {
        "id": "xe7LUWWP0Q4H"
      },
      "source": [
        "- show some columns\n",
        "\n",
        "Notice a difference between showing a row (slice into a serie) and multiple rows (slice into a dataframe)"
      ]
    },
    {
      "cell_type": "code",
      "execution_count": 100,
      "metadata": {
        "colab": {
          "base_uri": "https://localhost:8080/"
        },
        "id": "cM4mTZVI0Q4H",
        "outputId": "a8d352a8-3ba3-4679-abe5-65daa8fcdb86"
      },
      "outputs": [
        {
          "data": {
            "text/plain": [
              "0                   WE WANT TO TALK ABOUT OUR MARRIAGE\n",
              "1    The Trump Presidency: Last Week Tonight with J...\n",
              "2    Racist Superman | Rudy Mancuso, King Bach & Le...\n",
              "3                     Nickelback Lyrics: Real or Fake?\n",
              "4                             I Dare You: GOING BALD!?\n",
              "Name: title, dtype: object"
            ]
          },
          "execution_count": 100,
          "metadata": {},
          "output_type": "execute_result"
        }
      ],
      "source": [
        "vdo_df['title'].head()"
      ]
    },
    {
      "cell_type": "code",
      "execution_count": 27,
      "metadata": {
        "colab": {
          "base_uri": "https://localhost:8080/"
        },
        "id": "_mK3TnlT0Q4I",
        "outputId": "c0fb43fc-dd24-4340-a289-2d193521c198"
      },
      "outputs": [
        {
          "data": {
            "text/plain": [
              "pandas.core.series.Series"
            ]
          },
          "execution_count": 27,
          "metadata": {},
          "output_type": "execute_result"
        }
      ],
      "source": [
        "type(vdo_df['title'])"
      ]
    },
    {
      "cell_type": "code",
      "execution_count": 28,
      "metadata": {
        "colab": {
          "base_uri": "https://localhost:8080/"
        },
        "id": "px0EFFN30Q4I",
        "outputId": "3f9ee521-97fe-4668-b27b-72d54e90472b"
      },
      "outputs": [
        {
          "data": {
            "text/plain": [
              "0                       WE WANT TO TALK ABOUT OUR MARRIAGE\n",
              "1        The Trump Presidency: Last Week Tonight with J...\n",
              "2        Racist Superman | Rudy Mancuso, King Bach & Le...\n",
              "3                         Nickelback Lyrics: Real or Fake?\n",
              "4                                 I Dare You: GOING BALD!?\n",
              "                               ...                        \n",
              "40944                         The Cat Who Caught the Laser\n",
              "40945                           True Facts : Ant Mutualism\n",
              "40946    I GAVE SAFIYA NYGAARD A PERFECT HAIR MAKEOVER ...\n",
              "40947                  How Black Panther Should Have Ended\n",
              "40948    Official Call of Duty®: Black Ops 4 — Multipla...\n",
              "Name: title, Length: 40949, dtype: object"
            ]
          },
          "execution_count": 28,
          "metadata": {},
          "output_type": "execute_result"
        }
      ],
      "source": [
        "vdo_df.title.head()"
      ]
    },
    {
      "cell_type": "code",
      "execution_count": 101,
      "metadata": {
        "colab": {
          "base_uri": "https://localhost:8080/",
          "height": 423
        },
        "id": "C-LlcSsF0Q4J",
        "outputId": "1e7eb9a3-ce4e-443c-facc-95d823947466",
        "scrolled": true
      },
      "outputs": [
        {
          "data": {
            "text/html": [
              "<div>\n",
              "<style scoped>\n",
              "    .dataframe tbody tr th:only-of-type {\n",
              "        vertical-align: middle;\n",
              "    }\n",
              "\n",
              "    .dataframe tbody tr th {\n",
              "        vertical-align: top;\n",
              "    }\n",
              "\n",
              "    .dataframe thead th {\n",
              "        text-align: right;\n",
              "    }\n",
              "</style>\n",
              "<table border=\"1\" class=\"dataframe\">\n",
              "  <thead>\n",
              "    <tr style=\"text-align: right;\">\n",
              "      <th></th>\n",
              "      <th>title</th>\n",
              "      <th>views</th>\n",
              "      <th>likes</th>\n",
              "    </tr>\n",
              "  </thead>\n",
              "  <tbody>\n",
              "    <tr>\n",
              "      <th>0</th>\n",
              "      <td>WE WANT TO TALK ABOUT OUR MARRIAGE</td>\n",
              "      <td>748374</td>\n",
              "      <td>57527</td>\n",
              "    </tr>\n",
              "    <tr>\n",
              "      <th>1</th>\n",
              "      <td>The Trump Presidency: Last Week Tonight with J...</td>\n",
              "      <td>2418783</td>\n",
              "      <td>97185</td>\n",
              "    </tr>\n",
              "    <tr>\n",
              "      <th>2</th>\n",
              "      <td>Racist Superman | Rudy Mancuso, King Bach &amp; Le...</td>\n",
              "      <td>3191434</td>\n",
              "      <td>146033</td>\n",
              "    </tr>\n",
              "    <tr>\n",
              "      <th>3</th>\n",
              "      <td>Nickelback Lyrics: Real or Fake?</td>\n",
              "      <td>343168</td>\n",
              "      <td>10172</td>\n",
              "    </tr>\n",
              "    <tr>\n",
              "      <th>4</th>\n",
              "      <td>I Dare You: GOING BALD!?</td>\n",
              "      <td>2095731</td>\n",
              "      <td>132235</td>\n",
              "    </tr>\n",
              "  </tbody>\n",
              "</table>\n",
              "</div>"
            ],
            "text/plain": [
              "                                               title    views   likes\n",
              "0                 WE WANT TO TALK ABOUT OUR MARRIAGE   748374   57527\n",
              "1  The Trump Presidency: Last Week Tonight with J...  2418783   97185\n",
              "2  Racist Superman | Rudy Mancuso, King Bach & Le...  3191434  146033\n",
              "3                   Nickelback Lyrics: Real or Fake?   343168   10172\n",
              "4                           I Dare You: GOING BALD!?  2095731  132235"
            ]
          },
          "execution_count": 101,
          "metadata": {},
          "output_type": "execute_result"
        }
      ],
      "source": [
        "vdo_df[['title', 'views', 'likes']].head()"
      ]
    },
    {
      "cell_type": "code",
      "execution_count": 30,
      "metadata": {
        "colab": {
          "base_uri": "https://localhost:8080/"
        },
        "id": "dhgJevY30Q4K",
        "outputId": "8accadf8-f605-4322-dfa5-b14f49c6e963"
      },
      "outputs": [
        {
          "data": {
            "text/plain": [
              "pandas.core.frame.DataFrame"
            ]
          },
          "execution_count": 30,
          "metadata": {},
          "output_type": "execute_result"
        }
      ],
      "source": [
        "type(vdo_df[['title', 'views', 'likes']])"
      ]
    },
    {
      "cell_type": "markdown",
      "metadata": {
        "id": "KXVqlL0x0Q4L"
      },
      "source": [
        "- show a block\n",
        "\n",
        "*loc* and *iloc* can be used for selecting a block or a subset of rows and columns in a dataFrame.  *loc* is for index label and column names.  *iloc* is for integer position of rows and columns.  The selecting can be applied for both read and write operations."
      ]
    },
    {
      "cell_type": "code",
      "execution_count": 31,
      "metadata": {
        "colab": {
          "base_uri": "https://localhost:8080/",
          "height": 237
        },
        "id": "P3K759Wb0Q4L",
        "outputId": "38a9f6b6-9f16-4cf3-859f-e41207204256"
      },
      "outputs": [
        {
          "data": {
            "text/html": [
              "<div>\n",
              "<style scoped>\n",
              "    .dataframe tbody tr th:only-of-type {\n",
              "        vertical-align: middle;\n",
              "    }\n",
              "\n",
              "    .dataframe tbody tr th {\n",
              "        vertical-align: top;\n",
              "    }\n",
              "\n",
              "    .dataframe thead th {\n",
              "        text-align: right;\n",
              "    }\n",
              "</style>\n",
              "<table border=\"1\" class=\"dataframe\">\n",
              "  <thead>\n",
              "    <tr style=\"text-align: right;\">\n",
              "      <th></th>\n",
              "      <th>title</th>\n",
              "      <th>channel_title</th>\n",
              "      <th>publish_time</th>\n",
              "    </tr>\n",
              "  </thead>\n",
              "  <tbody>\n",
              "    <tr>\n",
              "      <th>10</th>\n",
              "      <td>Dion Lewis' 103-Yd Kick Return TD vs. Denver! ...</td>\n",
              "      <td>NFL</td>\n",
              "      <td>2017-11-13T02:05:26.000Z</td>\n",
              "    </tr>\n",
              "    <tr>\n",
              "      <th>11</th>\n",
              "      <td>(SPOILERS) 'Shiva Saves the Day' Talked About ...</td>\n",
              "      <td>amc</td>\n",
              "      <td>2017-11-13T03:00:00.000Z</td>\n",
              "    </tr>\n",
              "    <tr>\n",
              "      <th>12</th>\n",
              "      <td>Marshmello - Blocks (Official Music Video)</td>\n",
              "      <td>marshmello</td>\n",
              "      <td>2017-11-13T17:00:00.000Z</td>\n",
              "    </tr>\n",
              "    <tr>\n",
              "      <th>13</th>\n",
              "      <td>Which Countries Are About To Collapse?</td>\n",
              "      <td>NowThis World</td>\n",
              "      <td>2017-11-12T14:00:00.000Z</td>\n",
              "    </tr>\n",
              "    <tr>\n",
              "      <th>14</th>\n",
              "      <td>SHOPPING FOR NEW FISH!!!</td>\n",
              "      <td>The king of DIY</td>\n",
              "      <td>2017-11-12T18:30:01.000Z</td>\n",
              "    </tr>\n",
              "    <tr>\n",
              "      <th>15</th>\n",
              "      <td>The New SpotMini</td>\n",
              "      <td>BostonDynamics</td>\n",
              "      <td>2017-11-13T20:09:58.000Z</td>\n",
              "    </tr>\n",
              "  </tbody>\n",
              "</table>\n",
              "</div>"
            ],
            "text/plain": [
              "                                                title    channel_title  \\\n",
              "10  Dion Lewis' 103-Yd Kick Return TD vs. Denver! ...              NFL   \n",
              "11  (SPOILERS) 'Shiva Saves the Day' Talked About ...              amc   \n",
              "12         Marshmello - Blocks (Official Music Video)       marshmello   \n",
              "13             Which Countries Are About To Collapse?    NowThis World   \n",
              "14                           SHOPPING FOR NEW FISH!!!  The king of DIY   \n",
              "15                                   The New SpotMini   BostonDynamics   \n",
              "\n",
              "                publish_time  \n",
              "10  2017-11-13T02:05:26.000Z  \n",
              "11  2017-11-13T03:00:00.000Z  \n",
              "12  2017-11-13T17:00:00.000Z  \n",
              "13  2017-11-12T14:00:00.000Z  \n",
              "14  2017-11-12T18:30:01.000Z  \n",
              "15  2017-11-13T20:09:58.000Z  "
            ]
          },
          "execution_count": 31,
          "metadata": {},
          "output_type": "execute_result"
        }
      ],
      "source": [
        "vdo_df.loc[10:15, ['title', 'channel_title', 'publish_time']]"
      ]
    },
    {
      "cell_type": "code",
      "execution_count": 32,
      "metadata": {
        "colab": {
          "base_uri": "https://localhost:8080/",
          "height": 206
        },
        "id": "aEu2hL9m0Q4M",
        "outputId": "5fea2df6-56c0-404a-ba0d-a8d36d2e71a1"
      },
      "outputs": [
        {
          "data": {
            "text/html": [
              "<div>\n",
              "<style scoped>\n",
              "    .dataframe tbody tr th:only-of-type {\n",
              "        vertical-align: middle;\n",
              "    }\n",
              "\n",
              "    .dataframe tbody tr th {\n",
              "        vertical-align: top;\n",
              "    }\n",
              "\n",
              "    .dataframe thead th {\n",
              "        text-align: right;\n",
              "    }\n",
              "</style>\n",
              "<table border=\"1\" class=\"dataframe\">\n",
              "  <thead>\n",
              "    <tr style=\"text-align: right;\">\n",
              "      <th></th>\n",
              "      <th>channel_title</th>\n",
              "      <th>category_id</th>\n",
              "    </tr>\n",
              "  </thead>\n",
              "  <tbody>\n",
              "    <tr>\n",
              "      <th>10</th>\n",
              "      <td>NFL</td>\n",
              "      <td>17</td>\n",
              "    </tr>\n",
              "    <tr>\n",
              "      <th>11</th>\n",
              "      <td>amc</td>\n",
              "      <td>24</td>\n",
              "    </tr>\n",
              "    <tr>\n",
              "      <th>12</th>\n",
              "      <td>marshmello</td>\n",
              "      <td>10</td>\n",
              "    </tr>\n",
              "    <tr>\n",
              "      <th>13</th>\n",
              "      <td>NowThis World</td>\n",
              "      <td>25</td>\n",
              "    </tr>\n",
              "    <tr>\n",
              "      <th>14</th>\n",
              "      <td>The king of DIY</td>\n",
              "      <td>15</td>\n",
              "    </tr>\n",
              "  </tbody>\n",
              "</table>\n",
              "</div>"
            ],
            "text/plain": [
              "      channel_title  category_id\n",
              "10              NFL           17\n",
              "11              amc           24\n",
              "12       marshmello           10\n",
              "13    NowThis World           25\n",
              "14  The king of DIY           15"
            ]
          },
          "execution_count": 32,
          "metadata": {},
          "output_type": "execute_result"
        }
      ],
      "source": [
        "vdo_df.iloc[10:15, 3:5]"
      ]
    },
    {
      "cell_type": "markdown",
      "metadata": {
        "id": "2YkPpH220Q4M"
      },
      "source": [
        "### Remove Duplicates\n",
        "\n",
        "Dataframe may contain some duplicate rows."
      ]
    },
    {
      "cell_type": "code",
      "execution_count": 33,
      "metadata": {
        "colab": {
          "base_uri": "https://localhost:8080/"
        },
        "id": "Av80IrQ60Q4N",
        "outputId": "d5688e69-8cae-40ed-c4af-eb51e21bf63b"
      },
      "outputs": [
        {
          "data": {
            "text/plain": [
              "(40949, 16)"
            ]
          },
          "execution_count": 33,
          "metadata": {},
          "output_type": "execute_result"
        }
      ],
      "source": [
        "vdo_df.shape"
      ]
    },
    {
      "cell_type": "code",
      "execution_count": 34,
      "metadata": {
        "id": "nerIz-xu0Q4N"
      },
      "outputs": [],
      "source": [
        "vdo_nondup = vdo_df.drop_duplicates()"
      ]
    },
    {
      "cell_type": "code",
      "execution_count": 35,
      "metadata": {
        "colab": {
          "base_uri": "https://localhost:8080/"
        },
        "id": "uEt09CHN0Q4N",
        "outputId": "0cde9699-b0b3-41b5-b8c7-97b36133d0c4"
      },
      "outputs": [
        {
          "data": {
            "text/plain": [
              "(40901, 16)"
            ]
          },
          "execution_count": 35,
          "metadata": {},
          "output_type": "execute_result"
        }
      ],
      "source": [
        "vdo_nondup.shape"
      ]
    },
    {
      "cell_type": "code",
      "execution_count": 36,
      "metadata": {
        "colab": {
          "base_uri": "https://localhost:8080/"
        },
        "id": "oLbXSeHz0Q4O",
        "outputId": "8c9884fd-82c1-4a25-d04b-13dfc5831df1"
      },
      "outputs": [
        {
          "data": {
            "text/plain": [
              "(40949, 16)"
            ]
          },
          "execution_count": 36,
          "metadata": {},
          "output_type": "execute_result"
        }
      ],
      "source": [
        "vdo_df.shape"
      ]
    },
    {
      "cell_type": "code",
      "execution_count": 37,
      "metadata": {
        "id": "PpKvPYlm0Q4P"
      },
      "outputs": [],
      "source": [
        "vdo_df.drop_duplicates(inplace=True)"
      ]
    },
    {
      "cell_type": "code",
      "execution_count": 38,
      "metadata": {
        "colab": {
          "base_uri": "https://localhost:8080/"
        },
        "id": "lq1zcq3Z0Q4Q",
        "outputId": "4eedbb22-1194-429b-c074-f1b9f76ca113"
      },
      "outputs": [
        {
          "data": {
            "text/plain": [
              "(40901, 16)"
            ]
          },
          "execution_count": 38,
          "metadata": {},
          "output_type": "execute_result"
        }
      ],
      "source": [
        "vdo_df.shape"
      ]
    },
    {
      "cell_type": "markdown",
      "metadata": {
        "id": "OP68z2Ju0Q4Q"
      },
      "source": [
        "# Basic Pandas Operations\n",
        "\n",
        "We will learn several basic pandas operations including count_values, statistical calculation, describing numerical data, boolean indexing, etc."
      ]
    },
    {
      "cell_type": "markdown",
      "metadata": {
        "id": "d45VMgx10Q4Q"
      },
      "source": [
        "## Statistical Calculation\n",
        "\n",
        "### What is the VDO with highest days in trending?\n",
        "- count number of video in trending by title"
      ]
    },
    {
      "cell_type": "code",
      "execution_count": 103,
      "metadata": {
        "colab": {
          "base_uri": "https://localhost:8080/"
        },
        "id": "r9MrSvA70Q4e",
        "outputId": "5b504c8f-fac7-4306-e3ca-0a8251f0dd63"
      },
      "outputs": [
        {
          "data": {
            "text/plain": [
              "0                   WE WANT TO TALK ABOUT OUR MARRIAGE\n",
              "1    The Trump Presidency: Last Week Tonight with J...\n",
              "2    Racist Superman | Rudy Mancuso, King Bach & Le...\n",
              "3                     Nickelback Lyrics: Real or Fake?\n",
              "4                             I Dare You: GOING BALD!?\n",
              "Name: title, dtype: object"
            ]
          },
          "execution_count": 103,
          "metadata": {},
          "output_type": "execute_result"
        }
      ],
      "source": [
        "vdo_df.title.head()"
      ]
    },
    {
      "cell_type": "code",
      "execution_count": 104,
      "metadata": {
        "colab": {
          "base_uri": "https://localhost:8080/"
        },
        "id": "YtZwpZsC0Q4e",
        "outputId": "5bf88fc0-45d7-44d4-b29f-774189dda17c"
      },
      "outputs": [
        {
          "data": {
            "text/plain": [
              "WE MADE OUR MOM CRY...HER DREAM CAME TRUE!                                      29\n",
              "Sam Smith - Pray (Official Video) ft. Logic                                     29\n",
              "Mission: Impossible - Fallout (2018) - Official Trailer - Paramount Pictures    29\n",
              "Charlie Puth - BOY [Official Audio]                                             28\n",
              "Selena Gomez - Back To You (Lyric Video)                                        28\n",
              "Cobra Kai Season 2                                                              28\n",
              "The Deadliest Being on Planet Earth – The Bacteriophage                         28\n",
              "Why I'm So Scared (being myself and crying too much)                            28\n",
              "YoungBoy Never Broke Again Goes Sneaker Shopping With Complex                   28\n",
              "Rooster Teeth Animated Adventures - Millie So Serious                           28\n",
              "Name: title, dtype: int64"
            ]
          },
          "execution_count": 104,
          "metadata": {},
          "output_type": "execute_result"
        }
      ],
      "source": [
        "vdo_df.title.value_counts().head(10)"
      ]
    },
    {
      "cell_type": "markdown",
      "metadata": {
        "id": "P7in7ds40Q4e"
      },
      "source": [
        "- **value_counts** <br> Return a Series containing unique values as its index and frequencies as its values, ordered count in descending order"
      ]
    },
    {
      "cell_type": "markdown",
      "metadata": {
        "id": "rbET7g3E0Q4e"
      },
      "source": [
        "### What is the minimum views to get trending?\n",
        "- calculate the minimum value in the views column (statistical calculation)"
      ]
    },
    {
      "cell_type": "code",
      "execution_count": 41,
      "metadata": {
        "colab": {
          "base_uri": "https://localhost:8080/"
        },
        "id": "jFOnj0wP0Q4e",
        "outputId": "dac65acd-bdb2-4cac-d4d7-50a023273a98"
      },
      "outputs": [
        {
          "data": {
            "text/plain": [
              "549"
            ]
          },
          "execution_count": 41,
          "metadata": {},
          "output_type": "execute_result"
        }
      ],
      "source": [
        "vdo_df.views.min()"
      ]
    },
    {
      "cell_type": "markdown",
      "metadata": {
        "id": "koJWaCoS0Q4e"
      },
      "source": [
        "**How about other statistics?**"
      ]
    },
    {
      "cell_type": "code",
      "execution_count": 42,
      "metadata": {
        "colab": {
          "base_uri": "https://localhost:8080/"
        },
        "id": "TlOwUBrV0Q4f",
        "outputId": "0567f4dd-5a63-4b14-b418-f5f02ec7d0f8"
      },
      "outputs": [
        {
          "data": {
            "text/plain": [
              "2360678.0387276593"
            ]
          },
          "execution_count": 42,
          "metadata": {},
          "output_type": "execute_result"
        }
      ],
      "source": [
        "vdo_df.views.mean()"
      ]
    },
    {
      "cell_type": "code",
      "execution_count": 43,
      "metadata": {
        "colab": {
          "base_uri": "https://localhost:8080/"
        },
        "id": "wzb1JE-t0Q4k",
        "outputId": "5cc5f43e-13d5-422e-b266-ed3f169dd1c5"
      },
      "outputs": [
        {
          "data": {
            "text/html": [
              "<div>\n",
              "<style scoped>\n",
              "    .dataframe tbody tr th:only-of-type {\n",
              "        vertical-align: middle;\n",
              "    }\n",
              "\n",
              "    .dataframe tbody tr th {\n",
              "        vertical-align: top;\n",
              "    }\n",
              "\n",
              "    .dataframe thead th {\n",
              "        text-align: right;\n",
              "    }\n",
              "</style>\n",
              "<table border=\"1\" class=\"dataframe\">\n",
              "  <thead>\n",
              "    <tr style=\"text-align: right;\">\n",
              "      <th></th>\n",
              "      <th>category_id</th>\n",
              "      <th>views</th>\n",
              "      <th>likes</th>\n",
              "      <th>dislikes</th>\n",
              "      <th>comment_count</th>\n",
              "    </tr>\n",
              "  </thead>\n",
              "  <tbody>\n",
              "    <tr>\n",
              "      <th>count</th>\n",
              "      <td>40901.000000</td>\n",
              "      <td>4.090100e+04</td>\n",
              "      <td>4.090100e+04</td>\n",
              "      <td>4.090100e+04</td>\n",
              "      <td>4.090100e+04</td>\n",
              "    </tr>\n",
              "    <tr>\n",
              "      <th>mean</th>\n",
              "      <td>19.970588</td>\n",
              "      <td>2.360678e+06</td>\n",
              "      <td>7.427173e+04</td>\n",
              "      <td>3.711722e+03</td>\n",
              "      <td>8.448567e+03</td>\n",
              "    </tr>\n",
              "    <tr>\n",
              "      <th>std</th>\n",
              "      <td>7.569362</td>\n",
              "      <td>7.397719e+06</td>\n",
              "      <td>2.289999e+05</td>\n",
              "      <td>2.904624e+04</td>\n",
              "      <td>3.745139e+04</td>\n",
              "    </tr>\n",
              "    <tr>\n",
              "      <th>min</th>\n",
              "      <td>1.000000</td>\n",
              "      <td>5.490000e+02</td>\n",
              "      <td>0.000000e+00</td>\n",
              "      <td>0.000000e+00</td>\n",
              "      <td>0.000000e+00</td>\n",
              "    </tr>\n",
              "    <tr>\n",
              "      <th>25%</th>\n",
              "      <td>17.000000</td>\n",
              "      <td>2.419720e+05</td>\n",
              "      <td>5.416000e+03</td>\n",
              "      <td>2.020000e+02</td>\n",
              "      <td>6.130000e+02</td>\n",
              "    </tr>\n",
              "    <tr>\n",
              "      <th>50%</th>\n",
              "      <td>24.000000</td>\n",
              "      <td>6.810640e+05</td>\n",
              "      <td>1.806900e+04</td>\n",
              "      <td>6.300000e+02</td>\n",
              "      <td>1.855000e+03</td>\n",
              "    </tr>\n",
              "    <tr>\n",
              "      <th>75%</th>\n",
              "      <td>25.000000</td>\n",
              "      <td>1.821926e+06</td>\n",
              "      <td>5.533800e+04</td>\n",
              "      <td>1.936000e+03</td>\n",
              "      <td>5.752000e+03</td>\n",
              "    </tr>\n",
              "    <tr>\n",
              "      <th>max</th>\n",
              "      <td>43.000000</td>\n",
              "      <td>2.252119e+08</td>\n",
              "      <td>5.613827e+06</td>\n",
              "      <td>1.674420e+06</td>\n",
              "      <td>1.361580e+06</td>\n",
              "    </tr>\n",
              "  </tbody>\n",
              "</table>\n",
              "</div>"
            ],
            "text/plain": [
              "        category_id         views         likes      dislikes  comment_count\n",
              "count  40901.000000  4.090100e+04  4.090100e+04  4.090100e+04   4.090100e+04\n",
              "mean      19.970588  2.360678e+06  7.427173e+04  3.711722e+03   8.448567e+03\n",
              "std        7.569362  7.397719e+06  2.289999e+05  2.904624e+04   3.745139e+04\n",
              "min        1.000000  5.490000e+02  0.000000e+00  0.000000e+00   0.000000e+00\n",
              "25%       17.000000  2.419720e+05  5.416000e+03  2.020000e+02   6.130000e+02\n",
              "50%       24.000000  6.810640e+05  1.806900e+04  6.300000e+02   1.855000e+03\n",
              "75%       25.000000  1.821926e+06  5.533800e+04  1.936000e+03   5.752000e+03\n",
              "max       43.000000  2.252119e+08  5.613827e+06  1.674420e+06   1.361580e+06"
            ]
          },
          "execution_count": 43,
          "metadata": {},
          "output_type": "execute_result"
        }
      ],
      "source": [
        "vdo_df.describe()"
      ]
    },
    {
      "cell_type": "markdown",
      "metadata": {
        "id": "nIK5vDqD0Q4k"
      },
      "source": [
        "**Descriptive and summary statistics methods**\n",
        "- **count** <br> Number of non-NA values\n",
        "- **describe** <br> Compute set of summary statistics for Series or each DataFrame column\n",
        "- **min, max** <br> Compute minimum and maximum values\n",
        "- **argmin, argmax** <br> Compute index locations (integer positions) at which minimum or maximum value obtained, respectively\n",
        "- **idxmin, idxmax** <br> Compute index labels at which minimum or maximum value obtained, respectively\n",
        "- **quantile** <br> Compute sample quantile ranging from 0 to 1\n",
        "- **sum** <br> Sum of values\n",
        "- **mean** <br> Mean of values\n",
        "- **median** <br> Arithmetic median (50% quantile) of values\n",
        "- **mad** <br> Mean absolute deviation from mean value\n",
        "- **prod** <br> Product of all values\n",
        "- **var** <br> Sample variance of values\n",
        "- **std** <br> Sample standard deviation of values\n",
        "- **skew** <br> Sample skewness (third moment) of values\n",
        "- **kurt** <br> Sample kurtosis (fourth moment) of values\n",
        "- **cumsum** <br> Cumulative sum of values\n",
        "- **cummin, cummax** <br> Cumulative minimum or maximum of values, respectively\n",
        "- **cumprod** <br> Cumulative product of values\n",
        "- **diff** <br> Compute first arithmetic difference (useful for time series)\n",
        "- **pct_change** <br> Compute percent changes"
      ]
    },
    {
      "cell_type": "markdown",
      "metadata": {
        "id": "g34slY910Q4l"
      },
      "source": [
        "## Boolean Indexing"
      ]
    },
    {
      "cell_type": "markdown",
      "metadata": {
        "id": "MuXkgTw60Q4l"
      },
      "source": [
        "### What is the VDO with the most views?\n",
        "We can use the same technique to We will learn more about advanced filtering with boolean indexing."
      ]
    },
    {
      "cell_type": "code",
      "execution_count": 44,
      "metadata": {
        "colab": {
          "base_uri": "https://localhost:8080/"
        },
        "id": "7F_3n80L0Q4m",
        "outputId": "6a1ddfc5-eabd-4774-f834-68af26181a59"
      },
      "outputs": [
        {
          "data": {
            "text/plain": [
              "225211923"
            ]
          },
          "execution_count": 44,
          "metadata": {},
          "output_type": "execute_result"
        }
      ],
      "source": [
        "vdo_df.views.max()"
      ]
    },
    {
      "cell_type": "markdown",
      "metadata": {
        "id": "N5zJePC00Q4m"
      },
      "source": [
        "**Boolean Indexing**<br>\n",
        "Performing a logical operator to a series will create a new *logical* series containing the results from the operation.  The new logical series can be used to *select* rows that are true."
      ]
    },
    {
      "cell_type": "code",
      "execution_count": 105,
      "metadata": {
        "colab": {
          "base_uri": "https://localhost:8080/"
        },
        "id": "uGIuHGBN0Q4m",
        "outputId": "7535aa36-e007-47a5-fbc1-a6ad79b78a8f"
      },
      "outputs": [
        {
          "data": {
            "text/plain": [
              "0     748374\n",
              "1    2418783\n",
              "2    3191434\n",
              "3     343168\n",
              "4    2095731\n",
              "Name: views, dtype: int64"
            ]
          },
          "execution_count": 105,
          "metadata": {},
          "output_type": "execute_result"
        }
      ],
      "source": [
        "vdo_df.views.head()"
      ]
    },
    {
      "cell_type": "code",
      "execution_count": 106,
      "metadata": {
        "colab": {
          "base_uri": "https://localhost:8080/"
        },
        "id": "1vG6S9PA0Q4m",
        "outputId": "99baf1d2-87b8-4aa0-acde-065cc54d387b"
      },
      "outputs": [
        {
          "data": {
            "text/plain": [
              "0        False\n",
              "1        False\n",
              "2         True\n",
              "3        False\n",
              "4        False\n",
              "         ...  \n",
              "40944    False\n",
              "40945    False\n",
              "40946    False\n",
              "40947     True\n",
              "40948     True\n",
              "Name: views, Length: 40901, dtype: bool"
            ]
          },
          "execution_count": 106,
          "metadata": {},
          "output_type": "execute_result"
        }
      ],
      "source": [
        "vdo_df.views > 3000000"
      ]
    },
    {
      "cell_type": "code",
      "execution_count": 107,
      "metadata": {
        "colab": {
          "base_uri": "https://localhost:8080/"
        },
        "id": "6QMEvZch0Q4m",
        "outputId": "a8960569-aef4-4d62-a599-e9096fcf6b46"
      },
      "outputs": [
        {
          "data": {
            "text/html": [
              "<div>\n",
              "<style scoped>\n",
              "    .dataframe tbody tr th:only-of-type {\n",
              "        vertical-align: middle;\n",
              "    }\n",
              "\n",
              "    .dataframe tbody tr th {\n",
              "        vertical-align: top;\n",
              "    }\n",
              "\n",
              "    .dataframe thead th {\n",
              "        text-align: right;\n",
              "    }\n",
              "</style>\n",
              "<table border=\"1\" class=\"dataframe\">\n",
              "  <thead>\n",
              "    <tr style=\"text-align: right;\">\n",
              "      <th></th>\n",
              "      <th>video_id</th>\n",
              "      <th>trending_date</th>\n",
              "      <th>title</th>\n",
              "      <th>channel_title</th>\n",
              "      <th>category_id</th>\n",
              "      <th>publish_time</th>\n",
              "      <th>tags</th>\n",
              "      <th>views</th>\n",
              "      <th>likes</th>\n",
              "      <th>dislikes</th>\n",
              "      <th>...</th>\n",
              "      <th>thumbnail_link</th>\n",
              "      <th>comments_disabled</th>\n",
              "      <th>ratings_disabled</th>\n",
              "      <th>video_error_or_removed</th>\n",
              "      <th>description</th>\n",
              "      <th>lpv_ratio</th>\n",
              "      <th>views_level</th>\n",
              "      <th>publish_dt</th>\n",
              "      <th>trending_dt</th>\n",
              "      <th>days_to_trending</th>\n",
              "    </tr>\n",
              "  </thead>\n",
              "  <tbody>\n",
              "    <tr>\n",
              "      <th>2</th>\n",
              "      <td>5qpjK5DgCt4</td>\n",
              "      <td>17.14.11</td>\n",
              "      <td>Racist Superman | Rudy Mancuso, King Bach &amp; Le...</td>\n",
              "      <td>Rudy Mancuso</td>\n",
              "      <td>23</td>\n",
              "      <td>2017-11-12T19:05:24.000Z</td>\n",
              "      <td>racist superman|\"rudy\"|\"mancuso\"|\"king\"|\"bach\"...</td>\n",
              "      <td>3191434</td>\n",
              "      <td>146033</td>\n",
              "      <td>5339</td>\n",
              "      <td>...</td>\n",
              "      <td>https://i.ytimg.com/vi/5qpjK5DgCt4/default.jpg</td>\n",
              "      <td>False</td>\n",
              "      <td>False</td>\n",
              "      <td>False</td>\n",
              "      <td>WATCH MY PREVIOUS VIDEO ▶ \\n\\nSUBSCRIBE ► http...</td>\n",
              "      <td>0.045758</td>\n",
              "      <td>more views</td>\n",
              "      <td>2017-11-12 19:05:24+00:00</td>\n",
              "      <td>2017-11-14 00:00:00+00:00</td>\n",
              "      <td>2 days</td>\n",
              "    </tr>\n",
              "    <tr>\n",
              "      <th>32</th>\n",
              "      <td>n1WpP7iowLc</td>\n",
              "      <td>17.14.11</td>\n",
              "      <td>Eminem - Walk On Water (Audio) ft. Beyoncé</td>\n",
              "      <td>EminemVEVO</td>\n",
              "      <td>10</td>\n",
              "      <td>2017-11-10T17:00:03.000Z</td>\n",
              "      <td>Eminem|\"Walk\"|\"On\"|\"Water\"|\"Aftermath/Shady/In...</td>\n",
              "      <td>17158531</td>\n",
              "      <td>787419</td>\n",
              "      <td>43420</td>\n",
              "      <td>...</td>\n",
              "      <td>https://i.ytimg.com/vi/n1WpP7iowLc/default.jpg</td>\n",
              "      <td>False</td>\n",
              "      <td>False</td>\n",
              "      <td>False</td>\n",
              "      <td>Eminem's new track Walk on Water ft. Beyoncé i...</td>\n",
              "      <td>0.045891</td>\n",
              "      <td>NaN</td>\n",
              "      <td>2017-11-10 17:00:03+00:00</td>\n",
              "      <td>2017-11-14 00:00:00+00:00</td>\n",
              "      <td>4 days</td>\n",
              "    </tr>\n",
              "    <tr>\n",
              "      <th>53</th>\n",
              "      <td>9t9u_yPEidY</td>\n",
              "      <td>17.14.11</td>\n",
              "      <td>Jennifer Lopez - Amor, Amor, Amor (Official Vi...</td>\n",
              "      <td>JenniferLopezVEVO</td>\n",
              "      <td>10</td>\n",
              "      <td>2017-11-10T15:00:00.000Z</td>\n",
              "      <td>Jennifer Lopez ft. Wisin|\"Jennifer Lopez ft. W...</td>\n",
              "      <td>9548677</td>\n",
              "      <td>190083</td>\n",
              "      <td>15015</td>\n",
              "      <td>...</td>\n",
              "      <td>https://i.ytimg.com/vi/9t9u_yPEidY/default.jpg</td>\n",
              "      <td>False</td>\n",
              "      <td>False</td>\n",
              "      <td>False</td>\n",
              "      <td>Jennifer Lopez ft. Wisin - Amor, Amor, Amor (O...</td>\n",
              "      <td>0.019907</td>\n",
              "      <td>lots of views</td>\n",
              "      <td>2017-11-10 15:00:00+00:00</td>\n",
              "      <td>2017-11-14 00:00:00+00:00</td>\n",
              "      <td>4 days</td>\n",
              "    </tr>\n",
              "    <tr>\n",
              "      <th>67</th>\n",
              "      <td>t4YAyT4ihIQ</td>\n",
              "      <td>17.14.11</td>\n",
              "      <td>Getting My Driver's License | Lele Pons</td>\n",
              "      <td>Lele Pons</td>\n",
              "      <td>23</td>\n",
              "      <td>2017-11-10T18:30:01.000Z</td>\n",
              "      <td>getting my drivers license|\"lele\"|\"pons\"|\"gett...</td>\n",
              "      <td>3358068</td>\n",
              "      <td>120876</td>\n",
              "      <td>8279</td>\n",
              "      <td>...</td>\n",
              "      <td>https://i.ytimg.com/vi/t4YAyT4ihIQ/default.jpg</td>\n",
              "      <td>False</td>\n",
              "      <td>False</td>\n",
              "      <td>False</td>\n",
              "      <td>WATCH MY PREVIOUS VIDEO ▶ https://youtu.be/T8j...</td>\n",
              "      <td>0.035996</td>\n",
              "      <td>more views</td>\n",
              "      <td>2017-11-10 18:30:01+00:00</td>\n",
              "      <td>2017-11-14 00:00:00+00:00</td>\n",
              "      <td>4 days</td>\n",
              "    </tr>\n",
              "    <tr>\n",
              "      <th>69</th>\n",
              "      <td>Jw1Y-zhQURU</td>\n",
              "      <td>17.14.11</td>\n",
              "      <td>John Lewis Christmas Ad 2017 - #MozTheMonster</td>\n",
              "      <td>John Lewis</td>\n",
              "      <td>26</td>\n",
              "      <td>2017-11-10T07:38:29.000Z</td>\n",
              "      <td>christmas|\"john lewis christmas\"|\"john lewis\"|...</td>\n",
              "      <td>7224515</td>\n",
              "      <td>55681</td>\n",
              "      <td>10247</td>\n",
              "      <td>...</td>\n",
              "      <td>https://i.ytimg.com/vi/Jw1Y-zhQURU/default.jpg</td>\n",
              "      <td>False</td>\n",
              "      <td>False</td>\n",
              "      <td>False</td>\n",
              "      <td>Click here to continue the story and make your...</td>\n",
              "      <td>0.007707</td>\n",
              "      <td>lots of views</td>\n",
              "      <td>2017-11-10 07:38:29+00:00</td>\n",
              "      <td>2017-11-14 00:00:00+00:00</td>\n",
              "      <td>4 days</td>\n",
              "    </tr>\n",
              "    <tr>\n",
              "      <th>...</th>\n",
              "      <td>...</td>\n",
              "      <td>...</td>\n",
              "      <td>...</td>\n",
              "      <td>...</td>\n",
              "      <td>...</td>\n",
              "      <td>...</td>\n",
              "      <td>...</td>\n",
              "      <td>...</td>\n",
              "      <td>...</td>\n",
              "      <td>...</td>\n",
              "      <td>...</td>\n",
              "      <td>...</td>\n",
              "      <td>...</td>\n",
              "      <td>...</td>\n",
              "      <td>...</td>\n",
              "      <td>...</td>\n",
              "      <td>...</td>\n",
              "      <td>...</td>\n",
              "      <td>...</td>\n",
              "      <td>...</td>\n",
              "      <td>...</td>\n",
              "    </tr>\n",
              "    <tr>\n",
              "      <th>40941</th>\n",
              "      <td>7UoP9ABJXGE</td>\n",
              "      <td>18.14.06</td>\n",
              "      <td>Dan + Shay - Speechless (Wedding Video)</td>\n",
              "      <td>Dan And Shay</td>\n",
              "      <td>10</td>\n",
              "      <td>2018-05-18T04:04:58.000Z</td>\n",
              "      <td>wedding video|\"heartfelt wedding video\"|\"emoti...</td>\n",
              "      <td>5534278</td>\n",
              "      <td>45128</td>\n",
              "      <td>1591</td>\n",
              "      <td>...</td>\n",
              "      <td>https://i.ytimg.com/vi/7UoP9ABJXGE/default.jpg</td>\n",
              "      <td>False</td>\n",
              "      <td>False</td>\n",
              "      <td>False</td>\n",
              "      <td>Stream + Download:https://wmna.sh/speechlessht...</td>\n",
              "      <td>0.008154</td>\n",
              "      <td>lots of views</td>\n",
              "      <td>2018-05-18 04:04:58+00:00</td>\n",
              "      <td>2018-06-14 00:00:00+00:00</td>\n",
              "      <td>27 days</td>\n",
              "    </tr>\n",
              "    <tr>\n",
              "      <th>40942</th>\n",
              "      <td>ju_inUnrLc4</td>\n",
              "      <td>18.14.06</td>\n",
              "      <td>Fifth Harmony - Don't Say You Love Me</td>\n",
              "      <td>FifthHarmonyVEVO</td>\n",
              "      <td>10</td>\n",
              "      <td>2018-05-18T07:00:08.000Z</td>\n",
              "      <td>fifth hamony|\"harmonizers\"|\"lauren\"|\"ally\"|\"no...</td>\n",
              "      <td>23502572</td>\n",
              "      <td>676467</td>\n",
              "      <td>15993</td>\n",
              "      <td>...</td>\n",
              "      <td>https://i.ytimg.com/vi/ju_inUnrLc4/default.jpg</td>\n",
              "      <td>False</td>\n",
              "      <td>False</td>\n",
              "      <td>False</td>\n",
              "      <td>Fifth Harmony available at iTunes http://smart...</td>\n",
              "      <td>0.028783</td>\n",
              "      <td>NaN</td>\n",
              "      <td>2018-05-18 07:00:08+00:00</td>\n",
              "      <td>2018-06-14 00:00:00+00:00</td>\n",
              "      <td>27 days</td>\n",
              "    </tr>\n",
              "    <tr>\n",
              "      <th>40943</th>\n",
              "      <td>1PhPYr_9zRY</td>\n",
              "      <td>18.14.06</td>\n",
              "      <td>BTS Plays With Puppies While Answering Fan Que...</td>\n",
              "      <td>BuzzFeed Celeb</td>\n",
              "      <td>22</td>\n",
              "      <td>2018-05-18T16:39:29.000Z</td>\n",
              "      <td>BuzzFeed|\"BuzzFeedVideo\"|\"Puppy Interview\"|\"pu...</td>\n",
              "      <td>8259128</td>\n",
              "      <td>645888</td>\n",
              "      <td>4052</td>\n",
              "      <td>...</td>\n",
              "      <td>https://i.ytimg.com/vi/1PhPYr_9zRY/default.jpg</td>\n",
              "      <td>False</td>\n",
              "      <td>False</td>\n",
              "      <td>False</td>\n",
              "      <td>BTS with the PPS, the puppies. These adorable ...</td>\n",
              "      <td>0.078203</td>\n",
              "      <td>lots of views</td>\n",
              "      <td>2018-05-18 16:39:29+00:00</td>\n",
              "      <td>2018-06-14 00:00:00+00:00</td>\n",
              "      <td>27 days</td>\n",
              "    </tr>\n",
              "    <tr>\n",
              "      <th>40947</th>\n",
              "      <td>oV0zkMe1K8s</td>\n",
              "      <td>18.14.06</td>\n",
              "      <td>How Black Panther Should Have Ended</td>\n",
              "      <td>How It Should Have Ended</td>\n",
              "      <td>1</td>\n",
              "      <td>2018-05-17T17:00:04.000Z</td>\n",
              "      <td>Black Panther|\"HISHE\"|\"Marvel\"|\"Infinity War\"|...</td>\n",
              "      <td>5660813</td>\n",
              "      <td>192957</td>\n",
              "      <td>2846</td>\n",
              "      <td>...</td>\n",
              "      <td>https://i.ytimg.com/vi/oV0zkMe1K8s/default.jpg</td>\n",
              "      <td>False</td>\n",
              "      <td>False</td>\n",
              "      <td>False</td>\n",
              "      <td>How Black Panther Should Have EndedWatch More ...</td>\n",
              "      <td>0.034086</td>\n",
              "      <td>lots of views</td>\n",
              "      <td>2018-05-17 17:00:04+00:00</td>\n",
              "      <td>2018-06-14 00:00:00+00:00</td>\n",
              "      <td>28 days</td>\n",
              "    </tr>\n",
              "    <tr>\n",
              "      <th>40948</th>\n",
              "      <td>ooyjaVdt-jA</td>\n",
              "      <td>18.14.06</td>\n",
              "      <td>Official Call of Duty®: Black Ops 4 — Multipla...</td>\n",
              "      <td>Call of Duty</td>\n",
              "      <td>20</td>\n",
              "      <td>2018-05-17T17:09:38.000Z</td>\n",
              "      <td>call of duty|\"cod\"|\"activision\"|\"Black Ops 4\"</td>\n",
              "      <td>10306119</td>\n",
              "      <td>357079</td>\n",
              "      <td>212976</td>\n",
              "      <td>...</td>\n",
              "      <td>https://i.ytimg.com/vi/ooyjaVdt-jA/default.jpg</td>\n",
              "      <td>False</td>\n",
              "      <td>False</td>\n",
              "      <td>False</td>\n",
              "      <td>Call of Duty: Black Ops 4 Multiplayer raises t...</td>\n",
              "      <td>0.034647</td>\n",
              "      <td>NaN</td>\n",
              "      <td>2018-05-17 17:09:38+00:00</td>\n",
              "      <td>2018-06-14 00:00:00+00:00</td>\n",
              "      <td>28 days</td>\n",
              "    </tr>\n",
              "  </tbody>\n",
              "</table>\n",
              "<p>6448 rows × 21 columns</p>\n",
              "</div>"
            ],
            "text/plain": [
              "          video_id trending_date  \\\n",
              "2      5qpjK5DgCt4      17.14.11   \n",
              "32     n1WpP7iowLc      17.14.11   \n",
              "53     9t9u_yPEidY      17.14.11   \n",
              "67     t4YAyT4ihIQ      17.14.11   \n",
              "69     Jw1Y-zhQURU      17.14.11   \n",
              "...            ...           ...   \n",
              "40941  7UoP9ABJXGE      18.14.06   \n",
              "40942  ju_inUnrLc4      18.14.06   \n",
              "40943  1PhPYr_9zRY      18.14.06   \n",
              "40947  oV0zkMe1K8s      18.14.06   \n",
              "40948  ooyjaVdt-jA      18.14.06   \n",
              "\n",
              "                                                   title  \\\n",
              "2      Racist Superman | Rudy Mancuso, King Bach & Le...   \n",
              "32            Eminem - Walk On Water (Audio) ft. Beyoncé   \n",
              "53     Jennifer Lopez - Amor, Amor, Amor (Official Vi...   \n",
              "67               Getting My Driver's License | Lele Pons   \n",
              "69         John Lewis Christmas Ad 2017 - #MozTheMonster   \n",
              "...                                                  ...   \n",
              "40941            Dan + Shay - Speechless (Wedding Video)   \n",
              "40942              Fifth Harmony - Don't Say You Love Me   \n",
              "40943  BTS Plays With Puppies While Answering Fan Que...   \n",
              "40947                How Black Panther Should Have Ended   \n",
              "40948  Official Call of Duty®: Black Ops 4 — Multipla...   \n",
              "\n",
              "                  channel_title  category_id              publish_time  \\\n",
              "2                  Rudy Mancuso           23  2017-11-12T19:05:24.000Z   \n",
              "32                   EminemVEVO           10  2017-11-10T17:00:03.000Z   \n",
              "53            JenniferLopezVEVO           10  2017-11-10T15:00:00.000Z   \n",
              "67                    Lele Pons           23  2017-11-10T18:30:01.000Z   \n",
              "69                   John Lewis           26  2017-11-10T07:38:29.000Z   \n",
              "...                         ...          ...                       ...   \n",
              "40941              Dan And Shay           10  2018-05-18T04:04:58.000Z   \n",
              "40942          FifthHarmonyVEVO           10  2018-05-18T07:00:08.000Z   \n",
              "40943            BuzzFeed Celeb           22  2018-05-18T16:39:29.000Z   \n",
              "40947  How It Should Have Ended            1  2018-05-17T17:00:04.000Z   \n",
              "40948              Call of Duty           20  2018-05-17T17:09:38.000Z   \n",
              "\n",
              "                                                    tags     views   likes  \\\n",
              "2      racist superman|\"rudy\"|\"mancuso\"|\"king\"|\"bach\"...   3191434  146033   \n",
              "32     Eminem|\"Walk\"|\"On\"|\"Water\"|\"Aftermath/Shady/In...  17158531  787419   \n",
              "53     Jennifer Lopez ft. Wisin|\"Jennifer Lopez ft. W...   9548677  190083   \n",
              "67     getting my drivers license|\"lele\"|\"pons\"|\"gett...   3358068  120876   \n",
              "69     christmas|\"john lewis christmas\"|\"john lewis\"|...   7224515   55681   \n",
              "...                                                  ...       ...     ...   \n",
              "40941  wedding video|\"heartfelt wedding video\"|\"emoti...   5534278   45128   \n",
              "40942  fifth hamony|\"harmonizers\"|\"lauren\"|\"ally\"|\"no...  23502572  676467   \n",
              "40943  BuzzFeed|\"BuzzFeedVideo\"|\"Puppy Interview\"|\"pu...   8259128  645888   \n",
              "40947  Black Panther|\"HISHE\"|\"Marvel\"|\"Infinity War\"|...   5660813  192957   \n",
              "40948      call of duty|\"cod\"|\"activision\"|\"Black Ops 4\"  10306119  357079   \n",
              "\n",
              "       dislikes  ...                                  thumbnail_link  \\\n",
              "2          5339  ...  https://i.ytimg.com/vi/5qpjK5DgCt4/default.jpg   \n",
              "32        43420  ...  https://i.ytimg.com/vi/n1WpP7iowLc/default.jpg   \n",
              "53        15015  ...  https://i.ytimg.com/vi/9t9u_yPEidY/default.jpg   \n",
              "67         8279  ...  https://i.ytimg.com/vi/t4YAyT4ihIQ/default.jpg   \n",
              "69        10247  ...  https://i.ytimg.com/vi/Jw1Y-zhQURU/default.jpg   \n",
              "...         ...  ...                                             ...   \n",
              "40941      1591  ...  https://i.ytimg.com/vi/7UoP9ABJXGE/default.jpg   \n",
              "40942     15993  ...  https://i.ytimg.com/vi/ju_inUnrLc4/default.jpg   \n",
              "40943      4052  ...  https://i.ytimg.com/vi/1PhPYr_9zRY/default.jpg   \n",
              "40947      2846  ...  https://i.ytimg.com/vi/oV0zkMe1K8s/default.jpg   \n",
              "40948    212976  ...  https://i.ytimg.com/vi/ooyjaVdt-jA/default.jpg   \n",
              "\n",
              "      comments_disabled  ratings_disabled  video_error_or_removed  \\\n",
              "2                 False             False                   False   \n",
              "32                False             False                   False   \n",
              "53                False             False                   False   \n",
              "67                False             False                   False   \n",
              "69                False             False                   False   \n",
              "...                 ...               ...                     ...   \n",
              "40941             False             False                   False   \n",
              "40942             False             False                   False   \n",
              "40943             False             False                   False   \n",
              "40947             False             False                   False   \n",
              "40948             False             False                   False   \n",
              "\n",
              "                                             description lpv_ratio  \\\n",
              "2      WATCH MY PREVIOUS VIDEO ▶ \\n\\nSUBSCRIBE ► http...  0.045758   \n",
              "32     Eminem's new track Walk on Water ft. Beyoncé i...  0.045891   \n",
              "53     Jennifer Lopez ft. Wisin - Amor, Amor, Amor (O...  0.019907   \n",
              "67     WATCH MY PREVIOUS VIDEO ▶ https://youtu.be/T8j...  0.035996   \n",
              "69     Click here to continue the story and make your...  0.007707   \n",
              "...                                                  ...       ...   \n",
              "40941  Stream + Download:https://wmna.sh/speechlessht...  0.008154   \n",
              "40942  Fifth Harmony available at iTunes http://smart...  0.028783   \n",
              "40943  BTS with the PPS, the puppies. These adorable ...  0.078203   \n",
              "40947  How Black Panther Should Have EndedWatch More ...  0.034086   \n",
              "40948  Call of Duty: Black Ops 4 Multiplayer raises t...  0.034647   \n",
              "\n",
              "         views_level                publish_dt               trending_dt  \\\n",
              "2         more views 2017-11-12 19:05:24+00:00 2017-11-14 00:00:00+00:00   \n",
              "32               NaN 2017-11-10 17:00:03+00:00 2017-11-14 00:00:00+00:00   \n",
              "53     lots of views 2017-11-10 15:00:00+00:00 2017-11-14 00:00:00+00:00   \n",
              "67        more views 2017-11-10 18:30:01+00:00 2017-11-14 00:00:00+00:00   \n",
              "69     lots of views 2017-11-10 07:38:29+00:00 2017-11-14 00:00:00+00:00   \n",
              "...              ...                       ...                       ...   \n",
              "40941  lots of views 2018-05-18 04:04:58+00:00 2018-06-14 00:00:00+00:00   \n",
              "40942            NaN 2018-05-18 07:00:08+00:00 2018-06-14 00:00:00+00:00   \n",
              "40943  lots of views 2018-05-18 16:39:29+00:00 2018-06-14 00:00:00+00:00   \n",
              "40947  lots of views 2018-05-17 17:00:04+00:00 2018-06-14 00:00:00+00:00   \n",
              "40948            NaN 2018-05-17 17:09:38+00:00 2018-06-14 00:00:00+00:00   \n",
              "\n",
              "      days_to_trending  \n",
              "2               2 days  \n",
              "32              4 days  \n",
              "53              4 days  \n",
              "67              4 days  \n",
              "69              4 days  \n",
              "...                ...  \n",
              "40941          27 days  \n",
              "40942          27 days  \n",
              "40943          27 days  \n",
              "40947          28 days  \n",
              "40948          28 days  \n",
              "\n",
              "[6448 rows x 21 columns]"
            ]
          },
          "execution_count": 107,
          "metadata": {},
          "output_type": "execute_result"
        }
      ],
      "source": [
        "vdo_df[vdo_df.views > 3000000]"
      ]
    },
    {
      "cell_type": "code",
      "execution_count": 48,
      "metadata": {
        "colab": {
          "base_uri": "https://localhost:8080/"
        },
        "id": "N9DjX4uw0Q4n",
        "outputId": "915a49b5-42eb-4c2b-b317-e2dd2a8c52f0",
        "scrolled": true
      },
      "outputs": [
        {
          "data": {
            "text/html": [
              "<div>\n",
              "<style scoped>\n",
              "    .dataframe tbody tr th:only-of-type {\n",
              "        vertical-align: middle;\n",
              "    }\n",
              "\n",
              "    .dataframe tbody tr th {\n",
              "        vertical-align: top;\n",
              "    }\n",
              "\n",
              "    .dataframe thead th {\n",
              "        text-align: right;\n",
              "    }\n",
              "</style>\n",
              "<table border=\"1\" class=\"dataframe\">\n",
              "  <thead>\n",
              "    <tr style=\"text-align: right;\">\n",
              "      <th></th>\n",
              "      <th>title</th>\n",
              "      <th>views</th>\n",
              "    </tr>\n",
              "  </thead>\n",
              "  <tbody>\n",
              "    <tr>\n",
              "      <th>2</th>\n",
              "      <td>Racist Superman | Rudy Mancuso, King Bach &amp; Le...</td>\n",
              "      <td>3191434</td>\n",
              "    </tr>\n",
              "    <tr>\n",
              "      <th>32</th>\n",
              "      <td>Eminem - Walk On Water (Audio) ft. Beyoncé</td>\n",
              "      <td>17158531</td>\n",
              "    </tr>\n",
              "    <tr>\n",
              "      <th>53</th>\n",
              "      <td>Jennifer Lopez - Amor, Amor, Amor (Official Vi...</td>\n",
              "      <td>9548677</td>\n",
              "    </tr>\n",
              "    <tr>\n",
              "      <th>67</th>\n",
              "      <td>Getting My Driver's License | Lele Pons</td>\n",
              "      <td>3358068</td>\n",
              "    </tr>\n",
              "    <tr>\n",
              "      <th>69</th>\n",
              "      <td>John Lewis Christmas Ad 2017 - #MozTheMonster</td>\n",
              "      <td>7224515</td>\n",
              "    </tr>\n",
              "    <tr>\n",
              "      <th>...</th>\n",
              "      <td>...</td>\n",
              "      <td>...</td>\n",
              "    </tr>\n",
              "    <tr>\n",
              "      <th>40941</th>\n",
              "      <td>Dan + Shay - Speechless (Wedding Video)</td>\n",
              "      <td>5534278</td>\n",
              "    </tr>\n",
              "    <tr>\n",
              "      <th>40942</th>\n",
              "      <td>Fifth Harmony - Don't Say You Love Me</td>\n",
              "      <td>23502572</td>\n",
              "    </tr>\n",
              "    <tr>\n",
              "      <th>40943</th>\n",
              "      <td>BTS Plays With Puppies While Answering Fan Que...</td>\n",
              "      <td>8259128</td>\n",
              "    </tr>\n",
              "    <tr>\n",
              "      <th>40947</th>\n",
              "      <td>How Black Panther Should Have Ended</td>\n",
              "      <td>5660813</td>\n",
              "    </tr>\n",
              "    <tr>\n",
              "      <th>40948</th>\n",
              "      <td>Official Call of Duty®: Black Ops 4 — Multipla...</td>\n",
              "      <td>10306119</td>\n",
              "    </tr>\n",
              "  </tbody>\n",
              "</table>\n",
              "<p>6448 rows × 2 columns</p>\n",
              "</div>"
            ],
            "text/plain": [
              "                                                   title     views\n",
              "2      Racist Superman | Rudy Mancuso, King Bach & Le...   3191434\n",
              "32            Eminem - Walk On Water (Audio) ft. Beyoncé  17158531\n",
              "53     Jennifer Lopez - Amor, Amor, Amor (Official Vi...   9548677\n",
              "67               Getting My Driver's License | Lele Pons   3358068\n",
              "69         John Lewis Christmas Ad 2017 - #MozTheMonster   7224515\n",
              "...                                                  ...       ...\n",
              "40941            Dan + Shay - Speechless (Wedding Video)   5534278\n",
              "40942              Fifth Harmony - Don't Say You Love Me  23502572\n",
              "40943  BTS Plays With Puppies While Answering Fan Que...   8259128\n",
              "40947                How Black Panther Should Have Ended   5660813\n",
              "40948  Official Call of Duty®: Black Ops 4 — Multipla...  10306119\n",
              "\n",
              "[6448 rows x 2 columns]"
            ]
          },
          "execution_count": 48,
          "metadata": {},
          "output_type": "execute_result"
        }
      ],
      "source": [
        "vdo_df[vdo_df.views > 3000000][['title', 'views']]"
      ]
    },
    {
      "cell_type": "markdown",
      "metadata": {
        "id": "HJn4MYQo0Q4n"
      },
      "source": [
        "Multiple conditions are supported.  However, the parenthesis around each condition is essential."
      ]
    },
    {
      "cell_type": "code",
      "execution_count": 49,
      "metadata": {
        "colab": {
          "base_uri": "https://localhost:8080/"
        },
        "id": "xpADxM490Q4n",
        "outputId": "4eb5144d-6021-42fa-fae5-0b52ca6df3ac"
      },
      "outputs": [
        {
          "data": {
            "text/html": [
              "<div>\n",
              "<style scoped>\n",
              "    .dataframe tbody tr th:only-of-type {\n",
              "        vertical-align: middle;\n",
              "    }\n",
              "\n",
              "    .dataframe tbody tr th {\n",
              "        vertical-align: top;\n",
              "    }\n",
              "\n",
              "    .dataframe thead th {\n",
              "        text-align: right;\n",
              "    }\n",
              "</style>\n",
              "<table border=\"1\" class=\"dataframe\">\n",
              "  <thead>\n",
              "    <tr style=\"text-align: right;\">\n",
              "      <th></th>\n",
              "      <th>video_id</th>\n",
              "      <th>trending_date</th>\n",
              "      <th>title</th>\n",
              "      <th>channel_title</th>\n",
              "      <th>category_id</th>\n",
              "      <th>publish_time</th>\n",
              "      <th>tags</th>\n",
              "      <th>views</th>\n",
              "      <th>likes</th>\n",
              "      <th>dislikes</th>\n",
              "      <th>comment_count</th>\n",
              "      <th>thumbnail_link</th>\n",
              "      <th>comments_disabled</th>\n",
              "      <th>ratings_disabled</th>\n",
              "      <th>video_error_or_removed</th>\n",
              "      <th>description</th>\n",
              "    </tr>\n",
              "  </thead>\n",
              "  <tbody>\n",
              "    <tr>\n",
              "      <th>2</th>\n",
              "      <td>5qpjK5DgCt4</td>\n",
              "      <td>17.14.11</td>\n",
              "      <td>Racist Superman | Rudy Mancuso, King Bach &amp; Le...</td>\n",
              "      <td>Rudy Mancuso</td>\n",
              "      <td>23</td>\n",
              "      <td>2017-11-12T19:05:24.000Z</td>\n",
              "      <td>racist superman|\"rudy\"|\"mancuso\"|\"king\"|\"bach\"...</td>\n",
              "      <td>3191434</td>\n",
              "      <td>146033</td>\n",
              "      <td>5339</td>\n",
              "      <td>8181</td>\n",
              "      <td>https://i.ytimg.com/vi/5qpjK5DgCt4/default.jpg</td>\n",
              "      <td>False</td>\n",
              "      <td>False</td>\n",
              "      <td>False</td>\n",
              "      <td>WATCH MY PREVIOUS VIDEO ▶ \\n\\nSUBSCRIBE ► http...</td>\n",
              "    </tr>\n",
              "    <tr>\n",
              "      <th>32</th>\n",
              "      <td>n1WpP7iowLc</td>\n",
              "      <td>17.14.11</td>\n",
              "      <td>Eminem - Walk On Water (Audio) ft. Beyoncé</td>\n",
              "      <td>EminemVEVO</td>\n",
              "      <td>10</td>\n",
              "      <td>2017-11-10T17:00:03.000Z</td>\n",
              "      <td>Eminem|\"Walk\"|\"On\"|\"Water\"|\"Aftermath/Shady/In...</td>\n",
              "      <td>17158531</td>\n",
              "      <td>787419</td>\n",
              "      <td>43420</td>\n",
              "      <td>125882</td>\n",
              "      <td>https://i.ytimg.com/vi/n1WpP7iowLc/default.jpg</td>\n",
              "      <td>False</td>\n",
              "      <td>False</td>\n",
              "      <td>False</td>\n",
              "      <td>Eminem's new track Walk on Water ft. Beyoncé i...</td>\n",
              "    </tr>\n",
              "    <tr>\n",
              "      <th>53</th>\n",
              "      <td>9t9u_yPEidY</td>\n",
              "      <td>17.14.11</td>\n",
              "      <td>Jennifer Lopez - Amor, Amor, Amor (Official Vi...</td>\n",
              "      <td>JenniferLopezVEVO</td>\n",
              "      <td>10</td>\n",
              "      <td>2017-11-10T15:00:00.000Z</td>\n",
              "      <td>Jennifer Lopez ft. Wisin|\"Jennifer Lopez ft. W...</td>\n",
              "      <td>9548677</td>\n",
              "      <td>190083</td>\n",
              "      <td>15015</td>\n",
              "      <td>11473</td>\n",
              "      <td>https://i.ytimg.com/vi/9t9u_yPEidY/default.jpg</td>\n",
              "      <td>False</td>\n",
              "      <td>False</td>\n",
              "      <td>False</td>\n",
              "      <td>Jennifer Lopez ft. Wisin - Amor, Amor, Amor (O...</td>\n",
              "    </tr>\n",
              "    <tr>\n",
              "      <th>67</th>\n",
              "      <td>t4YAyT4ihIQ</td>\n",
              "      <td>17.14.11</td>\n",
              "      <td>Getting My Driver's License | Lele Pons</td>\n",
              "      <td>Lele Pons</td>\n",
              "      <td>23</td>\n",
              "      <td>2017-11-10T18:30:01.000Z</td>\n",
              "      <td>getting my drivers license|\"lele\"|\"pons\"|\"gett...</td>\n",
              "      <td>3358068</td>\n",
              "      <td>120876</td>\n",
              "      <td>8279</td>\n",
              "      <td>6408</td>\n",
              "      <td>https://i.ytimg.com/vi/t4YAyT4ihIQ/default.jpg</td>\n",
              "      <td>False</td>\n",
              "      <td>False</td>\n",
              "      <td>False</td>\n",
              "      <td>WATCH MY PREVIOUS VIDEO ▶ https://youtu.be/T8j...</td>\n",
              "    </tr>\n",
              "    <tr>\n",
              "      <th>70</th>\n",
              "      <td>2Vv-BfVoq4g</td>\n",
              "      <td>17.14.11</td>\n",
              "      <td>Ed Sheeran - Perfect (Official Music Video)</td>\n",
              "      <td>Ed Sheeran</td>\n",
              "      <td>10</td>\n",
              "      <td>2017-11-09T11:04:14.000Z</td>\n",
              "      <td>edsheeran|\"ed sheeran\"|\"acoustic\"|\"live\"|\"cove...</td>\n",
              "      <td>33523622</td>\n",
              "      <td>1634124</td>\n",
              "      <td>21082</td>\n",
              "      <td>85067</td>\n",
              "      <td>https://i.ytimg.com/vi/2Vv-BfVoq4g/default.jpg</td>\n",
              "      <td>False</td>\n",
              "      <td>False</td>\n",
              "      <td>False</td>\n",
              "      <td>🎧: https://ad.gt/yt-perfect\\n💰: https://atlant...</td>\n",
              "    </tr>\n",
              "    <tr>\n",
              "      <th>...</th>\n",
              "      <td>...</td>\n",
              "      <td>...</td>\n",
              "      <td>...</td>\n",
              "      <td>...</td>\n",
              "      <td>...</td>\n",
              "      <td>...</td>\n",
              "      <td>...</td>\n",
              "      <td>...</td>\n",
              "      <td>...</td>\n",
              "      <td>...</td>\n",
              "      <td>...</td>\n",
              "      <td>...</td>\n",
              "      <td>...</td>\n",
              "      <td>...</td>\n",
              "      <td>...</td>\n",
              "      <td>...</td>\n",
              "    </tr>\n",
              "    <tr>\n",
              "      <th>40939</th>\n",
              "      <td>pcJo0tIWybY</td>\n",
              "      <td>18.14.06</td>\n",
              "      <td>SZA - Garden (Say It Like Dat) (Official Video)</td>\n",
              "      <td>SZAVEVO</td>\n",
              "      <td>10</td>\n",
              "      <td>2018-05-18T14:00:04.000Z</td>\n",
              "      <td>Garden (Say It Like Dat)|\"R&amp;B\"|\"SZA\"|\"Top Dawg...</td>\n",
              "      <td>6004782</td>\n",
              "      <td>210802</td>\n",
              "      <td>4166</td>\n",
              "      <td>15169</td>\n",
              "      <td>https://i.ytimg.com/vi/pcJo0tIWybY/default.jpg</td>\n",
              "      <td>False</td>\n",
              "      <td>False</td>\n",
              "      <td>False</td>\n",
              "      <td>SZA's CTRL available on:Apple Music - http://s...</td>\n",
              "    </tr>\n",
              "    <tr>\n",
              "      <th>40942</th>\n",
              "      <td>ju_inUnrLc4</td>\n",
              "      <td>18.14.06</td>\n",
              "      <td>Fifth Harmony - Don't Say You Love Me</td>\n",
              "      <td>FifthHarmonyVEVO</td>\n",
              "      <td>10</td>\n",
              "      <td>2018-05-18T07:00:08.000Z</td>\n",
              "      <td>fifth hamony|\"harmonizers\"|\"lauren\"|\"ally\"|\"no...</td>\n",
              "      <td>23502572</td>\n",
              "      <td>676467</td>\n",
              "      <td>15993</td>\n",
              "      <td>52432</td>\n",
              "      <td>https://i.ytimg.com/vi/ju_inUnrLc4/default.jpg</td>\n",
              "      <td>False</td>\n",
              "      <td>False</td>\n",
              "      <td>False</td>\n",
              "      <td>Fifth Harmony available at iTunes http://smart...</td>\n",
              "    </tr>\n",
              "    <tr>\n",
              "      <th>40943</th>\n",
              "      <td>1PhPYr_9zRY</td>\n",
              "      <td>18.14.06</td>\n",
              "      <td>BTS Plays With Puppies While Answering Fan Que...</td>\n",
              "      <td>BuzzFeed Celeb</td>\n",
              "      <td>22</td>\n",
              "      <td>2018-05-18T16:39:29.000Z</td>\n",
              "      <td>BuzzFeed|\"BuzzFeedVideo\"|\"Puppy Interview\"|\"pu...</td>\n",
              "      <td>8259128</td>\n",
              "      <td>645888</td>\n",
              "      <td>4052</td>\n",
              "      <td>62610</td>\n",
              "      <td>https://i.ytimg.com/vi/1PhPYr_9zRY/default.jpg</td>\n",
              "      <td>False</td>\n",
              "      <td>False</td>\n",
              "      <td>False</td>\n",
              "      <td>BTS with the PPS, the puppies. These adorable ...</td>\n",
              "    </tr>\n",
              "    <tr>\n",
              "      <th>40947</th>\n",
              "      <td>oV0zkMe1K8s</td>\n",
              "      <td>18.14.06</td>\n",
              "      <td>How Black Panther Should Have Ended</td>\n",
              "      <td>How It Should Have Ended</td>\n",
              "      <td>1</td>\n",
              "      <td>2018-05-17T17:00:04.000Z</td>\n",
              "      <td>Black Panther|\"HISHE\"|\"Marvel\"|\"Infinity War\"|...</td>\n",
              "      <td>5660813</td>\n",
              "      <td>192957</td>\n",
              "      <td>2846</td>\n",
              "      <td>13088</td>\n",
              "      <td>https://i.ytimg.com/vi/oV0zkMe1K8s/default.jpg</td>\n",
              "      <td>False</td>\n",
              "      <td>False</td>\n",
              "      <td>False</td>\n",
              "      <td>How Black Panther Should Have EndedWatch More ...</td>\n",
              "    </tr>\n",
              "    <tr>\n",
              "      <th>40948</th>\n",
              "      <td>ooyjaVdt-jA</td>\n",
              "      <td>18.14.06</td>\n",
              "      <td>Official Call of Duty®: Black Ops 4 — Multipla...</td>\n",
              "      <td>Call of Duty</td>\n",
              "      <td>20</td>\n",
              "      <td>2018-05-17T17:09:38.000Z</td>\n",
              "      <td>call of duty|\"cod\"|\"activision\"|\"Black Ops 4\"</td>\n",
              "      <td>10306119</td>\n",
              "      <td>357079</td>\n",
              "      <td>212976</td>\n",
              "      <td>144795</td>\n",
              "      <td>https://i.ytimg.com/vi/ooyjaVdt-jA/default.jpg</td>\n",
              "      <td>False</td>\n",
              "      <td>False</td>\n",
              "      <td>False</td>\n",
              "      <td>Call of Duty: Black Ops 4 Multiplayer raises t...</td>\n",
              "    </tr>\n",
              "  </tbody>\n",
              "</table>\n",
              "<p>4660 rows × 16 columns</p>\n",
              "</div>"
            ],
            "text/plain": [
              "          video_id trending_date  \\\n",
              "2      5qpjK5DgCt4      17.14.11   \n",
              "32     n1WpP7iowLc      17.14.11   \n",
              "53     9t9u_yPEidY      17.14.11   \n",
              "67     t4YAyT4ihIQ      17.14.11   \n",
              "70     2Vv-BfVoq4g      17.14.11   \n",
              "...            ...           ...   \n",
              "40939  pcJo0tIWybY      18.14.06   \n",
              "40942  ju_inUnrLc4      18.14.06   \n",
              "40943  1PhPYr_9zRY      18.14.06   \n",
              "40947  oV0zkMe1K8s      18.14.06   \n",
              "40948  ooyjaVdt-jA      18.14.06   \n",
              "\n",
              "                                                   title  \\\n",
              "2      Racist Superman | Rudy Mancuso, King Bach & Le...   \n",
              "32            Eminem - Walk On Water (Audio) ft. Beyoncé   \n",
              "53     Jennifer Lopez - Amor, Amor, Amor (Official Vi...   \n",
              "67               Getting My Driver's License | Lele Pons   \n",
              "70           Ed Sheeran - Perfect (Official Music Video)   \n",
              "...                                                  ...   \n",
              "40939    SZA - Garden (Say It Like Dat) (Official Video)   \n",
              "40942              Fifth Harmony - Don't Say You Love Me   \n",
              "40943  BTS Plays With Puppies While Answering Fan Que...   \n",
              "40947                How Black Panther Should Have Ended   \n",
              "40948  Official Call of Duty®: Black Ops 4 — Multipla...   \n",
              "\n",
              "                  channel_title  category_id              publish_time  \\\n",
              "2                  Rudy Mancuso           23  2017-11-12T19:05:24.000Z   \n",
              "32                   EminemVEVO           10  2017-11-10T17:00:03.000Z   \n",
              "53            JenniferLopezVEVO           10  2017-11-10T15:00:00.000Z   \n",
              "67                    Lele Pons           23  2017-11-10T18:30:01.000Z   \n",
              "70                   Ed Sheeran           10  2017-11-09T11:04:14.000Z   \n",
              "...                         ...          ...                       ...   \n",
              "40939                   SZAVEVO           10  2018-05-18T14:00:04.000Z   \n",
              "40942          FifthHarmonyVEVO           10  2018-05-18T07:00:08.000Z   \n",
              "40943            BuzzFeed Celeb           22  2018-05-18T16:39:29.000Z   \n",
              "40947  How It Should Have Ended            1  2018-05-17T17:00:04.000Z   \n",
              "40948              Call of Duty           20  2018-05-17T17:09:38.000Z   \n",
              "\n",
              "                                                    tags     views    likes  \\\n",
              "2      racist superman|\"rudy\"|\"mancuso\"|\"king\"|\"bach\"...   3191434   146033   \n",
              "32     Eminem|\"Walk\"|\"On\"|\"Water\"|\"Aftermath/Shady/In...  17158531   787419   \n",
              "53     Jennifer Lopez ft. Wisin|\"Jennifer Lopez ft. W...   9548677   190083   \n",
              "67     getting my drivers license|\"lele\"|\"pons\"|\"gett...   3358068   120876   \n",
              "70     edsheeran|\"ed sheeran\"|\"acoustic\"|\"live\"|\"cove...  33523622  1634124   \n",
              "...                                                  ...       ...      ...   \n",
              "40939  Garden (Say It Like Dat)|\"R&B\"|\"SZA\"|\"Top Dawg...   6004782   210802   \n",
              "40942  fifth hamony|\"harmonizers\"|\"lauren\"|\"ally\"|\"no...  23502572   676467   \n",
              "40943  BuzzFeed|\"BuzzFeedVideo\"|\"Puppy Interview\"|\"pu...   8259128   645888   \n",
              "40947  Black Panther|\"HISHE\"|\"Marvel\"|\"Infinity War\"|...   5660813   192957   \n",
              "40948      call of duty|\"cod\"|\"activision\"|\"Black Ops 4\"  10306119   357079   \n",
              "\n",
              "       dislikes  comment_count  \\\n",
              "2          5339           8181   \n",
              "32        43420         125882   \n",
              "53        15015          11473   \n",
              "67         8279           6408   \n",
              "70        21082          85067   \n",
              "...         ...            ...   \n",
              "40939      4166          15169   \n",
              "40942     15993          52432   \n",
              "40943      4052          62610   \n",
              "40947      2846          13088   \n",
              "40948    212976         144795   \n",
              "\n",
              "                                       thumbnail_link  comments_disabled  \\\n",
              "2      https://i.ytimg.com/vi/5qpjK5DgCt4/default.jpg              False   \n",
              "32     https://i.ytimg.com/vi/n1WpP7iowLc/default.jpg              False   \n",
              "53     https://i.ytimg.com/vi/9t9u_yPEidY/default.jpg              False   \n",
              "67     https://i.ytimg.com/vi/t4YAyT4ihIQ/default.jpg              False   \n",
              "70     https://i.ytimg.com/vi/2Vv-BfVoq4g/default.jpg              False   \n",
              "...                                               ...                ...   \n",
              "40939  https://i.ytimg.com/vi/pcJo0tIWybY/default.jpg              False   \n",
              "40942  https://i.ytimg.com/vi/ju_inUnrLc4/default.jpg              False   \n",
              "40943  https://i.ytimg.com/vi/1PhPYr_9zRY/default.jpg              False   \n",
              "40947  https://i.ytimg.com/vi/oV0zkMe1K8s/default.jpg              False   \n",
              "40948  https://i.ytimg.com/vi/ooyjaVdt-jA/default.jpg              False   \n",
              "\n",
              "       ratings_disabled  video_error_or_removed  \\\n",
              "2                 False                   False   \n",
              "32                False                   False   \n",
              "53                False                   False   \n",
              "67                False                   False   \n",
              "70                False                   False   \n",
              "...                 ...                     ...   \n",
              "40939             False                   False   \n",
              "40942             False                   False   \n",
              "40943             False                   False   \n",
              "40947             False                   False   \n",
              "40948             False                   False   \n",
              "\n",
              "                                             description  \n",
              "2      WATCH MY PREVIOUS VIDEO ▶ \\n\\nSUBSCRIBE ► http...  \n",
              "32     Eminem's new track Walk on Water ft. Beyoncé i...  \n",
              "53     Jennifer Lopez ft. Wisin - Amor, Amor, Amor (O...  \n",
              "67     WATCH MY PREVIOUS VIDEO ▶ https://youtu.be/T8j...  \n",
              "70     🎧: https://ad.gt/yt-perfect\\n💰: https://atlant...  \n",
              "...                                                  ...  \n",
              "40939  SZA's CTRL available on:Apple Music - http://s...  \n",
              "40942  Fifth Harmony available at iTunes http://smart...  \n",
              "40943  BTS with the PPS, the puppies. These adorable ...  \n",
              "40947  How Black Panther Should Have EndedWatch More ...  \n",
              "40948  Call of Duty: Black Ops 4 Multiplayer raises t...  \n",
              "\n",
              "[4660 rows x 16 columns]"
            ]
          },
          "execution_count": 49,
          "metadata": {},
          "output_type": "execute_result"
        }
      ],
      "source": [
        "vdo_df[(vdo_df.views > 3000000) & (vdo_df.likes > 100000)]"
      ]
    },
    {
      "cell_type": "code",
      "execution_count": 108,
      "metadata": {
        "colab": {
          "base_uri": "https://localhost:8080/"
        },
        "id": "yhjGqZ_s0Q4n",
        "outputId": "78030786-f457-43c8-9caa-d9a85f305850"
      },
      "outputs": [
        {
          "data": {
            "text/plain": [
              "0    False\n",
              "1    False\n",
              "2     True\n",
              "3    False\n",
              "4    False\n",
              "Name: views, dtype: bool"
            ]
          },
          "execution_count": 108,
          "metadata": {},
          "output_type": "execute_result"
        }
      ],
      "source": [
        "(vdo_df.views > 3000000).head()"
      ]
    },
    {
      "cell_type": "code",
      "execution_count": 109,
      "metadata": {
        "colab": {
          "base_uri": "https://localhost:8080/"
        },
        "id": "5NuJnT2v0Q4n",
        "outputId": "796b2da6-2d15-4b2a-d982-45b366d32057",
        "scrolled": true
      },
      "outputs": [
        {
          "data": {
            "text/plain": [
              "0    False\n",
              "1    False\n",
              "2     True\n",
              "3    False\n",
              "4     True\n",
              "Name: likes, dtype: bool"
            ]
          },
          "execution_count": 109,
          "metadata": {},
          "output_type": "execute_result"
        }
      ],
      "source": [
        "(vdo_df.likes > 100000).head()"
      ]
    },
    {
      "cell_type": "markdown",
      "metadata": {
        "id": "E1H6Mhv30Q4o"
      },
      "source": [
        "Notice at row #4.  There is more than 3000000 views, but less than 100000 likes.  Thus, it will not be included in the results.\n",
        "\n",
        "When using complex conditions, you can think more like vectorized comparison and vectorized logical operations."
      ]
    },
    {
      "cell_type": "code",
      "execution_count": 110,
      "metadata": {
        "colab": {
          "base_uri": "https://localhost:8080/"
        },
        "id": "a1S_ZzKd0Q4o",
        "outputId": "70f09261-ac4d-4654-a32c-681ea8fce621"
      },
      "outputs": [
        {
          "data": {
            "text/plain": [
              "0    False\n",
              "1    False\n",
              "2     True\n",
              "3    False\n",
              "4    False\n",
              "dtype: bool"
            ]
          },
          "execution_count": 110,
          "metadata": {},
          "output_type": "execute_result"
        }
      ],
      "source": [
        "((vdo_df.views > 3000000) & (vdo_df.likes > 100000)).head()"
      ]
    },
    {
      "cell_type": "markdown",
      "metadata": {
        "id": "N_QEenUc0Q4o"
      },
      "source": [
        "Back to our original question, what is the VDO with the most views?"
      ]
    },
    {
      "cell_type": "code",
      "execution_count": 53,
      "metadata": {
        "colab": {
          "base_uri": "https://localhost:8080/"
        },
        "id": "A45grN_00Q4o",
        "outputId": "7c2ab285-7e4d-471e-9e1c-6c4295b09467"
      },
      "outputs": [
        {
          "data": {
            "text/html": [
              "<div>\n",
              "<style scoped>\n",
              "    .dataframe tbody tr th:only-of-type {\n",
              "        vertical-align: middle;\n",
              "    }\n",
              "\n",
              "    .dataframe tbody tr th {\n",
              "        vertical-align: top;\n",
              "    }\n",
              "\n",
              "    .dataframe thead th {\n",
              "        text-align: right;\n",
              "    }\n",
              "</style>\n",
              "<table border=\"1\" class=\"dataframe\">\n",
              "  <thead>\n",
              "    <tr style=\"text-align: right;\">\n",
              "      <th></th>\n",
              "      <th>video_id</th>\n",
              "      <th>trending_date</th>\n",
              "      <th>title</th>\n",
              "      <th>channel_title</th>\n",
              "      <th>category_id</th>\n",
              "      <th>publish_time</th>\n",
              "      <th>tags</th>\n",
              "      <th>views</th>\n",
              "      <th>likes</th>\n",
              "      <th>dislikes</th>\n",
              "      <th>comment_count</th>\n",
              "      <th>thumbnail_link</th>\n",
              "      <th>comments_disabled</th>\n",
              "      <th>ratings_disabled</th>\n",
              "      <th>video_error_or_removed</th>\n",
              "      <th>description</th>\n",
              "    </tr>\n",
              "  </thead>\n",
              "  <tbody>\n",
              "    <tr>\n",
              "      <th>38547</th>\n",
              "      <td>VYOjWnS4cMY</td>\n",
              "      <td>18.02.06</td>\n",
              "      <td>Childish Gambino - This Is America (Official V...</td>\n",
              "      <td>ChildishGambinoVEVO</td>\n",
              "      <td>10</td>\n",
              "      <td>2018-05-06T04:00:07.000Z</td>\n",
              "      <td>Childish Gambino|\"Rap\"|\"This Is America\"|\"mcDJ...</td>\n",
              "      <td>225211923</td>\n",
              "      <td>5023450</td>\n",
              "      <td>343541</td>\n",
              "      <td>517232</td>\n",
              "      <td>https://i.ytimg.com/vi/VYOjWnS4cMY/default.jpg</td>\n",
              "      <td>False</td>\n",
              "      <td>False</td>\n",
              "      <td>False</td>\n",
              "      <td>“This is America” by Childish Gambino http://s...</td>\n",
              "    </tr>\n",
              "  </tbody>\n",
              "</table>\n",
              "</div>"
            ],
            "text/plain": [
              "          video_id trending_date  \\\n",
              "38547  VYOjWnS4cMY      18.02.06   \n",
              "\n",
              "                                                   title        channel_title  \\\n",
              "38547  Childish Gambino - This Is America (Official V...  ChildishGambinoVEVO   \n",
              "\n",
              "       category_id              publish_time  \\\n",
              "38547           10  2018-05-06T04:00:07.000Z   \n",
              "\n",
              "                                                    tags      views    likes  \\\n",
              "38547  Childish Gambino|\"Rap\"|\"This Is America\"|\"mcDJ...  225211923  5023450   \n",
              "\n",
              "       dislikes  comment_count  \\\n",
              "38547    343541         517232   \n",
              "\n",
              "                                       thumbnail_link  comments_disabled  \\\n",
              "38547  https://i.ytimg.com/vi/VYOjWnS4cMY/default.jpg              False   \n",
              "\n",
              "       ratings_disabled  video_error_or_removed  \\\n",
              "38547             False                   False   \n",
              "\n",
              "                                             description  \n",
              "38547  “This is America” by Childish Gambino http://s...  "
            ]
          },
          "execution_count": 53,
          "metadata": {},
          "output_type": "execute_result"
        }
      ],
      "source": [
        "vdo_df[vdo_df.views == vdo_df.views.max()]"
      ]
    },
    {
      "cell_type": "markdown",
      "metadata": {
        "id": "TJaNh1f60Q4p"
      },
      "source": [
        "We can create a boolean series from the comparison and use it for boolean indexing."
      ]
    },
    {
      "cell_type": "code",
      "execution_count": 54,
      "metadata": {
        "id": "iY1dxDez0Q4p"
      },
      "outputs": [],
      "source": [
        "most_view_filter = (vdo_df.views == vdo_df.views.max())"
      ]
    },
    {
      "cell_type": "code",
      "execution_count": 55,
      "metadata": {
        "colab": {
          "base_uri": "https://localhost:8080/"
        },
        "id": "QWIq8XT_0Q4p",
        "outputId": "e88142f6-1471-4f25-a815-bedd98d1df48"
      },
      "outputs": [
        {
          "data": {
            "text/plain": [
              "pandas.core.series.Series"
            ]
          },
          "execution_count": 55,
          "metadata": {},
          "output_type": "execute_result"
        }
      ],
      "source": [
        "type(most_view_filter)"
      ]
    },
    {
      "cell_type": "code",
      "execution_count": 56,
      "metadata": {
        "colab": {
          "base_uri": "https://localhost:8080/"
        },
        "id": "-zH0WVep0Q4p",
        "outputId": "0d6ddde5-9c50-4820-c865-593c2e0b0a1b",
        "scrolled": true
      },
      "outputs": [
        {
          "data": {
            "text/html": [
              "<div>\n",
              "<style scoped>\n",
              "    .dataframe tbody tr th:only-of-type {\n",
              "        vertical-align: middle;\n",
              "    }\n",
              "\n",
              "    .dataframe tbody tr th {\n",
              "        vertical-align: top;\n",
              "    }\n",
              "\n",
              "    .dataframe thead th {\n",
              "        text-align: right;\n",
              "    }\n",
              "</style>\n",
              "<table border=\"1\" class=\"dataframe\">\n",
              "  <thead>\n",
              "    <tr style=\"text-align: right;\">\n",
              "      <th></th>\n",
              "      <th>video_id</th>\n",
              "      <th>trending_date</th>\n",
              "      <th>title</th>\n",
              "      <th>channel_title</th>\n",
              "      <th>category_id</th>\n",
              "      <th>publish_time</th>\n",
              "      <th>tags</th>\n",
              "      <th>views</th>\n",
              "      <th>likes</th>\n",
              "      <th>dislikes</th>\n",
              "      <th>comment_count</th>\n",
              "      <th>thumbnail_link</th>\n",
              "      <th>comments_disabled</th>\n",
              "      <th>ratings_disabled</th>\n",
              "      <th>video_error_or_removed</th>\n",
              "      <th>description</th>\n",
              "    </tr>\n",
              "  </thead>\n",
              "  <tbody>\n",
              "    <tr>\n",
              "      <th>38547</th>\n",
              "      <td>VYOjWnS4cMY</td>\n",
              "      <td>18.02.06</td>\n",
              "      <td>Childish Gambino - This Is America (Official V...</td>\n",
              "      <td>ChildishGambinoVEVO</td>\n",
              "      <td>10</td>\n",
              "      <td>2018-05-06T04:00:07.000Z</td>\n",
              "      <td>Childish Gambino|\"Rap\"|\"This Is America\"|\"mcDJ...</td>\n",
              "      <td>225211923</td>\n",
              "      <td>5023450</td>\n",
              "      <td>343541</td>\n",
              "      <td>517232</td>\n",
              "      <td>https://i.ytimg.com/vi/VYOjWnS4cMY/default.jpg</td>\n",
              "      <td>False</td>\n",
              "      <td>False</td>\n",
              "      <td>False</td>\n",
              "      <td>“This is America” by Childish Gambino http://s...</td>\n",
              "    </tr>\n",
              "  </tbody>\n",
              "</table>\n",
              "</div>"
            ],
            "text/plain": [
              "          video_id trending_date  \\\n",
              "38547  VYOjWnS4cMY      18.02.06   \n",
              "\n",
              "                                                   title        channel_title  \\\n",
              "38547  Childish Gambino - This Is America (Official V...  ChildishGambinoVEVO   \n",
              "\n",
              "       category_id              publish_time  \\\n",
              "38547           10  2018-05-06T04:00:07.000Z   \n",
              "\n",
              "                                                    tags      views    likes  \\\n",
              "38547  Childish Gambino|\"Rap\"|\"This Is America\"|\"mcDJ...  225211923  5023450   \n",
              "\n",
              "       dislikes  comment_count  \\\n",
              "38547    343541         517232   \n",
              "\n",
              "                                       thumbnail_link  comments_disabled  \\\n",
              "38547  https://i.ytimg.com/vi/VYOjWnS4cMY/default.jpg              False   \n",
              "\n",
              "       ratings_disabled  video_error_or_removed  \\\n",
              "38547             False                   False   \n",
              "\n",
              "                                             description  \n",
              "38547  “This is America” by Childish Gambino http://s...  "
            ]
          },
          "execution_count": 56,
          "metadata": {},
          "output_type": "execute_result"
        }
      ],
      "source": [
        "vdo_df[most_view_filter]"
      ]
    },
    {
      "cell_type": "markdown",
      "metadata": {
        "id": "WMc831uz0Q4p"
      },
      "source": [
        "Boolean indexing can be used with string and other logical operators"
      ]
    },
    {
      "cell_type": "code",
      "execution_count": 57,
      "metadata": {
        "colab": {
          "base_uri": "https://localhost:8080/"
        },
        "id": "4asEh6og0Q4p",
        "outputId": "2f89f5d5-1627-4f1c-b050-576a537840f9",
        "scrolled": true
      },
      "outputs": [
        {
          "data": {
            "text/html": [
              "<div>\n",
              "<style scoped>\n",
              "    .dataframe tbody tr th:only-of-type {\n",
              "        vertical-align: middle;\n",
              "    }\n",
              "\n",
              "    .dataframe tbody tr th {\n",
              "        vertical-align: top;\n",
              "    }\n",
              "\n",
              "    .dataframe thead th {\n",
              "        text-align: right;\n",
              "    }\n",
              "</style>\n",
              "<table border=\"1\" class=\"dataframe\">\n",
              "  <thead>\n",
              "    <tr style=\"text-align: right;\">\n",
              "      <th></th>\n",
              "      <th>video_id</th>\n",
              "      <th>trending_date</th>\n",
              "      <th>title</th>\n",
              "      <th>channel_title</th>\n",
              "      <th>category_id</th>\n",
              "      <th>publish_time</th>\n",
              "      <th>tags</th>\n",
              "      <th>views</th>\n",
              "      <th>likes</th>\n",
              "      <th>dislikes</th>\n",
              "      <th>comment_count</th>\n",
              "      <th>thumbnail_link</th>\n",
              "      <th>comments_disabled</th>\n",
              "      <th>ratings_disabled</th>\n",
              "      <th>video_error_or_removed</th>\n",
              "      <th>description</th>\n",
              "    </tr>\n",
              "  </thead>\n",
              "  <tbody>\n",
              "    <tr>\n",
              "      <th>44</th>\n",
              "      <td>STI2fI7sKMo</td>\n",
              "      <td>17.14.11</td>\n",
              "      <td>AFFAIRS, EX BOYFRIENDS, $18MILLION NET WORTH -...</td>\n",
              "      <td>Shawn Johnson East</td>\n",
              "      <td>22</td>\n",
              "      <td>2017-11-11T15:00:03.000Z</td>\n",
              "      <td>shawn johnson|\"andrew east\"|\"shawn east\"|\"shaw...</td>\n",
              "      <td>321053</td>\n",
              "      <td>4451</td>\n",
              "      <td>1772</td>\n",
              "      <td>895</td>\n",
              "      <td>https://i.ytimg.com/vi/STI2fI7sKMo/default.jpg</td>\n",
              "      <td>False</td>\n",
              "      <td>False</td>\n",
              "      <td>False</td>\n",
              "      <td>Subscribe for weekly videos ▶ http://bit.ly/sj...</td>\n",
              "    </tr>\n",
              "    <tr>\n",
              "      <th>96</th>\n",
              "      <td>2XK4omx9uMU</td>\n",
              "      <td>17.14.11</td>\n",
              "      <td>Camila Cabello COMPLETELY NAILS 'Finish The Ly...</td>\n",
              "      <td>Capital FM</td>\n",
              "      <td>10</td>\n",
              "      <td>2017-11-10T14:40:32.000Z</td>\n",
              "      <td>capitalfmofficial|\"capital\"|\"capital fm\"|\"capi...</td>\n",
              "      <td>836544</td>\n",
              "      <td>40195</td>\n",
              "      <td>373</td>\n",
              "      <td>976</td>\n",
              "      <td>https://i.ytimg.com/vi/2XK4omx9uMU/default.jpg</td>\n",
              "      <td>False</td>\n",
              "      <td>False</td>\n",
              "      <td>False</td>\n",
              "      <td>It shouldn't be surprising that Camila Cabello...</td>\n",
              "    </tr>\n",
              "    <tr>\n",
              "      <th>189</th>\n",
              "      <td>o78x918zbFk</td>\n",
              "      <td>17.14.11</td>\n",
              "      <td>TOTAL FAIL! NATASHA DENONA HOLIDAY WTF</td>\n",
              "      <td>Tati</td>\n",
              "      <td>26</td>\n",
              "      <td>2017-11-08T18:00:05.000Z</td>\n",
              "      <td>YouTube|\"Beauty\"|\"Makeup\"|\"Tutorial\"|\"Review\"|...</td>\n",
              "      <td>1277364</td>\n",
              "      <td>56867</td>\n",
              "      <td>2148</td>\n",
              "      <td>25326</td>\n",
              "      <td>https://i.ytimg.com/vi/o78x918zbFk/default.jpg</td>\n",
              "      <td>False</td>\n",
              "      <td>False</td>\n",
              "      <td>False</td>\n",
              "      <td>This was the most UNEXPECTED WTF I've done so ...</td>\n",
              "    </tr>\n",
              "    <tr>\n",
              "      <th>349</th>\n",
              "      <td>2XK4omx9uMU</td>\n",
              "      <td>17.15.11</td>\n",
              "      <td>Camila Cabello COMPLETELY NAILS 'Finish The Ly...</td>\n",
              "      <td>Capital FM</td>\n",
              "      <td>10</td>\n",
              "      <td>2017-11-10T14:40:32.000Z</td>\n",
              "      <td>capitalfmofficial|\"capital\"|\"capital fm\"|\"capi...</td>\n",
              "      <td>1126501</td>\n",
              "      <td>48219</td>\n",
              "      <td>444</td>\n",
              "      <td>1083</td>\n",
              "      <td>https://i.ytimg.com/vi/2XK4omx9uMU/default.jpg</td>\n",
              "      <td>False</td>\n",
              "      <td>False</td>\n",
              "      <td>False</td>\n",
              "      <td>It shouldn't be surprising that Camila Cabello...</td>\n",
              "    </tr>\n",
              "    <tr>\n",
              "      <th>590</th>\n",
              "      <td>2XK4omx9uMU</td>\n",
              "      <td>17.16.11</td>\n",
              "      <td>Camila Cabello COMPLETELY NAILS 'Finish The Ly...</td>\n",
              "      <td>Capital FM</td>\n",
              "      <td>10</td>\n",
              "      <td>2017-11-10T14:40:32.000Z</td>\n",
              "      <td>capitalfmofficial|\"capital\"|\"capital fm\"|\"capi...</td>\n",
              "      <td>1354030</td>\n",
              "      <td>57838</td>\n",
              "      <td>512</td>\n",
              "      <td>1257</td>\n",
              "      <td>https://i.ytimg.com/vi/2XK4omx9uMU/default.jpg</td>\n",
              "      <td>False</td>\n",
              "      <td>False</td>\n",
              "      <td>False</td>\n",
              "      <td>It shouldn't be surprising that Camila Cabello...</td>\n",
              "    </tr>\n",
              "    <tr>\n",
              "      <th>...</th>\n",
              "      <td>...</td>\n",
              "      <td>...</td>\n",
              "      <td>...</td>\n",
              "      <td>...</td>\n",
              "      <td>...</td>\n",
              "      <td>...</td>\n",
              "      <td>...</td>\n",
              "      <td>...</td>\n",
              "      <td>...</td>\n",
              "      <td>...</td>\n",
              "      <td>...</td>\n",
              "      <td>...</td>\n",
              "      <td>...</td>\n",
              "      <td>...</td>\n",
              "      <td>...</td>\n",
              "      <td>...</td>\n",
              "    </tr>\n",
              "    <tr>\n",
              "      <th>40539</th>\n",
              "      <td>D6Oy4LfoqsU</td>\n",
              "      <td>18.12.06</td>\n",
              "      <td>I GAVE SAFIYA NYGAARD A PERFECT HAIR MAKEOVER ...</td>\n",
              "      <td>Brad Mondo</td>\n",
              "      <td>24</td>\n",
              "      <td>2018-05-18T17:34:22.000Z</td>\n",
              "      <td>I gave safiya nygaard a perfect hair makeover ...</td>\n",
              "      <td>1058805</td>\n",
              "      <td>47810</td>\n",
              "      <td>1029</td>\n",
              "      <td>3972</td>\n",
              "      <td>https://i.ytimg.com/vi/D6Oy4LfoqsU/default.jpg</td>\n",
              "      <td>False</td>\n",
              "      <td>False</td>\n",
              "      <td>False</td>\n",
              "      <td>I had so much fun transforming Safiyas hair in...</td>\n",
              "    </tr>\n",
              "    <tr>\n",
              "      <th>40591</th>\n",
              "      <td>SkcucKDrbOI</td>\n",
              "      <td>18.13.06</td>\n",
              "      <td>HOW TO TRAIN YOUR DRAGON: THE HIDDEN WORLD | O...</td>\n",
              "      <td>DreamWorksTV</td>\n",
              "      <td>24</td>\n",
              "      <td>2018-06-07T14:30:03.000Z</td>\n",
              "      <td>DreamWorksTV|\"DreamWorks Animation\"|\"YouTube K...</td>\n",
              "      <td>5776332</td>\n",
              "      <td>99769</td>\n",
              "      <td>2300</td>\n",
              "      <td>14452</td>\n",
              "      <td>https://i.ytimg.com/vi/SkcucKDrbOI/default.jpg</td>\n",
              "      <td>False</td>\n",
              "      <td>False</td>\n",
              "      <td>False</td>\n",
              "      <td>Website: https://www.howtotrainyourdragon.comF...</td>\n",
              "    </tr>\n",
              "    <tr>\n",
              "      <th>40740</th>\n",
              "      <td>D6Oy4LfoqsU</td>\n",
              "      <td>18.13.06</td>\n",
              "      <td>I GAVE SAFIYA NYGAARD A PERFECT HAIR MAKEOVER ...</td>\n",
              "      <td>Brad Mondo</td>\n",
              "      <td>24</td>\n",
              "      <td>2018-05-18T17:34:22.000Z</td>\n",
              "      <td>I gave safiya nygaard a perfect hair makeover ...</td>\n",
              "      <td>1062709</td>\n",
              "      <td>47952</td>\n",
              "      <td>1031</td>\n",
              "      <td>3981</td>\n",
              "      <td>https://i.ytimg.com/vi/D6Oy4LfoqsU/default.jpg</td>\n",
              "      <td>False</td>\n",
              "      <td>False</td>\n",
              "      <td>False</td>\n",
              "      <td>I had so much fun transforming Safiyas hair in...</td>\n",
              "    </tr>\n",
              "    <tr>\n",
              "      <th>40804</th>\n",
              "      <td>SkcucKDrbOI</td>\n",
              "      <td>18.14.06</td>\n",
              "      <td>HOW TO TRAIN YOUR DRAGON: THE HIDDEN WORLD | O...</td>\n",
              "      <td>DreamWorksTV</td>\n",
              "      <td>24</td>\n",
              "      <td>2018-06-07T14:30:03.000Z</td>\n",
              "      <td>DreamWorksTV|\"DreamWorks Animation\"|\"YouTube K...</td>\n",
              "      <td>5962519</td>\n",
              "      <td>100761</td>\n",
              "      <td>2331</td>\n",
              "      <td>14578</td>\n",
              "      <td>https://i.ytimg.com/vi/SkcucKDrbOI/default.jpg</td>\n",
              "      <td>False</td>\n",
              "      <td>False</td>\n",
              "      <td>False</td>\n",
              "      <td>Website: https://www.howtotrainyourdragon.comF...</td>\n",
              "    </tr>\n",
              "    <tr>\n",
              "      <th>40946</th>\n",
              "      <td>D6Oy4LfoqsU</td>\n",
              "      <td>18.14.06</td>\n",
              "      <td>I GAVE SAFIYA NYGAARD A PERFECT HAIR MAKEOVER ...</td>\n",
              "      <td>Brad Mondo</td>\n",
              "      <td>24</td>\n",
              "      <td>2018-05-18T17:34:22.000Z</td>\n",
              "      <td>I gave safiya nygaard a perfect hair makeover ...</td>\n",
              "      <td>1066451</td>\n",
              "      <td>48068</td>\n",
              "      <td>1032</td>\n",
              "      <td>3992</td>\n",
              "      <td>https://i.ytimg.com/vi/D6Oy4LfoqsU/default.jpg</td>\n",
              "      <td>False</td>\n",
              "      <td>False</td>\n",
              "      <td>False</td>\n",
              "      <td>I had so much fun transforming Safiyas hair in...</td>\n",
              "    </tr>\n",
              "  </tbody>\n",
              "</table>\n",
              "<p>322 rows × 16 columns</p>\n",
              "</div>"
            ],
            "text/plain": [
              "          video_id trending_date  \\\n",
              "44     STI2fI7sKMo      17.14.11   \n",
              "96     2XK4omx9uMU      17.14.11   \n",
              "189    o78x918zbFk      17.14.11   \n",
              "349    2XK4omx9uMU      17.15.11   \n",
              "590    2XK4omx9uMU      17.16.11   \n",
              "...            ...           ...   \n",
              "40539  D6Oy4LfoqsU      18.12.06   \n",
              "40591  SkcucKDrbOI      18.13.06   \n",
              "40740  D6Oy4LfoqsU      18.13.06   \n",
              "40804  SkcucKDrbOI      18.14.06   \n",
              "40946  D6Oy4LfoqsU      18.14.06   \n",
              "\n",
              "                                                   title       channel_title  \\\n",
              "44     AFFAIRS, EX BOYFRIENDS, $18MILLION NET WORTH -...  Shawn Johnson East   \n",
              "96     Camila Cabello COMPLETELY NAILS 'Finish The Ly...          Capital FM   \n",
              "189               TOTAL FAIL! NATASHA DENONA HOLIDAY WTF                Tati   \n",
              "349    Camila Cabello COMPLETELY NAILS 'Finish The Ly...          Capital FM   \n",
              "590    Camila Cabello COMPLETELY NAILS 'Finish The Ly...          Capital FM   \n",
              "...                                                  ...                 ...   \n",
              "40539  I GAVE SAFIYA NYGAARD A PERFECT HAIR MAKEOVER ...          Brad Mondo   \n",
              "40591  HOW TO TRAIN YOUR DRAGON: THE HIDDEN WORLD | O...        DreamWorksTV   \n",
              "40740  I GAVE SAFIYA NYGAARD A PERFECT HAIR MAKEOVER ...          Brad Mondo   \n",
              "40804  HOW TO TRAIN YOUR DRAGON: THE HIDDEN WORLD | O...        DreamWorksTV   \n",
              "40946  I GAVE SAFIYA NYGAARD A PERFECT HAIR MAKEOVER ...          Brad Mondo   \n",
              "\n",
              "       category_id              publish_time  \\\n",
              "44              22  2017-11-11T15:00:03.000Z   \n",
              "96              10  2017-11-10T14:40:32.000Z   \n",
              "189             26  2017-11-08T18:00:05.000Z   \n",
              "349             10  2017-11-10T14:40:32.000Z   \n",
              "590             10  2017-11-10T14:40:32.000Z   \n",
              "...            ...                       ...   \n",
              "40539           24  2018-05-18T17:34:22.000Z   \n",
              "40591           24  2018-06-07T14:30:03.000Z   \n",
              "40740           24  2018-05-18T17:34:22.000Z   \n",
              "40804           24  2018-06-07T14:30:03.000Z   \n",
              "40946           24  2018-05-18T17:34:22.000Z   \n",
              "\n",
              "                                                    tags    views   likes  \\\n",
              "44     shawn johnson|\"andrew east\"|\"shawn east\"|\"shaw...   321053    4451   \n",
              "96     capitalfmofficial|\"capital\"|\"capital fm\"|\"capi...   836544   40195   \n",
              "189    YouTube|\"Beauty\"|\"Makeup\"|\"Tutorial\"|\"Review\"|...  1277364   56867   \n",
              "349    capitalfmofficial|\"capital\"|\"capital fm\"|\"capi...  1126501   48219   \n",
              "590    capitalfmofficial|\"capital\"|\"capital fm\"|\"capi...  1354030   57838   \n",
              "...                                                  ...      ...     ...   \n",
              "40539  I gave safiya nygaard a perfect hair makeover ...  1058805   47810   \n",
              "40591  DreamWorksTV|\"DreamWorks Animation\"|\"YouTube K...  5776332   99769   \n",
              "40740  I gave safiya nygaard a perfect hair makeover ...  1062709   47952   \n",
              "40804  DreamWorksTV|\"DreamWorks Animation\"|\"YouTube K...  5962519  100761   \n",
              "40946  I gave safiya nygaard a perfect hair makeover ...  1066451   48068   \n",
              "\n",
              "       dislikes  comment_count  \\\n",
              "44         1772            895   \n",
              "96          373            976   \n",
              "189        2148          25326   \n",
              "349         444           1083   \n",
              "590         512           1257   \n",
              "...         ...            ...   \n",
              "40539      1029           3972   \n",
              "40591      2300          14452   \n",
              "40740      1031           3981   \n",
              "40804      2331          14578   \n",
              "40946      1032           3992   \n",
              "\n",
              "                                       thumbnail_link  comments_disabled  \\\n",
              "44     https://i.ytimg.com/vi/STI2fI7sKMo/default.jpg              False   \n",
              "96     https://i.ytimg.com/vi/2XK4omx9uMU/default.jpg              False   \n",
              "189    https://i.ytimg.com/vi/o78x918zbFk/default.jpg              False   \n",
              "349    https://i.ytimg.com/vi/2XK4omx9uMU/default.jpg              False   \n",
              "590    https://i.ytimg.com/vi/2XK4omx9uMU/default.jpg              False   \n",
              "...                                               ...                ...   \n",
              "40539  https://i.ytimg.com/vi/D6Oy4LfoqsU/default.jpg              False   \n",
              "40591  https://i.ytimg.com/vi/SkcucKDrbOI/default.jpg              False   \n",
              "40740  https://i.ytimg.com/vi/D6Oy4LfoqsU/default.jpg              False   \n",
              "40804  https://i.ytimg.com/vi/SkcucKDrbOI/default.jpg              False   \n",
              "40946  https://i.ytimg.com/vi/D6Oy4LfoqsU/default.jpg              False   \n",
              "\n",
              "       ratings_disabled  video_error_or_removed  \\\n",
              "44                False                   False   \n",
              "96                False                   False   \n",
              "189               False                   False   \n",
              "349               False                   False   \n",
              "590               False                   False   \n",
              "...                 ...                     ...   \n",
              "40539             False                   False   \n",
              "40591             False                   False   \n",
              "40740             False                   False   \n",
              "40804             False                   False   \n",
              "40946             False                   False   \n",
              "\n",
              "                                             description  \n",
              "44     Subscribe for weekly videos ▶ http://bit.ly/sj...  \n",
              "96     It shouldn't be surprising that Camila Cabello...  \n",
              "189    This was the most UNEXPECTED WTF I've done so ...  \n",
              "349    It shouldn't be surprising that Camila Cabello...  \n",
              "590    It shouldn't be surprising that Camila Cabello...  \n",
              "...                                                  ...  \n",
              "40539  I had so much fun transforming Safiyas hair in...  \n",
              "40591  Website: https://www.howtotrainyourdragon.comF...  \n",
              "40740  I had so much fun transforming Safiyas hair in...  \n",
              "40804  Website: https://www.howtotrainyourdragon.comF...  \n",
              "40946  I had so much fun transforming Safiyas hair in...  \n",
              "\n",
              "[322 rows x 16 columns]"
            ]
          },
          "execution_count": 57,
          "metadata": {},
          "output_type": "execute_result"
        }
      ],
      "source": [
        "vdo_df[vdo_df.title.str.contains('AI')]"
      ]
    },
    {
      "cell_type": "markdown",
      "metadata": {
        "id": "FnENJS8S0Q4q"
      },
      "source": [
        "## Vectorized Calculation\n",
        "When we perform mathematical calculation on a series, the calculation will be applied to each individual data."
      ]
    },
    {
      "cell_type": "code",
      "execution_count": 58,
      "metadata": {
        "colab": {
          "base_uri": "https://localhost:8080/"
        },
        "id": "M7dSbxNL0Q4q",
        "outputId": "abd8dd99-4742-4183-a1ba-419718e196ce"
      },
      "outputs": [
        {
          "data": {
            "text/plain": [
              "0         57527\n",
              "1         97185\n",
              "2        146033\n",
              "3         10172\n",
              "4        132235\n",
              "          ...  \n",
              "40944     38160\n",
              "40945     60008\n",
              "40946     48068\n",
              "40947    192957\n",
              "40948    357079\n",
              "Name: likes, Length: 40901, dtype: int64"
            ]
          },
          "execution_count": 58,
          "metadata": {},
          "output_type": "execute_result"
        }
      ],
      "source": [
        "vdo_df.likes.head()"
      ]
    },
    {
      "cell_type": "code",
      "execution_count": 59,
      "metadata": {
        "colab": {
          "base_uri": "https://localhost:8080/"
        },
        "id": "owMHXT1Y0Q4q",
        "outputId": "f3a03459-f932-4de7-8ed8-d5fabc30d8e1"
      },
      "outputs": [
        {
          "data": {
            "text/plain": [
              "0         5752.7\n",
              "1         9718.5\n",
              "2        14603.3\n",
              "3         1017.2\n",
              "4        13223.5\n",
              "          ...   \n",
              "40944     3816.0\n",
              "40945     6000.8\n",
              "40946     4806.8\n",
              "40947    19295.7\n",
              "40948    35707.9\n",
              "Name: likes, Length: 40901, dtype: float64"
            ]
          },
          "execution_count": 59,
          "metadata": {},
          "output_type": "execute_result"
        }
      ],
      "source": [
        "(vdo_df.likes / 10).head()"
      ]
    },
    {
      "cell_type": "markdown",
      "metadata": {
        "id": "D4g0RmIX0Q4q"
      },
      "source": [
        "### What is the highest like-per-view ratio?"
      ]
    },
    {
      "cell_type": "code",
      "execution_count": 60,
      "metadata": {
        "colab": {
          "base_uri": "https://localhost:8080/"
        },
        "id": "ZHYS9Og50Q4q",
        "outputId": "b59fdfbb-9153-4efb-a977-5188e12491cd"
      },
      "outputs": [
        {
          "data": {
            "text/plain": [
              "0        0.076869\n",
              "1        0.040179\n",
              "2        0.045758\n",
              "3        0.029641\n",
              "4        0.063097\n",
              "           ...   \n",
              "40944    0.022639\n",
              "40945    0.056356\n",
              "40946    0.045073\n",
              "40947    0.034086\n",
              "40948    0.034647\n",
              "Length: 40901, dtype: float64"
            ]
          },
          "execution_count": 60,
          "metadata": {},
          "output_type": "execute_result"
        }
      ],
      "source": [
        "(vdo_df.likes / vdo_df.views).head()"
      ]
    },
    {
      "cell_type": "code",
      "execution_count": 61,
      "metadata": {
        "id": "pc_h7y560Q4q"
      },
      "outputs": [],
      "source": [
        "vdo_df['lpv_ratio'] = vdo_df.likes / vdo_df.views"
      ]
    },
    {
      "cell_type": "code",
      "execution_count": 62,
      "metadata": {
        "colab": {
          "base_uri": "https://localhost:8080/"
        },
        "id": "TFtAPfTe0Q4q",
        "outputId": "e00a59af-2050-41b7-83fe-30bb7ff85431"
      },
      "outputs": [
        {
          "data": {
            "text/html": [
              "<div>\n",
              "<style scoped>\n",
              "    .dataframe tbody tr th:only-of-type {\n",
              "        vertical-align: middle;\n",
              "    }\n",
              "\n",
              "    .dataframe tbody tr th {\n",
              "        vertical-align: top;\n",
              "    }\n",
              "\n",
              "    .dataframe thead th {\n",
              "        text-align: right;\n",
              "    }\n",
              "</style>\n",
              "<table border=\"1\" class=\"dataframe\">\n",
              "  <thead>\n",
              "    <tr style=\"text-align: right;\">\n",
              "      <th></th>\n",
              "      <th>likes</th>\n",
              "      <th>views</th>\n",
              "      <th>lpv_ratio</th>\n",
              "    </tr>\n",
              "  </thead>\n",
              "  <tbody>\n",
              "    <tr>\n",
              "      <th>0</th>\n",
              "      <td>57527</td>\n",
              "      <td>748374</td>\n",
              "      <td>0.076869</td>\n",
              "    </tr>\n",
              "    <tr>\n",
              "      <th>1</th>\n",
              "      <td>97185</td>\n",
              "      <td>2418783</td>\n",
              "      <td>0.040179</td>\n",
              "    </tr>\n",
              "    <tr>\n",
              "      <th>2</th>\n",
              "      <td>146033</td>\n",
              "      <td>3191434</td>\n",
              "      <td>0.045758</td>\n",
              "    </tr>\n",
              "    <tr>\n",
              "      <th>3</th>\n",
              "      <td>10172</td>\n",
              "      <td>343168</td>\n",
              "      <td>0.029641</td>\n",
              "    </tr>\n",
              "    <tr>\n",
              "      <th>4</th>\n",
              "      <td>132235</td>\n",
              "      <td>2095731</td>\n",
              "      <td>0.063097</td>\n",
              "    </tr>\n",
              "    <tr>\n",
              "      <th>...</th>\n",
              "      <td>...</td>\n",
              "      <td>...</td>\n",
              "      <td>...</td>\n",
              "    </tr>\n",
              "    <tr>\n",
              "      <th>40944</th>\n",
              "      <td>38160</td>\n",
              "      <td>1685609</td>\n",
              "      <td>0.022639</td>\n",
              "    </tr>\n",
              "    <tr>\n",
              "      <th>40945</th>\n",
              "      <td>60008</td>\n",
              "      <td>1064798</td>\n",
              "      <td>0.056356</td>\n",
              "    </tr>\n",
              "    <tr>\n",
              "      <th>40946</th>\n",
              "      <td>48068</td>\n",
              "      <td>1066451</td>\n",
              "      <td>0.045073</td>\n",
              "    </tr>\n",
              "    <tr>\n",
              "      <th>40947</th>\n",
              "      <td>192957</td>\n",
              "      <td>5660813</td>\n",
              "      <td>0.034086</td>\n",
              "    </tr>\n",
              "    <tr>\n",
              "      <th>40948</th>\n",
              "      <td>357079</td>\n",
              "      <td>10306119</td>\n",
              "      <td>0.034647</td>\n",
              "    </tr>\n",
              "  </tbody>\n",
              "</table>\n",
              "<p>40901 rows × 3 columns</p>\n",
              "</div>"
            ],
            "text/plain": [
              "        likes     views  lpv_ratio\n",
              "0       57527    748374   0.076869\n",
              "1       97185   2418783   0.040179\n",
              "2      146033   3191434   0.045758\n",
              "3       10172    343168   0.029641\n",
              "4      132235   2095731   0.063097\n",
              "...       ...       ...        ...\n",
              "40944   38160   1685609   0.022639\n",
              "40945   60008   1064798   0.056356\n",
              "40946   48068   1066451   0.045073\n",
              "40947  192957   5660813   0.034086\n",
              "40948  357079  10306119   0.034647\n",
              "\n",
              "[40901 rows x 3 columns]"
            ]
          },
          "execution_count": 62,
          "metadata": {},
          "output_type": "execute_result"
        }
      ],
      "source": [
        "vdo_df[['likes', 'views', 'lpv_ratio']]"
      ]
    },
    {
      "cell_type": "code",
      "execution_count": 63,
      "metadata": {
        "colab": {
          "base_uri": "https://localhost:8080/"
        },
        "id": "7AzFr7Z-0Q4r",
        "outputId": "d7cee316-73f5-471a-f98c-d254a1a9f696"
      },
      "outputs": [
        {
          "data": {
            "text/html": [
              "<div>\n",
              "<style scoped>\n",
              "    .dataframe tbody tr th:only-of-type {\n",
              "        vertical-align: middle;\n",
              "    }\n",
              "\n",
              "    .dataframe tbody tr th {\n",
              "        vertical-align: top;\n",
              "    }\n",
              "\n",
              "    .dataframe thead th {\n",
              "        text-align: right;\n",
              "    }\n",
              "</style>\n",
              "<table border=\"1\" class=\"dataframe\">\n",
              "  <thead>\n",
              "    <tr style=\"text-align: right;\">\n",
              "      <th></th>\n",
              "      <th>title</th>\n",
              "      <th>likes</th>\n",
              "      <th>views</th>\n",
              "      <th>lpv_ratio</th>\n",
              "    </tr>\n",
              "  </thead>\n",
              "  <tbody>\n",
              "    <tr>\n",
              "      <th>10200</th>\n",
              "      <td>Bruno Mars - Finesse (Remix) [Feat. Cardi B] [...</td>\n",
              "      <td>159356</td>\n",
              "      <td>548621</td>\n",
              "      <td>0.290466</td>\n",
              "    </tr>\n",
              "  </tbody>\n",
              "</table>\n",
              "</div>"
            ],
            "text/plain": [
              "                                                   title   likes   views  \\\n",
              "10200  Bruno Mars - Finesse (Remix) [Feat. Cardi B] [...  159356  548621   \n",
              "\n",
              "       lpv_ratio  \n",
              "10200   0.290466  "
            ]
          },
          "execution_count": 63,
          "metadata": {},
          "output_type": "execute_result"
        }
      ],
      "source": [
        "vdo_df[vdo_df.lpv_ratio == vdo_df.lpv_ratio.max()][['title', 'likes', 'views', 'lpv_ratio']]"
      ]
    },
    {
      "cell_type": "markdown",
      "metadata": {
        "id": "qxwiwcwt0Q4r"
      },
      "source": [
        "We can use sorting to achieve the same result."
      ]
    },
    {
      "cell_type": "code",
      "execution_count": 64,
      "metadata": {
        "colab": {
          "base_uri": "https://localhost:8080/"
        },
        "id": "1uQcEFav0Q4r",
        "outputId": "c0c0cbcd-84fd-4ae7-e38c-a37b67c5124b",
        "scrolled": true
      },
      "outputs": [
        {
          "data": {
            "text/html": [
              "<div>\n",
              "<style scoped>\n",
              "    .dataframe tbody tr th:only-of-type {\n",
              "        vertical-align: middle;\n",
              "    }\n",
              "\n",
              "    .dataframe tbody tr th {\n",
              "        vertical-align: top;\n",
              "    }\n",
              "\n",
              "    .dataframe thead th {\n",
              "        text-align: right;\n",
              "    }\n",
              "</style>\n",
              "<table border=\"1\" class=\"dataframe\">\n",
              "  <thead>\n",
              "    <tr style=\"text-align: right;\">\n",
              "      <th></th>\n",
              "      <th>title</th>\n",
              "      <th>likes</th>\n",
              "      <th>views</th>\n",
              "      <th>lpv_ratio</th>\n",
              "    </tr>\n",
              "  </thead>\n",
              "  <tbody>\n",
              "    <tr>\n",
              "      <th>10200</th>\n",
              "      <td>Bruno Mars - Finesse (Remix) [Feat. Cardi B] [...</td>\n",
              "      <td>159356</td>\n",
              "      <td>548621</td>\n",
              "      <td>0.290466</td>\n",
              "    </tr>\n",
              "    <tr>\n",
              "      <th>608</th>\n",
              "      <td>Luis Fonsi, Demi Lovato - Échame La Culpa</td>\n",
              "      <td>135292</td>\n",
              "      <td>499946</td>\n",
              "      <td>0.270613</td>\n",
              "    </tr>\n",
              "    <tr>\n",
              "      <th>22174</th>\n",
              "      <td>j-hope 'Airplane' MV</td>\n",
              "      <td>1401915</td>\n",
              "      <td>5275672</td>\n",
              "      <td>0.265732</td>\n",
              "    </tr>\n",
              "    <tr>\n",
              "      <th>14428</th>\n",
              "      <td>dodie - Secret For The Mad</td>\n",
              "      <td>32755</td>\n",
              "      <td>129130</td>\n",
              "      <td>0.253659</td>\n",
              "    </tr>\n",
              "    <tr>\n",
              "      <th>5025</th>\n",
              "      <td>Louis Tomlinson - Miss You (Official Video)</td>\n",
              "      <td>241679</td>\n",
              "      <td>985998</td>\n",
              "      <td>0.245111</td>\n",
              "    </tr>\n",
              "    <tr>\n",
              "      <th>...</th>\n",
              "      <td>...</td>\n",
              "      <td>...</td>\n",
              "      <td>...</td>\n",
              "      <td>...</td>\n",
              "    </tr>\n",
              "    <tr>\n",
              "      <th>3401</th>\n",
              "      <td>The New Snapchat in 60 Seconds</td>\n",
              "      <td>0</td>\n",
              "      <td>1894443</td>\n",
              "      <td>0.000000</td>\n",
              "    </tr>\n",
              "    <tr>\n",
              "      <th>14497</th>\n",
              "      <td>Why Are Fat People a Joke?</td>\n",
              "      <td>0</td>\n",
              "      <td>272163</td>\n",
              "      <td>0.000000</td>\n",
              "    </tr>\n",
              "    <tr>\n",
              "      <th>19762</th>\n",
              "      <td>Paris Hilton - “I Need You” (Official Music Vi...</td>\n",
              "      <td>0</td>\n",
              "      <td>352319</td>\n",
              "      <td>0.000000</td>\n",
              "    </tr>\n",
              "    <tr>\n",
              "      <th>16854</th>\n",
              "      <td>T-Mobile | #LittleOnes | 2018 Big Game Ad</td>\n",
              "      <td>0</td>\n",
              "      <td>14949494</td>\n",
              "      <td>0.000000</td>\n",
              "    </tr>\n",
              "    <tr>\n",
              "      <th>6146</th>\n",
              "      <td>How to Write-In for the Alabama Special Electi...</td>\n",
              "      <td>0</td>\n",
              "      <td>22690</td>\n",
              "      <td>0.000000</td>\n",
              "    </tr>\n",
              "  </tbody>\n",
              "</table>\n",
              "<p>40901 rows × 4 columns</p>\n",
              "</div>"
            ],
            "text/plain": [
              "                                                   title    likes     views  \\\n",
              "10200  Bruno Mars - Finesse (Remix) [Feat. Cardi B] [...   159356    548621   \n",
              "608            Luis Fonsi, Demi Lovato - Échame La Culpa   135292    499946   \n",
              "22174                               j-hope 'Airplane' MV  1401915   5275672   \n",
              "14428                         dodie - Secret For The Mad    32755    129130   \n",
              "5025         Louis Tomlinson - Miss You (Official Video)   241679    985998   \n",
              "...                                                  ...      ...       ...   \n",
              "3401                      The New Snapchat in 60 Seconds        0   1894443   \n",
              "14497                         Why Are Fat People a Joke?        0    272163   \n",
              "19762  Paris Hilton - “I Need You” (Official Music Vi...        0    352319   \n",
              "16854          T-Mobile | #LittleOnes | 2018 Big Game Ad        0  14949494   \n",
              "6146   How to Write-In for the Alabama Special Electi...        0     22690   \n",
              "\n",
              "       lpv_ratio  \n",
              "10200   0.290466  \n",
              "608     0.270613  \n",
              "22174   0.265732  \n",
              "14428   0.253659  \n",
              "5025    0.245111  \n",
              "...          ...  \n",
              "3401    0.000000  \n",
              "14497   0.000000  \n",
              "19762   0.000000  \n",
              "16854   0.000000  \n",
              "6146    0.000000  \n",
              "\n",
              "[40901 rows x 4 columns]"
            ]
          },
          "execution_count": 64,
          "metadata": {},
          "output_type": "execute_result"
        }
      ],
      "source": [
        "vdo_df.sort_values(by=['lpv_ratio'],ascending=False)[['title', 'likes', 'views', 'lpv_ratio']]"
      ]
    },
    {
      "cell_type": "markdown",
      "metadata": {
        "id": "ZEqgVmt_0Q4r"
      },
      "source": [
        "### String Manipulation\n",
        "Python has long been a popular raw data manipulation language in part due to its ease of use for string and text processing. Most text operations are made simple with the string object’s built-in methods. For more complex pattern matching and text manipulations, regular expressions may be needed. pandas adds to the mix by enabling you to apply string and regular expressions concisely on whole arrays of data, additionally handling the annoyance of missing data."
      ]
    },
    {
      "cell_type": "code",
      "execution_count": 65,
      "metadata": {
        "colab": {
          "base_uri": "https://localhost:8080/"
        },
        "id": "F7VCkyDI0Q4r",
        "outputId": "365b8ae4-6c6d-4a34-871a-df0ed22f5097"
      },
      "outputs": [
        {
          "data": {
            "text/plain": [
              "0                       WE WANT TO TALK ABOUT OUR MARRIAGE\n",
              "1        The Trump Presidency: Last Week Tonight with J...\n",
              "2        Racist Superman | Rudy Mancuso, King Bach & Le...\n",
              "3                         Nickelback Lyrics: Real or Fake?\n",
              "4                                 I Dare You: GOING BALD!?\n",
              "                               ...                        \n",
              "40944                         The Cat Who Caught the Laser\n",
              "40945                           True Facts : Ant Mutualism\n",
              "40946    I GAVE SAFIYA NYGAARD A PERFECT HAIR MAKEOVER ...\n",
              "40947                  How Black Panther Should Have Ended\n",
              "40948    Official Call of Duty®: Black Ops 4 — Multipla...\n",
              "Name: title, Length: 40901, dtype: object"
            ]
          },
          "execution_count": 65,
          "metadata": {},
          "output_type": "execute_result"
        }
      ],
      "source": [
        "vdo_df.title.head()"
      ]
    },
    {
      "cell_type": "code",
      "execution_count": 66,
      "metadata": {
        "colab": {
          "base_uri": "https://localhost:8080/"
        },
        "id": "RmgxlU_z0Q4s",
        "outputId": "f622e2d5-b27b-46e2-c928-06584f167b1f"
      },
      "outputs": [
        {
          "data": {
            "text/plain": [
              "0                       we want to talk about our marriage\n",
              "1        the trump presidency: last week tonight with j...\n",
              "2        racist superman | rudy mancuso, king bach & le...\n",
              "3                         nickelback lyrics: real or fake?\n",
              "4                                 i dare you: going bald!?\n",
              "                               ...                        \n",
              "40944                         the cat who caught the laser\n",
              "40945                           true facts : ant mutualism\n",
              "40946    i gave safiya nygaard a perfect hair makeover ...\n",
              "40947                  how black panther should have ended\n",
              "40948    official call of duty®: black ops 4 — multipla...\n",
              "Name: title, Length: 40901, dtype: object"
            ]
          },
          "execution_count": 66,
          "metadata": {},
          "output_type": "execute_result"
        }
      ],
      "source": [
        "vdo_df.title.str.lower().head()"
      ]
    },
    {
      "cell_type": "markdown",
      "metadata": {
        "id": "-4Pt_kUe0Q4s"
      },
      "source": [
        "**Partial listing of vectorized string methods**\n",
        "\n",
        "- **cat** Concatenate strings element-wise with optional delimiter\n",
        "- **contains** Return boolean array if each string contains pattern/regex\n",
        "- **count** Count occurrences of pattern\n",
        "- **extract** Use a regular expression with groups to extract one or more strings from a Series of strings; the result will be a DataFrame with one column per group\n",
        "- **endswith** Equivalent to x.endswith(pattern) for each element\n",
        "- **startswith** Equivalent to x.startswith(pattern) for each element\n",
        "- **findall** Compute list of all occurrences of pattern/regex for each string\n",
        "- **get** Index into each element (retrieve i-th element)\n",
        "- **isalnum** Equivalent to built-in str.alnum\n",
        "- **isalpha** Equivalent to built-in str.isalpha\n",
        "- **isdecimal** Equivalent to built-in str.isdecimal\n",
        "- **isdigit** Equivalent to built-in str.isdigit\n",
        "- **islower** Equivalent to built-in str.islower\n",
        "- **isnumeric** Equivalent to built-in str.isnumeric\n",
        "- **isupper** Equivalent to built-in str.isupper\n",
        "- **join** Join strings in each element of the Series with passed separator\n",
        "- **len** Compute length of each string\n",
        "- **lower, upper** Convert cases; equivalent to x.lower() or x.upper() for each element\n",
        "- **match** Use re.match with the passed regular expression on each element, returning matched groups as list\n",
        "- **pad** Add whitespace to left, right, or both sides of strings\n",
        "- **center** Equivalent to pad(side='both')\n",
        "- **repeat** Duplicate values (e.g., s.str.repeat(3) is equivalent to x * 3 for each string)\n",
        "- **replace** Replace occurrences of pattern/regex with some other string\n",
        "- **slice** Slice each string in the Series\n",
        "- **split** Split strings on delimiter or regular expression\n",
        "- **strip** Trim whitespace from both sides, including newlines\n",
        "- **rstrip** Trim whitespace on right side\n",
        "- **lstrip** Trim whitespace on left side"
      ]
    },
    {
      "cell_type": "markdown",
      "metadata": {
        "id": "NCC_NEHI0Q4s"
      },
      "source": [
        "## Data Transformation\n",
        "In many occasions, we will have to transform data to get the results.  The transformation can be:\n",
        "- Mapping and functional transformation\n",
        "- Discretization and Binning\n",
        "- Datetime transformation"
      ]
    },
    {
      "cell_type": "code",
      "execution_count": 67,
      "metadata": {
        "colab": {
          "base_uri": "https://localhost:8080/",
          "height": 565
        },
        "id": "hZ8FOrQK0Q4s",
        "outputId": "00ad8e23-498a-4fd5-a2ab-1c4e5e2a4ad6",
        "scrolled": true
      },
      "outputs": [
        {
          "data": {
            "text/html": [
              "<div>\n",
              "<style scoped>\n",
              "    .dataframe tbody tr th:only-of-type {\n",
              "        vertical-align: middle;\n",
              "    }\n",
              "\n",
              "    .dataframe tbody tr th {\n",
              "        vertical-align: top;\n",
              "    }\n",
              "\n",
              "    .dataframe thead th {\n",
              "        text-align: right;\n",
              "    }\n",
              "</style>\n",
              "<table border=\"1\" class=\"dataframe\">\n",
              "  <thead>\n",
              "    <tr style=\"text-align: right;\">\n",
              "      <th></th>\n",
              "      <th>video_id</th>\n",
              "      <th>trending_date</th>\n",
              "      <th>title</th>\n",
              "      <th>channel_title</th>\n",
              "      <th>category_id</th>\n",
              "      <th>publish_time</th>\n",
              "      <th>tags</th>\n",
              "      <th>views</th>\n",
              "      <th>likes</th>\n",
              "      <th>dislikes</th>\n",
              "      <th>comment_count</th>\n",
              "      <th>thumbnail_link</th>\n",
              "      <th>comments_disabled</th>\n",
              "      <th>ratings_disabled</th>\n",
              "      <th>video_error_or_removed</th>\n",
              "      <th>description</th>\n",
              "      <th>lpv_ratio</th>\n",
              "    </tr>\n",
              "  </thead>\n",
              "  <tbody>\n",
              "    <tr>\n",
              "      <th>0</th>\n",
              "      <td>2kyS6SvSYSE</td>\n",
              "      <td>17.14.11</td>\n",
              "      <td>WE WANT TO TALK ABOUT OUR MARRIAGE</td>\n",
              "      <td>CaseyNeistat</td>\n",
              "      <td>22</td>\n",
              "      <td>2017-11-13T17:13:01.000Z</td>\n",
              "      <td>SHANtell martin</td>\n",
              "      <td>748374</td>\n",
              "      <td>57527</td>\n",
              "      <td>2966</td>\n",
              "      <td>15954</td>\n",
              "      <td>https://i.ytimg.com/vi/2kyS6SvSYSE/default.jpg</td>\n",
              "      <td>False</td>\n",
              "      <td>False</td>\n",
              "      <td>False</td>\n",
              "      <td>SHANTELL'S CHANNEL - https://www.youtube.com/s...</td>\n",
              "      <td>0.076869</td>\n",
              "    </tr>\n",
              "    <tr>\n",
              "      <th>1</th>\n",
              "      <td>1ZAPwfrtAFY</td>\n",
              "      <td>17.14.11</td>\n",
              "      <td>The Trump Presidency: Last Week Tonight with J...</td>\n",
              "      <td>LastWeekTonight</td>\n",
              "      <td>24</td>\n",
              "      <td>2017-11-13T07:30:00.000Z</td>\n",
              "      <td>last week tonight trump presidency|\"last week ...</td>\n",
              "      <td>2418783</td>\n",
              "      <td>97185</td>\n",
              "      <td>6146</td>\n",
              "      <td>12703</td>\n",
              "      <td>https://i.ytimg.com/vi/1ZAPwfrtAFY/default.jpg</td>\n",
              "      <td>False</td>\n",
              "      <td>False</td>\n",
              "      <td>False</td>\n",
              "      <td>One year after the presidential election, John...</td>\n",
              "      <td>0.040179</td>\n",
              "    </tr>\n",
              "    <tr>\n",
              "      <th>2</th>\n",
              "      <td>5qpjK5DgCt4</td>\n",
              "      <td>17.14.11</td>\n",
              "      <td>Racist Superman | Rudy Mancuso, King Bach &amp; Le...</td>\n",
              "      <td>Rudy Mancuso</td>\n",
              "      <td>23</td>\n",
              "      <td>2017-11-12T19:05:24.000Z</td>\n",
              "      <td>racist superman|\"rudy\"|\"mancuso\"|\"king\"|\"bach\"...</td>\n",
              "      <td>3191434</td>\n",
              "      <td>146033</td>\n",
              "      <td>5339</td>\n",
              "      <td>8181</td>\n",
              "      <td>https://i.ytimg.com/vi/5qpjK5DgCt4/default.jpg</td>\n",
              "      <td>False</td>\n",
              "      <td>False</td>\n",
              "      <td>False</td>\n",
              "      <td>WATCH MY PREVIOUS VIDEO ▶ \\n\\nSUBSCRIBE ► http...</td>\n",
              "      <td>0.045758</td>\n",
              "    </tr>\n",
              "    <tr>\n",
              "      <th>3</th>\n",
              "      <td>puqaWrEC7tY</td>\n",
              "      <td>17.14.11</td>\n",
              "      <td>Nickelback Lyrics: Real or Fake?</td>\n",
              "      <td>Good Mythical Morning</td>\n",
              "      <td>24</td>\n",
              "      <td>2017-11-13T11:00:04.000Z</td>\n",
              "      <td>rhett and link|\"gmm\"|\"good mythical morning\"|\"...</td>\n",
              "      <td>343168</td>\n",
              "      <td>10172</td>\n",
              "      <td>666</td>\n",
              "      <td>2146</td>\n",
              "      <td>https://i.ytimg.com/vi/puqaWrEC7tY/default.jpg</td>\n",
              "      <td>False</td>\n",
              "      <td>False</td>\n",
              "      <td>False</td>\n",
              "      <td>Today we find out if Link is a Nickelback amat...</td>\n",
              "      <td>0.029641</td>\n",
              "    </tr>\n",
              "    <tr>\n",
              "      <th>4</th>\n",
              "      <td>d380meD0W0M</td>\n",
              "      <td>17.14.11</td>\n",
              "      <td>I Dare You: GOING BALD!?</td>\n",
              "      <td>nigahiga</td>\n",
              "      <td>24</td>\n",
              "      <td>2017-11-12T18:01:41.000Z</td>\n",
              "      <td>ryan|\"higa\"|\"higatv\"|\"nigahiga\"|\"i dare you\"|\"...</td>\n",
              "      <td>2095731</td>\n",
              "      <td>132235</td>\n",
              "      <td>1989</td>\n",
              "      <td>17518</td>\n",
              "      <td>https://i.ytimg.com/vi/d380meD0W0M/default.jpg</td>\n",
              "      <td>False</td>\n",
              "      <td>False</td>\n",
              "      <td>False</td>\n",
              "      <td>I know it's been a while since we did this sho...</td>\n",
              "      <td>0.063097</td>\n",
              "    </tr>\n",
              "  </tbody>\n",
              "</table>\n",
              "</div>"
            ],
            "text/plain": [
              "      video_id trending_date  \\\n",
              "0  2kyS6SvSYSE      17.14.11   \n",
              "1  1ZAPwfrtAFY      17.14.11   \n",
              "2  5qpjK5DgCt4      17.14.11   \n",
              "3  puqaWrEC7tY      17.14.11   \n",
              "4  d380meD0W0M      17.14.11   \n",
              "\n",
              "                                               title          channel_title  \\\n",
              "0                 WE WANT TO TALK ABOUT OUR MARRIAGE           CaseyNeistat   \n",
              "1  The Trump Presidency: Last Week Tonight with J...        LastWeekTonight   \n",
              "2  Racist Superman | Rudy Mancuso, King Bach & Le...           Rudy Mancuso   \n",
              "3                   Nickelback Lyrics: Real or Fake?  Good Mythical Morning   \n",
              "4                           I Dare You: GOING BALD!?               nigahiga   \n",
              "\n",
              "   category_id              publish_time  \\\n",
              "0           22  2017-11-13T17:13:01.000Z   \n",
              "1           24  2017-11-13T07:30:00.000Z   \n",
              "2           23  2017-11-12T19:05:24.000Z   \n",
              "3           24  2017-11-13T11:00:04.000Z   \n",
              "4           24  2017-11-12T18:01:41.000Z   \n",
              "\n",
              "                                                tags    views   likes  \\\n",
              "0                                    SHANtell martin   748374   57527   \n",
              "1  last week tonight trump presidency|\"last week ...  2418783   97185   \n",
              "2  racist superman|\"rudy\"|\"mancuso\"|\"king\"|\"bach\"...  3191434  146033   \n",
              "3  rhett and link|\"gmm\"|\"good mythical morning\"|\"...   343168   10172   \n",
              "4  ryan|\"higa\"|\"higatv\"|\"nigahiga\"|\"i dare you\"|\"...  2095731  132235   \n",
              "\n",
              "   dislikes  comment_count                                  thumbnail_link  \\\n",
              "0      2966          15954  https://i.ytimg.com/vi/2kyS6SvSYSE/default.jpg   \n",
              "1      6146          12703  https://i.ytimg.com/vi/1ZAPwfrtAFY/default.jpg   \n",
              "2      5339           8181  https://i.ytimg.com/vi/5qpjK5DgCt4/default.jpg   \n",
              "3       666           2146  https://i.ytimg.com/vi/puqaWrEC7tY/default.jpg   \n",
              "4      1989          17518  https://i.ytimg.com/vi/d380meD0W0M/default.jpg   \n",
              "\n",
              "   comments_disabled  ratings_disabled  video_error_or_removed  \\\n",
              "0              False             False                   False   \n",
              "1              False             False                   False   \n",
              "2              False             False                   False   \n",
              "3              False             False                   False   \n",
              "4              False             False                   False   \n",
              "\n",
              "                                         description  lpv_ratio  \n",
              "0  SHANTELL'S CHANNEL - https://www.youtube.com/s...   0.076869  \n",
              "1  One year after the presidential election, John...   0.040179  \n",
              "2  WATCH MY PREVIOUS VIDEO ▶ \\n\\nSUBSCRIBE ► http...   0.045758  \n",
              "3  Today we find out if Link is a Nickelback amat...   0.029641  \n",
              "4  I know it's been a while since we did this sho...   0.063097  "
            ]
          },
          "execution_count": 67,
          "metadata": {},
          "output_type": "execute_result"
        }
      ],
      "source": [
        "vdo_df.head()"
      ]
    },
    {
      "cell_type": "markdown",
      "metadata": {
        "id": "UTGlX2bu0Q4t"
      },
      "source": [
        "### Mapping\n",
        "We can map the values to some more useful labels.  Note that for *map* function, if we supply a dictionary, it will perform a simple mapping.  If we supply a function, it will perform that function to each data."
      ]
    },
    {
      "cell_type": "code",
      "execution_count": 68,
      "metadata": {
        "id": "KMwOre0V0Q4t"
      },
      "outputs": [],
      "source": [
        "category_mapping = {\n",
        "    22: 'People & Blogs',\n",
        "    24: 'Entertainment',\n",
        "}"
      ]
    },
    {
      "cell_type": "code",
      "execution_count": 69,
      "metadata": {
        "colab": {
          "base_uri": "https://localhost:8080/"
        },
        "id": "w3zOuw4Q0Q4u",
        "outputId": "f6295909-3780-4192-acdc-7ca5b016f96e"
      },
      "outputs": [
        {
          "data": {
            "text/plain": [
              "0        People & Blogs\n",
              "1         Entertainment\n",
              "2                   NaN\n",
              "3         Entertainment\n",
              "4         Entertainment\n",
              "              ...      \n",
              "40944               NaN\n",
              "40945    People & Blogs\n",
              "40946     Entertainment\n",
              "40947               NaN\n",
              "40948               NaN\n",
              "Name: category_id, Length: 40901, dtype: object"
            ]
          },
          "execution_count": 69,
          "metadata": {},
          "output_type": "execute_result"
        }
      ],
      "source": [
        "vdo_df.category_id.map(category_mapping).head()"
      ]
    },
    {
      "cell_type": "code",
      "execution_count": 70,
      "metadata": {
        "colab": {
          "base_uri": "https://localhost:8080/"
        },
        "id": "4mfXpAG20Q4u",
        "outputId": "de0e0ac2-3f0b-41d9-bdde-ba1d4b382b7c"
      },
      "outputs": [
        {
          "data": {
            "text/plain": [
              "0         57527\n",
              "1         97185\n",
              "2        146033\n",
              "3         10172\n",
              "4        132235\n",
              "          ...  \n",
              "40944     38160\n",
              "40945     60008\n",
              "40946     48068\n",
              "40947    192957\n",
              "40948    357079\n",
              "Name: likes, Length: 40901, dtype: int64"
            ]
          },
          "execution_count": 70,
          "metadata": {},
          "output_type": "execute_result"
        }
      ],
      "source": [
        "vdo_df.likes.head()"
      ]
    },
    {
      "cell_type": "code",
      "execution_count": 71,
      "metadata": {
        "colab": {
          "base_uri": "https://localhost:8080/"
        },
        "id": "4TEYNk9i0Q4u",
        "outputId": "be4bcfb0-cc51-4ce9-e53c-040b87e2b236"
      },
      "outputs": [
        {
          "data": {
            "text/plain": [
              "0        hate\n",
              "1        hate\n",
              "2        love\n",
              "3        hate\n",
              "4        love\n",
              "         ... \n",
              "40944    hate\n",
              "40945    hate\n",
              "40946    hate\n",
              "40947    love\n",
              "40948    love\n",
              "Name: likes, Length: 40901, dtype: object"
            ]
          },
          "execution_count": 71,
          "metadata": {},
          "output_type": "execute_result"
        }
      ],
      "source": [
        "vdo_df.likes.map(lambda x: 'love' if x > 100000 else 'hate').head()"
      ]
    },
    {
      "cell_type": "markdown",
      "metadata": {
        "id": "92g_gl-_0Q4u"
      },
      "source": [
        "### What is the most frequet tags being used?\n",
        "\n",
        "**map** is a one-to-one mapping function.  This means the number of output rows will always be the same as the number of input rows.  We can create one-to-many mapping with **apply**."
      ]
    },
    {
      "cell_type": "code",
      "execution_count": 72,
      "metadata": {
        "colab": {
          "base_uri": "https://localhost:8080/"
        },
        "id": "N73x81O50Q4v",
        "outputId": "62186b98-b899-48cf-f8cb-d973948a1b83"
      },
      "outputs": [
        {
          "data": {
            "text/plain": [
              "0                                          SHANtell martin\n",
              "1        last week tonight trump presidency|\"last week ...\n",
              "2        racist superman|\"rudy\"|\"mancuso\"|\"king\"|\"bach\"...\n",
              "3        rhett and link|\"gmm\"|\"good mythical morning\"|\"...\n",
              "4        ryan|\"higa\"|\"higatv\"|\"nigahiga\"|\"i dare you\"|\"...\n",
              "                               ...                        \n",
              "40944    aarons animals|\"aarons\"|\"animals\"|\"cat\"|\"cats\"...\n",
              "40945                                               [none]\n",
              "40946    I gave safiya nygaard a perfect hair makeover ...\n",
              "40947    Black Panther|\"HISHE\"|\"Marvel\"|\"Infinity War\"|...\n",
              "40948        call of duty|\"cod\"|\"activision\"|\"Black Ops 4\"\n",
              "Name: tags, Length: 40901, dtype: object"
            ]
          },
          "execution_count": 72,
          "metadata": {},
          "output_type": "execute_result"
        }
      ],
      "source": [
        "vdo_df.tags.head()"
      ]
    },
    {
      "cell_type": "code",
      "execution_count": 73,
      "metadata": {
        "id": "YJFHCNWo0Q4v"
      },
      "outputs": [],
      "source": [
        "tags_split = vdo_df.tags.apply(lambda x: x.split('|'))"
      ]
    },
    {
      "cell_type": "code",
      "execution_count": 74,
      "metadata": {
        "colab": {
          "base_uri": "https://localhost:8080/"
        },
        "id": "ZlY2KrSA0Q4w",
        "outputId": "72f2d51f-341f-4b51-8642-ec547ecd7a29"
      },
      "outputs": [
        {
          "data": {
            "text/plain": [
              "0                                        [SHANtell martin]\n",
              "1        [last week tonight trump presidency, \"last wee...\n",
              "2        [racist superman, \"rudy\", \"mancuso\", \"king\", \"...\n",
              "3        [rhett and link, \"gmm\", \"good mythical morning...\n",
              "4        [ryan, \"higa\", \"higatv\", \"nigahiga\", \"i dare y...\n",
              "                               ...                        \n",
              "40944    [aarons animals, \"aarons\", \"animals\", \"cat\", \"...\n",
              "40945                                             [[none]]\n",
              "40946    [I gave safiya nygaard a perfect hair makeover...\n",
              "40947    [Black Panther, \"HISHE\", \"Marvel\", \"Infinity W...\n",
              "40948    [call of duty, \"cod\", \"activision\", \"Black Ops...\n",
              "Name: tags, Length: 40901, dtype: object"
            ]
          },
          "execution_count": 74,
          "metadata": {},
          "output_type": "execute_result"
        }
      ],
      "source": [
        "tags_split.head()"
      ]
    },
    {
      "cell_type": "code",
      "execution_count": 75,
      "metadata": {
        "colab": {
          "base_uri": "https://localhost:8080/"
        },
        "id": "dG3Oqeq10Q4w",
        "outputId": "65c76530-5262-455b-9faf-8064831973a2"
      },
      "outputs": [
        {
          "data": {
            "text/plain": [
              "0                           SHANtell martin\n",
              "1        last week tonight trump presidency\n",
              "1          \"last week tonight donald trump\"\n",
              "1                       \"john oliver trump\"\n",
              "1                            \"donald trump\"\n",
              "                        ...                \n",
              "40947                    \"ending explained\"\n",
              "40948                          call of duty\n",
              "40948                                 \"cod\"\n",
              "40948                          \"activision\"\n",
              "40948                         \"Black Ops 4\"\n",
              "Name: tags, Length: 807062, dtype: object"
            ]
          },
          "execution_count": 75,
          "metadata": {},
          "output_type": "execute_result"
        }
      ],
      "source": [
        "tags = tags_split.explode()\n",
        "tags.head()"
      ]
    },
    {
      "cell_type": "markdown",
      "metadata": {
        "id": "jqIaSe7W0Q4w"
      },
      "source": [
        "Let's clean some punctuation before counting values."
      ]
    },
    {
      "cell_type": "code",
      "execution_count": 76,
      "metadata": {
        "colab": {
          "base_uri": "https://localhost:8080/"
        },
        "id": "KoMIv3tQ0Q4w",
        "outputId": "909dcf30-1239-4334-f56d-d5c842196454"
      },
      "outputs": [
        {
          "name": "stderr",
          "output_type": "stream",
          "text": [
            "C:\\Users\\Om\\AppData\\Local\\Temp/ipykernel_29572/3377098348.py:1: FutureWarning: The default value of regex will change from True to False in a future version.\n",
            "  tags = tags.str.strip().str.replace(r'[\\\"\\'\\.]', ' ')\n"
          ]
        },
        {
          "data": {
            "text/plain": [
              "0                           SHANtell martin\n",
              "1        last week tonight trump presidency\n",
              "1           last week tonight donald trump \n",
              "1                        john oliver trump \n",
              "1                             donald trump \n",
              "                        ...                \n",
              "40947                     ending explained \n",
              "40948                          call of duty\n",
              "40948                                  cod \n",
              "40948                           activision \n",
              "40948                          Black Ops 4 \n",
              "Name: tags, Length: 807062, dtype: object"
            ]
          },
          "execution_count": 76,
          "metadata": {},
          "output_type": "execute_result"
        }
      ],
      "source": [
        "tags = tags.str.strip().str.replace(r'[\\\"\\'\\.]', ' ')\n",
        "tags.head()"
      ]
    },
    {
      "cell_type": "code",
      "execution_count": 77,
      "metadata": {
        "colab": {
          "base_uri": "https://localhost:8080/"
        },
        "id": "cDrSm8RM0Q4x",
        "outputId": "6496b28f-9200-4888-d4a3-859bdee561ff"
      },
      "outputs": [
        {
          "data": {
            "text/plain": [
              "array(['SHANtell martin', 'last week tonight trump presidency',\n",
              "       ' last week tonight donald trump ', ..., ' best hamburger ',\n",
              "       ' langford ', ' katherine langford '], dtype=object)"
            ]
          },
          "execution_count": 77,
          "metadata": {},
          "output_type": "execute_result"
        }
      ],
      "source": [
        "tags.unique()"
      ]
    },
    {
      "cell_type": "code",
      "execution_count": 78,
      "metadata": {
        "colab": {
          "base_uri": "https://localhost:8080/"
        },
        "id": "RJVvu3xC0Q4x",
        "outputId": "74ea656c-bd85-49a2-9f5a-948c3bf0b484"
      },
      "outputs": [
        {
          "data": {
            "text/plain": [
              "58121"
            ]
          },
          "execution_count": 78,
          "metadata": {},
          "output_type": "execute_result"
        }
      ],
      "source": [
        "len(tags.unique())"
      ]
    },
    {
      "cell_type": "code",
      "execution_count": 79,
      "metadata": {
        "colab": {
          "base_uri": "https://localhost:8080/"
        },
        "id": "votyyU7v0Q4x",
        "outputId": "c25b9061-1e1f-496a-cff5-6d6ba8d544ad"
      },
      "outputs": [
        {
          "data": {
            "text/plain": [
              " funny                     3578\n",
              " comedy                    2860\n",
              " how to                    1558\n",
              "[none]                     1534\n",
              " Pop                       1271\n",
              "                           ... \n",
              " olivia                       1\n",
              " sou                          1\n",
              " this is us super bowl        1\n",
              " super bowl sunday            1\n",
              " katherine langford           1\n",
              "Name: tags, Length: 58121, dtype: int64"
            ]
          },
          "execution_count": 79,
          "metadata": {},
          "output_type": "execute_result"
        }
      ],
      "source": [
        "tags.value_counts().head()"
      ]
    },
    {
      "cell_type": "markdown",
      "metadata": {
        "id": "g_FqELax0Q4x"
      },
      "source": [
        "### Discretization and Binning\n",
        "Continuous data is often discretized or separted into *bins* for analysis."
      ]
    },
    {
      "cell_type": "code",
      "execution_count": 80,
      "metadata": {
        "id": "UzBzNC810Q4x"
      },
      "outputs": [],
      "source": [
        "views_range = [0, 1000000, 5000000, 10000000]\n",
        "bin_names = ['some views', 'more views', 'lots of views']\n",
        "vdo_df['views_level'] = pd.cut(vdo_df.views, views_range, labels=bin_names)"
      ]
    },
    {
      "cell_type": "code",
      "execution_count": 81,
      "metadata": {
        "colab": {
          "base_uri": "https://localhost:8080/",
          "height": 423
        },
        "id": "VhnA07y50Q4y",
        "outputId": "7197a5c9-a5ce-4c22-ceb5-231e2d853e4f"
      },
      "outputs": [
        {
          "data": {
            "text/html": [
              "<div>\n",
              "<style scoped>\n",
              "    .dataframe tbody tr th:only-of-type {\n",
              "        vertical-align: middle;\n",
              "    }\n",
              "\n",
              "    .dataframe tbody tr th {\n",
              "        vertical-align: top;\n",
              "    }\n",
              "\n",
              "    .dataframe thead th {\n",
              "        text-align: right;\n",
              "    }\n",
              "</style>\n",
              "<table border=\"1\" class=\"dataframe\">\n",
              "  <thead>\n",
              "    <tr style=\"text-align: right;\">\n",
              "      <th></th>\n",
              "      <th>title</th>\n",
              "      <th>views</th>\n",
              "      <th>views_level</th>\n",
              "    </tr>\n",
              "  </thead>\n",
              "  <tbody>\n",
              "    <tr>\n",
              "      <th>0</th>\n",
              "      <td>WE WANT TO TALK ABOUT OUR MARRIAGE</td>\n",
              "      <td>748374</td>\n",
              "      <td>some views</td>\n",
              "    </tr>\n",
              "    <tr>\n",
              "      <th>1</th>\n",
              "      <td>The Trump Presidency: Last Week Tonight with J...</td>\n",
              "      <td>2418783</td>\n",
              "      <td>more views</td>\n",
              "    </tr>\n",
              "    <tr>\n",
              "      <th>2</th>\n",
              "      <td>Racist Superman | Rudy Mancuso, King Bach &amp; Le...</td>\n",
              "      <td>3191434</td>\n",
              "      <td>more views</td>\n",
              "    </tr>\n",
              "    <tr>\n",
              "      <th>3</th>\n",
              "      <td>Nickelback Lyrics: Real or Fake?</td>\n",
              "      <td>343168</td>\n",
              "      <td>some views</td>\n",
              "    </tr>\n",
              "    <tr>\n",
              "      <th>4</th>\n",
              "      <td>I Dare You: GOING BALD!?</td>\n",
              "      <td>2095731</td>\n",
              "      <td>more views</td>\n",
              "    </tr>\n",
              "    <tr>\n",
              "      <th>...</th>\n",
              "      <td>...</td>\n",
              "      <td>...</td>\n",
              "      <td>...</td>\n",
              "    </tr>\n",
              "    <tr>\n",
              "      <th>40944</th>\n",
              "      <td>The Cat Who Caught the Laser</td>\n",
              "      <td>1685609</td>\n",
              "      <td>more views</td>\n",
              "    </tr>\n",
              "    <tr>\n",
              "      <th>40945</th>\n",
              "      <td>True Facts : Ant Mutualism</td>\n",
              "      <td>1064798</td>\n",
              "      <td>more views</td>\n",
              "    </tr>\n",
              "    <tr>\n",
              "      <th>40946</th>\n",
              "      <td>I GAVE SAFIYA NYGAARD A PERFECT HAIR MAKEOVER ...</td>\n",
              "      <td>1066451</td>\n",
              "      <td>more views</td>\n",
              "    </tr>\n",
              "    <tr>\n",
              "      <th>40947</th>\n",
              "      <td>How Black Panther Should Have Ended</td>\n",
              "      <td>5660813</td>\n",
              "      <td>lots of views</td>\n",
              "    </tr>\n",
              "    <tr>\n",
              "      <th>40948</th>\n",
              "      <td>Official Call of Duty®: Black Ops 4 — Multipla...</td>\n",
              "      <td>10306119</td>\n",
              "      <td>NaN</td>\n",
              "    </tr>\n",
              "  </tbody>\n",
              "</table>\n",
              "<p>40901 rows × 3 columns</p>\n",
              "</div>"
            ],
            "text/plain": [
              "                                                   title     views  \\\n",
              "0                     WE WANT TO TALK ABOUT OUR MARRIAGE    748374   \n",
              "1      The Trump Presidency: Last Week Tonight with J...   2418783   \n",
              "2      Racist Superman | Rudy Mancuso, King Bach & Le...   3191434   \n",
              "3                       Nickelback Lyrics: Real or Fake?    343168   \n",
              "4                               I Dare You: GOING BALD!?   2095731   \n",
              "...                                                  ...       ...   \n",
              "40944                       The Cat Who Caught the Laser   1685609   \n",
              "40945                         True Facts : Ant Mutualism   1064798   \n",
              "40946  I GAVE SAFIYA NYGAARD A PERFECT HAIR MAKEOVER ...   1066451   \n",
              "40947                How Black Panther Should Have Ended   5660813   \n",
              "40948  Official Call of Duty®: Black Ops 4 — Multipla...  10306119   \n",
              "\n",
              "         views_level  \n",
              "0         some views  \n",
              "1         more views  \n",
              "2         more views  \n",
              "3         some views  \n",
              "4         more views  \n",
              "...              ...  \n",
              "40944     more views  \n",
              "40945     more views  \n",
              "40946     more views  \n",
              "40947  lots of views  \n",
              "40948            NaN  \n",
              "\n",
              "[40901 rows x 3 columns]"
            ]
          },
          "execution_count": 81,
          "metadata": {},
          "output_type": "execute_result"
        }
      ],
      "source": [
        "vdo_df[['title', 'views', 'views_level']]"
      ]
    },
    {
      "cell_type": "markdown",
      "metadata": {
        "id": "zox7lw0y0Q4y"
      },
      "source": [
        "### Datetime Transformation"
      ]
    },
    {
      "cell_type": "code",
      "execution_count": 82,
      "metadata": {
        "colab": {
          "base_uri": "https://localhost:8080/"
        },
        "id": "_h850HdA0Q4y",
        "outputId": "a44aa380-c7f7-4168-dc61-ab2c43772903"
      },
      "outputs": [
        {
          "data": {
            "text/plain": [
              "0        2017-11-13T17:13:01.000Z\n",
              "1        2017-11-13T07:30:00.000Z\n",
              "2        2017-11-12T19:05:24.000Z\n",
              "3        2017-11-13T11:00:04.000Z\n",
              "4        2017-11-12T18:01:41.000Z\n",
              "                   ...           \n",
              "40944    2018-05-18T13:00:04.000Z\n",
              "40945    2018-05-18T01:00:06.000Z\n",
              "40946    2018-05-18T17:34:22.000Z\n",
              "40947    2018-05-17T17:00:04.000Z\n",
              "40948    2018-05-17T17:09:38.000Z\n",
              "Name: publish_time, Length: 40901, dtype: object"
            ]
          },
          "execution_count": 82,
          "metadata": {},
          "output_type": "execute_result"
        }
      ],
      "source": [
        "vdo_df.publish_time.head()"
      ]
    },
    {
      "cell_type": "code",
      "execution_count": 83,
      "metadata": {
        "colab": {
          "base_uri": "https://localhost:8080/"
        },
        "id": "sJE5mPT90Q4y",
        "outputId": "92bcb47d-b2b5-4a90-e1a7-c3fca18f2dd0"
      },
      "outputs": [
        {
          "data": {
            "text/plain": [
              "0       2017-11-13 17:13:01+00:00\n",
              "1       2017-11-13 07:30:00+00:00\n",
              "2       2017-11-12 19:05:24+00:00\n",
              "3       2017-11-13 11:00:04+00:00\n",
              "4       2017-11-12 18:01:41+00:00\n",
              "                   ...           \n",
              "40944   2018-05-18 13:00:04+00:00\n",
              "40945   2018-05-18 01:00:06+00:00\n",
              "40946   2018-05-18 17:34:22+00:00\n",
              "40947   2018-05-17 17:00:04+00:00\n",
              "40948   2018-05-17 17:09:38+00:00\n",
              "Name: publish_time, Length: 40901, dtype: datetime64[ns, UTC]"
            ]
          },
          "execution_count": 83,
          "metadata": {},
          "output_type": "execute_result"
        }
      ],
      "source": [
        "pd.to_datetime(vdo_df.publish_time).head()"
      ]
    },
    {
      "cell_type": "markdown",
      "metadata": {
        "id": "eyBJZGXr0Q4y"
      },
      "source": [
        "### Which VDO does take the longest time to be trending?\n",
        "Let's try to find the answer for this question.  Obviously, we will need to use find number of days between publish_time to trending_date."
      ]
    },
    {
      "cell_type": "code",
      "execution_count": 84,
      "metadata": {
        "id": "TXUTYwBQ0Q4z"
      },
      "outputs": [],
      "source": [
        "vdo_df['publish_dt'] = pd.to_datetime(vdo_df.publish_time)"
      ]
    },
    {
      "cell_type": "code",
      "execution_count": 85,
      "metadata": {
        "colab": {
          "base_uri": "https://localhost:8080/"
        },
        "id": "n-sD_YTF0Q4z",
        "outputId": "71c7a49b-67ca-4c25-ce01-4c62139bc912"
      },
      "outputs": [
        {
          "data": {
            "text/plain": [
              "video_id                               object\n",
              "trending_date                          object\n",
              "title                                  object\n",
              "channel_title                          object\n",
              "category_id                             int64\n",
              "publish_time                           object\n",
              "tags                                   object\n",
              "views                                   int64\n",
              "likes                                   int64\n",
              "dislikes                                int64\n",
              "comment_count                           int64\n",
              "thumbnail_link                         object\n",
              "comments_disabled                        bool\n",
              "ratings_disabled                         bool\n",
              "video_error_or_removed                   bool\n",
              "description                            object\n",
              "lpv_ratio                             float64\n",
              "views_level                          category\n",
              "publish_dt                datetime64[ns, UTC]\n",
              "dtype: object"
            ]
          },
          "execution_count": 85,
          "metadata": {},
          "output_type": "execute_result"
        }
      ],
      "source": [
        "vdo_df.dtypes.head()"
      ]
    },
    {
      "cell_type": "code",
      "execution_count": 86,
      "metadata": {
        "id": "r6hXi_E10Q4z"
      },
      "outputs": [],
      "source": [
        "from datetime import datetime, timezone"
      ]
    },
    {
      "cell_type": "code",
      "execution_count": 87,
      "metadata": {
        "id": "iy2oCQ6H0Q4z"
      },
      "outputs": [],
      "source": [
        "may2008 = datetime(2008, 5, 1, tzinfo=timezone.utc)"
      ]
    },
    {
      "cell_type": "code",
      "execution_count": 88,
      "metadata": {
        "colab": {
          "base_uri": "https://localhost:8080/",
          "height": 531
        },
        "id": "hIMGtcOr0Q4z",
        "outputId": "cf342936-a073-43aa-a9d8-9cbb9b041f6f"
      },
      "outputs": [
        {
          "data": {
            "text/html": [
              "<div>\n",
              "<style scoped>\n",
              "    .dataframe tbody tr th:only-of-type {\n",
              "        vertical-align: middle;\n",
              "    }\n",
              "\n",
              "    .dataframe tbody tr th {\n",
              "        vertical-align: top;\n",
              "    }\n",
              "\n",
              "    .dataframe thead th {\n",
              "        text-align: right;\n",
              "    }\n",
              "</style>\n",
              "<table border=\"1\" class=\"dataframe\">\n",
              "  <thead>\n",
              "    <tr style=\"text-align: right;\">\n",
              "      <th></th>\n",
              "      <th>video_id</th>\n",
              "      <th>trending_date</th>\n",
              "      <th>title</th>\n",
              "      <th>channel_title</th>\n",
              "      <th>category_id</th>\n",
              "      <th>publish_time</th>\n",
              "      <th>tags</th>\n",
              "      <th>views</th>\n",
              "      <th>likes</th>\n",
              "      <th>dislikes</th>\n",
              "      <th>comment_count</th>\n",
              "      <th>thumbnail_link</th>\n",
              "      <th>comments_disabled</th>\n",
              "      <th>ratings_disabled</th>\n",
              "      <th>video_error_or_removed</th>\n",
              "      <th>description</th>\n",
              "      <th>lpv_ratio</th>\n",
              "      <th>views_level</th>\n",
              "      <th>publish_dt</th>\n",
              "    </tr>\n",
              "  </thead>\n",
              "  <tbody>\n",
              "    <tr>\n",
              "      <th>10710</th>\n",
              "      <td>UQtt9I6c-YM</td>\n",
              "      <td>18.06.01</td>\n",
              "      <td>Kramer vs Kramer-Clou Scene</td>\n",
              "      <td>Livia Giustiniani</td>\n",
              "      <td>1</td>\n",
              "      <td>2008-04-05T18:22:40.000Z</td>\n",
              "      <td>Meryl|\"Streep\"|\"kramer\"|\"vs\"|\"dustin\"|\"hoffman...</td>\n",
              "      <td>49942</td>\n",
              "      <td>46</td>\n",
              "      <td>6</td>\n",
              "      <td>26</td>\n",
              "      <td>https://i.ytimg.com/vi/UQtt9I6c-YM/default.jpg</td>\n",
              "      <td>False</td>\n",
              "      <td>False</td>\n",
              "      <td>False</td>\n",
              "      <td>Poor Meryl...she was really scaredxD</td>\n",
              "      <td>0.000921</td>\n",
              "      <td>some views</td>\n",
              "      <td>2008-04-05 18:22:40+00:00</td>\n",
              "    </tr>\n",
              "    <tr>\n",
              "      <th>10921</th>\n",
              "      <td>UQtt9I6c-YM</td>\n",
              "      <td>18.07.01</td>\n",
              "      <td>Kramer vs Kramer-Clou Scene</td>\n",
              "      <td>Livia Giustiniani</td>\n",
              "      <td>1</td>\n",
              "      <td>2008-04-05T18:22:40.000Z</td>\n",
              "      <td>Meryl|\"Streep\"|\"kramer\"|\"vs\"|\"dustin\"|\"hoffman...</td>\n",
              "      <td>50030</td>\n",
              "      <td>46</td>\n",
              "      <td>6</td>\n",
              "      <td>26</td>\n",
              "      <td>https://i.ytimg.com/vi/UQtt9I6c-YM/default.jpg</td>\n",
              "      <td>False</td>\n",
              "      <td>False</td>\n",
              "      <td>False</td>\n",
              "      <td>Poor Meryl...she was really scaredxD</td>\n",
              "      <td>0.000919</td>\n",
              "      <td>some views</td>\n",
              "      <td>2008-04-05 18:22:40+00:00</td>\n",
              "    </tr>\n",
              "    <tr>\n",
              "      <th>11150</th>\n",
              "      <td>UQtt9I6c-YM</td>\n",
              "      <td>18.08.01</td>\n",
              "      <td>Kramer vs Kramer-Clou Scene</td>\n",
              "      <td>Livia Giustiniani</td>\n",
              "      <td>1</td>\n",
              "      <td>2008-04-05T18:22:40.000Z</td>\n",
              "      <td>Meryl|\"Streep\"|\"kramer\"|\"vs\"|\"dustin\"|\"hoffman...</td>\n",
              "      <td>50117</td>\n",
              "      <td>46</td>\n",
              "      <td>6</td>\n",
              "      <td>26</td>\n",
              "      <td>https://i.ytimg.com/vi/UQtt9I6c-YM/default.jpg</td>\n",
              "      <td>False</td>\n",
              "      <td>False</td>\n",
              "      <td>False</td>\n",
              "      <td>Poor Meryl...she was really scaredxD</td>\n",
              "      <td>0.000918</td>\n",
              "      <td>some views</td>\n",
              "      <td>2008-04-05 18:22:40+00:00</td>\n",
              "    </tr>\n",
              "    <tr>\n",
              "      <th>11375</th>\n",
              "      <td>UQtt9I6c-YM</td>\n",
              "      <td>18.09.01</td>\n",
              "      <td>Kramer vs Kramer-Clou Scene</td>\n",
              "      <td>Livia Giustiniani</td>\n",
              "      <td>1</td>\n",
              "      <td>2008-04-05T18:22:40.000Z</td>\n",
              "      <td>Meryl|\"Streep\"|\"kramer\"|\"vs\"|\"dustin\"|\"hoffman...</td>\n",
              "      <td>50168</td>\n",
              "      <td>46</td>\n",
              "      <td>6</td>\n",
              "      <td>26</td>\n",
              "      <td>https://i.ytimg.com/vi/UQtt9I6c-YM/default.jpg</td>\n",
              "      <td>False</td>\n",
              "      <td>False</td>\n",
              "      <td>False</td>\n",
              "      <td>Poor Meryl...she was really scaredxD</td>\n",
              "      <td>0.000917</td>\n",
              "      <td>some views</td>\n",
              "      <td>2008-04-05 18:22:40+00:00</td>\n",
              "    </tr>\n",
              "    <tr>\n",
              "      <th>16294</th>\n",
              "      <td>MJO3FmmFuh4</td>\n",
              "      <td>18.05.02</td>\n",
              "      <td>Budweiser - Original Whazzup? ad</td>\n",
              "      <td>dannotv</td>\n",
              "      <td>24</td>\n",
              "      <td>2006-07-23T08:24:11.000Z</td>\n",
              "      <td>Budweiser|\"Bud\"|\"Whazzup\"|\"ad\"</td>\n",
              "      <td>258506</td>\n",
              "      <td>459</td>\n",
              "      <td>152</td>\n",
              "      <td>82</td>\n",
              "      <td>https://i.ytimg.com/vi/MJO3FmmFuh4/default.jpg</td>\n",
              "      <td>False</td>\n",
              "      <td>False</td>\n",
              "      <td>False</td>\n",
              "      <td>Original Whazzup ad - however, there is a litt...</td>\n",
              "      <td>0.001776</td>\n",
              "      <td>some views</td>\n",
              "      <td>2006-07-23 08:24:11+00:00</td>\n",
              "    </tr>\n",
              "  </tbody>\n",
              "</table>\n",
              "</div>"
            ],
            "text/plain": [
              "          video_id trending_date                             title  \\\n",
              "10710  UQtt9I6c-YM      18.06.01       Kramer vs Kramer-Clou Scene   \n",
              "10921  UQtt9I6c-YM      18.07.01       Kramer vs Kramer-Clou Scene   \n",
              "11150  UQtt9I6c-YM      18.08.01       Kramer vs Kramer-Clou Scene   \n",
              "11375  UQtt9I6c-YM      18.09.01       Kramer vs Kramer-Clou Scene   \n",
              "16294  MJO3FmmFuh4      18.05.02  Budweiser - Original Whazzup? ad   \n",
              "\n",
              "           channel_title  category_id              publish_time  \\\n",
              "10710  Livia Giustiniani            1  2008-04-05T18:22:40.000Z   \n",
              "10921  Livia Giustiniani            1  2008-04-05T18:22:40.000Z   \n",
              "11150  Livia Giustiniani            1  2008-04-05T18:22:40.000Z   \n",
              "11375  Livia Giustiniani            1  2008-04-05T18:22:40.000Z   \n",
              "16294            dannotv           24  2006-07-23T08:24:11.000Z   \n",
              "\n",
              "                                                    tags   views  likes  \\\n",
              "10710  Meryl|\"Streep\"|\"kramer\"|\"vs\"|\"dustin\"|\"hoffman...   49942     46   \n",
              "10921  Meryl|\"Streep\"|\"kramer\"|\"vs\"|\"dustin\"|\"hoffman...   50030     46   \n",
              "11150  Meryl|\"Streep\"|\"kramer\"|\"vs\"|\"dustin\"|\"hoffman...   50117     46   \n",
              "11375  Meryl|\"Streep\"|\"kramer\"|\"vs\"|\"dustin\"|\"hoffman...   50168     46   \n",
              "16294                     Budweiser|\"Bud\"|\"Whazzup\"|\"ad\"  258506    459   \n",
              "\n",
              "       dislikes  comment_count  \\\n",
              "10710         6             26   \n",
              "10921         6             26   \n",
              "11150         6             26   \n",
              "11375         6             26   \n",
              "16294       152             82   \n",
              "\n",
              "                                       thumbnail_link  comments_disabled  \\\n",
              "10710  https://i.ytimg.com/vi/UQtt9I6c-YM/default.jpg              False   \n",
              "10921  https://i.ytimg.com/vi/UQtt9I6c-YM/default.jpg              False   \n",
              "11150  https://i.ytimg.com/vi/UQtt9I6c-YM/default.jpg              False   \n",
              "11375  https://i.ytimg.com/vi/UQtt9I6c-YM/default.jpg              False   \n",
              "16294  https://i.ytimg.com/vi/MJO3FmmFuh4/default.jpg              False   \n",
              "\n",
              "       ratings_disabled  video_error_or_removed  \\\n",
              "10710             False                   False   \n",
              "10921             False                   False   \n",
              "11150             False                   False   \n",
              "11375             False                   False   \n",
              "16294             False                   False   \n",
              "\n",
              "                                             description  lpv_ratio  \\\n",
              "10710               Poor Meryl...she was really scaredxD   0.000921   \n",
              "10921               Poor Meryl...she was really scaredxD   0.000919   \n",
              "11150               Poor Meryl...she was really scaredxD   0.000918   \n",
              "11375               Poor Meryl...she was really scaredxD   0.000917   \n",
              "16294  Original Whazzup ad - however, there is a litt...   0.001776   \n",
              "\n",
              "      views_level                publish_dt  \n",
              "10710  some views 2008-04-05 18:22:40+00:00  \n",
              "10921  some views 2008-04-05 18:22:40+00:00  \n",
              "11150  some views 2008-04-05 18:22:40+00:00  \n",
              "11375  some views 2008-04-05 18:22:40+00:00  \n",
              "16294  some views 2006-07-23 08:24:11+00:00  "
            ]
          },
          "execution_count": 88,
          "metadata": {},
          "output_type": "execute_result"
        }
      ],
      "source": [
        "vdo_df[vdo_df.publish_dt < may2008]"
      ]
    },
    {
      "cell_type": "markdown",
      "metadata": {
        "id": "dpCYeoz90Q4z"
      },
      "source": [
        "Now, we have to transform the *trending_date* from string to datetime.  The format is yy.dd.mm where yy is the last two digits of year."
      ]
    },
    {
      "cell_type": "code",
      "execution_count": 89,
      "metadata": {
        "colab": {
          "base_uri": "https://localhost:8080/"
        },
        "id": "zaWdmA_K0Q40",
        "outputId": "b72fe1b9-e9c0-4a39-b879-2c138ea127ab"
      },
      "outputs": [
        {
          "data": {
            "text/plain": [
              "0        17.14.11\n",
              "1        17.14.11\n",
              "2        17.14.11\n",
              "3        17.14.11\n",
              "4        17.14.11\n",
              "           ...   \n",
              "40944    18.14.06\n",
              "40945    18.14.06\n",
              "40946    18.14.06\n",
              "40947    18.14.06\n",
              "40948    18.14.06\n",
              "Name: trending_date, Length: 40901, dtype: object"
            ]
          },
          "execution_count": 89,
          "metadata": {},
          "output_type": "execute_result"
        }
      ],
      "source": [
        "vdo_df.trending_date.head()"
      ]
    },
    {
      "cell_type": "code",
      "execution_count": 90,
      "metadata": {
        "id": "Kuh0bKrS0Q40"
      },
      "outputs": [],
      "source": [
        "vdo_df['trending_dt'] = pd.to_datetime(vdo_df.trending_date, format='%y.%d.%m', errors='ignore', utc=True)"
      ]
    },
    {
      "cell_type": "code",
      "execution_count": 91,
      "metadata": {
        "colab": {
          "base_uri": "https://localhost:8080/"
        },
        "id": "KY1OdQkP0Q40",
        "outputId": "64ebac9b-7458-499c-8d07-7d5406fed83a"
      },
      "outputs": [
        {
          "data": {
            "text/plain": [
              "0       2017-11-14 00:00:00+00:00\n",
              "1       2017-11-14 00:00:00+00:00\n",
              "2       2017-11-14 00:00:00+00:00\n",
              "3       2017-11-14 00:00:00+00:00\n",
              "4       2017-11-14 00:00:00+00:00\n",
              "                   ...           \n",
              "40944   2018-06-14 00:00:00+00:00\n",
              "40945   2018-06-14 00:00:00+00:00\n",
              "40946   2018-06-14 00:00:00+00:00\n",
              "40947   2018-06-14 00:00:00+00:00\n",
              "40948   2018-06-14 00:00:00+00:00\n",
              "Name: trending_dt, Length: 40901, dtype: datetime64[ns, UTC]"
            ]
          },
          "execution_count": 91,
          "metadata": {},
          "output_type": "execute_result"
        }
      ],
      "source": [
        "vdo_df.trending_dt.head()"
      ]
    },
    {
      "cell_type": "code",
      "execution_count": 92,
      "metadata": {
        "id": "PQaSAYUO0Q40"
      },
      "outputs": [],
      "source": [
        "vdo_df['days_to_trending'] = vdo_df.trending_dt.dt.date - vdo_df.publish_dt.dt.date"
      ]
    },
    {
      "cell_type": "code",
      "execution_count": 93,
      "metadata": {
        "colab": {
          "base_uri": "https://localhost:8080/"
        },
        "id": "qxHamyvB0Q40",
        "outputId": "5f62bbd6-ce7d-4b07-a714-14a086db949a"
      },
      "outputs": [
        {
          "data": {
            "text/plain": [
              "0        1 days\n",
              "1        1 days\n",
              "2        2 days\n",
              "3        1 days\n",
              "4        2 days\n",
              "          ...  \n",
              "40944   27 days\n",
              "40945   27 days\n",
              "40946   27 days\n",
              "40947   28 days\n",
              "40948   28 days\n",
              "Name: days_to_trending, Length: 40901, dtype: timedelta64[ns]"
            ]
          },
          "execution_count": 93,
          "metadata": {},
          "output_type": "execute_result"
        }
      ],
      "source": [
        "vdo_df.days_to_trending.head()"
      ]
    },
    {
      "cell_type": "code",
      "execution_count": 95,
      "metadata": {
        "colab": {
          "base_uri": "https://localhost:8080/"
        },
        "id": "X3spYmUN0Q40",
        "outputId": "f3584ac6-ba75-4533-c68a-a8231d7e668e"
      },
      "outputs": [
        {
          "data": {
            "text/plain": [
              "Timedelta('4215 days 00:00:00')"
            ]
          },
          "execution_count": 95,
          "metadata": {},
          "output_type": "execute_result"
        }
      ],
      "source": [
        "vdo_df.days_to_trending.max()"
      ]
    },
    {
      "cell_type": "code",
      "execution_count": 96,
      "metadata": {
        "colab": {
          "base_uri": "https://localhost:8080/",
          "height": 197
        },
        "id": "Qm1vDMN_0Q41",
        "outputId": "d71bfe44-736c-4e1b-9a81-459289dc48d6"
      },
      "outputs": [
        {
          "data": {
            "text/html": [
              "<div>\n",
              "<style scoped>\n",
              "    .dataframe tbody tr th:only-of-type {\n",
              "        vertical-align: middle;\n",
              "    }\n",
              "\n",
              "    .dataframe tbody tr th {\n",
              "        vertical-align: top;\n",
              "    }\n",
              "\n",
              "    .dataframe thead th {\n",
              "        text-align: right;\n",
              "    }\n",
              "</style>\n",
              "<table border=\"1\" class=\"dataframe\">\n",
              "  <thead>\n",
              "    <tr style=\"text-align: right;\">\n",
              "      <th></th>\n",
              "      <th>video_id</th>\n",
              "      <th>trending_date</th>\n",
              "      <th>title</th>\n",
              "      <th>channel_title</th>\n",
              "      <th>category_id</th>\n",
              "      <th>publish_time</th>\n",
              "      <th>tags</th>\n",
              "      <th>views</th>\n",
              "      <th>likes</th>\n",
              "      <th>dislikes</th>\n",
              "      <th>...</th>\n",
              "      <th>thumbnail_link</th>\n",
              "      <th>comments_disabled</th>\n",
              "      <th>ratings_disabled</th>\n",
              "      <th>video_error_or_removed</th>\n",
              "      <th>description</th>\n",
              "      <th>lpv_ratio</th>\n",
              "      <th>views_level</th>\n",
              "      <th>publish_dt</th>\n",
              "      <th>trending_dt</th>\n",
              "      <th>days_to_trending</th>\n",
              "    </tr>\n",
              "  </thead>\n",
              "  <tbody>\n",
              "    <tr>\n",
              "      <th>16294</th>\n",
              "      <td>MJO3FmmFuh4</td>\n",
              "      <td>18.05.02</td>\n",
              "      <td>Budweiser - Original Whazzup? ad</td>\n",
              "      <td>dannotv</td>\n",
              "      <td>24</td>\n",
              "      <td>2006-07-23T08:24:11.000Z</td>\n",
              "      <td>Budweiser|\"Bud\"|\"Whazzup\"|\"ad\"</td>\n",
              "      <td>258506</td>\n",
              "      <td>459</td>\n",
              "      <td>152</td>\n",
              "      <td>...</td>\n",
              "      <td>https://i.ytimg.com/vi/MJO3FmmFuh4/default.jpg</td>\n",
              "      <td>False</td>\n",
              "      <td>False</td>\n",
              "      <td>False</td>\n",
              "      <td>Original Whazzup ad - however, there is a litt...</td>\n",
              "      <td>0.001776</td>\n",
              "      <td>some views</td>\n",
              "      <td>2006-07-23 08:24:11+00:00</td>\n",
              "      <td>2018-02-05 00:00:00+00:00</td>\n",
              "      <td>4215 days</td>\n",
              "    </tr>\n",
              "  </tbody>\n",
              "</table>\n",
              "<p>1 rows × 21 columns</p>\n",
              "</div>"
            ],
            "text/plain": [
              "          video_id trending_date                             title  \\\n",
              "16294  MJO3FmmFuh4      18.05.02  Budweiser - Original Whazzup? ad   \n",
              "\n",
              "      channel_title  category_id              publish_time  \\\n",
              "16294       dannotv           24  2006-07-23T08:24:11.000Z   \n",
              "\n",
              "                                 tags   views  likes  dislikes  ...  \\\n",
              "16294  Budweiser|\"Bud\"|\"Whazzup\"|\"ad\"  258506    459       152  ...   \n",
              "\n",
              "                                       thumbnail_link comments_disabled  \\\n",
              "16294  https://i.ytimg.com/vi/MJO3FmmFuh4/default.jpg             False   \n",
              "\n",
              "       ratings_disabled  video_error_or_removed  \\\n",
              "16294             False                   False   \n",
              "\n",
              "                                             description lpv_ratio  \\\n",
              "16294  Original Whazzup ad - however, there is a litt...  0.001776   \n",
              "\n",
              "       views_level                publish_dt               trending_dt  \\\n",
              "16294   some views 2006-07-23 08:24:11+00:00 2018-02-05 00:00:00+00:00   \n",
              "\n",
              "      days_to_trending  \n",
              "16294        4215 days  \n",
              "\n",
              "[1 rows x 21 columns]"
            ]
          },
          "execution_count": 96,
          "metadata": {},
          "output_type": "execute_result"
        }
      ],
      "source": [
        "vdo_df[vdo_df.days_to_trending == vdo_df.days_to_trending.max()]"
      ]
    },
    {
      "cell_type": "code",
      "execution_count": 97,
      "metadata": {
        "colab": {
          "base_uri": "https://localhost:8080/"
        },
        "id": "P6AB820g0Q41",
        "outputId": "5051df83-f988-4159-8ffa-35beb3861653"
      },
      "outputs": [
        {
          "data": {
            "text/plain": [
              "count                          40901\n",
              "mean      16 days 19:50:39.857216205\n",
              "std      146 days 02:22:47.782206980\n",
              "min                  0 days 00:00:00\n",
              "25%                  3 days 00:00:00\n",
              "50%                  5 days 00:00:00\n",
              "75%                  9 days 00:00:00\n",
              "max               4215 days 00:00:00\n",
              "Name: days_to_trending, dtype: object"
            ]
          },
          "execution_count": 97,
          "metadata": {},
          "output_type": "execute_result"
        }
      ],
      "source": [
        "vdo_df.days_to_trending.describe()"
      ]
    }
  ],
  "metadata": {
    "colab": {
      "collapsed_sections": [
        "2YkPpH220Q4M",
        "rbET7g3E0Q4e",
        "MuXkgTw60Q4l",
        "D4g0RmIX0Q4q",
        "ZEqgVmt_0Q4r"
      ],
      "name": "Pandas (Data Set:Trending YouTube Video Statistics).ipynb",
      "provenance": []
    },
    "kernelspec": {
      "display_name": "Python 3",
      "language": "python",
      "name": "python3"
    },
    "language_info": {
      "codemirror_mode": {
        "name": "ipython",
        "version": 3
      },
      "file_extension": ".py",
      "mimetype": "text/x-python",
      "name": "python",
      "nbconvert_exporter": "python",
      "pygments_lexer": "ipython3",
      "version": "3.9.13"
    },
    "toc": {
      "base_numbering": 1,
      "nav_menu": {},
      "number_sections": true,
      "sideBar": true,
      "skip_h1_title": false,
      "title_cell": "Table of Contents",
      "title_sidebar": "Contents",
      "toc_cell": false,
      "toc_position": {},
      "toc_section_display": true,
      "toc_window_display": false
    },
    "varInspector": {
      "cols": {
        "lenName": 16,
        "lenType": 16,
        "lenVar": 40
      },
      "kernels_config": {
        "python": {
          "delete_cmd_postfix": "",
          "delete_cmd_prefix": "del ",
          "library": "var_list.py",
          "varRefreshCmd": "print(var_dic_list())"
        },
        "r": {
          "delete_cmd_postfix": ") ",
          "delete_cmd_prefix": "rm(",
          "library": "var_list.r",
          "varRefreshCmd": "cat(var_dic_list()) "
        }
      },
      "types_to_exclude": [
        "module",
        "function",
        "builtin_function_or_method",
        "instance",
        "_Feature"
      ],
      "window_display": false
    }
  },
  "nbformat": 4,
  "nbformat_minor": 0
}
