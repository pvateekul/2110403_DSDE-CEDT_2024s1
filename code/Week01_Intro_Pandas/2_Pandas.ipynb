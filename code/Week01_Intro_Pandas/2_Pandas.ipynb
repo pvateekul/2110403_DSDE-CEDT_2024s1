{
  "cells": [
    {
      "cell_type": "markdown",
      "metadata": {
        "id": "YQibouG4iHAQ"
      },
      "source": [
        "# Import Library"
      ]
    },
    {
      "cell_type": "code",
      "execution_count": 76,
      "metadata": {
        "id": "uD1qAqYuiHAR"
      },
      "outputs": [],
      "source": [
        "import pandas as pd\n",
        "import numpy as np"
      ]
    },
    {
      "cell_type": "markdown",
      "metadata": {
        "id": "xZ93LnsmiHAV"
      },
      "source": [
        "# Series"
      ]
    },
    {
      "cell_type": "markdown",
      "metadata": {
        "id": "QVmY7u58iHAW"
      },
      "source": [
        "## Create Series"
      ]
    },
    {
      "cell_type": "markdown",
      "metadata": {
        "id": "ArvcnmK5iHAW"
      },
      "source": [
        "There are many approaches to create a Series.  We first create a Series with 5 elements from a list:\n",
        "\n",
        "Index | Data (int)\n",
        ":---: | :---:\n",
        "0 | 14\n",
        "1 | -8\n",
        "2 | 0\n",
        "3 | 3\n",
        "4 | 9\n",
        "\n",
        "Note that **integer index starts from 0**"
      ]
    },
    {
      "cell_type": "code",
      "execution_count": 77,
      "metadata": {
        "id": "0okZD2xSiHAX"
      },
      "outputs": [
        {
          "data": {
            "text/plain": [
              "0    14\n",
              "1    -8\n",
              "2     0\n",
              "3     3\n",
              "4     9\n",
              "dtype: int64"
            ]
          },
          "execution_count": 77,
          "metadata": {},
          "output_type": "execute_result"
        }
      ],
      "source": [
        "# create Series from a list\n",
        "s1 = pd.Series([14, -8, 0, 3, 9])\n",
        "s1"
      ]
    },
    {
      "cell_type": "code",
      "execution_count": 78,
      "metadata": {
        "id": "SqHNCqsfiHAc"
      },
      "outputs": [
        {
          "data": {
            "text/plain": [
              "pandas.core.series.Series"
            ]
          },
          "execution_count": 78,
          "metadata": {},
          "output_type": "execute_result"
        }
      ],
      "source": [
        "type(s1)"
      ]
    },
    {
      "cell_type": "code",
      "execution_count": 79,
      "metadata": {
        "id": "r1D7WphoiHAg"
      },
      "outputs": [
        {
          "data": {
            "text/plain": [
              "dtype('int64')"
            ]
          },
          "execution_count": 79,
          "metadata": {},
          "output_type": "execute_result"
        }
      ],
      "source": [
        "s1.dtype"
      ]
    },
    {
      "cell_type": "code",
      "execution_count": 80,
      "metadata": {
        "id": "uDhLS9XHiHAj"
      },
      "outputs": [
        {
          "data": {
            "text/plain": [
              "array([14, -8,  0,  3,  9], dtype=int64)"
            ]
          },
          "execution_count": 80,
          "metadata": {},
          "output_type": "execute_result"
        }
      ],
      "source": [
        "s1.values"
      ]
    },
    {
      "cell_type": "code",
      "execution_count": 81,
      "metadata": {
        "id": "2PDS0JV0iHAn"
      },
      "outputs": [
        {
          "data": {
            "text/plain": [
              "RangeIndex(start=0, stop=5, step=1)"
            ]
          },
          "execution_count": 81,
          "metadata": {},
          "output_type": "execute_result"
        }
      ],
      "source": [
        "s1.index"
      ]
    },
    {
      "cell_type": "code",
      "execution_count": 82,
      "metadata": {
        "id": "SVefUyMmiHAt"
      },
      "outputs": [
        {
          "name": "stdout",
          "output_type": "stream",
          "text": [
            "14\n",
            "0\n"
          ]
        }
      ],
      "source": [
        "#Get value in index 0\n",
        "print(s1[0])\n",
        "print(s1[2])"
      ]
    },
    {
      "cell_type": "markdown",
      "metadata": {
        "id": "8S0VFDAfiHA2"
      },
      "source": [
        "## Create Series with Index"
      ]
    },
    {
      "cell_type": "markdown",
      "metadata": {
        "id": "dJG58kEAiHA3"
      },
      "source": [
        "We can create a Series with labels as index.  A label can be an arbitary string.  Although, we assign labels to the Series, integer index still exists.\n",
        "\n",
        "Index | Label | Data (int)\n",
        ":---: | :---: | :---:\n",
        "0 | d | 14\n",
        "1 | b | -8\n",
        "2 | a | 0\n",
        "3 | c | 3\n",
        "4 | x | 9\n",
        "\n",
        "Note that when we display a Series, it will show labels (if exist) or integer index (otherwise)."
      ]
    },
    {
      "cell_type": "code",
      "execution_count": 83,
      "metadata": {
        "id": "GxGz9biZiHA4"
      },
      "outputs": [
        {
          "data": {
            "text/plain": [
              "d    14\n",
              "a    -8\n",
              "b     0\n",
              "c     3\n",
              "x     9\n",
              "dtype: int64"
            ]
          },
          "execution_count": 83,
          "metadata": {},
          "output_type": "execute_result"
        }
      ],
      "source": [
        "# create series with index, which can be numbers or strings\n",
        "s2 = pd.Series([14, -8, 0, 3, 9], index=['d','a','b','c', 'x'])\n",
        "s2"
      ]
    },
    {
      "cell_type": "code",
      "execution_count": 84,
      "metadata": {
        "id": "GMyhV6fJiHA8"
      },
      "outputs": [
        {
          "data": {
            "text/plain": [
              "Index(['d', 'a', 'b', 'c', 'x'], dtype='object')"
            ]
          },
          "execution_count": 84,
          "metadata": {},
          "output_type": "execute_result"
        }
      ],
      "source": [
        "s2.index"
      ]
    },
    {
      "cell_type": "code",
      "execution_count": 85,
      "metadata": {
        "id": "wGbtZYrgiHBA"
      },
      "outputs": [
        {
          "name": "stdout",
          "output_type": "stream",
          "text": [
            "-8\n",
            "-8\n"
          ]
        }
      ],
      "source": [
        "#Get value in index 'a'\n",
        "print(s2['a'])\n",
        "print(s2[1])"
      ]
    },
    {
      "cell_type": "markdown",
      "metadata": {
        "id": "wDD7C_qqiHBH"
      },
      "source": [
        "# Series Operation"
      ]
    },
    {
      "cell_type": "code",
      "execution_count": 86,
      "metadata": {
        "id": "SyilPt3XiHBH"
      },
      "outputs": [
        {
          "data": {
            "text/plain": [
              "array([14, -8,  0,  3,  9], dtype=int64)"
            ]
          },
          "execution_count": 86,
          "metadata": {},
          "output_type": "execute_result"
        }
      ],
      "source": [
        "s2.values"
      ]
    },
    {
      "cell_type": "code",
      "execution_count": 87,
      "metadata": {
        "id": "bTx8Z-h-iHBL"
      },
      "outputs": [
        {
          "data": {
            "text/plain": [
              "d    196\n",
              "a     64\n",
              "b      0\n",
              "c      9\n",
              "x     81\n",
              "dtype: int64"
            ]
          },
          "execution_count": 87,
          "metadata": {},
          "output_type": "execute_result"
        }
      ],
      "source": [
        "# Apply with Lambda\n",
        "s2.apply(lambda x : x**2)"
      ]
    },
    {
      "cell_type": "code",
      "execution_count": 88,
      "metadata": {
        "id": "RbcFKpMdiHBO"
      },
      "outputs": [
        {
          "data": {
            "text/plain": [
              "d    196\n",
              "a     64\n",
              "b      0\n",
              "c      9\n",
              "x     81\n",
              "dtype: int64"
            ]
          },
          "execution_count": 88,
          "metadata": {},
          "output_type": "execute_result"
        }
      ],
      "source": [
        "# Apply with method\n",
        "def power(x):\n",
        "    return x**2\n",
        "s2.apply(power)"
      ]
    },
    {
      "cell_type": "code",
      "execution_count": 89,
      "metadata": {
        "id": "PrLzixM4N4_H"
      },
      "outputs": [
        {
          "data": {
            "text/plain": [
              "d    14\n",
              "a    -8\n",
              "b     0\n",
              "c     3\n",
              "x     9\n",
              "dtype: int64"
            ]
          },
          "execution_count": 89,
          "metadata": {},
          "output_type": "execute_result"
        }
      ],
      "source": [
        "s2"
      ]
    },
    {
      "cell_type": "markdown",
      "metadata": {
        "id": "8LB4-VBliHBU"
      },
      "source": [
        "# DataFrame"
      ]
    },
    {
      "cell_type": "markdown",
      "metadata": {
        "id": "CEB0WMzdiHBV"
      },
      "source": [
        "## Create DataFrame from List"
      ]
    },
    {
      "cell_type": "markdown",
      "metadata": {
        "id": "xovWG8PuiHBV"
      },
      "source": [
        "There are several approaches to create a DataFrame.  A simple one is to create from dict.\n",
        "We create the following DataFrame:\n",
        "\n",
        "Index | province | year | population\n",
        ":---: | :---: | :---: | :---:\n",
        "0 | Chiang Mai | 2016 | 1630428\n",
        "1 | Chiang Mai | 2017 | 1664012\n",
        "2 | Chiang Mai | 2018 | 1687971\n",
        "3 | Phrae | 2016 | 398936\n",
        "4 | Phrae | 2017 | 410382\n",
        "5 | Phrae | 2018 | 421653"
      ]
    },
    {
      "cell_type": "code",
      "execution_count": 90,
      "metadata": {
        "id": "hTAe8EWKiHBW"
      },
      "outputs": [
        {
          "data": {
            "text/html": [
              "<div>\n",
              "<style scoped>\n",
              "    .dataframe tbody tr th:only-of-type {\n",
              "        vertical-align: middle;\n",
              "    }\n",
              "\n",
              "    .dataframe tbody tr th {\n",
              "        vertical-align: top;\n",
              "    }\n",
              "\n",
              "    .dataframe thead th {\n",
              "        text-align: right;\n",
              "    }\n",
              "</style>\n",
              "<table border=\"1\" class=\"dataframe\">\n",
              "  <thead>\n",
              "    <tr style=\"text-align: right;\">\n",
              "      <th></th>\n",
              "      <th>province</th>\n",
              "      <th>year</th>\n",
              "      <th>population</th>\n",
              "    </tr>\n",
              "  </thead>\n",
              "  <tbody>\n",
              "    <tr>\n",
              "      <th>0</th>\n",
              "      <td>Chiang Mai</td>\n",
              "      <td>2016</td>\n",
              "      <td>1630428</td>\n",
              "    </tr>\n",
              "    <tr>\n",
              "      <th>1</th>\n",
              "      <td>Chiang Mai</td>\n",
              "      <td>2017</td>\n",
              "      <td>1664012</td>\n",
              "    </tr>\n",
              "    <tr>\n",
              "      <th>2</th>\n",
              "      <td>Chiang Mai</td>\n",
              "      <td>2018</td>\n",
              "      <td>1687971</td>\n",
              "    </tr>\n",
              "    <tr>\n",
              "      <th>3</th>\n",
              "      <td>Phrae</td>\n",
              "      <td>2016</td>\n",
              "      <td>398936</td>\n",
              "    </tr>\n",
              "    <tr>\n",
              "      <th>4</th>\n",
              "      <td>Phrae</td>\n",
              "      <td>2017</td>\n",
              "      <td>410382</td>\n",
              "    </tr>\n",
              "    <tr>\n",
              "      <th>5</th>\n",
              "      <td>Phrae</td>\n",
              "      <td>2018</td>\n",
              "      <td>421653</td>\n",
              "    </tr>\n",
              "  </tbody>\n",
              "</table>\n",
              "</div>"
            ],
            "text/plain": [
              "     province  year  population\n",
              "0  Chiang Mai  2016     1630428\n",
              "1  Chiang Mai  2017     1664012\n",
              "2  Chiang Mai  2018     1687971\n",
              "3       Phrae  2016      398936\n",
              "4       Phrae  2017      410382\n",
              "5       Phrae  2018      421653"
            ]
          },
          "execution_count": 90,
          "metadata": {},
          "output_type": "execute_result"
        }
      ],
      "source": [
        "# Create From a List\n",
        "data = [\n",
        "    ['Chiang Mai', 2016, 1630428],\n",
        "    ['Chiang Mai', 2017, 1664012],\n",
        "    ['Chiang Mai', 2018, 1687971],\n",
        "    ['Phrae', 2016, 398936],\n",
        "    ['Phrae', 2017, 410382],\n",
        "    ['Phrae', 2018, 421653]\n",
        "]\n",
        "df = pd.DataFrame(\n",
        "    data=data,\n",
        "    columns=['province','year','population']\n",
        ")\n",
        "df"
      ]
    },
    {
      "cell_type": "code",
      "execution_count": 91,
      "metadata": {
        "id": "ONGYgffciHBY"
      },
      "outputs": [
        {
          "data": {
            "text/html": [
              "<div>\n",
              "<style scoped>\n",
              "    .dataframe tbody tr th:only-of-type {\n",
              "        vertical-align: middle;\n",
              "    }\n",
              "\n",
              "    .dataframe tbody tr th {\n",
              "        vertical-align: top;\n",
              "    }\n",
              "\n",
              "    .dataframe thead th {\n",
              "        text-align: right;\n",
              "    }\n",
              "</style>\n",
              "<table border=\"1\" class=\"dataframe\">\n",
              "  <thead>\n",
              "    <tr style=\"text-align: right;\">\n",
              "      <th></th>\n",
              "      <th>province</th>\n",
              "      <th>year</th>\n",
              "      <th>population</th>\n",
              "    </tr>\n",
              "  </thead>\n",
              "  <tbody>\n",
              "    <tr>\n",
              "      <th>0</th>\n",
              "      <td>Chiang Mai</td>\n",
              "      <td>2016</td>\n",
              "      <td>1630428</td>\n",
              "    </tr>\n",
              "    <tr>\n",
              "      <th>1</th>\n",
              "      <td>Chiang Mai</td>\n",
              "      <td>2017</td>\n",
              "      <td>1664012</td>\n",
              "    </tr>\n",
              "    <tr>\n",
              "      <th>2</th>\n",
              "      <td>Chiang Mai</td>\n",
              "      <td>2018</td>\n",
              "      <td>1687971</td>\n",
              "    </tr>\n",
              "    <tr>\n",
              "      <th>3</th>\n",
              "      <td>Phrae</td>\n",
              "      <td>2016</td>\n",
              "      <td>398936</td>\n",
              "    </tr>\n",
              "    <tr>\n",
              "      <th>4</th>\n",
              "      <td>Phrae</td>\n",
              "      <td>2017</td>\n",
              "      <td>410382</td>\n",
              "    </tr>\n",
              "    <tr>\n",
              "      <th>5</th>\n",
              "      <td>Phrae</td>\n",
              "      <td>2018</td>\n",
              "      <td>421653</td>\n",
              "    </tr>\n",
              "  </tbody>\n",
              "</table>\n",
              "</div>"
            ],
            "text/plain": [
              "     province  year  population\n",
              "0  Chiang Mai  2016     1630428\n",
              "1  Chiang Mai  2017     1664012\n",
              "2  Chiang Mai  2018     1687971\n",
              "3       Phrae  2016      398936\n",
              "4       Phrae  2017      410382\n",
              "5       Phrae  2018      421653"
            ]
          },
          "execution_count": 91,
          "metadata": {},
          "output_type": "execute_result"
        }
      ],
      "source": [
        "# Create From a Dict\n",
        "data = {\n",
        "    'province': ['Chiang Mai', 'Chiang Mai', 'Chiang Mai', 'Phrae', 'Phrae', 'Phrae'],\n",
        "    'year': [2016, 2017, 2018, 2016, 2017, 2018],\n",
        "    'population': [1630428, 1664012, 1687971, 398936, 410382, 421653]\n",
        "}\n",
        "df = pd.DataFrame(data)\n",
        "df"
      ]
    },
    {
      "cell_type": "code",
      "execution_count": 92,
      "metadata": {
        "id": "KAMgnRxziHBe"
      },
      "outputs": [
        {
          "data": {
            "text/plain": [
              "[['Chiang Mai', 2016, 1630428],\n",
              " ['Chiang Mai', 2017, 1664012],\n",
              " ['Chiang Mai', 2018, 1687971],\n",
              " ['Phrae', 2016, 398936],\n",
              " ['Phrae', 2017, 410382],\n",
              " ['Phrae', 2018, 421653]]"
            ]
          },
          "execution_count": 92,
          "metadata": {},
          "output_type": "execute_result"
        }
      ],
      "source": [
        "# Pandas to List\n",
        "df.values.tolist()"
      ]
    },
    {
      "cell_type": "markdown",
      "metadata": {
        "id": "mgLvfWItiHBh"
      },
      "source": [
        "## Create DataFrame from File"
      ]
    },
    {
      "cell_type": "markdown",
      "metadata": {
        "id": "8An1gYRiiT7J"
      },
      "source": [
        "### Download Data"
      ]
    },
    {
      "cell_type": "markdown",
      "metadata": {
        "id": "-cBxxR8PiHBi"
      },
      "source": [
        "### Read File"
      ]
    },
    {
      "cell_type": "code",
      "execution_count": 93,
      "metadata": {
        "id": "_4Mn5_1_iHBi"
      },
      "outputs": [
        {
          "data": {
            "text/html": [
              "<div>\n",
              "<style scoped>\n",
              "    .dataframe tbody tr th:only-of-type {\n",
              "        vertical-align: middle;\n",
              "    }\n",
              "\n",
              "    .dataframe tbody tr th {\n",
              "        vertical-align: top;\n",
              "    }\n",
              "\n",
              "    .dataframe thead th {\n",
              "        text-align: right;\n",
              "    }\n",
              "</style>\n",
              "<table border=\"1\" class=\"dataframe\">\n",
              "  <thead>\n",
              "    <tr style=\"text-align: right;\">\n",
              "      <th></th>\n",
              "      <th>province</th>\n",
              "      <th>year</th>\n",
              "      <th>population</th>\n",
              "    </tr>\n",
              "  </thead>\n",
              "  <tbody>\n",
              "    <tr>\n",
              "      <th>0</th>\n",
              "      <td>Chiang Mai</td>\n",
              "      <td>2016</td>\n",
              "      <td>1630428</td>\n",
              "    </tr>\n",
              "    <tr>\n",
              "      <th>1</th>\n",
              "      <td>Chiang Mai</td>\n",
              "      <td>2017</td>\n",
              "      <td>1664012</td>\n",
              "    </tr>\n",
              "    <tr>\n",
              "      <th>2</th>\n",
              "      <td>Chiang Mai</td>\n",
              "      <td>2018</td>\n",
              "      <td>1687971</td>\n",
              "    </tr>\n",
              "    <tr>\n",
              "      <th>3</th>\n",
              "      <td>Phrae</td>\n",
              "      <td>2016</td>\n",
              "      <td>398936</td>\n",
              "    </tr>\n",
              "    <tr>\n",
              "      <th>4</th>\n",
              "      <td>Phrae</td>\n",
              "      <td>2017</td>\n",
              "      <td>410382</td>\n",
              "    </tr>\n",
              "    <tr>\n",
              "      <th>5</th>\n",
              "      <td>Phrae</td>\n",
              "      <td>2018</td>\n",
              "      <td>421653</td>\n",
              "    </tr>\n",
              "  </tbody>\n",
              "</table>\n",
              "</div>"
            ],
            "text/plain": [
              "     province  year  population\n",
              "0  Chiang Mai  2016     1630428\n",
              "1  Chiang Mai  2017     1664012\n",
              "2  Chiang Mai  2018     1687971\n",
              "3       Phrae  2016      398936\n",
              "4       Phrae  2017      410382\n",
              "5       Phrae  2018      421653"
            ]
          },
          "execution_count": 93,
          "metadata": {},
          "output_type": "execute_result"
        }
      ],
      "source": [
        "df = pd.read_csv('https://github.com/kaopanboonyuen/2110446_DataScience_2021s2/raw/main/datasets/sample.csv')\n",
        "df"
      ]
    },
    {
      "cell_type": "code",
      "execution_count": 94,
      "metadata": {
        "id": "RMH6neN4iHBk"
      },
      "outputs": [
        {
          "data": {
            "text/html": [
              "<div>\n",
              "<style scoped>\n",
              "    .dataframe tbody tr th:only-of-type {\n",
              "        vertical-align: middle;\n",
              "    }\n",
              "\n",
              "    .dataframe tbody tr th {\n",
              "        vertical-align: top;\n",
              "    }\n",
              "\n",
              "    .dataframe thead th {\n",
              "        text-align: right;\n",
              "    }\n",
              "</style>\n",
              "<table border=\"1\" class=\"dataframe\">\n",
              "  <thead>\n",
              "    <tr style=\"text-align: right;\">\n",
              "      <th></th>\n",
              "      <th>province</th>\n",
              "      <th>year</th>\n",
              "      <th>population</th>\n",
              "    </tr>\n",
              "  </thead>\n",
              "  <tbody>\n",
              "    <tr>\n",
              "      <th>0</th>\n",
              "      <td>Chiang Mai</td>\n",
              "      <td>2016</td>\n",
              "      <td>1630428</td>\n",
              "    </tr>\n",
              "    <tr>\n",
              "      <th>1</th>\n",
              "      <td>Chiang Mai</td>\n",
              "      <td>2017</td>\n",
              "      <td>1664012</td>\n",
              "    </tr>\n",
              "    <tr>\n",
              "      <th>2</th>\n",
              "      <td>Chiang Mai</td>\n",
              "      <td>2018</td>\n",
              "      <td>1687971</td>\n",
              "    </tr>\n",
              "    <tr>\n",
              "      <th>3</th>\n",
              "      <td>Phrae</td>\n",
              "      <td>2016</td>\n",
              "      <td>398936</td>\n",
              "    </tr>\n",
              "    <tr>\n",
              "      <th>4</th>\n",
              "      <td>Phrae</td>\n",
              "      <td>2017</td>\n",
              "      <td>410382</td>\n",
              "    </tr>\n",
              "    <tr>\n",
              "      <th>5</th>\n",
              "      <td>Phrae</td>\n",
              "      <td>2018</td>\n",
              "      <td>421653</td>\n",
              "    </tr>\n",
              "  </tbody>\n",
              "</table>\n",
              "</div>"
            ],
            "text/plain": [
              "     province  year  population\n",
              "0  Chiang Mai  2016     1630428\n",
              "1  Chiang Mai  2017     1664012\n",
              "2  Chiang Mai  2018     1687971\n",
              "3       Phrae  2016      398936\n",
              "4       Phrae  2017      410382\n",
              "5       Phrae  2018      421653"
            ]
          },
          "execution_count": 94,
          "metadata": {},
          "output_type": "execute_result"
        }
      ],
      "source": [
        "df = pd.read_excel('https://github.com/kaopanboonyuen/2110446_DataScience_2021s2/raw/main/datasets/sample.xlsx', sheet_name='sheet1')\n",
        "df"
      ]
    },
    {
      "cell_type": "code",
      "execution_count": 95,
      "metadata": {
        "id": "S1lot6iDiHBn"
      },
      "outputs": [
        {
          "data": {
            "text/html": [
              "<div>\n",
              "<style scoped>\n",
              "    .dataframe tbody tr th:only-of-type {\n",
              "        vertical-align: middle;\n",
              "    }\n",
              "\n",
              "    .dataframe tbody tr th {\n",
              "        vertical-align: top;\n",
              "    }\n",
              "\n",
              "    .dataframe thead th {\n",
              "        text-align: right;\n",
              "    }\n",
              "</style>\n",
              "<table border=\"1\" class=\"dataframe\">\n",
              "  <thead>\n",
              "    <tr style=\"text-align: right;\">\n",
              "      <th></th>\n",
              "      <th>TARGET_B</th>\n",
              "      <th>ID</th>\n",
              "      <th>TARGET_D</th>\n",
              "      <th>GiftCnt36</th>\n",
              "      <th>GiftCntAll</th>\n",
              "      <th>GiftCntCard36</th>\n",
              "      <th>GiftCntCardAll</th>\n",
              "      <th>GiftAvgLast</th>\n",
              "      <th>GiftAvg36</th>\n",
              "      <th>GiftAvgAll</th>\n",
              "      <th>...</th>\n",
              "      <th>PromCntCardAll</th>\n",
              "      <th>StatusCat96NK</th>\n",
              "      <th>StatusCatStarAll</th>\n",
              "      <th>DemCluster</th>\n",
              "      <th>DemAge</th>\n",
              "      <th>DemGender</th>\n",
              "      <th>DemHomeOwner</th>\n",
              "      <th>DemMedHomeValue</th>\n",
              "      <th>DemPctVeterans</th>\n",
              "      <th>DemMedIncome</th>\n",
              "    </tr>\n",
              "  </thead>\n",
              "  <tbody>\n",
              "    <tr>\n",
              "      <th>0</th>\n",
              "      <td>0.0</td>\n",
              "      <td>b'00014974'</td>\n",
              "      <td>NaN</td>\n",
              "      <td>2.0</td>\n",
              "      <td>4.0</td>\n",
              "      <td>1.0</td>\n",
              "      <td>3.0</td>\n",
              "      <td>17.0</td>\n",
              "      <td>13.50</td>\n",
              "      <td>9.25</td>\n",
              "      <td>...</td>\n",
              "      <td>13.0</td>\n",
              "      <td>b'A'</td>\n",
              "      <td>0.0</td>\n",
              "      <td>b'00'</td>\n",
              "      <td>NaN</td>\n",
              "      <td>b'F'</td>\n",
              "      <td>b'U'</td>\n",
              "      <td>0.0</td>\n",
              "      <td>0.0</td>\n",
              "      <td>0.0</td>\n",
              "    </tr>\n",
              "    <tr>\n",
              "      <th>1</th>\n",
              "      <td>0.0</td>\n",
              "      <td>b'00006294'</td>\n",
              "      <td>NaN</td>\n",
              "      <td>1.0</td>\n",
              "      <td>8.0</td>\n",
              "      <td>0.0</td>\n",
              "      <td>3.0</td>\n",
              "      <td>20.0</td>\n",
              "      <td>20.00</td>\n",
              "      <td>15.88</td>\n",
              "      <td>...</td>\n",
              "      <td>24.0</td>\n",
              "      <td>b'A'</td>\n",
              "      <td>0.0</td>\n",
              "      <td>b'23'</td>\n",
              "      <td>67.0</td>\n",
              "      <td>b'F'</td>\n",
              "      <td>b'U'</td>\n",
              "      <td>186800.0</td>\n",
              "      <td>85.0</td>\n",
              "      <td>0.0</td>\n",
              "    </tr>\n",
              "    <tr>\n",
              "      <th>2</th>\n",
              "      <td>1.0</td>\n",
              "      <td>b'00046110'</td>\n",
              "      <td>4.0</td>\n",
              "      <td>6.0</td>\n",
              "      <td>41.0</td>\n",
              "      <td>3.0</td>\n",
              "      <td>20.0</td>\n",
              "      <td>6.0</td>\n",
              "      <td>5.17</td>\n",
              "      <td>3.73</td>\n",
              "      <td>...</td>\n",
              "      <td>22.0</td>\n",
              "      <td>b'S'</td>\n",
              "      <td>1.0</td>\n",
              "      <td>b'00'</td>\n",
              "      <td>NaN</td>\n",
              "      <td>b'M'</td>\n",
              "      <td>b'U'</td>\n",
              "      <td>87600.0</td>\n",
              "      <td>36.0</td>\n",
              "      <td>38750.0</td>\n",
              "    </tr>\n",
              "    <tr>\n",
              "      <th>3</th>\n",
              "      <td>1.0</td>\n",
              "      <td>b'00185937'</td>\n",
              "      <td>10.0</td>\n",
              "      <td>3.0</td>\n",
              "      <td>12.0</td>\n",
              "      <td>3.0</td>\n",
              "      <td>8.0</td>\n",
              "      <td>10.0</td>\n",
              "      <td>8.67</td>\n",
              "      <td>8.50</td>\n",
              "      <td>...</td>\n",
              "      <td>16.0</td>\n",
              "      <td>b'E'</td>\n",
              "      <td>1.0</td>\n",
              "      <td>b'00'</td>\n",
              "      <td>NaN</td>\n",
              "      <td>b'M'</td>\n",
              "      <td>b'U'</td>\n",
              "      <td>139200.0</td>\n",
              "      <td>27.0</td>\n",
              "      <td>38942.0</td>\n",
              "    </tr>\n",
              "    <tr>\n",
              "      <th>4</th>\n",
              "      <td>0.0</td>\n",
              "      <td>b'00029637'</td>\n",
              "      <td>NaN</td>\n",
              "      <td>1.0</td>\n",
              "      <td>1.0</td>\n",
              "      <td>1.0</td>\n",
              "      <td>1.0</td>\n",
              "      <td>20.0</td>\n",
              "      <td>20.00</td>\n",
              "      <td>20.00</td>\n",
              "      <td>...</td>\n",
              "      <td>6.0</td>\n",
              "      <td>b'F'</td>\n",
              "      <td>0.0</td>\n",
              "      <td>b'35'</td>\n",
              "      <td>53.0</td>\n",
              "      <td>b'M'</td>\n",
              "      <td>b'U'</td>\n",
              "      <td>168100.0</td>\n",
              "      <td>37.0</td>\n",
              "      <td>71509.0</td>\n",
              "    </tr>\n",
              "    <tr>\n",
              "      <th>...</th>\n",
              "      <td>...</td>\n",
              "      <td>...</td>\n",
              "      <td>...</td>\n",
              "      <td>...</td>\n",
              "      <td>...</td>\n",
              "      <td>...</td>\n",
              "      <td>...</td>\n",
              "      <td>...</td>\n",
              "      <td>...</td>\n",
              "      <td>...</td>\n",
              "      <td>...</td>\n",
              "      <td>...</td>\n",
              "      <td>...</td>\n",
              "      <td>...</td>\n",
              "      <td>...</td>\n",
              "      <td>...</td>\n",
              "      <td>...</td>\n",
              "      <td>...</td>\n",
              "      <td>...</td>\n",
              "      <td>...</td>\n",
              "      <td>...</td>\n",
              "    </tr>\n",
              "    <tr>\n",
              "      <th>9681</th>\n",
              "      <td>1.0</td>\n",
              "      <td>b'00002796'</td>\n",
              "      <td>25.0</td>\n",
              "      <td>2.0</td>\n",
              "      <td>2.0</td>\n",
              "      <td>2.0</td>\n",
              "      <td>2.0</td>\n",
              "      <td>10.0</td>\n",
              "      <td>15.00</td>\n",
              "      <td>15.00</td>\n",
              "      <td>...</td>\n",
              "      <td>11.0</td>\n",
              "      <td>b'N'</td>\n",
              "      <td>0.0</td>\n",
              "      <td>b'44'</td>\n",
              "      <td>NaN</td>\n",
              "      <td>b'M'</td>\n",
              "      <td>b'H'</td>\n",
              "      <td>68200.0</td>\n",
              "      <td>38.0</td>\n",
              "      <td>45909.0</td>\n",
              "    </tr>\n",
              "    <tr>\n",
              "      <th>9682</th>\n",
              "      <td>0.0</td>\n",
              "      <td>b'00184939'</td>\n",
              "      <td>NaN</td>\n",
              "      <td>3.0</td>\n",
              "      <td>4.0</td>\n",
              "      <td>1.0</td>\n",
              "      <td>1.0</td>\n",
              "      <td>10.0</td>\n",
              "      <td>13.33</td>\n",
              "      <td>11.50</td>\n",
              "      <td>...</td>\n",
              "      <td>13.0</td>\n",
              "      <td>b'A'</td>\n",
              "      <td>0.0</td>\n",
              "      <td>b'44'</td>\n",
              "      <td>NaN</td>\n",
              "      <td>b'U'</td>\n",
              "      <td>b'H'</td>\n",
              "      <td>71900.0</td>\n",
              "      <td>35.0</td>\n",
              "      <td>50530.0</td>\n",
              "    </tr>\n",
              "    <tr>\n",
              "      <th>9683</th>\n",
              "      <td>1.0</td>\n",
              "      <td>b'00184974'</td>\n",
              "      <td>10.0</td>\n",
              "      <td>9.0</td>\n",
              "      <td>14.0</td>\n",
              "      <td>5.0</td>\n",
              "      <td>7.0</td>\n",
              "      <td>10.0</td>\n",
              "      <td>8.78</td>\n",
              "      <td>7.71</td>\n",
              "      <td>...</td>\n",
              "      <td>18.0</td>\n",
              "      <td>b'S'</td>\n",
              "      <td>1.0</td>\n",
              "      <td>b'40'</td>\n",
              "      <td>71.0</td>\n",
              "      <td>b'F'</td>\n",
              "      <td>b'H'</td>\n",
              "      <td>115700.0</td>\n",
              "      <td>32.0</td>\n",
              "      <td>0.0</td>\n",
              "    </tr>\n",
              "    <tr>\n",
              "      <th>9684</th>\n",
              "      <td>0.0</td>\n",
              "      <td>b'00184994'</td>\n",
              "      <td>NaN</td>\n",
              "      <td>2.0</td>\n",
              "      <td>7.0</td>\n",
              "      <td>0.0</td>\n",
              "      <td>1.0</td>\n",
              "      <td>5.0</td>\n",
              "      <td>12.50</td>\n",
              "      <td>7.43</td>\n",
              "      <td>...</td>\n",
              "      <td>16.0</td>\n",
              "      <td>b'A'</td>\n",
              "      <td>0.0</td>\n",
              "      <td>b'40'</td>\n",
              "      <td>NaN</td>\n",
              "      <td>b'M'</td>\n",
              "      <td>b'H'</td>\n",
              "      <td>106300.0</td>\n",
              "      <td>32.0</td>\n",
              "      <td>62717.0</td>\n",
              "    </tr>\n",
              "    <tr>\n",
              "      <th>9685</th>\n",
              "      <td>0.0</td>\n",
              "      <td>b'00001928'</td>\n",
              "      <td>NaN</td>\n",
              "      <td>8.0</td>\n",
              "      <td>15.0</td>\n",
              "      <td>7.0</td>\n",
              "      <td>10.0</td>\n",
              "      <td>5.0</td>\n",
              "      <td>4.88</td>\n",
              "      <td>4.53</td>\n",
              "      <td>...</td>\n",
              "      <td>21.0</td>\n",
              "      <td>b'A'</td>\n",
              "      <td>1.0</td>\n",
              "      <td>b'38'</td>\n",
              "      <td>81.0</td>\n",
              "      <td>b'F'</td>\n",
              "      <td>b'H'</td>\n",
              "      <td>110400.0</td>\n",
              "      <td>36.0</td>\n",
              "      <td>59813.0</td>\n",
              "    </tr>\n",
              "  </tbody>\n",
              "</table>\n",
              "<p>9686 rows × 28 columns</p>\n",
              "</div>"
            ],
            "text/plain": [
              "      TARGET_B           ID  TARGET_D  GiftCnt36  GiftCntAll  GiftCntCard36  \\\n",
              "0          0.0  b'00014974'       NaN        2.0         4.0            1.0   \n",
              "1          0.0  b'00006294'       NaN        1.0         8.0            0.0   \n",
              "2          1.0  b'00046110'       4.0        6.0        41.0            3.0   \n",
              "3          1.0  b'00185937'      10.0        3.0        12.0            3.0   \n",
              "4          0.0  b'00029637'       NaN        1.0         1.0            1.0   \n",
              "...        ...          ...       ...        ...         ...            ...   \n",
              "9681       1.0  b'00002796'      25.0        2.0         2.0            2.0   \n",
              "9682       0.0  b'00184939'       NaN        3.0         4.0            1.0   \n",
              "9683       1.0  b'00184974'      10.0        9.0        14.0            5.0   \n",
              "9684       0.0  b'00184994'       NaN        2.0         7.0            0.0   \n",
              "9685       0.0  b'00001928'       NaN        8.0        15.0            7.0   \n",
              "\n",
              "      GiftCntCardAll  GiftAvgLast  GiftAvg36  GiftAvgAll  ...  PromCntCardAll  \\\n",
              "0                3.0         17.0      13.50        9.25  ...            13.0   \n",
              "1                3.0         20.0      20.00       15.88  ...            24.0   \n",
              "2               20.0          6.0       5.17        3.73  ...            22.0   \n",
              "3                8.0         10.0       8.67        8.50  ...            16.0   \n",
              "4                1.0         20.0      20.00       20.00  ...             6.0   \n",
              "...              ...          ...        ...         ...  ...             ...   \n",
              "9681             2.0         10.0      15.00       15.00  ...            11.0   \n",
              "9682             1.0         10.0      13.33       11.50  ...            13.0   \n",
              "9683             7.0         10.0       8.78        7.71  ...            18.0   \n",
              "9684             1.0          5.0      12.50        7.43  ...            16.0   \n",
              "9685            10.0          5.0       4.88        4.53  ...            21.0   \n",
              "\n",
              "      StatusCat96NK  StatusCatStarAll  DemCluster  DemAge  DemGender  \\\n",
              "0              b'A'               0.0       b'00'     NaN       b'F'   \n",
              "1              b'A'               0.0       b'23'    67.0       b'F'   \n",
              "2              b'S'               1.0       b'00'     NaN       b'M'   \n",
              "3              b'E'               1.0       b'00'     NaN       b'M'   \n",
              "4              b'F'               0.0       b'35'    53.0       b'M'   \n",
              "...             ...               ...         ...     ...        ...   \n",
              "9681           b'N'               0.0       b'44'     NaN       b'M'   \n",
              "9682           b'A'               0.0       b'44'     NaN       b'U'   \n",
              "9683           b'S'               1.0       b'40'    71.0       b'F'   \n",
              "9684           b'A'               0.0       b'40'     NaN       b'M'   \n",
              "9685           b'A'               1.0       b'38'    81.0       b'F'   \n",
              "\n",
              "      DemHomeOwner  DemMedHomeValue  DemPctVeterans DemMedIncome  \n",
              "0             b'U'              0.0             0.0          0.0  \n",
              "1             b'U'         186800.0            85.0          0.0  \n",
              "2             b'U'          87600.0            36.0      38750.0  \n",
              "3             b'U'         139200.0            27.0      38942.0  \n",
              "4             b'U'         168100.0            37.0      71509.0  \n",
              "...            ...              ...             ...          ...  \n",
              "9681          b'H'          68200.0            38.0      45909.0  \n",
              "9682          b'H'          71900.0            35.0      50530.0  \n",
              "9683          b'H'         115700.0            32.0          0.0  \n",
              "9684          b'H'         106300.0            32.0      62717.0  \n",
              "9685          b'H'         110400.0            36.0      59813.0  \n",
              "\n",
              "[9686 rows x 28 columns]"
            ]
          },
          "execution_count": 95,
          "metadata": {},
          "output_type": "execute_result"
        }
      ],
      "source": [
        "df2 = pd.read_sas('https://github.com/kaopanboonyuen/2110446_DataScience_2021s2/raw/main/datasets/pva97nk.sas7bdat')\n",
        "df2"
      ]
    },
    {
      "cell_type": "markdown",
      "metadata": {
        "id": "D7rfb2HviHBq"
      },
      "source": [
        "### Write File"
      ]
    },
    {
      "cell_type": "code",
      "execution_count": 96,
      "metadata": {
        "id": "3NI4bcRKiHBq"
      },
      "outputs": [],
      "source": [
        "df.to_csv('sample_test.csv', index=False)"
      ]
    },
    {
      "cell_type": "code",
      "execution_count": 97,
      "metadata": {
        "id": "jZq9ckbeiHBt"
      },
      "outputs": [],
      "source": [
        "df.to_excel('sample_test.xlsx', sheet_name='sheet1', index=False)"
      ]
    },
    {
      "cell_type": "markdown",
      "metadata": {
        "id": "lspQn9feiHBv"
      },
      "source": [
        "## Index"
      ]
    },
    {
      "cell_type": "code",
      "execution_count": 98,
      "metadata": {
        "id": "JXkhA468iHBv"
      },
      "outputs": [
        {
          "data": {
            "text/html": [
              "<div>\n",
              "<style scoped>\n",
              "    .dataframe tbody tr th:only-of-type {\n",
              "        vertical-align: middle;\n",
              "    }\n",
              "\n",
              "    .dataframe tbody tr th {\n",
              "        vertical-align: top;\n",
              "    }\n",
              "\n",
              "    .dataframe thead th {\n",
              "        text-align: right;\n",
              "    }\n",
              "</style>\n",
              "<table border=\"1\" class=\"dataframe\">\n",
              "  <thead>\n",
              "    <tr style=\"text-align: right;\">\n",
              "      <th></th>\n",
              "      <th>year</th>\n",
              "      <th>population</th>\n",
              "    </tr>\n",
              "    <tr>\n",
              "      <th>province</th>\n",
              "      <th></th>\n",
              "      <th></th>\n",
              "    </tr>\n",
              "  </thead>\n",
              "  <tbody>\n",
              "    <tr>\n",
              "      <th>Chiang Mai</th>\n",
              "      <td>2016</td>\n",
              "      <td>1630428</td>\n",
              "    </tr>\n",
              "    <tr>\n",
              "      <th>Chiang Mai</th>\n",
              "      <td>2017</td>\n",
              "      <td>1664012</td>\n",
              "    </tr>\n",
              "    <tr>\n",
              "      <th>Chiang Mai</th>\n",
              "      <td>2018</td>\n",
              "      <td>1687971</td>\n",
              "    </tr>\n",
              "    <tr>\n",
              "      <th>Phrae</th>\n",
              "      <td>2016</td>\n",
              "      <td>398936</td>\n",
              "    </tr>\n",
              "    <tr>\n",
              "      <th>Phrae</th>\n",
              "      <td>2017</td>\n",
              "      <td>410382</td>\n",
              "    </tr>\n",
              "    <tr>\n",
              "      <th>Phrae</th>\n",
              "      <td>2018</td>\n",
              "      <td>421653</td>\n",
              "    </tr>\n",
              "  </tbody>\n",
              "</table>\n",
              "</div>"
            ],
            "text/plain": [
              "            year  population\n",
              "province                    \n",
              "Chiang Mai  2016     1630428\n",
              "Chiang Mai  2017     1664012\n",
              "Chiang Mai  2018     1687971\n",
              "Phrae       2016      398936\n",
              "Phrae       2017      410382\n",
              "Phrae       2018      421653"
            ]
          },
          "execution_count": 98,
          "metadata": {},
          "output_type": "execute_result"
        }
      ],
      "source": [
        "# Index\n",
        "df.set_index('province')"
      ]
    },
    {
      "cell_type": "code",
      "execution_count": 99,
      "metadata": {
        "id": "iyv_jiVLiHB2"
      },
      "outputs": [
        {
          "data": {
            "text/html": [
              "<div>\n",
              "<style scoped>\n",
              "    .dataframe tbody tr th:only-of-type {\n",
              "        vertical-align: middle;\n",
              "    }\n",
              "\n",
              "    .dataframe tbody tr th {\n",
              "        vertical-align: top;\n",
              "    }\n",
              "\n",
              "    .dataframe thead th {\n",
              "        text-align: right;\n",
              "    }\n",
              "</style>\n",
              "<table border=\"1\" class=\"dataframe\">\n",
              "  <thead>\n",
              "    <tr style=\"text-align: right;\">\n",
              "      <th></th>\n",
              "      <th></th>\n",
              "      <th>population</th>\n",
              "    </tr>\n",
              "    <tr>\n",
              "      <th>province</th>\n",
              "      <th>year</th>\n",
              "      <th></th>\n",
              "    </tr>\n",
              "  </thead>\n",
              "  <tbody>\n",
              "    <tr>\n",
              "      <th rowspan=\"3\" valign=\"top\">Chiang Mai</th>\n",
              "      <th>2016</th>\n",
              "      <td>1630428</td>\n",
              "    </tr>\n",
              "    <tr>\n",
              "      <th>2017</th>\n",
              "      <td>1664012</td>\n",
              "    </tr>\n",
              "    <tr>\n",
              "      <th>2018</th>\n",
              "      <td>1687971</td>\n",
              "    </tr>\n",
              "    <tr>\n",
              "      <th rowspan=\"3\" valign=\"top\">Phrae</th>\n",
              "      <th>2016</th>\n",
              "      <td>398936</td>\n",
              "    </tr>\n",
              "    <tr>\n",
              "      <th>2017</th>\n",
              "      <td>410382</td>\n",
              "    </tr>\n",
              "    <tr>\n",
              "      <th>2018</th>\n",
              "      <td>421653</td>\n",
              "    </tr>\n",
              "  </tbody>\n",
              "</table>\n",
              "</div>"
            ],
            "text/plain": [
              "                 population\n",
              "province   year            \n",
              "Chiang Mai 2016     1630428\n",
              "           2017     1664012\n",
              "           2018     1687971\n",
              "Phrae      2016      398936\n",
              "           2017      410382\n",
              "           2018      421653"
            ]
          },
          "execution_count": 99,
          "metadata": {},
          "output_type": "execute_result"
        }
      ],
      "source": [
        "# Index\n",
        "df2 = df.set_index(['province','year'])\n",
        "df2"
      ]
    },
    {
      "cell_type": "code",
      "execution_count": 100,
      "metadata": {
        "id": "DRNlEBhdiHB7",
        "scrolled": true
      },
      "outputs": [
        {
          "data": {
            "text/html": [
              "<div>\n",
              "<style scoped>\n",
              "    .dataframe tbody tr th:only-of-type {\n",
              "        vertical-align: middle;\n",
              "    }\n",
              "\n",
              "    .dataframe tbody tr th {\n",
              "        vertical-align: top;\n",
              "    }\n",
              "\n",
              "    .dataframe thead th {\n",
              "        text-align: right;\n",
              "    }\n",
              "</style>\n",
              "<table border=\"1\" class=\"dataframe\">\n",
              "  <thead>\n",
              "    <tr style=\"text-align: right;\">\n",
              "      <th></th>\n",
              "      <th>province</th>\n",
              "      <th>year</th>\n",
              "      <th>population</th>\n",
              "    </tr>\n",
              "  </thead>\n",
              "  <tbody>\n",
              "    <tr>\n",
              "      <th>0</th>\n",
              "      <td>Chiang Mai</td>\n",
              "      <td>2016</td>\n",
              "      <td>1630428</td>\n",
              "    </tr>\n",
              "    <tr>\n",
              "      <th>1</th>\n",
              "      <td>Chiang Mai</td>\n",
              "      <td>2017</td>\n",
              "      <td>1664012</td>\n",
              "    </tr>\n",
              "    <tr>\n",
              "      <th>2</th>\n",
              "      <td>Chiang Mai</td>\n",
              "      <td>2018</td>\n",
              "      <td>1687971</td>\n",
              "    </tr>\n",
              "    <tr>\n",
              "      <th>3</th>\n",
              "      <td>Phrae</td>\n",
              "      <td>2016</td>\n",
              "      <td>398936</td>\n",
              "    </tr>\n",
              "    <tr>\n",
              "      <th>4</th>\n",
              "      <td>Phrae</td>\n",
              "      <td>2017</td>\n",
              "      <td>410382</td>\n",
              "    </tr>\n",
              "    <tr>\n",
              "      <th>5</th>\n",
              "      <td>Phrae</td>\n",
              "      <td>2018</td>\n",
              "      <td>421653</td>\n",
              "    </tr>\n",
              "  </tbody>\n",
              "</table>\n",
              "</div>"
            ],
            "text/plain": [
              "     province  year  population\n",
              "0  Chiang Mai  2016     1630428\n",
              "1  Chiang Mai  2017     1664012\n",
              "2  Chiang Mai  2018     1687971\n",
              "3       Phrae  2016      398936\n",
              "4       Phrae  2017      410382\n",
              "5       Phrae  2018      421653"
            ]
          },
          "execution_count": 100,
          "metadata": {},
          "output_type": "execute_result"
        }
      ],
      "source": [
        "df2.reset_index()"
      ]
    },
    {
      "cell_type": "markdown",
      "metadata": {
        "id": "ZzoKCDfYiHB-"
      },
      "source": [
        "## Inspecting Data"
      ]
    },
    {
      "cell_type": "markdown",
      "metadata": {
        "id": "rqaJ-bqciHB_"
      },
      "source": [
        "### Row"
      ]
    },
    {
      "cell_type": "markdown",
      "metadata": {
        "id": "NZ_7JT0CiHB_"
      },
      "source": [
        "#### View"
      ]
    },
    {
      "cell_type": "code",
      "execution_count": 101,
      "metadata": {
        "id": "rVDMNZ60iHB_"
      },
      "outputs": [
        {
          "data": {
            "text/html": [
              "<div>\n",
              "<style scoped>\n",
              "    .dataframe tbody tr th:only-of-type {\n",
              "        vertical-align: middle;\n",
              "    }\n",
              "\n",
              "    .dataframe tbody tr th {\n",
              "        vertical-align: top;\n",
              "    }\n",
              "\n",
              "    .dataframe thead th {\n",
              "        text-align: right;\n",
              "    }\n",
              "</style>\n",
              "<table border=\"1\" class=\"dataframe\">\n",
              "  <thead>\n",
              "    <tr style=\"text-align: right;\">\n",
              "      <th></th>\n",
              "      <th>province</th>\n",
              "      <th>year</th>\n",
              "      <th>population</th>\n",
              "    </tr>\n",
              "  </thead>\n",
              "  <tbody>\n",
              "    <tr>\n",
              "      <th>0</th>\n",
              "      <td>Chiang Mai</td>\n",
              "      <td>2016</td>\n",
              "      <td>1630428</td>\n",
              "    </tr>\n",
              "    <tr>\n",
              "      <th>1</th>\n",
              "      <td>Chiang Mai</td>\n",
              "      <td>2017</td>\n",
              "      <td>1664012</td>\n",
              "    </tr>\n",
              "    <tr>\n",
              "      <th>2</th>\n",
              "      <td>Chiang Mai</td>\n",
              "      <td>2018</td>\n",
              "      <td>1687971</td>\n",
              "    </tr>\n",
              "  </tbody>\n",
              "</table>\n",
              "</div>"
            ],
            "text/plain": [
              "     province  year  population\n",
              "0  Chiang Mai  2016     1630428\n",
              "1  Chiang Mai  2017     1664012\n",
              "2  Chiang Mai  2018     1687971"
            ]
          },
          "execution_count": 101,
          "metadata": {},
          "output_type": "execute_result"
        }
      ],
      "source": [
        "df.head(3)"
      ]
    },
    {
      "cell_type": "code",
      "execution_count": 102,
      "metadata": {
        "id": "luFo6_ePiHCC"
      },
      "outputs": [
        {
          "data": {
            "text/html": [
              "<div>\n",
              "<style scoped>\n",
              "    .dataframe tbody tr th:only-of-type {\n",
              "        vertical-align: middle;\n",
              "    }\n",
              "\n",
              "    .dataframe tbody tr th {\n",
              "        vertical-align: top;\n",
              "    }\n",
              "\n",
              "    .dataframe thead th {\n",
              "        text-align: right;\n",
              "    }\n",
              "</style>\n",
              "<table border=\"1\" class=\"dataframe\">\n",
              "  <thead>\n",
              "    <tr style=\"text-align: right;\">\n",
              "      <th></th>\n",
              "      <th>province</th>\n",
              "      <th>year</th>\n",
              "      <th>population</th>\n",
              "    </tr>\n",
              "  </thead>\n",
              "  <tbody>\n",
              "    <tr>\n",
              "      <th>3</th>\n",
              "      <td>Phrae</td>\n",
              "      <td>2016</td>\n",
              "      <td>398936</td>\n",
              "    </tr>\n",
              "    <tr>\n",
              "      <th>4</th>\n",
              "      <td>Phrae</td>\n",
              "      <td>2017</td>\n",
              "      <td>410382</td>\n",
              "    </tr>\n",
              "    <tr>\n",
              "      <th>5</th>\n",
              "      <td>Phrae</td>\n",
              "      <td>2018</td>\n",
              "      <td>421653</td>\n",
              "    </tr>\n",
              "  </tbody>\n",
              "</table>\n",
              "</div>"
            ],
            "text/plain": [
              "  province  year  population\n",
              "3    Phrae  2016      398936\n",
              "4    Phrae  2017      410382\n",
              "5    Phrae  2018      421653"
            ]
          },
          "execution_count": 102,
          "metadata": {},
          "output_type": "execute_result"
        }
      ],
      "source": [
        "df.tail(3)"
      ]
    },
    {
      "cell_type": "markdown",
      "metadata": {
        "id": "Vys2BQhkiHCH"
      },
      "source": [
        "#### Sample"
      ]
    },
    {
      "cell_type": "code",
      "execution_count": 103,
      "metadata": {
        "id": "sEBkpnwFiHCI"
      },
      "outputs": [
        {
          "data": {
            "text/html": [
              "<div>\n",
              "<style scoped>\n",
              "    .dataframe tbody tr th:only-of-type {\n",
              "        vertical-align: middle;\n",
              "    }\n",
              "\n",
              "    .dataframe tbody tr th {\n",
              "        vertical-align: top;\n",
              "    }\n",
              "\n",
              "    .dataframe thead th {\n",
              "        text-align: right;\n",
              "    }\n",
              "</style>\n",
              "<table border=\"1\" class=\"dataframe\">\n",
              "  <thead>\n",
              "    <tr style=\"text-align: right;\">\n",
              "      <th></th>\n",
              "      <th>province</th>\n",
              "      <th>year</th>\n",
              "      <th>population</th>\n",
              "    </tr>\n",
              "  </thead>\n",
              "  <tbody>\n",
              "    <tr>\n",
              "      <th>3</th>\n",
              "      <td>Phrae</td>\n",
              "      <td>2016</td>\n",
              "      <td>398936</td>\n",
              "    </tr>\n",
              "    <tr>\n",
              "      <th>2</th>\n",
              "      <td>Chiang Mai</td>\n",
              "      <td>2018</td>\n",
              "      <td>1687971</td>\n",
              "    </tr>\n",
              "    <tr>\n",
              "      <th>0</th>\n",
              "      <td>Chiang Mai</td>\n",
              "      <td>2016</td>\n",
              "      <td>1630428</td>\n",
              "    </tr>\n",
              "  </tbody>\n",
              "</table>\n",
              "</div>"
            ],
            "text/plain": [
              "     province  year  population\n",
              "3       Phrae  2016      398936\n",
              "2  Chiang Mai  2018     1687971\n",
              "0  Chiang Mai  2016     1630428"
            ]
          },
          "metadata": {},
          "output_type": "display_data"
        },
        {
          "data": {
            "text/html": [
              "<div>\n",
              "<style scoped>\n",
              "    .dataframe tbody tr th:only-of-type {\n",
              "        vertical-align: middle;\n",
              "    }\n",
              "\n",
              "    .dataframe tbody tr th {\n",
              "        vertical-align: top;\n",
              "    }\n",
              "\n",
              "    .dataframe thead th {\n",
              "        text-align: right;\n",
              "    }\n",
              "</style>\n",
              "<table border=\"1\" class=\"dataframe\">\n",
              "  <thead>\n",
              "    <tr style=\"text-align: right;\">\n",
              "      <th></th>\n",
              "      <th>province</th>\n",
              "      <th>year</th>\n",
              "      <th>population</th>\n",
              "    </tr>\n",
              "  </thead>\n",
              "  <tbody>\n",
              "    <tr>\n",
              "      <th>0</th>\n",
              "      <td>Chiang Mai</td>\n",
              "      <td>2016</td>\n",
              "      <td>1630428</td>\n",
              "    </tr>\n",
              "    <tr>\n",
              "      <th>4</th>\n",
              "      <td>Phrae</td>\n",
              "      <td>2017</td>\n",
              "      <td>410382</td>\n",
              "    </tr>\n",
              "    <tr>\n",
              "      <th>1</th>\n",
              "      <td>Chiang Mai</td>\n",
              "      <td>2017</td>\n",
              "      <td>1664012</td>\n",
              "    </tr>\n",
              "  </tbody>\n",
              "</table>\n",
              "</div>"
            ],
            "text/plain": [
              "     province  year  population\n",
              "0  Chiang Mai  2016     1630428\n",
              "4       Phrae  2017      410382\n",
              "1  Chiang Mai  2017     1664012"
            ]
          },
          "metadata": {},
          "output_type": "display_data"
        }
      ],
      "source": [
        "#Random\n",
        "display(df.sample(3))\n",
        "display(df.sample(3))"
      ]
    },
    {
      "cell_type": "code",
      "execution_count": 104,
      "metadata": {
        "id": "DrSZIDKAiHCM"
      },
      "outputs": [
        {
          "data": {
            "text/html": [
              "<div>\n",
              "<style scoped>\n",
              "    .dataframe tbody tr th:only-of-type {\n",
              "        vertical-align: middle;\n",
              "    }\n",
              "\n",
              "    .dataframe tbody tr th {\n",
              "        vertical-align: top;\n",
              "    }\n",
              "\n",
              "    .dataframe thead th {\n",
              "        text-align: right;\n",
              "    }\n",
              "</style>\n",
              "<table border=\"1\" class=\"dataframe\">\n",
              "  <thead>\n",
              "    <tr style=\"text-align: right;\">\n",
              "      <th></th>\n",
              "      <th>province</th>\n",
              "      <th>year</th>\n",
              "      <th>population</th>\n",
              "    </tr>\n",
              "  </thead>\n",
              "  <tbody>\n",
              "    <tr>\n",
              "      <th>1</th>\n",
              "      <td>Chiang Mai</td>\n",
              "      <td>2017</td>\n",
              "      <td>1664012</td>\n",
              "    </tr>\n",
              "    <tr>\n",
              "      <th>3</th>\n",
              "      <td>Phrae</td>\n",
              "      <td>2016</td>\n",
              "      <td>398936</td>\n",
              "    </tr>\n",
              "    <tr>\n",
              "      <th>4</th>\n",
              "      <td>Phrae</td>\n",
              "      <td>2017</td>\n",
              "      <td>410382</td>\n",
              "    </tr>\n",
              "  </tbody>\n",
              "</table>\n",
              "</div>"
            ],
            "text/plain": [
              "     province  year  population\n",
              "1  Chiang Mai  2017     1664012\n",
              "3       Phrae  2016      398936\n",
              "4       Phrae  2017      410382"
            ]
          },
          "metadata": {},
          "output_type": "display_data"
        },
        {
          "data": {
            "text/html": [
              "<div>\n",
              "<style scoped>\n",
              "    .dataframe tbody tr th:only-of-type {\n",
              "        vertical-align: middle;\n",
              "    }\n",
              "\n",
              "    .dataframe tbody tr th {\n",
              "        vertical-align: top;\n",
              "    }\n",
              "\n",
              "    .dataframe thead th {\n",
              "        text-align: right;\n",
              "    }\n",
              "</style>\n",
              "<table border=\"1\" class=\"dataframe\">\n",
              "  <thead>\n",
              "    <tr style=\"text-align: right;\">\n",
              "      <th></th>\n",
              "      <th>province</th>\n",
              "      <th>year</th>\n",
              "      <th>population</th>\n",
              "    </tr>\n",
              "  </thead>\n",
              "  <tbody>\n",
              "    <tr>\n",
              "      <th>1</th>\n",
              "      <td>Chiang Mai</td>\n",
              "      <td>2017</td>\n",
              "      <td>1664012</td>\n",
              "    </tr>\n",
              "    <tr>\n",
              "      <th>3</th>\n",
              "      <td>Phrae</td>\n",
              "      <td>2016</td>\n",
              "      <td>398936</td>\n",
              "    </tr>\n",
              "    <tr>\n",
              "      <th>4</th>\n",
              "      <td>Phrae</td>\n",
              "      <td>2017</td>\n",
              "      <td>410382</td>\n",
              "    </tr>\n",
              "  </tbody>\n",
              "</table>\n",
              "</div>"
            ],
            "text/plain": [
              "     province  year  population\n",
              "1  Chiang Mai  2017     1664012\n",
              "3       Phrae  2016      398936\n",
              "4       Phrae  2017      410382"
            ]
          },
          "metadata": {},
          "output_type": "display_data"
        }
      ],
      "source": [
        "#Random with fix random_state\n",
        "display(df.sample(3, random_state = 123))\n",
        "display(df.sample(3, random_state = 123))"
      ]
    },
    {
      "cell_type": "markdown",
      "metadata": {
        "id": "M7x3wdOZiHCQ"
      },
      "source": [
        "#### Get Some Rows"
      ]
    },
    {
      "cell_type": "code",
      "execution_count": 105,
      "metadata": {
        "id": "MIBlF5uxiHCR"
      },
      "outputs": [
        {
          "data": {
            "text/html": [
              "<div>\n",
              "<style scoped>\n",
              "    .dataframe tbody tr th:only-of-type {\n",
              "        vertical-align: middle;\n",
              "    }\n",
              "\n",
              "    .dataframe tbody tr th {\n",
              "        vertical-align: top;\n",
              "    }\n",
              "\n",
              "    .dataframe thead th {\n",
              "        text-align: right;\n",
              "    }\n",
              "</style>\n",
              "<table border=\"1\" class=\"dataframe\">\n",
              "  <thead>\n",
              "    <tr style=\"text-align: right;\">\n",
              "      <th></th>\n",
              "      <th>year</th>\n",
              "      <th>population</th>\n",
              "    </tr>\n",
              "    <tr>\n",
              "      <th>province</th>\n",
              "      <th></th>\n",
              "      <th></th>\n",
              "    </tr>\n",
              "  </thead>\n",
              "  <tbody>\n",
              "    <tr>\n",
              "      <th>Chiang Mai</th>\n",
              "      <td>2016</td>\n",
              "      <td>1630428</td>\n",
              "    </tr>\n",
              "    <tr>\n",
              "      <th>Chiang Mai</th>\n",
              "      <td>2017</td>\n",
              "      <td>1664012</td>\n",
              "    </tr>\n",
              "    <tr>\n",
              "      <th>Chiang Mai</th>\n",
              "      <td>2018</td>\n",
              "      <td>1687971</td>\n",
              "    </tr>\n",
              "    <tr>\n",
              "      <th>Phrae</th>\n",
              "      <td>2016</td>\n",
              "      <td>398936</td>\n",
              "    </tr>\n",
              "    <tr>\n",
              "      <th>Phrae</th>\n",
              "      <td>2017</td>\n",
              "      <td>410382</td>\n",
              "    </tr>\n",
              "    <tr>\n",
              "      <th>Phrae</th>\n",
              "      <td>2018</td>\n",
              "      <td>421653</td>\n",
              "    </tr>\n",
              "  </tbody>\n",
              "</table>\n",
              "</div>"
            ],
            "text/plain": [
              "            year  population\n",
              "province                    \n",
              "Chiang Mai  2016     1630428\n",
              "Chiang Mai  2017     1664012\n",
              "Chiang Mai  2018     1687971\n",
              "Phrae       2016      398936\n",
              "Phrae       2017      410382\n",
              "Phrae       2018      421653"
            ]
          },
          "execution_count": 105,
          "metadata": {},
          "output_type": "execute_result"
        }
      ],
      "source": [
        "df2 = df.set_index(['province'])\n",
        "df2"
      ]
    },
    {
      "cell_type": "code",
      "execution_count": 106,
      "metadata": {
        "id": "rhwVl28KiHCV"
      },
      "outputs": [
        {
          "data": {
            "text/plain": [
              "year             2016\n",
              "population    1630428\n",
              "Name: Chiang Mai, dtype: int64"
            ]
          },
          "execution_count": 106,
          "metadata": {},
          "output_type": "execute_result"
        }
      ],
      "source": [
        "# Index Position\n",
        "df2.iloc[0]"
      ]
    },
    {
      "cell_type": "code",
      "execution_count": 107,
      "metadata": {
        "id": "Y1QB8EbGiHCX"
      },
      "outputs": [
        {
          "data": {
            "text/html": [
              "<div>\n",
              "<style scoped>\n",
              "    .dataframe tbody tr th:only-of-type {\n",
              "        vertical-align: middle;\n",
              "    }\n",
              "\n",
              "    .dataframe tbody tr th {\n",
              "        vertical-align: top;\n",
              "    }\n",
              "\n",
              "    .dataframe thead th {\n",
              "        text-align: right;\n",
              "    }\n",
              "</style>\n",
              "<table border=\"1\" class=\"dataframe\">\n",
              "  <thead>\n",
              "    <tr style=\"text-align: right;\">\n",
              "      <th></th>\n",
              "      <th>year</th>\n",
              "      <th>population</th>\n",
              "    </tr>\n",
              "    <tr>\n",
              "      <th>province</th>\n",
              "      <th></th>\n",
              "      <th></th>\n",
              "    </tr>\n",
              "  </thead>\n",
              "  <tbody>\n",
              "    <tr>\n",
              "      <th>Chiang Mai</th>\n",
              "      <td>2017</td>\n",
              "      <td>1664012</td>\n",
              "    </tr>\n",
              "    <tr>\n",
              "      <th>Chiang Mai</th>\n",
              "      <td>2018</td>\n",
              "      <td>1687971</td>\n",
              "    </tr>\n",
              "    <tr>\n",
              "      <th>Phrae</th>\n",
              "      <td>2016</td>\n",
              "      <td>398936</td>\n",
              "    </tr>\n",
              "  </tbody>\n",
              "</table>\n",
              "</div>"
            ],
            "text/plain": [
              "            year  population\n",
              "province                    \n",
              "Chiang Mai  2017     1664012\n",
              "Chiang Mai  2018     1687971\n",
              "Phrae       2016      398936"
            ]
          },
          "execution_count": 107,
          "metadata": {},
          "output_type": "execute_result"
        }
      ],
      "source": [
        "# Index Position\n",
        "df2.iloc[1:4]"
      ]
    },
    {
      "cell_type": "code",
      "execution_count": 108,
      "metadata": {
        "id": "fvb3yNUBiHCa"
      },
      "outputs": [
        {
          "data": {
            "text/html": [
              "<div>\n",
              "<style scoped>\n",
              "    .dataframe tbody tr th:only-of-type {\n",
              "        vertical-align: middle;\n",
              "    }\n",
              "\n",
              "    .dataframe tbody tr th {\n",
              "        vertical-align: top;\n",
              "    }\n",
              "\n",
              "    .dataframe thead th {\n",
              "        text-align: right;\n",
              "    }\n",
              "</style>\n",
              "<table border=\"1\" class=\"dataframe\">\n",
              "  <thead>\n",
              "    <tr style=\"text-align: right;\">\n",
              "      <th></th>\n",
              "      <th>year</th>\n",
              "      <th>population</th>\n",
              "    </tr>\n",
              "    <tr>\n",
              "      <th>province</th>\n",
              "      <th></th>\n",
              "      <th></th>\n",
              "    </tr>\n",
              "  </thead>\n",
              "  <tbody>\n",
              "    <tr>\n",
              "      <th>Chiang Mai</th>\n",
              "      <td>2016</td>\n",
              "      <td>1630428</td>\n",
              "    </tr>\n",
              "    <tr>\n",
              "      <th>Chiang Mai</th>\n",
              "      <td>2017</td>\n",
              "      <td>1664012</td>\n",
              "    </tr>\n",
              "    <tr>\n",
              "      <th>Chiang Mai</th>\n",
              "      <td>2018</td>\n",
              "      <td>1687971</td>\n",
              "    </tr>\n",
              "  </tbody>\n",
              "</table>\n",
              "</div>"
            ],
            "text/plain": [
              "            year  population\n",
              "province                    \n",
              "Chiang Mai  2016     1630428\n",
              "Chiang Mai  2017     1664012\n",
              "Chiang Mai  2018     1687971"
            ]
          },
          "execution_count": 108,
          "metadata": {},
          "output_type": "execute_result"
        }
      ],
      "source": [
        "# Index name\n",
        "df2.loc['Chiang Mai']"
      ]
    },
    {
      "cell_type": "code",
      "execution_count": 109,
      "metadata": {
        "id": "Bok1Z6y6iHCc"
      },
      "outputs": [
        {
          "data": {
            "text/html": [
              "<div>\n",
              "<style scoped>\n",
              "    .dataframe tbody tr th:only-of-type {\n",
              "        vertical-align: middle;\n",
              "    }\n",
              "\n",
              "    .dataframe tbody tr th {\n",
              "        vertical-align: top;\n",
              "    }\n",
              "\n",
              "    .dataframe thead th {\n",
              "        text-align: right;\n",
              "    }\n",
              "</style>\n",
              "<table border=\"1\" class=\"dataframe\">\n",
              "  <thead>\n",
              "    <tr style=\"text-align: right;\">\n",
              "      <th></th>\n",
              "      <th>year</th>\n",
              "      <th>population</th>\n",
              "    </tr>\n",
              "    <tr>\n",
              "      <th>province</th>\n",
              "      <th></th>\n",
              "      <th></th>\n",
              "    </tr>\n",
              "  </thead>\n",
              "  <tbody>\n",
              "    <tr>\n",
              "      <th>Chiang Mai</th>\n",
              "      <td>2016</td>\n",
              "      <td>1630428</td>\n",
              "    </tr>\n",
              "    <tr>\n",
              "      <th>Chiang Mai</th>\n",
              "      <td>2017</td>\n",
              "      <td>1664012</td>\n",
              "    </tr>\n",
              "    <tr>\n",
              "      <th>Chiang Mai</th>\n",
              "      <td>2018</td>\n",
              "      <td>1687971</td>\n",
              "    </tr>\n",
              "    <tr>\n",
              "      <th>Phrae</th>\n",
              "      <td>2016</td>\n",
              "      <td>398936</td>\n",
              "    </tr>\n",
              "    <tr>\n",
              "      <th>Phrae</th>\n",
              "      <td>2017</td>\n",
              "      <td>410382</td>\n",
              "    </tr>\n",
              "    <tr>\n",
              "      <th>Phrae</th>\n",
              "      <td>2018</td>\n",
              "      <td>421653</td>\n",
              "    </tr>\n",
              "  </tbody>\n",
              "</table>\n",
              "</div>"
            ],
            "text/plain": [
              "            year  population\n",
              "province                    \n",
              "Chiang Mai  2016     1630428\n",
              "Chiang Mai  2017     1664012\n",
              "Chiang Mai  2018     1687971\n",
              "Phrae       2016      398936\n",
              "Phrae       2017      410382\n",
              "Phrae       2018      421653"
            ]
          },
          "execution_count": 109,
          "metadata": {},
          "output_type": "execute_result"
        }
      ],
      "source": [
        "# Index name\n",
        "df2.loc[['Chiang Mai','Phrae']]"
      ]
    },
    {
      "cell_type": "markdown",
      "metadata": {
        "id": "kOwYAw9MiHCg"
      },
      "source": [
        "### Column"
      ]
    },
    {
      "cell_type": "code",
      "execution_count": 110,
      "metadata": {
        "id": "y84QKNJ1iHCh"
      },
      "outputs": [
        {
          "data": {
            "text/plain": [
              "Index(['province', 'year', 'population'], dtype='object')"
            ]
          },
          "execution_count": 110,
          "metadata": {},
          "output_type": "execute_result"
        }
      ],
      "source": [
        "df.columns"
      ]
    },
    {
      "cell_type": "code",
      "execution_count": 111,
      "metadata": {
        "id": "N9M6jlhaiHCl"
      },
      "outputs": [
        {
          "data": {
            "text/html": [
              "<div>\n",
              "<style scoped>\n",
              "    .dataframe tbody tr th:only-of-type {\n",
              "        vertical-align: middle;\n",
              "    }\n",
              "\n",
              "    .dataframe tbody tr th {\n",
              "        vertical-align: top;\n",
              "    }\n",
              "\n",
              "    .dataframe thead th {\n",
              "        text-align: right;\n",
              "    }\n",
              "</style>\n",
              "<table border=\"1\" class=\"dataframe\">\n",
              "  <thead>\n",
              "    <tr style=\"text-align: right;\">\n",
              "      <th></th>\n",
              "      <th>year</th>\n",
              "      <th>population</th>\n",
              "    </tr>\n",
              "  </thead>\n",
              "  <tbody>\n",
              "    <tr>\n",
              "      <th>0</th>\n",
              "      <td>2016</td>\n",
              "      <td>1630428</td>\n",
              "    </tr>\n",
              "    <tr>\n",
              "      <th>1</th>\n",
              "      <td>2017</td>\n",
              "      <td>1664012</td>\n",
              "    </tr>\n",
              "    <tr>\n",
              "      <th>2</th>\n",
              "      <td>2018</td>\n",
              "      <td>1687971</td>\n",
              "    </tr>\n",
              "    <tr>\n",
              "      <th>3</th>\n",
              "      <td>2016</td>\n",
              "      <td>398936</td>\n",
              "    </tr>\n",
              "    <tr>\n",
              "      <th>4</th>\n",
              "      <td>2017</td>\n",
              "      <td>410382</td>\n",
              "    </tr>\n",
              "    <tr>\n",
              "      <th>5</th>\n",
              "      <td>2018</td>\n",
              "      <td>421653</td>\n",
              "    </tr>\n",
              "  </tbody>\n",
              "</table>\n",
              "</div>"
            ],
            "text/plain": [
              "   year  population\n",
              "0  2016     1630428\n",
              "1  2017     1664012\n",
              "2  2018     1687971\n",
              "3  2016      398936\n",
              "4  2017      410382\n",
              "5  2018      421653"
            ]
          },
          "execution_count": 111,
          "metadata": {},
          "output_type": "execute_result"
        }
      ],
      "source": [
        "columns_list = ['year','population']\n",
        "df[columns_list]"
      ]
    },
    {
      "cell_type": "code",
      "execution_count": 112,
      "metadata": {
        "id": "v60mM5wHY8FQ"
      },
      "outputs": [
        {
          "data": {
            "text/plain": [
              "0    2016\n",
              "1    2017\n",
              "2    2018\n",
              "3    2016\n",
              "4    2017\n",
              "5    2018\n",
              "Name: year, dtype: int64"
            ]
          },
          "execution_count": 112,
          "metadata": {},
          "output_type": "execute_result"
        }
      ],
      "source": [
        "df.year"
      ]
    },
    {
      "cell_type": "markdown",
      "metadata": {
        "id": "DXfXZpKWiHCp"
      },
      "source": [
        "#### Drop"
      ]
    },
    {
      "cell_type": "code",
      "execution_count": 113,
      "metadata": {
        "id": "cwYBUM8LiHCp"
      },
      "outputs": [
        {
          "data": {
            "text/html": [
              "<div>\n",
              "<style scoped>\n",
              "    .dataframe tbody tr th:only-of-type {\n",
              "        vertical-align: middle;\n",
              "    }\n",
              "\n",
              "    .dataframe tbody tr th {\n",
              "        vertical-align: top;\n",
              "    }\n",
              "\n",
              "    .dataframe thead th {\n",
              "        text-align: right;\n",
              "    }\n",
              "</style>\n",
              "<table border=\"1\" class=\"dataframe\">\n",
              "  <thead>\n",
              "    <tr style=\"text-align: right;\">\n",
              "      <th></th>\n",
              "      <th>year</th>\n",
              "      <th>population</th>\n",
              "    </tr>\n",
              "  </thead>\n",
              "  <tbody>\n",
              "    <tr>\n",
              "      <th>0</th>\n",
              "      <td>2016</td>\n",
              "      <td>1630428</td>\n",
              "    </tr>\n",
              "    <tr>\n",
              "      <th>1</th>\n",
              "      <td>2017</td>\n",
              "      <td>1664012</td>\n",
              "    </tr>\n",
              "    <tr>\n",
              "      <th>2</th>\n",
              "      <td>2018</td>\n",
              "      <td>1687971</td>\n",
              "    </tr>\n",
              "    <tr>\n",
              "      <th>3</th>\n",
              "      <td>2016</td>\n",
              "      <td>398936</td>\n",
              "    </tr>\n",
              "    <tr>\n",
              "      <th>4</th>\n",
              "      <td>2017</td>\n",
              "      <td>410382</td>\n",
              "    </tr>\n",
              "    <tr>\n",
              "      <th>5</th>\n",
              "      <td>2018</td>\n",
              "      <td>421653</td>\n",
              "    </tr>\n",
              "  </tbody>\n",
              "</table>\n",
              "</div>"
            ],
            "text/plain": [
              "   year  population\n",
              "0  2016     1630428\n",
              "1  2017     1664012\n",
              "2  2018     1687971\n",
              "3  2016      398936\n",
              "4  2017      410382\n",
              "5  2018      421653"
            ]
          },
          "execution_count": 113,
          "metadata": {},
          "output_type": "execute_result"
        }
      ],
      "source": [
        "df.drop(columns=['province'])"
      ]
    },
    {
      "cell_type": "code",
      "execution_count": 114,
      "metadata": {
        "id": "5X_iV-VlZSoY"
      },
      "outputs": [
        {
          "data": {
            "text/html": [
              "<div>\n",
              "<style scoped>\n",
              "    .dataframe tbody tr th:only-of-type {\n",
              "        vertical-align: middle;\n",
              "    }\n",
              "\n",
              "    .dataframe tbody tr th {\n",
              "        vertical-align: top;\n",
              "    }\n",
              "\n",
              "    .dataframe thead th {\n",
              "        text-align: right;\n",
              "    }\n",
              "</style>\n",
              "<table border=\"1\" class=\"dataframe\">\n",
              "  <thead>\n",
              "    <tr style=\"text-align: right;\">\n",
              "      <th></th>\n",
              "      <th>province</th>\n",
              "      <th>year</th>\n",
              "      <th>population</th>\n",
              "    </tr>\n",
              "  </thead>\n",
              "  <tbody>\n",
              "    <tr>\n",
              "      <th>0</th>\n",
              "      <td>Chiang Mai</td>\n",
              "      <td>2016</td>\n",
              "      <td>1630428</td>\n",
              "    </tr>\n",
              "    <tr>\n",
              "      <th>1</th>\n",
              "      <td>Chiang Mai</td>\n",
              "      <td>2017</td>\n",
              "      <td>1664012</td>\n",
              "    </tr>\n",
              "    <tr>\n",
              "      <th>2</th>\n",
              "      <td>Chiang Mai</td>\n",
              "      <td>2018</td>\n",
              "      <td>1687971</td>\n",
              "    </tr>\n",
              "    <tr>\n",
              "      <th>3</th>\n",
              "      <td>Phrae</td>\n",
              "      <td>2016</td>\n",
              "      <td>398936</td>\n",
              "    </tr>\n",
              "    <tr>\n",
              "      <th>4</th>\n",
              "      <td>Phrae</td>\n",
              "      <td>2017</td>\n",
              "      <td>410382</td>\n",
              "    </tr>\n",
              "    <tr>\n",
              "      <th>5</th>\n",
              "      <td>Phrae</td>\n",
              "      <td>2018</td>\n",
              "      <td>421653</td>\n",
              "    </tr>\n",
              "  </tbody>\n",
              "</table>\n",
              "</div>"
            ],
            "text/plain": [
              "     province  year  population\n",
              "0  Chiang Mai  2016     1630428\n",
              "1  Chiang Mai  2017     1664012\n",
              "2  Chiang Mai  2018     1687971\n",
              "3       Phrae  2016      398936\n",
              "4       Phrae  2017      410382\n",
              "5       Phrae  2018      421653"
            ]
          },
          "execution_count": 114,
          "metadata": {},
          "output_type": "execute_result"
        }
      ],
      "source": [
        "df"
      ]
    },
    {
      "cell_type": "markdown",
      "metadata": {
        "id": "l4LcXPTkiHCt"
      },
      "source": [
        "#### Rename"
      ]
    },
    {
      "cell_type": "code",
      "execution_count": 115,
      "metadata": {
        "id": "VM9E6-CwiHCu"
      },
      "outputs": [
        {
          "data": {
            "text/html": [
              "<div>\n",
              "<style scoped>\n",
              "    .dataframe tbody tr th:only-of-type {\n",
              "        vertical-align: middle;\n",
              "    }\n",
              "\n",
              "    .dataframe tbody tr th {\n",
              "        vertical-align: top;\n",
              "    }\n",
              "\n",
              "    .dataframe thead th {\n",
              "        text-align: right;\n",
              "    }\n",
              "</style>\n",
              "<table border=\"1\" class=\"dataframe\">\n",
              "  <thead>\n",
              "    <tr style=\"text-align: right;\">\n",
              "      <th></th>\n",
              "      <th>Province</th>\n",
              "      <th>Year</th>\n",
              "      <th>Population</th>\n",
              "    </tr>\n",
              "  </thead>\n",
              "  <tbody>\n",
              "    <tr>\n",
              "      <th>0</th>\n",
              "      <td>Chiang Mai</td>\n",
              "      <td>2016</td>\n",
              "      <td>1630428</td>\n",
              "    </tr>\n",
              "    <tr>\n",
              "      <th>1</th>\n",
              "      <td>Chiang Mai</td>\n",
              "      <td>2017</td>\n",
              "      <td>1664012</td>\n",
              "    </tr>\n",
              "    <tr>\n",
              "      <th>2</th>\n",
              "      <td>Chiang Mai</td>\n",
              "      <td>2018</td>\n",
              "      <td>1687971</td>\n",
              "    </tr>\n",
              "    <tr>\n",
              "      <th>3</th>\n",
              "      <td>Phrae</td>\n",
              "      <td>2016</td>\n",
              "      <td>398936</td>\n",
              "    </tr>\n",
              "    <tr>\n",
              "      <th>4</th>\n",
              "      <td>Phrae</td>\n",
              "      <td>2017</td>\n",
              "      <td>410382</td>\n",
              "    </tr>\n",
              "    <tr>\n",
              "      <th>5</th>\n",
              "      <td>Phrae</td>\n",
              "      <td>2018</td>\n",
              "      <td>421653</td>\n",
              "    </tr>\n",
              "  </tbody>\n",
              "</table>\n",
              "</div>"
            ],
            "text/plain": [
              "     Province  Year  Population\n",
              "0  Chiang Mai  2016     1630428\n",
              "1  Chiang Mai  2017     1664012\n",
              "2  Chiang Mai  2018     1687971\n",
              "3       Phrae  2016      398936\n",
              "4       Phrae  2017      410382\n",
              "5       Phrae  2018      421653"
            ]
          },
          "execution_count": 115,
          "metadata": {},
          "output_type": "execute_result"
        }
      ],
      "source": [
        "mapper = {\n",
        "    'province':'Province',\n",
        "    'year':'Year',\n",
        "    'population':'Population'\n",
        "}\n",
        "df.rename(columns=mapper)"
      ]
    },
    {
      "cell_type": "markdown",
      "metadata": {
        "id": "9-UC83wNiHCx"
      },
      "source": [
        "#### Create/Replace Column with Value/Array"
      ]
    },
    {
      "cell_type": "code",
      "execution_count": 116,
      "metadata": {
        "id": "osIehOSgiHCx"
      },
      "outputs": [
        {
          "data": {
            "text/html": [
              "<div>\n",
              "<style scoped>\n",
              "    .dataframe tbody tr th:only-of-type {\n",
              "        vertical-align: middle;\n",
              "    }\n",
              "\n",
              "    .dataframe tbody tr th {\n",
              "        vertical-align: top;\n",
              "    }\n",
              "\n",
              "    .dataframe thead th {\n",
              "        text-align: right;\n",
              "    }\n",
              "</style>\n",
              "<table border=\"1\" class=\"dataframe\">\n",
              "  <thead>\n",
              "    <tr style=\"text-align: right;\">\n",
              "      <th></th>\n",
              "      <th>province</th>\n",
              "      <th>year</th>\n",
              "      <th>population</th>\n",
              "      <th>source</th>\n",
              "    </tr>\n",
              "  </thead>\n",
              "  <tbody>\n",
              "    <tr>\n",
              "      <th>0</th>\n",
              "      <td>Chiang Mai</td>\n",
              "      <td>2016</td>\n",
              "      <td>1630428</td>\n",
              "      <td>A</td>\n",
              "    </tr>\n",
              "    <tr>\n",
              "      <th>1</th>\n",
              "      <td>Chiang Mai</td>\n",
              "      <td>2017</td>\n",
              "      <td>1664012</td>\n",
              "      <td>A</td>\n",
              "    </tr>\n",
              "    <tr>\n",
              "      <th>2</th>\n",
              "      <td>Chiang Mai</td>\n",
              "      <td>2018</td>\n",
              "      <td>1687971</td>\n",
              "      <td>A</td>\n",
              "    </tr>\n",
              "    <tr>\n",
              "      <th>3</th>\n",
              "      <td>Phrae</td>\n",
              "      <td>2016</td>\n",
              "      <td>398936</td>\n",
              "      <td>A</td>\n",
              "    </tr>\n",
              "    <tr>\n",
              "      <th>4</th>\n",
              "      <td>Phrae</td>\n",
              "      <td>2017</td>\n",
              "      <td>410382</td>\n",
              "      <td>A</td>\n",
              "    </tr>\n",
              "    <tr>\n",
              "      <th>5</th>\n",
              "      <td>Phrae</td>\n",
              "      <td>2018</td>\n",
              "      <td>421653</td>\n",
              "      <td>A</td>\n",
              "    </tr>\n",
              "  </tbody>\n",
              "</table>\n",
              "</div>"
            ],
            "text/plain": [
              "     province  year  population source\n",
              "0  Chiang Mai  2016     1630428      A\n",
              "1  Chiang Mai  2017     1664012      A\n",
              "2  Chiang Mai  2018     1687971      A\n",
              "3       Phrae  2016      398936      A\n",
              "4       Phrae  2017      410382      A\n",
              "5       Phrae  2018      421653      A"
            ]
          },
          "execution_count": 116,
          "metadata": {},
          "output_type": "execute_result"
        }
      ],
      "source": [
        "df['source'] = 'A'\n",
        "df"
      ]
    },
    {
      "cell_type": "code",
      "execution_count": 117,
      "metadata": {
        "id": "TRLyNOJmiHC3"
      },
      "outputs": [
        {
          "data": {
            "text/html": [
              "<div>\n",
              "<style scoped>\n",
              "    .dataframe tbody tr th:only-of-type {\n",
              "        vertical-align: middle;\n",
              "    }\n",
              "\n",
              "    .dataframe tbody tr th {\n",
              "        vertical-align: top;\n",
              "    }\n",
              "\n",
              "    .dataframe thead th {\n",
              "        text-align: right;\n",
              "    }\n",
              "</style>\n",
              "<table border=\"1\" class=\"dataframe\">\n",
              "  <thead>\n",
              "    <tr style=\"text-align: right;\">\n",
              "      <th></th>\n",
              "      <th>province</th>\n",
              "      <th>year</th>\n",
              "      <th>population</th>\n",
              "      <th>source</th>\n",
              "    </tr>\n",
              "  </thead>\n",
              "  <tbody>\n",
              "    <tr>\n",
              "      <th>0</th>\n",
              "      <td>Chiang Mai</td>\n",
              "      <td>2016</td>\n",
              "      <td>1630428</td>\n",
              "      <td>A</td>\n",
              "    </tr>\n",
              "    <tr>\n",
              "      <th>1</th>\n",
              "      <td>Chiang Mai</td>\n",
              "      <td>2017</td>\n",
              "      <td>1664012</td>\n",
              "      <td>B</td>\n",
              "    </tr>\n",
              "    <tr>\n",
              "      <th>2</th>\n",
              "      <td>Chiang Mai</td>\n",
              "      <td>2018</td>\n",
              "      <td>1687971</td>\n",
              "      <td>A</td>\n",
              "    </tr>\n",
              "    <tr>\n",
              "      <th>3</th>\n",
              "      <td>Phrae</td>\n",
              "      <td>2016</td>\n",
              "      <td>398936</td>\n",
              "      <td>C</td>\n",
              "    </tr>\n",
              "    <tr>\n",
              "      <th>4</th>\n",
              "      <td>Phrae</td>\n",
              "      <td>2017</td>\n",
              "      <td>410382</td>\n",
              "      <td>A</td>\n",
              "    </tr>\n",
              "    <tr>\n",
              "      <th>5</th>\n",
              "      <td>Phrae</td>\n",
              "      <td>2018</td>\n",
              "      <td>421653</td>\n",
              "      <td>B</td>\n",
              "    </tr>\n",
              "  </tbody>\n",
              "</table>\n",
              "</div>"
            ],
            "text/plain": [
              "     province  year  population source\n",
              "0  Chiang Mai  2016     1630428      A\n",
              "1  Chiang Mai  2017     1664012      B\n",
              "2  Chiang Mai  2018     1687971      A\n",
              "3       Phrae  2016      398936      C\n",
              "4       Phrae  2017      410382      A\n",
              "5       Phrae  2018      421653      B"
            ]
          },
          "execution_count": 117,
          "metadata": {},
          "output_type": "execute_result"
        }
      ],
      "source": [
        "df['source'] = ['A','B','A','C','A','B']\n",
        "df"
      ]
    },
    {
      "cell_type": "code",
      "execution_count": 118,
      "metadata": {
        "id": "p2IRL-0JiHC_"
      },
      "outputs": [
        {
          "data": {
            "text/html": [
              "<div>\n",
              "<style scoped>\n",
              "    .dataframe tbody tr th:only-of-type {\n",
              "        vertical-align: middle;\n",
              "    }\n",
              "\n",
              "    .dataframe tbody tr th {\n",
              "        vertical-align: top;\n",
              "    }\n",
              "\n",
              "    .dataframe thead th {\n",
              "        text-align: right;\n",
              "    }\n",
              "</style>\n",
              "<table border=\"1\" class=\"dataframe\">\n",
              "  <thead>\n",
              "    <tr style=\"text-align: right;\">\n",
              "      <th></th>\n",
              "      <th>province</th>\n",
              "      <th>year</th>\n",
              "      <th>population</th>\n",
              "      <th>source</th>\n",
              "      <th>population (K)</th>\n",
              "    </tr>\n",
              "  </thead>\n",
              "  <tbody>\n",
              "    <tr>\n",
              "      <th>0</th>\n",
              "      <td>Chiang Mai</td>\n",
              "      <td>2016</td>\n",
              "      <td>1630428</td>\n",
              "      <td>A</td>\n",
              "      <td>1630.428</td>\n",
              "    </tr>\n",
              "    <tr>\n",
              "      <th>1</th>\n",
              "      <td>Chiang Mai</td>\n",
              "      <td>2017</td>\n",
              "      <td>1664012</td>\n",
              "      <td>B</td>\n",
              "      <td>1664.012</td>\n",
              "    </tr>\n",
              "    <tr>\n",
              "      <th>2</th>\n",
              "      <td>Chiang Mai</td>\n",
              "      <td>2018</td>\n",
              "      <td>1687971</td>\n",
              "      <td>A</td>\n",
              "      <td>1687.971</td>\n",
              "    </tr>\n",
              "    <tr>\n",
              "      <th>3</th>\n",
              "      <td>Phrae</td>\n",
              "      <td>2016</td>\n",
              "      <td>398936</td>\n",
              "      <td>C</td>\n",
              "      <td>398.936</td>\n",
              "    </tr>\n",
              "    <tr>\n",
              "      <th>4</th>\n",
              "      <td>Phrae</td>\n",
              "      <td>2017</td>\n",
              "      <td>410382</td>\n",
              "      <td>A</td>\n",
              "      <td>410.382</td>\n",
              "    </tr>\n",
              "    <tr>\n",
              "      <th>5</th>\n",
              "      <td>Phrae</td>\n",
              "      <td>2018</td>\n",
              "      <td>421653</td>\n",
              "      <td>B</td>\n",
              "      <td>421.653</td>\n",
              "    </tr>\n",
              "  </tbody>\n",
              "</table>\n",
              "</div>"
            ],
            "text/plain": [
              "     province  year  population source  population (K)\n",
              "0  Chiang Mai  2016     1630428      A        1630.428\n",
              "1  Chiang Mai  2017     1664012      B        1664.012\n",
              "2  Chiang Mai  2018     1687971      A        1687.971\n",
              "3       Phrae  2016      398936      C         398.936\n",
              "4       Phrae  2017      410382      A         410.382\n",
              "5       Phrae  2018      421653      B         421.653"
            ]
          },
          "execution_count": 118,
          "metadata": {},
          "output_type": "execute_result"
        }
      ],
      "source": [
        "df['population (K)'] = df['population'] / 1000\n",
        "df"
      ]
    },
    {
      "cell_type": "code",
      "execution_count": 119,
      "metadata": {
        "id": "z0zEMWmoiHDC"
      },
      "outputs": [
        {
          "data": {
            "text/html": [
              "<div>\n",
              "<style scoped>\n",
              "    .dataframe tbody tr th:only-of-type {\n",
              "        vertical-align: middle;\n",
              "    }\n",
              "\n",
              "    .dataframe tbody tr th {\n",
              "        vertical-align: top;\n",
              "    }\n",
              "\n",
              "    .dataframe thead th {\n",
              "        text-align: right;\n",
              "    }\n",
              "</style>\n",
              "<table border=\"1\" class=\"dataframe\">\n",
              "  <thead>\n",
              "    <tr style=\"text-align: right;\">\n",
              "      <th></th>\n",
              "      <th>province</th>\n",
              "      <th>year</th>\n",
              "      <th>population</th>\n",
              "      <th>source</th>\n",
              "      <th>population (K)</th>\n",
              "    </tr>\n",
              "  </thead>\n",
              "  <tbody>\n",
              "    <tr>\n",
              "      <th>0</th>\n",
              "      <td>Chiang Mai</td>\n",
              "      <td>2016</td>\n",
              "      <td>1630428</td>\n",
              "      <td>A</td>\n",
              "      <td>1630.428</td>\n",
              "    </tr>\n",
              "    <tr>\n",
              "      <th>1</th>\n",
              "      <td>Chiang Mai</td>\n",
              "      <td>2017</td>\n",
              "      <td>1664012</td>\n",
              "      <td>B</td>\n",
              "      <td>1664.012</td>\n",
              "    </tr>\n",
              "    <tr>\n",
              "      <th>2</th>\n",
              "      <td>Chiang Mai</td>\n",
              "      <td>2018</td>\n",
              "      <td>1687971</td>\n",
              "      <td>A</td>\n",
              "      <td>1687.971</td>\n",
              "    </tr>\n",
              "    <tr>\n",
              "      <th>3</th>\n",
              "      <td>Phrae</td>\n",
              "      <td>2016</td>\n",
              "      <td>398936</td>\n",
              "      <td>C</td>\n",
              "      <td>398.936</td>\n",
              "    </tr>\n",
              "    <tr>\n",
              "      <th>4</th>\n",
              "      <td>Phrae</td>\n",
              "      <td>2017</td>\n",
              "      <td>410382</td>\n",
              "      <td>A</td>\n",
              "      <td>410.382</td>\n",
              "    </tr>\n",
              "    <tr>\n",
              "      <th>5</th>\n",
              "      <td>Phrae</td>\n",
              "      <td>2018</td>\n",
              "      <td>421653</td>\n",
              "      <td>B</td>\n",
              "      <td>421.653</td>\n",
              "    </tr>\n",
              "  </tbody>\n",
              "</table>\n",
              "</div>"
            ],
            "text/plain": [
              "     province  year  population source  population (K)\n",
              "0  Chiang Mai  2016     1630428      A        1630.428\n",
              "1  Chiang Mai  2017     1664012      B        1664.012\n",
              "2  Chiang Mai  2018     1687971      A        1687.971\n",
              "3       Phrae  2016      398936      C         398.936\n",
              "4       Phrae  2017      410382      A         410.382\n",
              "5       Phrae  2018      421653      B         421.653"
            ]
          },
          "execution_count": 119,
          "metadata": {},
          "output_type": "execute_result"
        }
      ],
      "source": [
        "df['population (K)'] = df['population'].apply(lambda x : x / 1000)\n",
        "df"
      ]
    },
    {
      "cell_type": "code",
      "execution_count": 120,
      "metadata": {
        "id": "rcKuUX86bOIM"
      },
      "outputs": [
        {
          "data": {
            "text/html": [
              "<div>\n",
              "<style scoped>\n",
              "    .dataframe tbody tr th:only-of-type {\n",
              "        vertical-align: middle;\n",
              "    }\n",
              "\n",
              "    .dataframe tbody tr th {\n",
              "        vertical-align: top;\n",
              "    }\n",
              "\n",
              "    .dataframe thead th {\n",
              "        text-align: right;\n",
              "    }\n",
              "</style>\n",
              "<table border=\"1\" class=\"dataframe\">\n",
              "  <thead>\n",
              "    <tr style=\"text-align: right;\">\n",
              "      <th></th>\n",
              "      <th>province</th>\n",
              "      <th>year</th>\n",
              "      <th>population</th>\n",
              "      <th>source</th>\n",
              "      <th>population (K)</th>\n",
              "    </tr>\n",
              "  </thead>\n",
              "  <tbody>\n",
              "    <tr>\n",
              "      <th>0</th>\n",
              "      <td>Chiang Mai</td>\n",
              "      <td>2016</td>\n",
              "      <td>1630428</td>\n",
              "      <td>A</td>\n",
              "      <td>1630.428</td>\n",
              "    </tr>\n",
              "    <tr>\n",
              "      <th>1</th>\n",
              "      <td>Chiang Mai</td>\n",
              "      <td>2017</td>\n",
              "      <td>1664012</td>\n",
              "      <td>B</td>\n",
              "      <td>1664.012</td>\n",
              "    </tr>\n",
              "    <tr>\n",
              "      <th>2</th>\n",
              "      <td>Chiang Mai</td>\n",
              "      <td>2018</td>\n",
              "      <td>1687971</td>\n",
              "      <td>A</td>\n",
              "      <td>1687.971</td>\n",
              "    </tr>\n",
              "    <tr>\n",
              "      <th>3</th>\n",
              "      <td>Phrae</td>\n",
              "      <td>2016</td>\n",
              "      <td>398936</td>\n",
              "      <td>C</td>\n",
              "      <td>398.936</td>\n",
              "    </tr>\n",
              "    <tr>\n",
              "      <th>4</th>\n",
              "      <td>Phrae</td>\n",
              "      <td>2017</td>\n",
              "      <td>410382</td>\n",
              "      <td>A</td>\n",
              "      <td>410.382</td>\n",
              "    </tr>\n",
              "    <tr>\n",
              "      <th>5</th>\n",
              "      <td>Phrae</td>\n",
              "      <td>2018</td>\n",
              "      <td>421653</td>\n",
              "      <td>B</td>\n",
              "      <td>421.653</td>\n",
              "    </tr>\n",
              "  </tbody>\n",
              "</table>\n",
              "</div>"
            ],
            "text/plain": [
              "     province  year  population source  population (K)\n",
              "0  Chiang Mai  2016     1630428      A        1630.428\n",
              "1  Chiang Mai  2017     1664012      B        1664.012\n",
              "2  Chiang Mai  2018     1687971      A        1687.971\n",
              "3       Phrae  2016      398936      C         398.936\n",
              "4       Phrae  2017      410382      A         410.382\n",
              "5       Phrae  2018      421653      B         421.653"
            ]
          },
          "execution_count": 120,
          "metadata": {},
          "output_type": "execute_result"
        }
      ],
      "source": [
        "# extra example\n",
        "import math\n",
        "df2 = df.copy()\n",
        "# df2 = df # this will be error since it refers to address (not copy values)\n",
        "df['LN population'] = df['population'].apply(math.log)\n",
        "df2"
      ]
    },
    {
      "cell_type": "markdown",
      "metadata": {
        "id": "8-TVxVbqiHDF"
      },
      "source": [
        "### DataFrame Information"
      ]
    },
    {
      "cell_type": "code",
      "execution_count": 121,
      "metadata": {
        "id": "9CTuGZa6iHDG"
      },
      "outputs": [
        {
          "data": {
            "text/plain": [
              "pandas.core.frame.DataFrame"
            ]
          },
          "execution_count": 121,
          "metadata": {},
          "output_type": "execute_result"
        }
      ],
      "source": [
        "type(df)"
      ]
    },
    {
      "cell_type": "code",
      "execution_count": 122,
      "metadata": {
        "id": "558gdlOhiHDM"
      },
      "outputs": [
        {
          "data": {
            "text/plain": [
              "(6, 6)"
            ]
          },
          "execution_count": 122,
          "metadata": {},
          "output_type": "execute_result"
        }
      ],
      "source": [
        "df.shape"
      ]
    },
    {
      "cell_type": "code",
      "execution_count": 123,
      "metadata": {
        "id": "RVbKwHxziHDQ"
      },
      "outputs": [
        {
          "name": "stdout",
          "output_type": "stream",
          "text": [
            "<class 'pandas.core.frame.DataFrame'>\n",
            "RangeIndex: 6 entries, 0 to 5\n",
            "Data columns (total 6 columns):\n",
            " #   Column          Non-Null Count  Dtype  \n",
            "---  ------          --------------  -----  \n",
            " 0   province        6 non-null      object \n",
            " 1   year            6 non-null      int64  \n",
            " 2   population      6 non-null      int64  \n",
            " 3   source          6 non-null      object \n",
            " 4   population (K)  6 non-null      float64\n",
            " 5   LN population   6 non-null      float64\n",
            "dtypes: float64(2), int64(2), object(2)\n",
            "memory usage: 416.0+ bytes\n"
          ]
        }
      ],
      "source": [
        "df.info()"
      ]
    },
    {
      "cell_type": "code",
      "execution_count": 124,
      "metadata": {
        "id": "I7NSQBUDiHDT"
      },
      "outputs": [
        {
          "data": {
            "text/plain": [
              "province           object\n",
              "year                int64\n",
              "population          int64\n",
              "source             object\n",
              "population (K)    float64\n",
              "LN population     float64\n",
              "dtype: object"
            ]
          },
          "execution_count": 124,
          "metadata": {},
          "output_type": "execute_result"
        }
      ],
      "source": [
        "df.dtypes"
      ]
    },
    {
      "cell_type": "markdown",
      "metadata": {
        "id": "wG1IfRT7iHDY"
      },
      "source": [
        "## Filtering and Sorting"
      ]
    },
    {
      "cell_type": "markdown",
      "metadata": {
        "id": "HC5Kaa6XiHDZ"
      },
      "source": [
        "### Filtering"
      ]
    },
    {
      "cell_type": "code",
      "execution_count": 125,
      "metadata": {
        "id": "ECXMA2kNiHDZ"
      },
      "outputs": [
        {
          "data": {
            "text/html": [
              "<div>\n",
              "<style scoped>\n",
              "    .dataframe tbody tr th:only-of-type {\n",
              "        vertical-align: middle;\n",
              "    }\n",
              "\n",
              "    .dataframe tbody tr th {\n",
              "        vertical-align: top;\n",
              "    }\n",
              "\n",
              "    .dataframe thead th {\n",
              "        text-align: right;\n",
              "    }\n",
              "</style>\n",
              "<table border=\"1\" class=\"dataframe\">\n",
              "  <thead>\n",
              "    <tr style=\"text-align: right;\">\n",
              "      <th></th>\n",
              "      <th>province</th>\n",
              "      <th>year</th>\n",
              "      <th>population</th>\n",
              "      <th>source</th>\n",
              "      <th>population (K)</th>\n",
              "      <th>LN population</th>\n",
              "    </tr>\n",
              "  </thead>\n",
              "  <tbody>\n",
              "    <tr>\n",
              "      <th>0</th>\n",
              "      <td>Chiang Mai</td>\n",
              "      <td>2016</td>\n",
              "      <td>1630428</td>\n",
              "      <td>A</td>\n",
              "      <td>1630.428</td>\n",
              "      <td>14.304353</td>\n",
              "    </tr>\n",
              "    <tr>\n",
              "      <th>1</th>\n",
              "      <td>Chiang Mai</td>\n",
              "      <td>2017</td>\n",
              "      <td>1664012</td>\n",
              "      <td>B</td>\n",
              "      <td>1664.012</td>\n",
              "      <td>14.324742</td>\n",
              "    </tr>\n",
              "    <tr>\n",
              "      <th>2</th>\n",
              "      <td>Chiang Mai</td>\n",
              "      <td>2018</td>\n",
              "      <td>1687971</td>\n",
              "      <td>A</td>\n",
              "      <td>1687.971</td>\n",
              "      <td>14.339038</td>\n",
              "    </tr>\n",
              "    <tr>\n",
              "      <th>3</th>\n",
              "      <td>Phrae</td>\n",
              "      <td>2016</td>\n",
              "      <td>398936</td>\n",
              "      <td>C</td>\n",
              "      <td>398.936</td>\n",
              "      <td>12.896556</td>\n",
              "    </tr>\n",
              "    <tr>\n",
              "      <th>4</th>\n",
              "      <td>Phrae</td>\n",
              "      <td>2017</td>\n",
              "      <td>410382</td>\n",
              "      <td>A</td>\n",
              "      <td>410.382</td>\n",
              "      <td>12.924844</td>\n",
              "    </tr>\n",
              "    <tr>\n",
              "      <th>5</th>\n",
              "      <td>Phrae</td>\n",
              "      <td>2018</td>\n",
              "      <td>421653</td>\n",
              "      <td>B</td>\n",
              "      <td>421.653</td>\n",
              "      <td>12.951938</td>\n",
              "    </tr>\n",
              "  </tbody>\n",
              "</table>\n",
              "</div>"
            ],
            "text/plain": [
              "     province  year  population source  population (K)  LN population\n",
              "0  Chiang Mai  2016     1630428      A        1630.428      14.304353\n",
              "1  Chiang Mai  2017     1664012      B        1664.012      14.324742\n",
              "2  Chiang Mai  2018     1687971      A        1687.971      14.339038\n",
              "3       Phrae  2016      398936      C         398.936      12.896556\n",
              "4       Phrae  2017      410382      A         410.382      12.924844\n",
              "5       Phrae  2018      421653      B         421.653      12.951938"
            ]
          },
          "execution_count": 125,
          "metadata": {},
          "output_type": "execute_result"
        }
      ],
      "source": [
        "condition_list = [True,True,True,True,True,True]\n",
        "df[condition_list]"
      ]
    },
    {
      "cell_type": "code",
      "execution_count": 126,
      "metadata": {
        "id": "AtRshhWziHDd"
      },
      "outputs": [
        {
          "data": {
            "text/html": [
              "<div>\n",
              "<style scoped>\n",
              "    .dataframe tbody tr th:only-of-type {\n",
              "        vertical-align: middle;\n",
              "    }\n",
              "\n",
              "    .dataframe tbody tr th {\n",
              "        vertical-align: top;\n",
              "    }\n",
              "\n",
              "    .dataframe thead th {\n",
              "        text-align: right;\n",
              "    }\n",
              "</style>\n",
              "<table border=\"1\" class=\"dataframe\">\n",
              "  <thead>\n",
              "    <tr style=\"text-align: right;\">\n",
              "      <th></th>\n",
              "      <th>province</th>\n",
              "      <th>year</th>\n",
              "      <th>population</th>\n",
              "      <th>source</th>\n",
              "      <th>population (K)</th>\n",
              "      <th>LN population</th>\n",
              "    </tr>\n",
              "  </thead>\n",
              "  <tbody>\n",
              "    <tr>\n",
              "      <th>0</th>\n",
              "      <td>Chiang Mai</td>\n",
              "      <td>2016</td>\n",
              "      <td>1630428</td>\n",
              "      <td>A</td>\n",
              "      <td>1630.428</td>\n",
              "      <td>14.304353</td>\n",
              "    </tr>\n",
              "    <tr>\n",
              "      <th>2</th>\n",
              "      <td>Chiang Mai</td>\n",
              "      <td>2018</td>\n",
              "      <td>1687971</td>\n",
              "      <td>A</td>\n",
              "      <td>1687.971</td>\n",
              "      <td>14.339038</td>\n",
              "    </tr>\n",
              "    <tr>\n",
              "      <th>4</th>\n",
              "      <td>Phrae</td>\n",
              "      <td>2017</td>\n",
              "      <td>410382</td>\n",
              "      <td>A</td>\n",
              "      <td>410.382</td>\n",
              "      <td>12.924844</td>\n",
              "    </tr>\n",
              "  </tbody>\n",
              "</table>\n",
              "</div>"
            ],
            "text/plain": [
              "     province  year  population source  population (K)  LN population\n",
              "0  Chiang Mai  2016     1630428      A        1630.428      14.304353\n",
              "2  Chiang Mai  2018     1687971      A        1687.971      14.339038\n",
              "4       Phrae  2017      410382      A         410.382      12.924844"
            ]
          },
          "execution_count": 126,
          "metadata": {},
          "output_type": "execute_result"
        }
      ],
      "source": [
        "condition_list = [True,False,True,False,True,False]\n",
        "df[condition_list]"
      ]
    },
    {
      "cell_type": "code",
      "execution_count": 127,
      "metadata": {
        "id": "TdOz2AACiHDg"
      },
      "outputs": [
        {
          "name": "stdout",
          "output_type": "stream",
          "text": [
            "0     True\n",
            "1     True\n",
            "2     True\n",
            "3    False\n",
            "4    False\n",
            "5    False\n",
            "Name: province, dtype: bool\n"
          ]
        },
        {
          "data": {
            "text/html": [
              "<div>\n",
              "<style scoped>\n",
              "    .dataframe tbody tr th:only-of-type {\n",
              "        vertical-align: middle;\n",
              "    }\n",
              "\n",
              "    .dataframe tbody tr th {\n",
              "        vertical-align: top;\n",
              "    }\n",
              "\n",
              "    .dataframe thead th {\n",
              "        text-align: right;\n",
              "    }\n",
              "</style>\n",
              "<table border=\"1\" class=\"dataframe\">\n",
              "  <thead>\n",
              "    <tr style=\"text-align: right;\">\n",
              "      <th></th>\n",
              "      <th>province</th>\n",
              "      <th>year</th>\n",
              "      <th>population</th>\n",
              "      <th>source</th>\n",
              "      <th>population (K)</th>\n",
              "      <th>LN population</th>\n",
              "    </tr>\n",
              "  </thead>\n",
              "  <tbody>\n",
              "    <tr>\n",
              "      <th>0</th>\n",
              "      <td>Chiang Mai</td>\n",
              "      <td>2016</td>\n",
              "      <td>1630428</td>\n",
              "      <td>A</td>\n",
              "      <td>1630.428</td>\n",
              "      <td>14.304353</td>\n",
              "    </tr>\n",
              "    <tr>\n",
              "      <th>1</th>\n",
              "      <td>Chiang Mai</td>\n",
              "      <td>2017</td>\n",
              "      <td>1664012</td>\n",
              "      <td>B</td>\n",
              "      <td>1664.012</td>\n",
              "      <td>14.324742</td>\n",
              "    </tr>\n",
              "    <tr>\n",
              "      <th>2</th>\n",
              "      <td>Chiang Mai</td>\n",
              "      <td>2018</td>\n",
              "      <td>1687971</td>\n",
              "      <td>A</td>\n",
              "      <td>1687.971</td>\n",
              "      <td>14.339038</td>\n",
              "    </tr>\n",
              "  </tbody>\n",
              "</table>\n",
              "</div>"
            ],
            "text/plain": [
              "     province  year  population source  population (K)  LN population\n",
              "0  Chiang Mai  2016     1630428      A        1630.428      14.304353\n",
              "1  Chiang Mai  2017     1664012      B        1664.012      14.324742\n",
              "2  Chiang Mai  2018     1687971      A        1687.971      14.339038"
            ]
          },
          "metadata": {},
          "output_type": "display_data"
        }
      ],
      "source": [
        "condition_list = df['province'] == 'Chiang Mai'\n",
        "print(condition_list)\n",
        "display(df[condition_list])"
      ]
    },
    {
      "cell_type": "code",
      "execution_count": 128,
      "metadata": {
        "id": "CrjjtfhQiHDl"
      },
      "outputs": [
        {
          "name": "stdout",
          "output_type": "stream",
          "text": [
            "0     True\n",
            "1     True\n",
            "2     True\n",
            "3    False\n",
            "4    False\n",
            "5    False\n",
            "Name: population, dtype: bool\n"
          ]
        },
        {
          "data": {
            "text/html": [
              "<div>\n",
              "<style scoped>\n",
              "    .dataframe tbody tr th:only-of-type {\n",
              "        vertical-align: middle;\n",
              "    }\n",
              "\n",
              "    .dataframe tbody tr th {\n",
              "        vertical-align: top;\n",
              "    }\n",
              "\n",
              "    .dataframe thead th {\n",
              "        text-align: right;\n",
              "    }\n",
              "</style>\n",
              "<table border=\"1\" class=\"dataframe\">\n",
              "  <thead>\n",
              "    <tr style=\"text-align: right;\">\n",
              "      <th></th>\n",
              "      <th>province</th>\n",
              "      <th>year</th>\n",
              "      <th>population</th>\n",
              "      <th>source</th>\n",
              "      <th>population (K)</th>\n",
              "      <th>LN population</th>\n",
              "    </tr>\n",
              "  </thead>\n",
              "  <tbody>\n",
              "    <tr>\n",
              "      <th>0</th>\n",
              "      <td>Chiang Mai</td>\n",
              "      <td>2016</td>\n",
              "      <td>1630428</td>\n",
              "      <td>A</td>\n",
              "      <td>1630.428</td>\n",
              "      <td>14.304353</td>\n",
              "    </tr>\n",
              "    <tr>\n",
              "      <th>1</th>\n",
              "      <td>Chiang Mai</td>\n",
              "      <td>2017</td>\n",
              "      <td>1664012</td>\n",
              "      <td>B</td>\n",
              "      <td>1664.012</td>\n",
              "      <td>14.324742</td>\n",
              "    </tr>\n",
              "    <tr>\n",
              "      <th>2</th>\n",
              "      <td>Chiang Mai</td>\n",
              "      <td>2018</td>\n",
              "      <td>1687971</td>\n",
              "      <td>A</td>\n",
              "      <td>1687.971</td>\n",
              "      <td>14.339038</td>\n",
              "    </tr>\n",
              "  </tbody>\n",
              "</table>\n",
              "</div>"
            ],
            "text/plain": [
              "     province  year  population source  population (K)  LN population\n",
              "0  Chiang Mai  2016     1630428      A        1630.428      14.304353\n",
              "1  Chiang Mai  2017     1664012      B        1664.012      14.324742\n",
              "2  Chiang Mai  2018     1687971      A        1687.971      14.339038"
            ]
          },
          "metadata": {},
          "output_type": "display_data"
        }
      ],
      "source": [
        "condition_list = df['population'] > 1000000\n",
        "print(condition_list)\n",
        "display(df[condition_list])"
      ]
    },
    {
      "cell_type": "code",
      "execution_count": 129,
      "metadata": {
        "id": "HyCz7DhAiHDq"
      },
      "outputs": [
        {
          "name": "stdout",
          "output_type": "stream",
          "text": [
            "0     True\n",
            "1     True\n",
            "2     True\n",
            "3    False\n",
            "4    False\n",
            "5    False\n",
            "dtype: bool\n"
          ]
        },
        {
          "data": {
            "text/html": [
              "<div>\n",
              "<style scoped>\n",
              "    .dataframe tbody tr th:only-of-type {\n",
              "        vertical-align: middle;\n",
              "    }\n",
              "\n",
              "    .dataframe tbody tr th {\n",
              "        vertical-align: top;\n",
              "    }\n",
              "\n",
              "    .dataframe thead th {\n",
              "        text-align: right;\n",
              "    }\n",
              "</style>\n",
              "<table border=\"1\" class=\"dataframe\">\n",
              "  <thead>\n",
              "    <tr style=\"text-align: right;\">\n",
              "      <th></th>\n",
              "      <th>province</th>\n",
              "      <th>year</th>\n",
              "      <th>population</th>\n",
              "      <th>source</th>\n",
              "      <th>population (K)</th>\n",
              "      <th>LN population</th>\n",
              "    </tr>\n",
              "  </thead>\n",
              "  <tbody>\n",
              "    <tr>\n",
              "      <th>0</th>\n",
              "      <td>Chiang Mai</td>\n",
              "      <td>2016</td>\n",
              "      <td>1630428</td>\n",
              "      <td>A</td>\n",
              "      <td>1630.428</td>\n",
              "      <td>14.304353</td>\n",
              "    </tr>\n",
              "    <tr>\n",
              "      <th>1</th>\n",
              "      <td>Chiang Mai</td>\n",
              "      <td>2017</td>\n",
              "      <td>1664012</td>\n",
              "      <td>B</td>\n",
              "      <td>1664.012</td>\n",
              "      <td>14.324742</td>\n",
              "    </tr>\n",
              "    <tr>\n",
              "      <th>2</th>\n",
              "      <td>Chiang Mai</td>\n",
              "      <td>2018</td>\n",
              "      <td>1687971</td>\n",
              "      <td>A</td>\n",
              "      <td>1687.971</td>\n",
              "      <td>14.339038</td>\n",
              "    </tr>\n",
              "  </tbody>\n",
              "</table>\n",
              "</div>"
            ],
            "text/plain": [
              "     province  year  population source  population (K)  LN population\n",
              "0  Chiang Mai  2016     1630428      A        1630.428      14.304353\n",
              "1  Chiang Mai  2017     1664012      B        1664.012      14.324742\n",
              "2  Chiang Mai  2018     1687971      A        1687.971      14.339038"
            ]
          },
          "metadata": {},
          "output_type": "display_data"
        }
      ],
      "source": [
        "# Multiple condition (and)\n",
        "condition_list = (df['province'] == 'Chiang Mai') & (df['population'] > 1000000)\n",
        "print(condition_list)\n",
        "display(df[condition_list])"
      ]
    },
    {
      "cell_type": "code",
      "execution_count": 130,
      "metadata": {
        "id": "Qa0-v43FiHDv"
      },
      "outputs": [
        {
          "name": "stdout",
          "output_type": "stream",
          "text": [
            "0     True\n",
            "1     True\n",
            "2     True\n",
            "3    False\n",
            "4    False\n",
            "5    False\n",
            "dtype: bool\n"
          ]
        },
        {
          "data": {
            "text/html": [
              "<div>\n",
              "<style scoped>\n",
              "    .dataframe tbody tr th:only-of-type {\n",
              "        vertical-align: middle;\n",
              "    }\n",
              "\n",
              "    .dataframe tbody tr th {\n",
              "        vertical-align: top;\n",
              "    }\n",
              "\n",
              "    .dataframe thead th {\n",
              "        text-align: right;\n",
              "    }\n",
              "</style>\n",
              "<table border=\"1\" class=\"dataframe\">\n",
              "  <thead>\n",
              "    <tr style=\"text-align: right;\">\n",
              "      <th></th>\n",
              "      <th>province</th>\n",
              "      <th>year</th>\n",
              "      <th>population</th>\n",
              "      <th>source</th>\n",
              "      <th>population (K)</th>\n",
              "      <th>LN population</th>\n",
              "    </tr>\n",
              "  </thead>\n",
              "  <tbody>\n",
              "    <tr>\n",
              "      <th>0</th>\n",
              "      <td>Chiang Mai</td>\n",
              "      <td>2016</td>\n",
              "      <td>1630428</td>\n",
              "      <td>A</td>\n",
              "      <td>1630.428</td>\n",
              "      <td>14.304353</td>\n",
              "    </tr>\n",
              "    <tr>\n",
              "      <th>1</th>\n",
              "      <td>Chiang Mai</td>\n",
              "      <td>2017</td>\n",
              "      <td>1664012</td>\n",
              "      <td>B</td>\n",
              "      <td>1664.012</td>\n",
              "      <td>14.324742</td>\n",
              "    </tr>\n",
              "    <tr>\n",
              "      <th>2</th>\n",
              "      <td>Chiang Mai</td>\n",
              "      <td>2018</td>\n",
              "      <td>1687971</td>\n",
              "      <td>A</td>\n",
              "      <td>1687.971</td>\n",
              "      <td>14.339038</td>\n",
              "    </tr>\n",
              "  </tbody>\n",
              "</table>\n",
              "</div>"
            ],
            "text/plain": [
              "     province  year  population source  population (K)  LN population\n",
              "0  Chiang Mai  2016     1630428      A        1630.428      14.304353\n",
              "1  Chiang Mai  2017     1664012      B        1664.012      14.324742\n",
              "2  Chiang Mai  2018     1687971      A        1687.971      14.339038"
            ]
          },
          "metadata": {},
          "output_type": "display_data"
        }
      ],
      "source": [
        "# Multiple condition (or)\n",
        "condition_list = (df['province'] == 'Chiang Mai') | (df['population'] > 1000000)\n",
        "print(condition_list)\n",
        "display(df[condition_list])"
      ]
    },
    {
      "cell_type": "markdown",
      "metadata": {
        "id": "vTSvaA3tiHDx"
      },
      "source": [
        "### Sorting"
      ]
    },
    {
      "cell_type": "code",
      "execution_count": 131,
      "metadata": {
        "id": "GHiiO_ohiHDx"
      },
      "outputs": [
        {
          "data": {
            "text/html": [
              "<div>\n",
              "<style scoped>\n",
              "    .dataframe tbody tr th:only-of-type {\n",
              "        vertical-align: middle;\n",
              "    }\n",
              "\n",
              "    .dataframe tbody tr th {\n",
              "        vertical-align: top;\n",
              "    }\n",
              "\n",
              "    .dataframe thead th {\n",
              "        text-align: right;\n",
              "    }\n",
              "</style>\n",
              "<table border=\"1\" class=\"dataframe\">\n",
              "  <thead>\n",
              "    <tr style=\"text-align: right;\">\n",
              "      <th></th>\n",
              "      <th>province</th>\n",
              "      <th>year</th>\n",
              "      <th>population</th>\n",
              "      <th>source</th>\n",
              "      <th>population (K)</th>\n",
              "      <th>LN population</th>\n",
              "    </tr>\n",
              "  </thead>\n",
              "  <tbody>\n",
              "    <tr>\n",
              "      <th>3</th>\n",
              "      <td>Phrae</td>\n",
              "      <td>2016</td>\n",
              "      <td>398936</td>\n",
              "      <td>C</td>\n",
              "      <td>398.936</td>\n",
              "      <td>12.896556</td>\n",
              "    </tr>\n",
              "    <tr>\n",
              "      <th>4</th>\n",
              "      <td>Phrae</td>\n",
              "      <td>2017</td>\n",
              "      <td>410382</td>\n",
              "      <td>A</td>\n",
              "      <td>410.382</td>\n",
              "      <td>12.924844</td>\n",
              "    </tr>\n",
              "    <tr>\n",
              "      <th>5</th>\n",
              "      <td>Phrae</td>\n",
              "      <td>2018</td>\n",
              "      <td>421653</td>\n",
              "      <td>B</td>\n",
              "      <td>421.653</td>\n",
              "      <td>12.951938</td>\n",
              "    </tr>\n",
              "    <tr>\n",
              "      <th>0</th>\n",
              "      <td>Chiang Mai</td>\n",
              "      <td>2016</td>\n",
              "      <td>1630428</td>\n",
              "      <td>A</td>\n",
              "      <td>1630.428</td>\n",
              "      <td>14.304353</td>\n",
              "    </tr>\n",
              "    <tr>\n",
              "      <th>1</th>\n",
              "      <td>Chiang Mai</td>\n",
              "      <td>2017</td>\n",
              "      <td>1664012</td>\n",
              "      <td>B</td>\n",
              "      <td>1664.012</td>\n",
              "      <td>14.324742</td>\n",
              "    </tr>\n",
              "    <tr>\n",
              "      <th>2</th>\n",
              "      <td>Chiang Mai</td>\n",
              "      <td>2018</td>\n",
              "      <td>1687971</td>\n",
              "      <td>A</td>\n",
              "      <td>1687.971</td>\n",
              "      <td>14.339038</td>\n",
              "    </tr>\n",
              "  </tbody>\n",
              "</table>\n",
              "</div>"
            ],
            "text/plain": [
              "     province  year  population source  population (K)  LN population\n",
              "3       Phrae  2016      398936      C         398.936      12.896556\n",
              "4       Phrae  2017      410382      A         410.382      12.924844\n",
              "5       Phrae  2018      421653      B         421.653      12.951938\n",
              "0  Chiang Mai  2016     1630428      A        1630.428      14.304353\n",
              "1  Chiang Mai  2017     1664012      B        1664.012      14.324742\n",
              "2  Chiang Mai  2018     1687971      A        1687.971      14.339038"
            ]
          },
          "execution_count": 131,
          "metadata": {},
          "output_type": "execute_result"
        }
      ],
      "source": [
        "df.sort_values(by='population')"
      ]
    },
    {
      "cell_type": "code",
      "execution_count": 132,
      "metadata": {
        "id": "dgmElMTliHD0"
      },
      "outputs": [
        {
          "data": {
            "text/html": [
              "<div>\n",
              "<style scoped>\n",
              "    .dataframe tbody tr th:only-of-type {\n",
              "        vertical-align: middle;\n",
              "    }\n",
              "\n",
              "    .dataframe tbody tr th {\n",
              "        vertical-align: top;\n",
              "    }\n",
              "\n",
              "    .dataframe thead th {\n",
              "        text-align: right;\n",
              "    }\n",
              "</style>\n",
              "<table border=\"1\" class=\"dataframe\">\n",
              "  <thead>\n",
              "    <tr style=\"text-align: right;\">\n",
              "      <th></th>\n",
              "      <th>province</th>\n",
              "      <th>year</th>\n",
              "      <th>population</th>\n",
              "      <th>source</th>\n",
              "      <th>population (K)</th>\n",
              "      <th>LN population</th>\n",
              "    </tr>\n",
              "  </thead>\n",
              "  <tbody>\n",
              "    <tr>\n",
              "      <th>2</th>\n",
              "      <td>Chiang Mai</td>\n",
              "      <td>2018</td>\n",
              "      <td>1687971</td>\n",
              "      <td>A</td>\n",
              "      <td>1687.971</td>\n",
              "      <td>14.339038</td>\n",
              "    </tr>\n",
              "    <tr>\n",
              "      <th>1</th>\n",
              "      <td>Chiang Mai</td>\n",
              "      <td>2017</td>\n",
              "      <td>1664012</td>\n",
              "      <td>B</td>\n",
              "      <td>1664.012</td>\n",
              "      <td>14.324742</td>\n",
              "    </tr>\n",
              "    <tr>\n",
              "      <th>0</th>\n",
              "      <td>Chiang Mai</td>\n",
              "      <td>2016</td>\n",
              "      <td>1630428</td>\n",
              "      <td>A</td>\n",
              "      <td>1630.428</td>\n",
              "      <td>14.304353</td>\n",
              "    </tr>\n",
              "    <tr>\n",
              "      <th>5</th>\n",
              "      <td>Phrae</td>\n",
              "      <td>2018</td>\n",
              "      <td>421653</td>\n",
              "      <td>B</td>\n",
              "      <td>421.653</td>\n",
              "      <td>12.951938</td>\n",
              "    </tr>\n",
              "    <tr>\n",
              "      <th>4</th>\n",
              "      <td>Phrae</td>\n",
              "      <td>2017</td>\n",
              "      <td>410382</td>\n",
              "      <td>A</td>\n",
              "      <td>410.382</td>\n",
              "      <td>12.924844</td>\n",
              "    </tr>\n",
              "    <tr>\n",
              "      <th>3</th>\n",
              "      <td>Phrae</td>\n",
              "      <td>2016</td>\n",
              "      <td>398936</td>\n",
              "      <td>C</td>\n",
              "      <td>398.936</td>\n",
              "      <td>12.896556</td>\n",
              "    </tr>\n",
              "  </tbody>\n",
              "</table>\n",
              "</div>"
            ],
            "text/plain": [
              "     province  year  population source  population (K)  LN population\n",
              "2  Chiang Mai  2018     1687971      A        1687.971      14.339038\n",
              "1  Chiang Mai  2017     1664012      B        1664.012      14.324742\n",
              "0  Chiang Mai  2016     1630428      A        1630.428      14.304353\n",
              "5       Phrae  2018      421653      B         421.653      12.951938\n",
              "4       Phrae  2017      410382      A         410.382      12.924844\n",
              "3       Phrae  2016      398936      C         398.936      12.896556"
            ]
          },
          "execution_count": 132,
          "metadata": {},
          "output_type": "execute_result"
        }
      ],
      "source": [
        "df.sort_values(by='population', ascending=False)"
      ]
    },
    {
      "cell_type": "code",
      "execution_count": 133,
      "metadata": {
        "id": "f5XWNGRdiHD3"
      },
      "outputs": [
        {
          "data": {
            "text/html": [
              "<div>\n",
              "<style scoped>\n",
              "    .dataframe tbody tr th:only-of-type {\n",
              "        vertical-align: middle;\n",
              "    }\n",
              "\n",
              "    .dataframe tbody tr th {\n",
              "        vertical-align: top;\n",
              "    }\n",
              "\n",
              "    .dataframe thead th {\n",
              "        text-align: right;\n",
              "    }\n",
              "</style>\n",
              "<table border=\"1\" class=\"dataframe\">\n",
              "  <thead>\n",
              "    <tr style=\"text-align: right;\">\n",
              "      <th></th>\n",
              "      <th>province</th>\n",
              "      <th>year</th>\n",
              "      <th>population</th>\n",
              "      <th>source</th>\n",
              "      <th>population (K)</th>\n",
              "      <th>LN population</th>\n",
              "    </tr>\n",
              "  </thead>\n",
              "  <tbody>\n",
              "    <tr>\n",
              "      <th>0</th>\n",
              "      <td>Chiang Mai</td>\n",
              "      <td>2016</td>\n",
              "      <td>1630428</td>\n",
              "      <td>A</td>\n",
              "      <td>1630.428</td>\n",
              "      <td>14.304353</td>\n",
              "    </tr>\n",
              "    <tr>\n",
              "      <th>3</th>\n",
              "      <td>Phrae</td>\n",
              "      <td>2016</td>\n",
              "      <td>398936</td>\n",
              "      <td>C</td>\n",
              "      <td>398.936</td>\n",
              "      <td>12.896556</td>\n",
              "    </tr>\n",
              "    <tr>\n",
              "      <th>1</th>\n",
              "      <td>Chiang Mai</td>\n",
              "      <td>2017</td>\n",
              "      <td>1664012</td>\n",
              "      <td>B</td>\n",
              "      <td>1664.012</td>\n",
              "      <td>14.324742</td>\n",
              "    </tr>\n",
              "    <tr>\n",
              "      <th>4</th>\n",
              "      <td>Phrae</td>\n",
              "      <td>2017</td>\n",
              "      <td>410382</td>\n",
              "      <td>A</td>\n",
              "      <td>410.382</td>\n",
              "      <td>12.924844</td>\n",
              "    </tr>\n",
              "    <tr>\n",
              "      <th>2</th>\n",
              "      <td>Chiang Mai</td>\n",
              "      <td>2018</td>\n",
              "      <td>1687971</td>\n",
              "      <td>A</td>\n",
              "      <td>1687.971</td>\n",
              "      <td>14.339038</td>\n",
              "    </tr>\n",
              "    <tr>\n",
              "      <th>5</th>\n",
              "      <td>Phrae</td>\n",
              "      <td>2018</td>\n",
              "      <td>421653</td>\n",
              "      <td>B</td>\n",
              "      <td>421.653</td>\n",
              "      <td>12.951938</td>\n",
              "    </tr>\n",
              "  </tbody>\n",
              "</table>\n",
              "</div>"
            ],
            "text/plain": [
              "     province  year  population source  population (K)  LN population\n",
              "0  Chiang Mai  2016     1630428      A        1630.428      14.304353\n",
              "3       Phrae  2016      398936      C         398.936      12.896556\n",
              "1  Chiang Mai  2017     1664012      B        1664.012      14.324742\n",
              "4       Phrae  2017      410382      A         410.382      12.924844\n",
              "2  Chiang Mai  2018     1687971      A        1687.971      14.339038\n",
              "5       Phrae  2018      421653      B         421.653      12.951938"
            ]
          },
          "execution_count": 133,
          "metadata": {},
          "output_type": "execute_result"
        }
      ],
      "source": [
        "df.sort_values(by=['year','population'], ascending=[True,False])"
      ]
    },
    {
      "cell_type": "code",
      "execution_count": 134,
      "metadata": {
        "id": "MQKUolkmfp-b"
      },
      "outputs": [],
      "source": [
        "df3=df.sort_values(by=['year','population'], ascending=[True,False])"
      ]
    },
    {
      "cell_type": "code",
      "execution_count": 135,
      "metadata": {
        "id": "LyPcfzWNecLb"
      },
      "outputs": [
        {
          "data": {
            "text/html": [
              "<div>\n",
              "<style scoped>\n",
              "    .dataframe tbody tr th:only-of-type {\n",
              "        vertical-align: middle;\n",
              "    }\n",
              "\n",
              "    .dataframe tbody tr th {\n",
              "        vertical-align: top;\n",
              "    }\n",
              "\n",
              "    .dataframe thead th {\n",
              "        text-align: right;\n",
              "    }\n",
              "</style>\n",
              "<table border=\"1\" class=\"dataframe\">\n",
              "  <thead>\n",
              "    <tr style=\"text-align: right;\">\n",
              "      <th></th>\n",
              "      <th>province</th>\n",
              "      <th>year</th>\n",
              "      <th>population</th>\n",
              "      <th>source</th>\n",
              "      <th>population (K)</th>\n",
              "      <th>LN population</th>\n",
              "    </tr>\n",
              "  </thead>\n",
              "  <tbody>\n",
              "    <tr>\n",
              "      <th>0</th>\n",
              "      <td>Chiang Mai</td>\n",
              "      <td>2016</td>\n",
              "      <td>1630428</td>\n",
              "      <td>A</td>\n",
              "      <td>1630.428</td>\n",
              "      <td>14.304353</td>\n",
              "    </tr>\n",
              "    <tr>\n",
              "      <th>3</th>\n",
              "      <td>Phrae</td>\n",
              "      <td>2016</td>\n",
              "      <td>398936</td>\n",
              "      <td>C</td>\n",
              "      <td>398.936</td>\n",
              "      <td>12.896556</td>\n",
              "    </tr>\n",
              "    <tr>\n",
              "      <th>1</th>\n",
              "      <td>Chiang Mai</td>\n",
              "      <td>2017</td>\n",
              "      <td>1664012</td>\n",
              "      <td>B</td>\n",
              "      <td>1664.012</td>\n",
              "      <td>14.324742</td>\n",
              "    </tr>\n",
              "    <tr>\n",
              "      <th>4</th>\n",
              "      <td>Phrae</td>\n",
              "      <td>2017</td>\n",
              "      <td>410382</td>\n",
              "      <td>A</td>\n",
              "      <td>410.382</td>\n",
              "      <td>12.924844</td>\n",
              "    </tr>\n",
              "    <tr>\n",
              "      <th>2</th>\n",
              "      <td>Chiang Mai</td>\n",
              "      <td>2018</td>\n",
              "      <td>1687971</td>\n",
              "      <td>A</td>\n",
              "      <td>1687.971</td>\n",
              "      <td>14.339038</td>\n",
              "    </tr>\n",
              "    <tr>\n",
              "      <th>5</th>\n",
              "      <td>Phrae</td>\n",
              "      <td>2018</td>\n",
              "      <td>421653</td>\n",
              "      <td>B</td>\n",
              "      <td>421.653</td>\n",
              "      <td>12.951938</td>\n",
              "    </tr>\n",
              "  </tbody>\n",
              "</table>\n",
              "</div>"
            ],
            "text/plain": [
              "     province  year  population source  population (K)  LN population\n",
              "0  Chiang Mai  2016     1630428      A        1630.428      14.304353\n",
              "3       Phrae  2016      398936      C         398.936      12.896556\n",
              "1  Chiang Mai  2017     1664012      B        1664.012      14.324742\n",
              "4       Phrae  2017      410382      A         410.382      12.924844\n",
              "2  Chiang Mai  2018     1687971      A        1687.971      14.339038\n",
              "5       Phrae  2018      421653      B         421.653      12.951938"
            ]
          },
          "execution_count": 135,
          "metadata": {},
          "output_type": "execute_result"
        }
      ],
      "source": [
        "df3"
      ]
    },
    {
      "cell_type": "markdown",
      "metadata": {
        "id": "zSzelOopiHD8"
      },
      "source": [
        "## Basic Statistic"
      ]
    },
    {
      "cell_type": "markdown",
      "metadata": {
        "id": "knBNF0-3iHD9"
      },
      "source": [
        "**Descriptive and summary statistics methods**\n",
        "- **count** <br> Number of non-NA values\n",
        "- **describe** <br> Compute set of summary statistics for Series or each DataFrame column\n",
        "- **min, max** <br> Compute minimum and maximum values\n",
        "- **argmin, argmax** <br> Compute index locations (integers) at which minimum or maximum value obtained, respectively\n",
        "- **idxmin, idxmax** <br> Compute index labels at which minimum or maximum value obtained, respectively\n",
        "- **quantile** <br> Compute sample quantile ranging from 0 to 1\n",
        "- **sum** <br> Sum of values\n",
        "- **mean** <br> Mean of values\n",
        "- **median** <br> Arithmetic median (50% quantile) of values\n",
        "- **mad** <br> Mean absolute deviation from mean value\n",
        "- **prod** <br> Product of all values\n",
        "- **var** <br> Sample variance of values\n",
        "- **std** <br> Sample standard deviation of values\n",
        "- **skew** <br> Sample skewness (third moment) of values\n",
        "- **kurt** <br> Sample kurtosis (fourth moment) of values\n",
        "- **cumsum** <br> Cumulative sum of values\n",
        "- **cummin, cummax** <br> Cumulative minimum or maximum of values, respectively\n",
        "- **cumprod** <br> Cumulative product of values\n",
        "- **diff** <br> Compute first arithmetic difference (useful for time series)\n",
        "- **pct_change** <br> Compute percent changes"
      ]
    },
    {
      "cell_type": "markdown",
      "metadata": {
        "id": "zwhCDqaCiHD9"
      },
      "source": [
        "### Numeric"
      ]
    },
    {
      "cell_type": "code",
      "execution_count": 136,
      "metadata": {
        "id": "kPv9DR_kiHD-"
      },
      "outputs": [
        {
          "data": {
            "text/plain": [
              "year              2.017000e+03\n",
              "population        1.035564e+06\n",
              "population (K)    1.035564e+03\n",
              "LN population     1.362358e+01\n",
              "dtype: float64"
            ]
          },
          "execution_count": 136,
          "metadata": {},
          "output_type": "execute_result"
        }
      ],
      "source": [
        "# Find Mean in all numeric columns\n",
        "df.mean(numeric_only=True)"
      ]
    },
    {
      "cell_type": "code",
      "execution_count": 137,
      "metadata": {
        "id": "LTqz-ZVBiHEB"
      },
      "outputs": [
        {
          "data": {
            "text/plain": [
              "1035563.6666666666"
            ]
          },
          "execution_count": 137,
          "metadata": {},
          "output_type": "execute_result"
        }
      ],
      "source": [
        "# Find Mean in some column\n",
        "df['population'].mean()"
      ]
    },
    {
      "cell_type": "code",
      "execution_count": 138,
      "metadata": {
        "id": "L5XKvTQdiHED"
      },
      "outputs": [
        {
          "data": {
            "text/plain": [
              "population        1.035564e+06\n",
              "population (K)    1.035564e+03\n",
              "dtype: float64"
            ]
          },
          "execution_count": 138,
          "metadata": {},
          "output_type": "execute_result"
        }
      ],
      "source": [
        "# Find Mean in some column\n",
        "column_list = ['population','population (K)']\n",
        "df[column_list].mean()"
      ]
    },
    {
      "cell_type": "code",
      "execution_count": 139,
      "metadata": {
        "id": "w9CMcQ9XiHEF",
        "scrolled": true
      },
      "outputs": [
        {
          "data": {
            "text/plain": [
              "population        6\n",
              "population (K)    6\n",
              "dtype: int64"
            ]
          },
          "execution_count": 139,
          "metadata": {},
          "output_type": "execute_result"
        }
      ],
      "source": [
        "df[column_list].count()"
      ]
    },
    {
      "cell_type": "code",
      "execution_count": 140,
      "metadata": {
        "id": "OiXX1fzjiHEH"
      },
      "outputs": [
        {
          "data": {
            "text/plain": [
              "population        398936.000\n",
              "population (K)       398.936\n",
              "dtype: float64"
            ]
          },
          "execution_count": 140,
          "metadata": {},
          "output_type": "execute_result"
        }
      ],
      "source": [
        "df[column_list].min()"
      ]
    },
    {
      "cell_type": "code",
      "execution_count": 141,
      "metadata": {
        "id": "R7Tn_yk5iHEJ"
      },
      "outputs": [
        {
          "data": {
            "text/plain": [
              "population        1687971.000\n",
              "population (K)       1687.971\n",
              "dtype: float64"
            ]
          },
          "execution_count": 141,
          "metadata": {},
          "output_type": "execute_result"
        }
      ],
      "source": [
        "df[column_list].max()"
      ]
    },
    {
      "cell_type": "code",
      "execution_count": 142,
      "metadata": {
        "id": "ArZlrWREiHEL"
      },
      "outputs": [
        {
          "data": {
            "text/plain": [
              "population        1.026040e+06\n",
              "population (K)    1.026041e+03\n",
              "dtype: float64"
            ]
          },
          "execution_count": 142,
          "metadata": {},
          "output_type": "execute_result"
        }
      ],
      "source": [
        "df[column_list].median()"
      ]
    },
    {
      "cell_type": "code",
      "execution_count": 143,
      "metadata": {
        "id": "kKpyRpEqiHEN"
      },
      "outputs": [
        {
          "data": {
            "text/plain": [
              "population        685197.697059\n",
              "population (K)       685.197697\n",
              "dtype: float64"
            ]
          },
          "execution_count": 143,
          "metadata": {},
          "output_type": "execute_result"
        }
      ],
      "source": [
        "df[column_list].std()"
      ]
    },
    {
      "cell_type": "code",
      "execution_count": 144,
      "metadata": {
        "id": "77ve9W-ViHEP",
        "scrolled": true
      },
      "outputs": [
        {
          "data": {
            "text/html": [
              "<div>\n",
              "<style scoped>\n",
              "    .dataframe tbody tr th:only-of-type {\n",
              "        vertical-align: middle;\n",
              "    }\n",
              "\n",
              "    .dataframe tbody tr th {\n",
              "        vertical-align: top;\n",
              "    }\n",
              "\n",
              "    .dataframe thead th {\n",
              "        text-align: right;\n",
              "    }\n",
              "</style>\n",
              "<table border=\"1\" class=\"dataframe\">\n",
              "  <thead>\n",
              "    <tr style=\"text-align: right;\">\n",
              "      <th></th>\n",
              "      <th>population</th>\n",
              "      <th>population (K)</th>\n",
              "    </tr>\n",
              "  </thead>\n",
              "  <tbody>\n",
              "    <tr>\n",
              "      <th>population</th>\n",
              "      <td>1.0</td>\n",
              "      <td>1.0</td>\n",
              "    </tr>\n",
              "    <tr>\n",
              "      <th>population (K)</th>\n",
              "      <td>1.0</td>\n",
              "      <td>1.0</td>\n",
              "    </tr>\n",
              "  </tbody>\n",
              "</table>\n",
              "</div>"
            ],
            "text/plain": [
              "                population  population (K)\n",
              "population             1.0             1.0\n",
              "population (K)         1.0             1.0"
            ]
          },
          "execution_count": 144,
          "metadata": {},
          "output_type": "execute_result"
        }
      ],
      "source": [
        "df[column_list].corr()"
      ]
    },
    {
      "cell_type": "code",
      "execution_count": 145,
      "metadata": {
        "id": "yqc6a_dPiHER"
      },
      "outputs": [
        {
          "data": {
            "text/plain": [
              "year              2.017750e+03\n",
              "population        1.655616e+06\n",
              "population (K)    1.655616e+03\n",
              "LN population     1.431964e+01\n",
              "Name: 0.75, dtype: float64"
            ]
          },
          "execution_count": 145,
          "metadata": {},
          "output_type": "execute_result"
        }
      ],
      "source": [
        "df.quantile(0.75,numeric_only=True)"
      ]
    },
    {
      "cell_type": "markdown",
      "metadata": {
        "id": "F40RKnBDiHET"
      },
      "source": [
        "### Object"
      ]
    },
    {
      "cell_type": "code",
      "execution_count": 146,
      "metadata": {
        "id": "_tUoYUU0iHET"
      },
      "outputs": [
        {
          "data": {
            "text/plain": [
              "array(['Chiang Mai', 'Phrae'], dtype=object)"
            ]
          },
          "execution_count": 146,
          "metadata": {},
          "output_type": "execute_result"
        }
      ],
      "source": [
        "df['province'].unique()"
      ]
    },
    {
      "cell_type": "code",
      "execution_count": 147,
      "metadata": {
        "id": "oWtCbSnWiHEZ"
      },
      "outputs": [
        {
          "data": {
            "text/plain": [
              "2"
            ]
          },
          "execution_count": 147,
          "metadata": {},
          "output_type": "execute_result"
        }
      ],
      "source": [
        "df['province'].nunique()"
      ]
    },
    {
      "cell_type": "code",
      "execution_count": 148,
      "metadata": {
        "id": "wqJBODsuiHEb"
      },
      "outputs": [
        {
          "data": {
            "text/plain": [
              "Chiang Mai    3\n",
              "Phrae         3\n",
              "Name: province, dtype: int64"
            ]
          },
          "execution_count": 148,
          "metadata": {},
          "output_type": "execute_result"
        }
      ],
      "source": [
        "df['province'].value_counts()"
      ]
    },
    {
      "cell_type": "markdown",
      "metadata": {
        "id": "Ya1bCt1EiHEd"
      },
      "source": [
        "### Describe"
      ]
    },
    {
      "cell_type": "code",
      "execution_count": 149,
      "metadata": {
        "id": "rS0QXtmPiHEd"
      },
      "outputs": [
        {
          "data": {
            "text/html": [
              "<div>\n",
              "<style scoped>\n",
              "    .dataframe tbody tr th:only-of-type {\n",
              "        vertical-align: middle;\n",
              "    }\n",
              "\n",
              "    .dataframe tbody tr th {\n",
              "        vertical-align: top;\n",
              "    }\n",
              "\n",
              "    .dataframe thead th {\n",
              "        text-align: right;\n",
              "    }\n",
              "</style>\n",
              "<table border=\"1\" class=\"dataframe\">\n",
              "  <thead>\n",
              "    <tr style=\"text-align: right;\">\n",
              "      <th></th>\n",
              "      <th>year</th>\n",
              "      <th>population</th>\n",
              "    </tr>\n",
              "  </thead>\n",
              "  <tbody>\n",
              "    <tr>\n",
              "      <th>count</th>\n",
              "      <td>6.000000</td>\n",
              "      <td>6.000000e+00</td>\n",
              "    </tr>\n",
              "    <tr>\n",
              "      <th>mean</th>\n",
              "      <td>2017.000000</td>\n",
              "      <td>1.035564e+06</td>\n",
              "    </tr>\n",
              "    <tr>\n",
              "      <th>std</th>\n",
              "      <td>0.894427</td>\n",
              "      <td>6.851977e+05</td>\n",
              "    </tr>\n",
              "    <tr>\n",
              "      <th>min</th>\n",
              "      <td>2016.000000</td>\n",
              "      <td>3.989360e+05</td>\n",
              "    </tr>\n",
              "    <tr>\n",
              "      <th>25%</th>\n",
              "      <td>2016.250000</td>\n",
              "      <td>4.131998e+05</td>\n",
              "    </tr>\n",
              "    <tr>\n",
              "      <th>50%</th>\n",
              "      <td>2017.000000</td>\n",
              "      <td>1.026040e+06</td>\n",
              "    </tr>\n",
              "    <tr>\n",
              "      <th>75%</th>\n",
              "      <td>2017.750000</td>\n",
              "      <td>1.655616e+06</td>\n",
              "    </tr>\n",
              "    <tr>\n",
              "      <th>max</th>\n",
              "      <td>2018.000000</td>\n",
              "      <td>1.687971e+06</td>\n",
              "    </tr>\n",
              "  </tbody>\n",
              "</table>\n",
              "</div>"
            ],
            "text/plain": [
              "              year    population\n",
              "count     6.000000  6.000000e+00\n",
              "mean   2017.000000  1.035564e+06\n",
              "std       0.894427  6.851977e+05\n",
              "min    2016.000000  3.989360e+05\n",
              "25%    2016.250000  4.131998e+05\n",
              "50%    2017.000000  1.026040e+06\n",
              "75%    2017.750000  1.655616e+06\n",
              "max    2018.000000  1.687971e+06"
            ]
          },
          "execution_count": 149,
          "metadata": {},
          "output_type": "execute_result"
        }
      ],
      "source": [
        "#Numeric\n",
        "df[columns_list].describe()"
      ]
    },
    {
      "cell_type": "code",
      "execution_count": 150,
      "metadata": {
        "id": "-J4NYD10iHEf"
      },
      "outputs": [
        {
          "data": {
            "text/html": [
              "<div>\n",
              "<style scoped>\n",
              "    .dataframe tbody tr th:only-of-type {\n",
              "        vertical-align: middle;\n",
              "    }\n",
              "\n",
              "    .dataframe tbody tr th {\n",
              "        vertical-align: top;\n",
              "    }\n",
              "\n",
              "    .dataframe thead th {\n",
              "        text-align: right;\n",
              "    }\n",
              "</style>\n",
              "<table border=\"1\" class=\"dataframe\">\n",
              "  <thead>\n",
              "    <tr style=\"text-align: right;\">\n",
              "      <th></th>\n",
              "      <th>province</th>\n",
              "      <th>source</th>\n",
              "    </tr>\n",
              "  </thead>\n",
              "  <tbody>\n",
              "    <tr>\n",
              "      <th>count</th>\n",
              "      <td>6</td>\n",
              "      <td>6</td>\n",
              "    </tr>\n",
              "    <tr>\n",
              "      <th>unique</th>\n",
              "      <td>2</td>\n",
              "      <td>3</td>\n",
              "    </tr>\n",
              "    <tr>\n",
              "      <th>top</th>\n",
              "      <td>Chiang Mai</td>\n",
              "      <td>A</td>\n",
              "    </tr>\n",
              "    <tr>\n",
              "      <th>freq</th>\n",
              "      <td>3</td>\n",
              "      <td>3</td>\n",
              "    </tr>\n",
              "  </tbody>\n",
              "</table>\n",
              "</div>"
            ],
            "text/plain": [
              "          province source\n",
              "count            6      6\n",
              "unique           2      3\n",
              "top     Chiang Mai      A\n",
              "freq             3      3"
            ]
          },
          "execution_count": 150,
          "metadata": {},
          "output_type": "execute_result"
        }
      ],
      "source": [
        "#Category\n",
        "df.describe(include=object)"
      ]
    },
    {
      "cell_type": "code",
      "execution_count": 151,
      "metadata": {
        "id": "ig5o2ZuyiHEh"
      },
      "outputs": [
        {
          "data": {
            "text/html": [
              "<div>\n",
              "<style scoped>\n",
              "    .dataframe tbody tr th:only-of-type {\n",
              "        vertical-align: middle;\n",
              "    }\n",
              "\n",
              "    .dataframe tbody tr th {\n",
              "        vertical-align: top;\n",
              "    }\n",
              "\n",
              "    .dataframe thead th {\n",
              "        text-align: right;\n",
              "    }\n",
              "</style>\n",
              "<table border=\"1\" class=\"dataframe\">\n",
              "  <thead>\n",
              "    <tr style=\"text-align: right;\">\n",
              "      <th></th>\n",
              "      <th>province</th>\n",
              "      <th>year</th>\n",
              "      <th>population</th>\n",
              "      <th>source</th>\n",
              "      <th>population (K)</th>\n",
              "      <th>LN population</th>\n",
              "    </tr>\n",
              "  </thead>\n",
              "  <tbody>\n",
              "    <tr>\n",
              "      <th>count</th>\n",
              "      <td>6</td>\n",
              "      <td>6.000000</td>\n",
              "      <td>6.000000e+00</td>\n",
              "      <td>6</td>\n",
              "      <td>6.000000</td>\n",
              "      <td>6.000000</td>\n",
              "    </tr>\n",
              "    <tr>\n",
              "      <th>unique</th>\n",
              "      <td>2</td>\n",
              "      <td>NaN</td>\n",
              "      <td>NaN</td>\n",
              "      <td>3</td>\n",
              "      <td>NaN</td>\n",
              "      <td>NaN</td>\n",
              "    </tr>\n",
              "    <tr>\n",
              "      <th>top</th>\n",
              "      <td>Chiang Mai</td>\n",
              "      <td>NaN</td>\n",
              "      <td>NaN</td>\n",
              "      <td>A</td>\n",
              "      <td>NaN</td>\n",
              "      <td>NaN</td>\n",
              "    </tr>\n",
              "    <tr>\n",
              "      <th>freq</th>\n",
              "      <td>3</td>\n",
              "      <td>NaN</td>\n",
              "      <td>NaN</td>\n",
              "      <td>3</td>\n",
              "      <td>NaN</td>\n",
              "      <td>NaN</td>\n",
              "    </tr>\n",
              "    <tr>\n",
              "      <th>mean</th>\n",
              "      <td>NaN</td>\n",
              "      <td>2017.000000</td>\n",
              "      <td>1.035564e+06</td>\n",
              "      <td>NaN</td>\n",
              "      <td>1035.563667</td>\n",
              "      <td>13.623578</td>\n",
              "    </tr>\n",
              "    <tr>\n",
              "      <th>std</th>\n",
              "      <td>NaN</td>\n",
              "      <td>0.894427</td>\n",
              "      <td>6.851977e+05</td>\n",
              "      <td>NaN</td>\n",
              "      <td>685.197697</td>\n",
              "      <td>0.766141</td>\n",
              "    </tr>\n",
              "    <tr>\n",
              "      <th>min</th>\n",
              "      <td>NaN</td>\n",
              "      <td>2016.000000</td>\n",
              "      <td>3.989360e+05</td>\n",
              "      <td>NaN</td>\n",
              "      <td>398.936000</td>\n",
              "      <td>12.896556</td>\n",
              "    </tr>\n",
              "    <tr>\n",
              "      <th>25%</th>\n",
              "      <td>NaN</td>\n",
              "      <td>2016.250000</td>\n",
              "      <td>4.131998e+05</td>\n",
              "      <td>NaN</td>\n",
              "      <td>413.199750</td>\n",
              "      <td>12.931617</td>\n",
              "    </tr>\n",
              "    <tr>\n",
              "      <th>50%</th>\n",
              "      <td>NaN</td>\n",
              "      <td>2017.000000</td>\n",
              "      <td>1.026040e+06</td>\n",
              "      <td>NaN</td>\n",
              "      <td>1026.040500</td>\n",
              "      <td>13.628146</td>\n",
              "    </tr>\n",
              "    <tr>\n",
              "      <th>75%</th>\n",
              "      <td>NaN</td>\n",
              "      <td>2017.750000</td>\n",
              "      <td>1.655616e+06</td>\n",
              "      <td>NaN</td>\n",
              "      <td>1655.616000</td>\n",
              "      <td>14.319645</td>\n",
              "    </tr>\n",
              "    <tr>\n",
              "      <th>max</th>\n",
              "      <td>NaN</td>\n",
              "      <td>2018.000000</td>\n",
              "      <td>1.687971e+06</td>\n",
              "      <td>NaN</td>\n",
              "      <td>1687.971000</td>\n",
              "      <td>14.339038</td>\n",
              "    </tr>\n",
              "  </tbody>\n",
              "</table>\n",
              "</div>"
            ],
            "text/plain": [
              "          province         year    population source  population (K)  \\\n",
              "count            6     6.000000  6.000000e+00      6        6.000000   \n",
              "unique           2          NaN           NaN      3             NaN   \n",
              "top     Chiang Mai          NaN           NaN      A             NaN   \n",
              "freq             3          NaN           NaN      3             NaN   \n",
              "mean           NaN  2017.000000  1.035564e+06    NaN     1035.563667   \n",
              "std            NaN     0.894427  6.851977e+05    NaN      685.197697   \n",
              "min            NaN  2016.000000  3.989360e+05    NaN      398.936000   \n",
              "25%            NaN  2016.250000  4.131998e+05    NaN      413.199750   \n",
              "50%            NaN  2017.000000  1.026040e+06    NaN     1026.040500   \n",
              "75%            NaN  2017.750000  1.655616e+06    NaN     1655.616000   \n",
              "max            NaN  2018.000000  1.687971e+06    NaN     1687.971000   \n",
              "\n",
              "        LN population  \n",
              "count        6.000000  \n",
              "unique            NaN  \n",
              "top               NaN  \n",
              "freq              NaN  \n",
              "mean        13.623578  \n",
              "std          0.766141  \n",
              "min         12.896556  \n",
              "25%         12.931617  \n",
              "50%         13.628146  \n",
              "75%         14.319645  \n",
              "max         14.339038  "
            ]
          },
          "execution_count": 151,
          "metadata": {},
          "output_type": "execute_result"
        }
      ],
      "source": [
        "df.describe(include='all')"
      ]
    },
    {
      "cell_type": "markdown",
      "metadata": {
        "id": "XBidf1LaiHEj"
      },
      "source": [
        "## Grouping"
      ]
    },
    {
      "cell_type": "markdown",
      "metadata": {
        "id": "l8Vc_DmZiHEk"
      },
      "source": [
        "### Group by"
      ]
    },
    {
      "cell_type": "markdown",
      "metadata": {
        "id": "gfhBzYOFiHEl"
      },
      "source": [
        "**Optimized groupby methods**\n",
        "- **count** <BR> Number of non-NA values in the group\n",
        "- **sum** <BR> Sum of non-NA values\n",
        "- **mean** <BR> Mean of non-NA values\n",
        "- **median** <BR> Arithmetic median of non-NA values\n",
        "- **std, var** <BR> Unbiased (n – 1 denominator) standard deviation and variance\n",
        "- **min, max** <BR> Minimum and maximum of non-NA values\n",
        "- **prod** <BR> Product of non-NA values\n",
        "- **first, last** <BR> First and last non-NA values"
      ]
    },
    {
      "cell_type": "code",
      "execution_count": 152,
      "metadata": {
        "id": "L1SsV3dCiHEl"
      },
      "outputs": [
        {
          "data": {
            "text/plain": [
              "province\n",
              "Chiang Mai    1.660804e+06\n",
              "Phrae         4.103237e+05\n",
              "Name: population, dtype: float64"
            ]
          },
          "execution_count": 152,
          "metadata": {},
          "output_type": "execute_result"
        }
      ],
      "source": [
        "# select avg(population) from df group by province\n",
        "df.groupby('province')['population'].mean()"
      ]
    },
    {
      "cell_type": "code",
      "execution_count": 153,
      "metadata": {
        "id": "gA9T8q2YiHEo"
      },
      "outputs": [
        {
          "data": {
            "text/html": [
              "<div>\n",
              "<style scoped>\n",
              "    .dataframe tbody tr th:only-of-type {\n",
              "        vertical-align: middle;\n",
              "    }\n",
              "\n",
              "    .dataframe tbody tr th {\n",
              "        vertical-align: top;\n",
              "    }\n",
              "\n",
              "    .dataframe thead th {\n",
              "        text-align: right;\n",
              "    }\n",
              "</style>\n",
              "<table border=\"1\" class=\"dataframe\">\n",
              "  <thead>\n",
              "    <tr style=\"text-align: right;\">\n",
              "      <th></th>\n",
              "      <th>province</th>\n",
              "      <th>avg_pop</th>\n",
              "    </tr>\n",
              "  </thead>\n",
              "  <tbody>\n",
              "    <tr>\n",
              "      <th>0</th>\n",
              "      <td>Chiang Mai</td>\n",
              "      <td>1.660804e+06</td>\n",
              "    </tr>\n",
              "    <tr>\n",
              "      <th>1</th>\n",
              "      <td>Phrae</td>\n",
              "      <td>4.103237e+05</td>\n",
              "    </tr>\n",
              "  </tbody>\n",
              "</table>\n",
              "</div>"
            ],
            "text/plain": [
              "     province       avg_pop\n",
              "0  Chiang Mai  1.660804e+06\n",
              "1       Phrae  4.103237e+05"
            ]
          },
          "execution_count": 153,
          "metadata": {},
          "output_type": "execute_result"
        }
      ],
      "source": [
        "# Convert to DataFrame\n",
        "df.groupby('province')['population'].mean().reset_index(name='avg_pop')"
      ]
    },
    {
      "cell_type": "markdown",
      "metadata": {
        "id": "W2OVp62iiHEp"
      },
      "source": [
        "#### Multiple group by"
      ]
    },
    {
      "cell_type": "code",
      "execution_count": 154,
      "metadata": {
        "id": "VS5hNA2NiHEq",
        "scrolled": true
      },
      "outputs": [
        {
          "data": {
            "text/html": [
              "<div>\n",
              "<style scoped>\n",
              "    .dataframe tbody tr th:only-of-type {\n",
              "        vertical-align: middle;\n",
              "    }\n",
              "\n",
              "    .dataframe tbody tr th {\n",
              "        vertical-align: top;\n",
              "    }\n",
              "\n",
              "    .dataframe thead th {\n",
              "        text-align: right;\n",
              "    }\n",
              "</style>\n",
              "<table border=\"1\" class=\"dataframe\">\n",
              "  <thead>\n",
              "    <tr style=\"text-align: right;\">\n",
              "      <th></th>\n",
              "      <th>population</th>\n",
              "    </tr>\n",
              "    <tr>\n",
              "      <th>province</th>\n",
              "      <th></th>\n",
              "    </tr>\n",
              "  </thead>\n",
              "  <tbody>\n",
              "    <tr>\n",
              "      <th>Chiang Mai</th>\n",
              "      <td>1.660804e+06</td>\n",
              "    </tr>\n",
              "    <tr>\n",
              "      <th>Phrae</th>\n",
              "      <td>4.103237e+05</td>\n",
              "    </tr>\n",
              "  </tbody>\n",
              "</table>\n",
              "</div>"
            ],
            "text/plain": [
              "              population\n",
              "province                \n",
              "Chiang Mai  1.660804e+06\n",
              "Phrae       4.103237e+05"
            ]
          },
          "execution_count": 154,
          "metadata": {},
          "output_type": "execute_result"
        }
      ],
      "source": [
        "mapper = {\n",
        "    'population' : 'mean'\n",
        "}\n",
        "\n",
        "df.groupby('province').agg(mapper)"
      ]
    },
    {
      "cell_type": "code",
      "execution_count": 155,
      "metadata": {
        "id": "W70JIaSOiHEs"
      },
      "outputs": [
        {
          "data": {
            "text/html": [
              "<div>\n",
              "<style scoped>\n",
              "    .dataframe tbody tr th:only-of-type {\n",
              "        vertical-align: middle;\n",
              "    }\n",
              "\n",
              "    .dataframe tbody tr th {\n",
              "        vertical-align: top;\n",
              "    }\n",
              "\n",
              "    .dataframe thead tr th {\n",
              "        text-align: left;\n",
              "    }\n",
              "\n",
              "    .dataframe thead tr:last-of-type th {\n",
              "        text-align: right;\n",
              "    }\n",
              "</style>\n",
              "<table border=\"1\" class=\"dataframe\">\n",
              "  <thead>\n",
              "    <tr>\n",
              "      <th></th>\n",
              "      <th colspan=\"3\" halign=\"left\">population</th>\n",
              "    </tr>\n",
              "    <tr>\n",
              "      <th></th>\n",
              "      <th>min</th>\n",
              "      <th>max</th>\n",
              "      <th>mean</th>\n",
              "    </tr>\n",
              "    <tr>\n",
              "      <th>province</th>\n",
              "      <th></th>\n",
              "      <th></th>\n",
              "      <th></th>\n",
              "    </tr>\n",
              "  </thead>\n",
              "  <tbody>\n",
              "    <tr>\n",
              "      <th>Chiang Mai</th>\n",
              "      <td>1630428</td>\n",
              "      <td>1687971</td>\n",
              "      <td>1.660804e+06</td>\n",
              "    </tr>\n",
              "    <tr>\n",
              "      <th>Phrae</th>\n",
              "      <td>398936</td>\n",
              "      <td>421653</td>\n",
              "      <td>4.103237e+05</td>\n",
              "    </tr>\n",
              "  </tbody>\n",
              "</table>\n",
              "</div>"
            ],
            "text/plain": [
              "           population                       \n",
              "                  min      max          mean\n",
              "province                                    \n",
              "Chiang Mai    1630428  1687971  1.660804e+06\n",
              "Phrae          398936   421653  4.103237e+05"
            ]
          },
          "execution_count": 155,
          "metadata": {},
          "output_type": "execute_result"
        }
      ],
      "source": [
        "mapper = {\n",
        "    'population' : ['min','max','mean']\n",
        "}\n",
        "\n",
        "df.groupby('province').agg(mapper)"
      ]
    },
    {
      "cell_type": "code",
      "execution_count": 156,
      "metadata": {
        "id": "1rsyVY7xiHEu"
      },
      "outputs": [
        {
          "data": {
            "text/html": [
              "<div>\n",
              "<style scoped>\n",
              "    .dataframe tbody tr th:only-of-type {\n",
              "        vertical-align: middle;\n",
              "    }\n",
              "\n",
              "    .dataframe tbody tr th {\n",
              "        vertical-align: top;\n",
              "    }\n",
              "\n",
              "    .dataframe thead tr th {\n",
              "        text-align: left;\n",
              "    }\n",
              "\n",
              "    .dataframe thead tr:last-of-type th {\n",
              "        text-align: right;\n",
              "    }\n",
              "</style>\n",
              "<table border=\"1\" class=\"dataframe\">\n",
              "  <thead>\n",
              "    <tr>\n",
              "      <th></th>\n",
              "      <th colspan=\"3\" halign=\"left\">population</th>\n",
              "      <th>source</th>\n",
              "    </tr>\n",
              "    <tr>\n",
              "      <th></th>\n",
              "      <th>min</th>\n",
              "      <th>max</th>\n",
              "      <th>mean</th>\n",
              "      <th>nunique</th>\n",
              "    </tr>\n",
              "    <tr>\n",
              "      <th>province</th>\n",
              "      <th></th>\n",
              "      <th></th>\n",
              "      <th></th>\n",
              "      <th></th>\n",
              "    </tr>\n",
              "  </thead>\n",
              "  <tbody>\n",
              "    <tr>\n",
              "      <th>Chiang Mai</th>\n",
              "      <td>1630428</td>\n",
              "      <td>1687971</td>\n",
              "      <td>1.660804e+06</td>\n",
              "      <td>2</td>\n",
              "    </tr>\n",
              "    <tr>\n",
              "      <th>Phrae</th>\n",
              "      <td>398936</td>\n",
              "      <td>421653</td>\n",
              "      <td>4.103237e+05</td>\n",
              "      <td>3</td>\n",
              "    </tr>\n",
              "  </tbody>\n",
              "</table>\n",
              "</div>"
            ],
            "text/plain": [
              "           population                         source\n",
              "                  min      max          mean nunique\n",
              "province                                            \n",
              "Chiang Mai    1630428  1687971  1.660804e+06       2\n",
              "Phrae          398936   421653  4.103237e+05       3"
            ]
          },
          "execution_count": 156,
          "metadata": {},
          "output_type": "execute_result"
        }
      ],
      "source": [
        "mapper = {\n",
        "    'population' : ['min','max','mean'],\n",
        "    'source' : 'nunique'\n",
        "}\n",
        "\n",
        "df.groupby('province').agg(mapper)"
      ]
    },
    {
      "cell_type": "markdown",
      "metadata": {
        "id": "sEyLe4L6iHEz"
      },
      "source": [
        "### Group by window"
      ]
    },
    {
      "cell_type": "code",
      "execution_count": 157,
      "metadata": {
        "id": "s752yhQ8iHEz"
      },
      "outputs": [
        {
          "data": {
            "text/plain": [
              "0          NaN\n",
              "1    3294440.0\n",
              "2    3351983.0\n",
              "3    2086907.0\n",
              "4     809318.0\n",
              "5     832035.0\n",
              "Name: population, dtype: float64"
            ]
          },
          "execution_count": 157,
          "metadata": {},
          "output_type": "execute_result"
        }
      ],
      "source": [
        "df['population'].rolling(2).sum()"
      ]
    },
    {
      "cell_type": "code",
      "execution_count": 158,
      "metadata": {
        "id": "UOP-8TnkiHE1"
      },
      "outputs": [
        {
          "data": {
            "text/plain": [
              "0    1630428.0\n",
              "1    3294440.0\n",
              "2    3351983.0\n",
              "3    2086907.0\n",
              "4     809318.0\n",
              "5     832035.0\n",
              "Name: population, dtype: float64"
            ]
          },
          "execution_count": 158,
          "metadata": {},
          "output_type": "execute_result"
        }
      ],
      "source": [
        "df['population'].rolling(2, min_periods=1).sum()"
      ]
    },
    {
      "cell_type": "code",
      "execution_count": 159,
      "metadata": {
        "id": "JJpUKgBoiHE2"
      },
      "outputs": [
        {
          "data": {
            "text/html": [
              "<div>\n",
              "<style scoped>\n",
              "    .dataframe tbody tr th:only-of-type {\n",
              "        vertical-align: middle;\n",
              "    }\n",
              "\n",
              "    .dataframe tbody tr th {\n",
              "        vertical-align: top;\n",
              "    }\n",
              "\n",
              "    .dataframe thead th {\n",
              "        text-align: right;\n",
              "    }\n",
              "</style>\n",
              "<table border=\"1\" class=\"dataframe\">\n",
              "  <thead>\n",
              "    <tr style=\"text-align: right;\">\n",
              "      <th></th>\n",
              "      <th>province</th>\n",
              "      <th>level_1</th>\n",
              "      <th>avg_pop_last2year</th>\n",
              "    </tr>\n",
              "  </thead>\n",
              "  <tbody>\n",
              "    <tr>\n",
              "      <th>0</th>\n",
              "      <td>Chiang Mai</td>\n",
              "      <td>0</td>\n",
              "      <td>1630428.0</td>\n",
              "    </tr>\n",
              "    <tr>\n",
              "      <th>1</th>\n",
              "      <td>Chiang Mai</td>\n",
              "      <td>1</td>\n",
              "      <td>3294440.0</td>\n",
              "    </tr>\n",
              "    <tr>\n",
              "      <th>2</th>\n",
              "      <td>Chiang Mai</td>\n",
              "      <td>2</td>\n",
              "      <td>3351983.0</td>\n",
              "    </tr>\n",
              "    <tr>\n",
              "      <th>3</th>\n",
              "      <td>Phrae</td>\n",
              "      <td>3</td>\n",
              "      <td>398936.0</td>\n",
              "    </tr>\n",
              "    <tr>\n",
              "      <th>4</th>\n",
              "      <td>Phrae</td>\n",
              "      <td>4</td>\n",
              "      <td>809318.0</td>\n",
              "    </tr>\n",
              "    <tr>\n",
              "      <th>5</th>\n",
              "      <td>Phrae</td>\n",
              "      <td>5</td>\n",
              "      <td>832035.0</td>\n",
              "    </tr>\n",
              "  </tbody>\n",
              "</table>\n",
              "</div>"
            ],
            "text/plain": [
              "     province  level_1  avg_pop_last2year\n",
              "0  Chiang Mai        0          1630428.0\n",
              "1  Chiang Mai        1          3294440.0\n",
              "2  Chiang Mai        2          3351983.0\n",
              "3       Phrae        3           398936.0\n",
              "4       Phrae        4           809318.0\n",
              "5       Phrae        5           832035.0"
            ]
          },
          "execution_count": 159,
          "metadata": {},
          "output_type": "execute_result"
        }
      ],
      "source": [
        "df.groupby('province')['population'].rolling(2, min_periods=1).sum().reset_index(name='avg_pop_last2year')"
      ]
    },
    {
      "cell_type": "markdown",
      "metadata": {
        "id": "sBYVDkldiHE4"
      },
      "source": [
        "## Pivot"
      ]
    },
    {
      "cell_type": "markdown",
      "metadata": {
        "id": "HxF17UPiiHE4"
      },
      "source": [
        "### Pivot"
      ]
    },
    {
      "cell_type": "code",
      "execution_count": 160,
      "metadata": {
        "id": "zdIoYouhiHE5"
      },
      "outputs": [
        {
          "data": {
            "text/html": [
              "<div>\n",
              "<style scoped>\n",
              "    .dataframe tbody tr th:only-of-type {\n",
              "        vertical-align: middle;\n",
              "    }\n",
              "\n",
              "    .dataframe tbody tr th {\n",
              "        vertical-align: top;\n",
              "    }\n",
              "\n",
              "    .dataframe thead th {\n",
              "        text-align: right;\n",
              "    }\n",
              "</style>\n",
              "<table border=\"1\" class=\"dataframe\">\n",
              "  <thead>\n",
              "    <tr style=\"text-align: right;\">\n",
              "      <th></th>\n",
              "      <th>province</th>\n",
              "      <th>year</th>\n",
              "      <th>population</th>\n",
              "      <th>source</th>\n",
              "      <th>population (K)</th>\n",
              "      <th>LN population</th>\n",
              "    </tr>\n",
              "  </thead>\n",
              "  <tbody>\n",
              "    <tr>\n",
              "      <th>0</th>\n",
              "      <td>Chiang Mai</td>\n",
              "      <td>2016</td>\n",
              "      <td>1630428</td>\n",
              "      <td>A</td>\n",
              "      <td>1630.428</td>\n",
              "      <td>14.304353</td>\n",
              "    </tr>\n",
              "    <tr>\n",
              "      <th>1</th>\n",
              "      <td>Chiang Mai</td>\n",
              "      <td>2017</td>\n",
              "      <td>1664012</td>\n",
              "      <td>B</td>\n",
              "      <td>1664.012</td>\n",
              "      <td>14.324742</td>\n",
              "    </tr>\n",
              "    <tr>\n",
              "      <th>2</th>\n",
              "      <td>Chiang Mai</td>\n",
              "      <td>2018</td>\n",
              "      <td>1687971</td>\n",
              "      <td>A</td>\n",
              "      <td>1687.971</td>\n",
              "      <td>14.339038</td>\n",
              "    </tr>\n",
              "    <tr>\n",
              "      <th>3</th>\n",
              "      <td>Phrae</td>\n",
              "      <td>2016</td>\n",
              "      <td>398936</td>\n",
              "      <td>C</td>\n",
              "      <td>398.936</td>\n",
              "      <td>12.896556</td>\n",
              "    </tr>\n",
              "    <tr>\n",
              "      <th>4</th>\n",
              "      <td>Phrae</td>\n",
              "      <td>2017</td>\n",
              "      <td>410382</td>\n",
              "      <td>A</td>\n",
              "      <td>410.382</td>\n",
              "      <td>12.924844</td>\n",
              "    </tr>\n",
              "    <tr>\n",
              "      <th>5</th>\n",
              "      <td>Phrae</td>\n",
              "      <td>2018</td>\n",
              "      <td>421653</td>\n",
              "      <td>B</td>\n",
              "      <td>421.653</td>\n",
              "      <td>12.951938</td>\n",
              "    </tr>\n",
              "  </tbody>\n",
              "</table>\n",
              "</div>"
            ],
            "text/plain": [
              "     province  year  population source  population (K)  LN population\n",
              "0  Chiang Mai  2016     1630428      A        1630.428      14.304353\n",
              "1  Chiang Mai  2017     1664012      B        1664.012      14.324742\n",
              "2  Chiang Mai  2018     1687971      A        1687.971      14.339038\n",
              "3       Phrae  2016      398936      C         398.936      12.896556\n",
              "4       Phrae  2017      410382      A         410.382      12.924844\n",
              "5       Phrae  2018      421653      B         421.653      12.951938"
            ]
          },
          "execution_count": 160,
          "metadata": {},
          "output_type": "execute_result"
        }
      ],
      "source": [
        "df"
      ]
    },
    {
      "cell_type": "code",
      "execution_count": 161,
      "metadata": {
        "id": "zbupH-uviHE7",
        "scrolled": true
      },
      "outputs": [
        {
          "data": {
            "text/html": [
              "<div>\n",
              "<style scoped>\n",
              "    .dataframe tbody tr th:only-of-type {\n",
              "        vertical-align: middle;\n",
              "    }\n",
              "\n",
              "    .dataframe tbody tr th {\n",
              "        vertical-align: top;\n",
              "    }\n",
              "\n",
              "    .dataframe thead tr th {\n",
              "        text-align: left;\n",
              "    }\n",
              "\n",
              "    .dataframe thead tr:last-of-type th {\n",
              "        text-align: right;\n",
              "    }\n",
              "</style>\n",
              "<table border=\"1\" class=\"dataframe\">\n",
              "  <thead>\n",
              "    <tr>\n",
              "      <th></th>\n",
              "      <th colspan=\"3\" halign=\"left\">population</th>\n",
              "    </tr>\n",
              "    <tr>\n",
              "      <th>year</th>\n",
              "      <th>2016</th>\n",
              "      <th>2017</th>\n",
              "      <th>2018</th>\n",
              "    </tr>\n",
              "    <tr>\n",
              "      <th>province</th>\n",
              "      <th></th>\n",
              "      <th></th>\n",
              "      <th></th>\n",
              "    </tr>\n",
              "  </thead>\n",
              "  <tbody>\n",
              "    <tr>\n",
              "      <th>Chiang Mai</th>\n",
              "      <td>1630428</td>\n",
              "      <td>1664012</td>\n",
              "      <td>1687971</td>\n",
              "    </tr>\n",
              "    <tr>\n",
              "      <th>Phrae</th>\n",
              "      <td>398936</td>\n",
              "      <td>410382</td>\n",
              "      <td>421653</td>\n",
              "    </tr>\n",
              "  </tbody>\n",
              "</table>\n",
              "</div>"
            ],
            "text/plain": [
              "           population                  \n",
              "year             2016     2017     2018\n",
              "province                               \n",
              "Chiang Mai    1630428  1664012  1687971\n",
              "Phrae          398936   410382   421653"
            ]
          },
          "execution_count": 161,
          "metadata": {},
          "output_type": "execute_result"
        }
      ],
      "source": [
        "pivot = df.pivot_table(index=['province'], columns=['year'], values=['population'])\n",
        "pivot"
      ]
    },
    {
      "cell_type": "code",
      "execution_count": 162,
      "metadata": {
        "id": "Kcp4YZi2iHE9"
      },
      "outputs": [
        {
          "data": {
            "text/html": [
              "<div>\n",
              "<style scoped>\n",
              "    .dataframe tbody tr th:only-of-type {\n",
              "        vertical-align: middle;\n",
              "    }\n",
              "\n",
              "    .dataframe tbody tr th {\n",
              "        vertical-align: top;\n",
              "    }\n",
              "\n",
              "    .dataframe thead th {\n",
              "        text-align: right;\n",
              "    }\n",
              "</style>\n",
              "<table border=\"1\" class=\"dataframe\">\n",
              "  <thead>\n",
              "    <tr style=\"text-align: right;\">\n",
              "      <th></th>\n",
              "      <th>province</th>\n",
              "      <th>2016</th>\n",
              "      <th>2017</th>\n",
              "      <th>2018</th>\n",
              "    </tr>\n",
              "  </thead>\n",
              "  <tbody>\n",
              "    <tr>\n",
              "      <th>0</th>\n",
              "      <td>Chiang Mai</td>\n",
              "      <td>1630428</td>\n",
              "      <td>1664012</td>\n",
              "      <td>1687971</td>\n",
              "    </tr>\n",
              "    <tr>\n",
              "      <th>1</th>\n",
              "      <td>Phrae</td>\n",
              "      <td>398936</td>\n",
              "      <td>410382</td>\n",
              "      <td>421653</td>\n",
              "    </tr>\n",
              "  </tbody>\n",
              "</table>\n",
              "</div>"
            ],
            "text/plain": [
              "     province     2016     2017     2018\n",
              "0  Chiang Mai  1630428  1664012  1687971\n",
              "1       Phrae   398936   410382   421653"
            ]
          },
          "execution_count": 162,
          "metadata": {},
          "output_type": "execute_result"
        }
      ],
      "source": [
        "pivot.columns = ['{1}'.format(col[0],col[1]) for col in pivot.columns.values]\n",
        "pivot = pivot.reset_index()\n",
        "pivot"
      ]
    },
    {
      "cell_type": "markdown",
      "metadata": {
        "id": "W2w8zP9jiHE_"
      },
      "source": [
        "### Melt"
      ]
    },
    {
      "cell_type": "code",
      "execution_count": 163,
      "metadata": {
        "id": "Rw0BDDfeiHE_"
      },
      "outputs": [
        {
          "data": {
            "text/html": [
              "<div>\n",
              "<style scoped>\n",
              "    .dataframe tbody tr th:only-of-type {\n",
              "        vertical-align: middle;\n",
              "    }\n",
              "\n",
              "    .dataframe tbody tr th {\n",
              "        vertical-align: top;\n",
              "    }\n",
              "\n",
              "    .dataframe thead th {\n",
              "        text-align: right;\n",
              "    }\n",
              "</style>\n",
              "<table border=\"1\" class=\"dataframe\">\n",
              "  <thead>\n",
              "    <tr style=\"text-align: right;\">\n",
              "      <th></th>\n",
              "      <th>province</th>\n",
              "      <th>variable</th>\n",
              "      <th>value</th>\n",
              "    </tr>\n",
              "  </thead>\n",
              "  <tbody>\n",
              "    <tr>\n",
              "      <th>0</th>\n",
              "      <td>Chiang Mai</td>\n",
              "      <td>2016</td>\n",
              "      <td>1630428</td>\n",
              "    </tr>\n",
              "    <tr>\n",
              "      <th>1</th>\n",
              "      <td>Phrae</td>\n",
              "      <td>2016</td>\n",
              "      <td>398936</td>\n",
              "    </tr>\n",
              "    <tr>\n",
              "      <th>2</th>\n",
              "      <td>Chiang Mai</td>\n",
              "      <td>2017</td>\n",
              "      <td>1664012</td>\n",
              "    </tr>\n",
              "    <tr>\n",
              "      <th>3</th>\n",
              "      <td>Phrae</td>\n",
              "      <td>2017</td>\n",
              "      <td>410382</td>\n",
              "    </tr>\n",
              "    <tr>\n",
              "      <th>4</th>\n",
              "      <td>Chiang Mai</td>\n",
              "      <td>2018</td>\n",
              "      <td>1687971</td>\n",
              "    </tr>\n",
              "    <tr>\n",
              "      <th>5</th>\n",
              "      <td>Phrae</td>\n",
              "      <td>2018</td>\n",
              "      <td>421653</td>\n",
              "    </tr>\n",
              "  </tbody>\n",
              "</table>\n",
              "</div>"
            ],
            "text/plain": [
              "     province variable    value\n",
              "0  Chiang Mai     2016  1630428\n",
              "1       Phrae     2016   398936\n",
              "2  Chiang Mai     2017  1664012\n",
              "3       Phrae     2017   410382\n",
              "4  Chiang Mai     2018  1687971\n",
              "5       Phrae     2018   421653"
            ]
          },
          "execution_count": 163,
          "metadata": {},
          "output_type": "execute_result"
        }
      ],
      "source": [
        "melt = pd.melt(pivot, id_vars=['province'], value_vars=['2016','2017','2018'])\n",
        "melt"
      ]
    },
    {
      "cell_type": "code",
      "execution_count": 164,
      "metadata": {
        "id": "BZAVr1fiiHFB"
      },
      "outputs": [
        {
          "data": {
            "text/html": [
              "<div>\n",
              "<style scoped>\n",
              "    .dataframe tbody tr th:only-of-type {\n",
              "        vertical-align: middle;\n",
              "    }\n",
              "\n",
              "    .dataframe tbody tr th {\n",
              "        vertical-align: top;\n",
              "    }\n",
              "\n",
              "    .dataframe thead th {\n",
              "        text-align: right;\n",
              "    }\n",
              "</style>\n",
              "<table border=\"1\" class=\"dataframe\">\n",
              "  <thead>\n",
              "    <tr style=\"text-align: right;\">\n",
              "      <th></th>\n",
              "      <th>province</th>\n",
              "      <th>year</th>\n",
              "      <th>population</th>\n",
              "    </tr>\n",
              "  </thead>\n",
              "  <tbody>\n",
              "    <tr>\n",
              "      <th>0</th>\n",
              "      <td>Chiang Mai</td>\n",
              "      <td>2016</td>\n",
              "      <td>1630428</td>\n",
              "    </tr>\n",
              "    <tr>\n",
              "      <th>1</th>\n",
              "      <td>Phrae</td>\n",
              "      <td>2016</td>\n",
              "      <td>398936</td>\n",
              "    </tr>\n",
              "    <tr>\n",
              "      <th>2</th>\n",
              "      <td>Chiang Mai</td>\n",
              "      <td>2017</td>\n",
              "      <td>1664012</td>\n",
              "    </tr>\n",
              "    <tr>\n",
              "      <th>3</th>\n",
              "      <td>Phrae</td>\n",
              "      <td>2017</td>\n",
              "      <td>410382</td>\n",
              "    </tr>\n",
              "    <tr>\n",
              "      <th>4</th>\n",
              "      <td>Chiang Mai</td>\n",
              "      <td>2018</td>\n",
              "      <td>1687971</td>\n",
              "    </tr>\n",
              "    <tr>\n",
              "      <th>5</th>\n",
              "      <td>Phrae</td>\n",
              "      <td>2018</td>\n",
              "      <td>421653</td>\n",
              "    </tr>\n",
              "  </tbody>\n",
              "</table>\n",
              "</div>"
            ],
            "text/plain": [
              "     province  year  population\n",
              "0  Chiang Mai  2016     1630428\n",
              "1       Phrae  2016      398936\n",
              "2  Chiang Mai  2017     1664012\n",
              "3       Phrae  2017      410382\n",
              "4  Chiang Mai  2018     1687971\n",
              "5       Phrae  2018      421653"
            ]
          },
          "execution_count": 164,
          "metadata": {},
          "output_type": "execute_result"
        }
      ],
      "source": [
        "mapper = {\n",
        "    'variable':'year',\n",
        "    'value':'population'\n",
        "}\n",
        "melt = melt.rename(columns=mapper)\n",
        "melt"
      ]
    },
    {
      "cell_type": "markdown",
      "metadata": {
        "id": "OI_j4rbYiHFC"
      },
      "source": [
        "## Data Cleansing"
      ]
    },
    {
      "cell_type": "code",
      "execution_count": 165,
      "metadata": {
        "id": "UQnFf-2piHFD"
      },
      "outputs": [
        {
          "data": {
            "text/html": [
              "<div>\n",
              "<style scoped>\n",
              "    .dataframe tbody tr th:only-of-type {\n",
              "        vertical-align: middle;\n",
              "    }\n",
              "\n",
              "    .dataframe tbody tr th {\n",
              "        vertical-align: top;\n",
              "    }\n",
              "\n",
              "    .dataframe thead th {\n",
              "        text-align: right;\n",
              "    }\n",
              "</style>\n",
              "<table border=\"1\" class=\"dataframe\">\n",
              "  <thead>\n",
              "    <tr style=\"text-align: right;\">\n",
              "      <th></th>\n",
              "      <th>province</th>\n",
              "      <th>year</th>\n",
              "      <th>population</th>\n",
              "    </tr>\n",
              "  </thead>\n",
              "  <tbody>\n",
              "    <tr>\n",
              "      <th>0</th>\n",
              "      <td>Chiang Mai</td>\n",
              "      <td>2016</td>\n",
              "      <td>1630428.0</td>\n",
              "    </tr>\n",
              "    <tr>\n",
              "      <th>1</th>\n",
              "      <td>Chiang Mai</td>\n",
              "      <td>2017</td>\n",
              "      <td>1664012.0</td>\n",
              "    </tr>\n",
              "    <tr>\n",
              "      <th>2</th>\n",
              "      <td>Chiang Mai</td>\n",
              "      <td>2018</td>\n",
              "      <td>1687971.0</td>\n",
              "    </tr>\n",
              "    <tr>\n",
              "      <th>3</th>\n",
              "      <td>Phrae</td>\n",
              "      <td>2016</td>\n",
              "      <td>NaN</td>\n",
              "    </tr>\n",
              "    <tr>\n",
              "      <th>4</th>\n",
              "      <td>Phrae</td>\n",
              "      <td>2017</td>\n",
              "      <td>410382.0</td>\n",
              "    </tr>\n",
              "    <tr>\n",
              "      <th>5</th>\n",
              "      <td>None</td>\n",
              "      <td>2018</td>\n",
              "      <td>421653.0</td>\n",
              "    </tr>\n",
              "  </tbody>\n",
              "</table>\n",
              "</div>"
            ],
            "text/plain": [
              "     province  year  population\n",
              "0  Chiang Mai  2016   1630428.0\n",
              "1  Chiang Mai  2017   1664012.0\n",
              "2  Chiang Mai  2018   1687971.0\n",
              "3       Phrae  2016         NaN\n",
              "4       Phrae  2017    410382.0\n",
              "5        None  2018    421653.0"
            ]
          },
          "execution_count": 165,
          "metadata": {},
          "output_type": "execute_result"
        }
      ],
      "source": [
        "# Create From a List\n",
        "data = [\n",
        "    ['Chiang Mai', 2016, 1630428],\n",
        "    ['Chiang Mai', 2017, 1664012],\n",
        "    ['Chiang Mai', 2018, 1687971],\n",
        "    ['Phrae', 2016, None],\n",
        "    ['Phrae', 2017, 410382],\n",
        "    [None, 2018, 421653]\n",
        "]\n",
        "df = pd.DataFrame(\n",
        "    data=data,\n",
        "    columns=['province','year','population']\n",
        ")\n",
        "df"
      ]
    },
    {
      "cell_type": "markdown",
      "metadata": {
        "id": "mmns1TzwiHFF"
      },
      "source": [
        "### Find Null"
      ]
    },
    {
      "cell_type": "code",
      "execution_count": 166,
      "metadata": {
        "id": "hFeVuS4miHFF"
      },
      "outputs": [
        {
          "data": {
            "text/html": [
              "<div>\n",
              "<style scoped>\n",
              "    .dataframe tbody tr th:only-of-type {\n",
              "        vertical-align: middle;\n",
              "    }\n",
              "\n",
              "    .dataframe tbody tr th {\n",
              "        vertical-align: top;\n",
              "    }\n",
              "\n",
              "    .dataframe thead th {\n",
              "        text-align: right;\n",
              "    }\n",
              "</style>\n",
              "<table border=\"1\" class=\"dataframe\">\n",
              "  <thead>\n",
              "    <tr style=\"text-align: right;\">\n",
              "      <th></th>\n",
              "      <th>province</th>\n",
              "      <th>year</th>\n",
              "      <th>population</th>\n",
              "    </tr>\n",
              "  </thead>\n",
              "  <tbody>\n",
              "    <tr>\n",
              "      <th>0</th>\n",
              "      <td>False</td>\n",
              "      <td>False</td>\n",
              "      <td>False</td>\n",
              "    </tr>\n",
              "    <tr>\n",
              "      <th>1</th>\n",
              "      <td>False</td>\n",
              "      <td>False</td>\n",
              "      <td>False</td>\n",
              "    </tr>\n",
              "    <tr>\n",
              "      <th>2</th>\n",
              "      <td>False</td>\n",
              "      <td>False</td>\n",
              "      <td>False</td>\n",
              "    </tr>\n",
              "    <tr>\n",
              "      <th>3</th>\n",
              "      <td>False</td>\n",
              "      <td>False</td>\n",
              "      <td>True</td>\n",
              "    </tr>\n",
              "    <tr>\n",
              "      <th>4</th>\n",
              "      <td>False</td>\n",
              "      <td>False</td>\n",
              "      <td>False</td>\n",
              "    </tr>\n",
              "    <tr>\n",
              "      <th>5</th>\n",
              "      <td>True</td>\n",
              "      <td>False</td>\n",
              "      <td>False</td>\n",
              "    </tr>\n",
              "  </tbody>\n",
              "</table>\n",
              "</div>"
            ],
            "text/plain": [
              "   province   year  population\n",
              "0     False  False       False\n",
              "1     False  False       False\n",
              "2     False  False       False\n",
              "3     False  False        True\n",
              "4     False  False       False\n",
              "5      True  False       False"
            ]
          },
          "execution_count": 166,
          "metadata": {},
          "output_type": "execute_result"
        }
      ],
      "source": [
        "df.isnull()"
      ]
    },
    {
      "cell_type": "code",
      "execution_count": 167,
      "metadata": {
        "id": "v3NIZjAniHFG"
      },
      "outputs": [
        {
          "data": {
            "text/html": [
              "<div>\n",
              "<style scoped>\n",
              "    .dataframe tbody tr th:only-of-type {\n",
              "        vertical-align: middle;\n",
              "    }\n",
              "\n",
              "    .dataframe tbody tr th {\n",
              "        vertical-align: top;\n",
              "    }\n",
              "\n",
              "    .dataframe thead th {\n",
              "        text-align: right;\n",
              "    }\n",
              "</style>\n",
              "<table border=\"1\" class=\"dataframe\">\n",
              "  <thead>\n",
              "    <tr style=\"text-align: right;\">\n",
              "      <th></th>\n",
              "      <th>province</th>\n",
              "      <th>year</th>\n",
              "      <th>population</th>\n",
              "    </tr>\n",
              "  </thead>\n",
              "  <tbody>\n",
              "    <tr>\n",
              "      <th>0</th>\n",
              "      <td>False</td>\n",
              "      <td>False</td>\n",
              "      <td>False</td>\n",
              "    </tr>\n",
              "    <tr>\n",
              "      <th>1</th>\n",
              "      <td>False</td>\n",
              "      <td>False</td>\n",
              "      <td>False</td>\n",
              "    </tr>\n",
              "    <tr>\n",
              "      <th>2</th>\n",
              "      <td>False</td>\n",
              "      <td>False</td>\n",
              "      <td>False</td>\n",
              "    </tr>\n",
              "    <tr>\n",
              "      <th>3</th>\n",
              "      <td>False</td>\n",
              "      <td>False</td>\n",
              "      <td>True</td>\n",
              "    </tr>\n",
              "    <tr>\n",
              "      <th>4</th>\n",
              "      <td>False</td>\n",
              "      <td>False</td>\n",
              "      <td>False</td>\n",
              "    </tr>\n",
              "    <tr>\n",
              "      <th>5</th>\n",
              "      <td>True</td>\n",
              "      <td>False</td>\n",
              "      <td>False</td>\n",
              "    </tr>\n",
              "  </tbody>\n",
              "</table>\n",
              "</div>"
            ],
            "text/plain": [
              "   province   year  population\n",
              "0     False  False       False\n",
              "1     False  False       False\n",
              "2     False  False       False\n",
              "3     False  False        True\n",
              "4     False  False       False\n",
              "5      True  False       False"
            ]
          },
          "execution_count": 167,
          "metadata": {},
          "output_type": "execute_result"
        }
      ],
      "source": [
        "df.isna()"
      ]
    },
    {
      "cell_type": "code",
      "execution_count": 168,
      "metadata": {
        "id": "16iNsoMjiHFI"
      },
      "outputs": [
        {
          "data": {
            "text/plain": [
              "province      1\n",
              "year          0\n",
              "population    1\n",
              "dtype: int64"
            ]
          },
          "execution_count": 168,
          "metadata": {},
          "output_type": "execute_result"
        }
      ],
      "source": [
        "df.isnull().sum()"
      ]
    },
    {
      "cell_type": "markdown",
      "metadata": {
        "id": "9XwHQdN9iHFJ"
      },
      "source": [
        "### Drop NA"
      ]
    },
    {
      "cell_type": "code",
      "execution_count": 169,
      "metadata": {
        "id": "VJpxI2zbiHFK"
      },
      "outputs": [
        {
          "data": {
            "text/html": [
              "<div>\n",
              "<style scoped>\n",
              "    .dataframe tbody tr th:only-of-type {\n",
              "        vertical-align: middle;\n",
              "    }\n",
              "\n",
              "    .dataframe tbody tr th {\n",
              "        vertical-align: top;\n",
              "    }\n",
              "\n",
              "    .dataframe thead th {\n",
              "        text-align: right;\n",
              "    }\n",
              "</style>\n",
              "<table border=\"1\" class=\"dataframe\">\n",
              "  <thead>\n",
              "    <tr style=\"text-align: right;\">\n",
              "      <th></th>\n",
              "      <th>province</th>\n",
              "      <th>year</th>\n",
              "      <th>population</th>\n",
              "    </tr>\n",
              "  </thead>\n",
              "  <tbody>\n",
              "    <tr>\n",
              "      <th>0</th>\n",
              "      <td>Chiang Mai</td>\n",
              "      <td>2016</td>\n",
              "      <td>1630428.0</td>\n",
              "    </tr>\n",
              "    <tr>\n",
              "      <th>1</th>\n",
              "      <td>Chiang Mai</td>\n",
              "      <td>2017</td>\n",
              "      <td>1664012.0</td>\n",
              "    </tr>\n",
              "    <tr>\n",
              "      <th>2</th>\n",
              "      <td>Chiang Mai</td>\n",
              "      <td>2018</td>\n",
              "      <td>1687971.0</td>\n",
              "    </tr>\n",
              "    <tr>\n",
              "      <th>4</th>\n",
              "      <td>Phrae</td>\n",
              "      <td>2017</td>\n",
              "      <td>410382.0</td>\n",
              "    </tr>\n",
              "  </tbody>\n",
              "</table>\n",
              "</div>"
            ],
            "text/plain": [
              "     province  year  population\n",
              "0  Chiang Mai  2016   1630428.0\n",
              "1  Chiang Mai  2017   1664012.0\n",
              "2  Chiang Mai  2018   1687971.0\n",
              "4       Phrae  2017    410382.0"
            ]
          },
          "execution_count": 169,
          "metadata": {},
          "output_type": "execute_result"
        }
      ],
      "source": [
        "df.dropna()"
      ]
    },
    {
      "cell_type": "code",
      "execution_count": 170,
      "metadata": {
        "id": "P6spiG7ciHFL"
      },
      "outputs": [
        {
          "data": {
            "text/html": [
              "<div>\n",
              "<style scoped>\n",
              "    .dataframe tbody tr th:only-of-type {\n",
              "        vertical-align: middle;\n",
              "    }\n",
              "\n",
              "    .dataframe tbody tr th {\n",
              "        vertical-align: top;\n",
              "    }\n",
              "\n",
              "    .dataframe thead th {\n",
              "        text-align: right;\n",
              "    }\n",
              "</style>\n",
              "<table border=\"1\" class=\"dataframe\">\n",
              "  <thead>\n",
              "    <tr style=\"text-align: right;\">\n",
              "      <th></th>\n",
              "      <th>province</th>\n",
              "      <th>year</th>\n",
              "      <th>population</th>\n",
              "    </tr>\n",
              "  </thead>\n",
              "  <tbody>\n",
              "    <tr>\n",
              "      <th>0</th>\n",
              "      <td>Chiang Mai</td>\n",
              "      <td>2016</td>\n",
              "      <td>1630428.0</td>\n",
              "    </tr>\n",
              "    <tr>\n",
              "      <th>1</th>\n",
              "      <td>Chiang Mai</td>\n",
              "      <td>2017</td>\n",
              "      <td>1664012.0</td>\n",
              "    </tr>\n",
              "    <tr>\n",
              "      <th>2</th>\n",
              "      <td>Chiang Mai</td>\n",
              "      <td>2018</td>\n",
              "      <td>1687971.0</td>\n",
              "    </tr>\n",
              "    <tr>\n",
              "      <th>3</th>\n",
              "      <td>Phrae</td>\n",
              "      <td>2016</td>\n",
              "      <td>NaN</td>\n",
              "    </tr>\n",
              "    <tr>\n",
              "      <th>4</th>\n",
              "      <td>Phrae</td>\n",
              "      <td>2017</td>\n",
              "      <td>410382.0</td>\n",
              "    </tr>\n",
              "  </tbody>\n",
              "</table>\n",
              "</div>"
            ],
            "text/plain": [
              "     province  year  population\n",
              "0  Chiang Mai  2016   1630428.0\n",
              "1  Chiang Mai  2017   1664012.0\n",
              "2  Chiang Mai  2018   1687971.0\n",
              "3       Phrae  2016         NaN\n",
              "4       Phrae  2017    410382.0"
            ]
          },
          "execution_count": 170,
          "metadata": {},
          "output_type": "execute_result"
        }
      ],
      "source": [
        "df.dropna(subset = ['province'])"
      ]
    },
    {
      "cell_type": "code",
      "execution_count": 171,
      "metadata": {
        "id": "N3KhLSnpiHFT"
      },
      "outputs": [
        {
          "data": {
            "text/html": [
              "<div>\n",
              "<style scoped>\n",
              "    .dataframe tbody tr th:only-of-type {\n",
              "        vertical-align: middle;\n",
              "    }\n",
              "\n",
              "    .dataframe tbody tr th {\n",
              "        vertical-align: top;\n",
              "    }\n",
              "\n",
              "    .dataframe thead th {\n",
              "        text-align: right;\n",
              "    }\n",
              "</style>\n",
              "<table border=\"1\" class=\"dataframe\">\n",
              "  <thead>\n",
              "    <tr style=\"text-align: right;\">\n",
              "      <th></th>\n",
              "      <th>province</th>\n",
              "      <th>year</th>\n",
              "      <th>population</th>\n",
              "    </tr>\n",
              "  </thead>\n",
              "  <tbody>\n",
              "    <tr>\n",
              "      <th>0</th>\n",
              "      <td>Chiang Mai</td>\n",
              "      <td>2016</td>\n",
              "      <td>1630428.0</td>\n",
              "    </tr>\n",
              "    <tr>\n",
              "      <th>1</th>\n",
              "      <td>Chiang Mai</td>\n",
              "      <td>2017</td>\n",
              "      <td>1664012.0</td>\n",
              "    </tr>\n",
              "    <tr>\n",
              "      <th>2</th>\n",
              "      <td>Chiang Mai</td>\n",
              "      <td>2018</td>\n",
              "      <td>1687971.0</td>\n",
              "    </tr>\n",
              "    <tr>\n",
              "      <th>3</th>\n",
              "      <td>Phrae</td>\n",
              "      <td>2016</td>\n",
              "      <td>NaN</td>\n",
              "    </tr>\n",
              "    <tr>\n",
              "      <th>4</th>\n",
              "      <td>Phrae</td>\n",
              "      <td>2017</td>\n",
              "      <td>410382.0</td>\n",
              "    </tr>\n",
              "    <tr>\n",
              "      <th>5</th>\n",
              "      <td>None</td>\n",
              "      <td>2018</td>\n",
              "      <td>421653.0</td>\n",
              "    </tr>\n",
              "  </tbody>\n",
              "</table>\n",
              "</div>"
            ],
            "text/plain": [
              "     province  year  population\n",
              "0  Chiang Mai  2016   1630428.0\n",
              "1  Chiang Mai  2017   1664012.0\n",
              "2  Chiang Mai  2018   1687971.0\n",
              "3       Phrae  2016         NaN\n",
              "4       Phrae  2017    410382.0\n",
              "5        None  2018    421653.0"
            ]
          },
          "execution_count": 171,
          "metadata": {},
          "output_type": "execute_result"
        }
      ],
      "source": [
        "df # to show that all commands don't replace (remind)"
      ]
    },
    {
      "cell_type": "markdown",
      "metadata": {
        "id": "MKrp84J7iHFV"
      },
      "source": [
        "### Fill NA"
      ]
    },
    {
      "cell_type": "code",
      "execution_count": 172,
      "metadata": {
        "id": "eUzFE-jFiHFV"
      },
      "outputs": [
        {
          "data": {
            "text/html": [
              "<div>\n",
              "<style scoped>\n",
              "    .dataframe tbody tr th:only-of-type {\n",
              "        vertical-align: middle;\n",
              "    }\n",
              "\n",
              "    .dataframe tbody tr th {\n",
              "        vertical-align: top;\n",
              "    }\n",
              "\n",
              "    .dataframe thead th {\n",
              "        text-align: right;\n",
              "    }\n",
              "</style>\n",
              "<table border=\"1\" class=\"dataframe\">\n",
              "  <thead>\n",
              "    <tr style=\"text-align: right;\">\n",
              "      <th></th>\n",
              "      <th>province</th>\n",
              "      <th>year</th>\n",
              "      <th>population</th>\n",
              "    </tr>\n",
              "  </thead>\n",
              "  <tbody>\n",
              "    <tr>\n",
              "      <th>0</th>\n",
              "      <td>Chiang Mai</td>\n",
              "      <td>2016</td>\n",
              "      <td>1630428.0</td>\n",
              "    </tr>\n",
              "    <tr>\n",
              "      <th>1</th>\n",
              "      <td>Chiang Mai</td>\n",
              "      <td>2017</td>\n",
              "      <td>1664012.0</td>\n",
              "    </tr>\n",
              "    <tr>\n",
              "      <th>2</th>\n",
              "      <td>Chiang Mai</td>\n",
              "      <td>2018</td>\n",
              "      <td>1687971.0</td>\n",
              "    </tr>\n",
              "    <tr>\n",
              "      <th>3</th>\n",
              "      <td>Phrae</td>\n",
              "      <td>2016</td>\n",
              "      <td>Missing</td>\n",
              "    </tr>\n",
              "    <tr>\n",
              "      <th>4</th>\n",
              "      <td>Phrae</td>\n",
              "      <td>2017</td>\n",
              "      <td>410382.0</td>\n",
              "    </tr>\n",
              "    <tr>\n",
              "      <th>5</th>\n",
              "      <td>Missing</td>\n",
              "      <td>2018</td>\n",
              "      <td>421653.0</td>\n",
              "    </tr>\n",
              "  </tbody>\n",
              "</table>\n",
              "</div>"
            ],
            "text/plain": [
              "     province  year population\n",
              "0  Chiang Mai  2016  1630428.0\n",
              "1  Chiang Mai  2017  1664012.0\n",
              "2  Chiang Mai  2018  1687971.0\n",
              "3       Phrae  2016    Missing\n",
              "4       Phrae  2017   410382.0\n",
              "5     Missing  2018   421653.0"
            ]
          },
          "execution_count": 172,
          "metadata": {},
          "output_type": "execute_result"
        }
      ],
      "source": [
        "df.fillna('Missing')"
      ]
    },
    {
      "cell_type": "code",
      "execution_count": 173,
      "metadata": {
        "id": "ualQGoiRiHFX"
      },
      "outputs": [
        {
          "name": "stdout",
          "output_type": "stream",
          "text": [
            "{'province': 'Unknown', 'population': 1162889.2}\n"
          ]
        },
        {
          "data": {
            "text/html": [
              "<div>\n",
              "<style scoped>\n",
              "    .dataframe tbody tr th:only-of-type {\n",
              "        vertical-align: middle;\n",
              "    }\n",
              "\n",
              "    .dataframe tbody tr th {\n",
              "        vertical-align: top;\n",
              "    }\n",
              "\n",
              "    .dataframe thead th {\n",
              "        text-align: right;\n",
              "    }\n",
              "</style>\n",
              "<table border=\"1\" class=\"dataframe\">\n",
              "  <thead>\n",
              "    <tr style=\"text-align: right;\">\n",
              "      <th></th>\n",
              "      <th>province</th>\n",
              "      <th>year</th>\n",
              "      <th>population</th>\n",
              "    </tr>\n",
              "  </thead>\n",
              "  <tbody>\n",
              "    <tr>\n",
              "      <th>0</th>\n",
              "      <td>Chiang Mai</td>\n",
              "      <td>2016</td>\n",
              "      <td>1630428.0</td>\n",
              "    </tr>\n",
              "    <tr>\n",
              "      <th>1</th>\n",
              "      <td>Chiang Mai</td>\n",
              "      <td>2017</td>\n",
              "      <td>1664012.0</td>\n",
              "    </tr>\n",
              "    <tr>\n",
              "      <th>2</th>\n",
              "      <td>Chiang Mai</td>\n",
              "      <td>2018</td>\n",
              "      <td>1687971.0</td>\n",
              "    </tr>\n",
              "    <tr>\n",
              "      <th>3</th>\n",
              "      <td>Phrae</td>\n",
              "      <td>2016</td>\n",
              "      <td>1162889.2</td>\n",
              "    </tr>\n",
              "    <tr>\n",
              "      <th>4</th>\n",
              "      <td>Phrae</td>\n",
              "      <td>2017</td>\n",
              "      <td>410382.0</td>\n",
              "    </tr>\n",
              "    <tr>\n",
              "      <th>5</th>\n",
              "      <td>Unknown</td>\n",
              "      <td>2018</td>\n",
              "      <td>421653.0</td>\n",
              "    </tr>\n",
              "  </tbody>\n",
              "</table>\n",
              "</div>"
            ],
            "text/plain": [
              "     province  year  population\n",
              "0  Chiang Mai  2016   1630428.0\n",
              "1  Chiang Mai  2017   1664012.0\n",
              "2  Chiang Mai  2018   1687971.0\n",
              "3       Phrae  2016   1162889.2\n",
              "4       Phrae  2017    410382.0\n",
              "5     Unknown  2018    421653.0"
            ]
          },
          "metadata": {},
          "output_type": "display_data"
        }
      ],
      "source": [
        "mapper = {\n",
        "    'province' : 'Unknown',\n",
        "    'population' : df['population'].mean()\n",
        "}\n",
        "print(mapper)\n",
        "display(df.fillna(mapper))"
      ]
    },
    {
      "cell_type": "markdown",
      "metadata": {
        "id": "oQr5IoCQiHFY"
      },
      "source": [
        "## Append and Join"
      ]
    },
    {
      "cell_type": "markdown",
      "metadata": {
        "id": "irb7mjhEiHFY"
      },
      "source": [
        "### Append"
      ]
    },
    {
      "cell_type": "code",
      "execution_count": 174,
      "metadata": {
        "id": "sp-EuVeMiHFZ"
      },
      "outputs": [
        {
          "data": {
            "text/html": [
              "<div>\n",
              "<style scoped>\n",
              "    .dataframe tbody tr th:only-of-type {\n",
              "        vertical-align: middle;\n",
              "    }\n",
              "\n",
              "    .dataframe tbody tr th {\n",
              "        vertical-align: top;\n",
              "    }\n",
              "\n",
              "    .dataframe thead th {\n",
              "        text-align: right;\n",
              "    }\n",
              "</style>\n",
              "<table border=\"1\" class=\"dataframe\">\n",
              "  <thead>\n",
              "    <tr style=\"text-align: right;\">\n",
              "      <th></th>\n",
              "      <th>province</th>\n",
              "      <th>year</th>\n",
              "      <th>population</th>\n",
              "    </tr>\n",
              "  </thead>\n",
              "  <tbody>\n",
              "    <tr>\n",
              "      <th>0</th>\n",
              "      <td>Chiang Mai</td>\n",
              "      <td>2016</td>\n",
              "      <td>1630428</td>\n",
              "    </tr>\n",
              "    <tr>\n",
              "      <th>1</th>\n",
              "      <td>Chiang Mai</td>\n",
              "      <td>2017</td>\n",
              "      <td>1664012</td>\n",
              "    </tr>\n",
              "    <tr>\n",
              "      <th>2</th>\n",
              "      <td>Chiang Mai</td>\n",
              "      <td>2018</td>\n",
              "      <td>1687971</td>\n",
              "    </tr>\n",
              "  </tbody>\n",
              "</table>\n",
              "</div>"
            ],
            "text/plain": [
              "     province  year  population\n",
              "0  Chiang Mai  2016     1630428\n",
              "1  Chiang Mai  2017     1664012\n",
              "2  Chiang Mai  2018     1687971"
            ]
          },
          "execution_count": 174,
          "metadata": {},
          "output_type": "execute_result"
        }
      ],
      "source": [
        "# Create From a List\n",
        "data = [\n",
        "    ['Chiang Mai', 2016, 1630428],\n",
        "    ['Chiang Mai', 2017, 1664012],\n",
        "    ['Chiang Mai', 2018, 1687971],\n",
        "]\n",
        "df1 = pd.DataFrame(\n",
        "    data=data,\n",
        "    columns=['province','year','population']\n",
        ")\n",
        "df1"
      ]
    },
    {
      "cell_type": "code",
      "execution_count": 175,
      "metadata": {
        "id": "vltUGddxiHFb"
      },
      "outputs": [
        {
          "data": {
            "text/html": [
              "<div>\n",
              "<style scoped>\n",
              "    .dataframe tbody tr th:only-of-type {\n",
              "        vertical-align: middle;\n",
              "    }\n",
              "\n",
              "    .dataframe tbody tr th {\n",
              "        vertical-align: top;\n",
              "    }\n",
              "\n",
              "    .dataframe thead th {\n",
              "        text-align: right;\n",
              "    }\n",
              "</style>\n",
              "<table border=\"1\" class=\"dataframe\">\n",
              "  <thead>\n",
              "    <tr style=\"text-align: right;\">\n",
              "      <th></th>\n",
              "      <th>province</th>\n",
              "      <th>year</th>\n",
              "      <th>population</th>\n",
              "    </tr>\n",
              "  </thead>\n",
              "  <tbody>\n",
              "    <tr>\n",
              "      <th>0</th>\n",
              "      <td>Phrae</td>\n",
              "      <td>2016</td>\n",
              "      <td>398936</td>\n",
              "    </tr>\n",
              "    <tr>\n",
              "      <th>1</th>\n",
              "      <td>Phrae</td>\n",
              "      <td>2017</td>\n",
              "      <td>410382</td>\n",
              "    </tr>\n",
              "    <tr>\n",
              "      <th>2</th>\n",
              "      <td>Phrae</td>\n",
              "      <td>2018</td>\n",
              "      <td>421653</td>\n",
              "    </tr>\n",
              "  </tbody>\n",
              "</table>\n",
              "</div>"
            ],
            "text/plain": [
              "  province  year  population\n",
              "0    Phrae  2016      398936\n",
              "1    Phrae  2017      410382\n",
              "2    Phrae  2018      421653"
            ]
          },
          "execution_count": 175,
          "metadata": {},
          "output_type": "execute_result"
        }
      ],
      "source": [
        "# Create From a List\n",
        "data = [\n",
        "    ['Phrae', 2016, 398936],\n",
        "    ['Phrae', 2017, 410382],\n",
        "    ['Phrae', 2018, 421653]\n",
        "]\n",
        "df2 = pd.DataFrame(\n",
        "    data=data,\n",
        "    columns=['province','year','population']\n",
        ")\n",
        "df2"
      ]
    },
    {
      "cell_type": "code",
      "execution_count": 176,
      "metadata": {
        "id": "ZFADFs0siHFe"
      },
      "outputs": [
        {
          "data": {
            "text/html": [
              "<div>\n",
              "<style scoped>\n",
              "    .dataframe tbody tr th:only-of-type {\n",
              "        vertical-align: middle;\n",
              "    }\n",
              "\n",
              "    .dataframe tbody tr th {\n",
              "        vertical-align: top;\n",
              "    }\n",
              "\n",
              "    .dataframe thead th {\n",
              "        text-align: right;\n",
              "    }\n",
              "</style>\n",
              "<table border=\"1\" class=\"dataframe\">\n",
              "  <thead>\n",
              "    <tr style=\"text-align: right;\">\n",
              "      <th></th>\n",
              "      <th>province</th>\n",
              "      <th>year</th>\n",
              "      <th>population</th>\n",
              "    </tr>\n",
              "  </thead>\n",
              "  <tbody>\n",
              "    <tr>\n",
              "      <th>0</th>\n",
              "      <td>Chiang Mai</td>\n",
              "      <td>2016</td>\n",
              "      <td>1630428</td>\n",
              "    </tr>\n",
              "    <tr>\n",
              "      <th>1</th>\n",
              "      <td>Chiang Mai</td>\n",
              "      <td>2017</td>\n",
              "      <td>1664012</td>\n",
              "    </tr>\n",
              "    <tr>\n",
              "      <th>2</th>\n",
              "      <td>Chiang Mai</td>\n",
              "      <td>2018</td>\n",
              "      <td>1687971</td>\n",
              "    </tr>\n",
              "    <tr>\n",
              "      <th>0</th>\n",
              "      <td>Phrae</td>\n",
              "      <td>2016</td>\n",
              "      <td>398936</td>\n",
              "    </tr>\n",
              "    <tr>\n",
              "      <th>1</th>\n",
              "      <td>Phrae</td>\n",
              "      <td>2017</td>\n",
              "      <td>410382</td>\n",
              "    </tr>\n",
              "    <tr>\n",
              "      <th>2</th>\n",
              "      <td>Phrae</td>\n",
              "      <td>2018</td>\n",
              "      <td>421653</td>\n",
              "    </tr>\n",
              "  </tbody>\n",
              "</table>\n",
              "</div>"
            ],
            "text/plain": [
              "     province  year  population\n",
              "0  Chiang Mai  2016     1630428\n",
              "1  Chiang Mai  2017     1664012\n",
              "2  Chiang Mai  2018     1687971\n",
              "0       Phrae  2016      398936\n",
              "1       Phrae  2017      410382\n",
              "2       Phrae  2018      421653"
            ]
          },
          "execution_count": 176,
          "metadata": {},
          "output_type": "execute_result"
        }
      ],
      "source": [
        "df = pd.concat([df1, df2])\n",
        "df"
      ]
    },
    {
      "cell_type": "code",
      "execution_count": 177,
      "metadata": {
        "id": "n8bekMPEiHFf"
      },
      "outputs": [
        {
          "data": {
            "text/html": [
              "<div>\n",
              "<style scoped>\n",
              "    .dataframe tbody tr th:only-of-type {\n",
              "        vertical-align: middle;\n",
              "    }\n",
              "\n",
              "    .dataframe tbody tr th {\n",
              "        vertical-align: top;\n",
              "    }\n",
              "\n",
              "    .dataframe thead th {\n",
              "        text-align: right;\n",
              "    }\n",
              "</style>\n",
              "<table border=\"1\" class=\"dataframe\">\n",
              "  <thead>\n",
              "    <tr style=\"text-align: right;\">\n",
              "      <th></th>\n",
              "      <th>province</th>\n",
              "      <th>year</th>\n",
              "      <th>population</th>\n",
              "      <th>province</th>\n",
              "      <th>year</th>\n",
              "      <th>population</th>\n",
              "    </tr>\n",
              "  </thead>\n",
              "  <tbody>\n",
              "    <tr>\n",
              "      <th>0</th>\n",
              "      <td>Chiang Mai</td>\n",
              "      <td>2016</td>\n",
              "      <td>1630428</td>\n",
              "      <td>Phrae</td>\n",
              "      <td>2016</td>\n",
              "      <td>398936</td>\n",
              "    </tr>\n",
              "    <tr>\n",
              "      <th>1</th>\n",
              "      <td>Chiang Mai</td>\n",
              "      <td>2017</td>\n",
              "      <td>1664012</td>\n",
              "      <td>Phrae</td>\n",
              "      <td>2017</td>\n",
              "      <td>410382</td>\n",
              "    </tr>\n",
              "    <tr>\n",
              "      <th>2</th>\n",
              "      <td>Chiang Mai</td>\n",
              "      <td>2018</td>\n",
              "      <td>1687971</td>\n",
              "      <td>Phrae</td>\n",
              "      <td>2018</td>\n",
              "      <td>421653</td>\n",
              "    </tr>\n",
              "  </tbody>\n",
              "</table>\n",
              "</div>"
            ],
            "text/plain": [
              "     province  year  population province  year  population\n",
              "0  Chiang Mai  2016     1630428    Phrae  2016      398936\n",
              "1  Chiang Mai  2017     1664012    Phrae  2017      410382\n",
              "2  Chiang Mai  2018     1687971    Phrae  2018      421653"
            ]
          },
          "execution_count": 177,
          "metadata": {},
          "output_type": "execute_result"
        }
      ],
      "source": [
        "df2 = pd.concat([df1, df2], axis=1)\n",
        "df2"
      ]
    },
    {
      "cell_type": "markdown",
      "metadata": {
        "id": "qxdP858DiHFh"
      },
      "source": [
        "### Join"
      ]
    },
    {
      "cell_type": "code",
      "execution_count": 178,
      "metadata": {
        "id": "ezoEs7UliHFh"
      },
      "outputs": [
        {
          "data": {
            "text/html": [
              "<div>\n",
              "<style scoped>\n",
              "    .dataframe tbody tr th:only-of-type {\n",
              "        vertical-align: middle;\n",
              "    }\n",
              "\n",
              "    .dataframe tbody tr th {\n",
              "        vertical-align: top;\n",
              "    }\n",
              "\n",
              "    .dataframe thead th {\n",
              "        text-align: right;\n",
              "    }\n",
              "</style>\n",
              "<table border=\"1\" class=\"dataframe\">\n",
              "  <thead>\n",
              "    <tr style=\"text-align: right;\">\n",
              "      <th></th>\n",
              "      <th>province</th>\n",
              "      <th>year</th>\n",
              "      <th>population</th>\n",
              "    </tr>\n",
              "  </thead>\n",
              "  <tbody>\n",
              "    <tr>\n",
              "      <th>0</th>\n",
              "      <td>Chiang Mai</td>\n",
              "      <td>2016</td>\n",
              "      <td>1630428</td>\n",
              "    </tr>\n",
              "    <tr>\n",
              "      <th>1</th>\n",
              "      <td>Chiang Mai</td>\n",
              "      <td>2017</td>\n",
              "      <td>1664012</td>\n",
              "    </tr>\n",
              "    <tr>\n",
              "      <th>2</th>\n",
              "      <td>Chiang Mai</td>\n",
              "      <td>2018</td>\n",
              "      <td>1687971</td>\n",
              "    </tr>\n",
              "    <tr>\n",
              "      <th>0</th>\n",
              "      <td>Phrae</td>\n",
              "      <td>2016</td>\n",
              "      <td>398936</td>\n",
              "    </tr>\n",
              "    <tr>\n",
              "      <th>1</th>\n",
              "      <td>Phrae</td>\n",
              "      <td>2017</td>\n",
              "      <td>410382</td>\n",
              "    </tr>\n",
              "    <tr>\n",
              "      <th>2</th>\n",
              "      <td>Phrae</td>\n",
              "      <td>2018</td>\n",
              "      <td>421653</td>\n",
              "    </tr>\n",
              "  </tbody>\n",
              "</table>\n",
              "</div>"
            ],
            "text/plain": [
              "     province  year  population\n",
              "0  Chiang Mai  2016     1630428\n",
              "1  Chiang Mai  2017     1664012\n",
              "2  Chiang Mai  2018     1687971\n",
              "0       Phrae  2016      398936\n",
              "1       Phrae  2017      410382\n",
              "2       Phrae  2018      421653"
            ]
          },
          "execution_count": 178,
          "metadata": {},
          "output_type": "execute_result"
        }
      ],
      "source": [
        "df"
      ]
    },
    {
      "cell_type": "code",
      "execution_count": 179,
      "metadata": {
        "id": "_xDt2PL3iHFi"
      },
      "outputs": [
        {
          "data": {
            "text/html": [
              "<div>\n",
              "<style scoped>\n",
              "    .dataframe tbody tr th:only-of-type {\n",
              "        vertical-align: middle;\n",
              "    }\n",
              "\n",
              "    .dataframe tbody tr th {\n",
              "        vertical-align: top;\n",
              "    }\n",
              "\n",
              "    .dataframe thead th {\n",
              "        text-align: right;\n",
              "    }\n",
              "</style>\n",
              "<table border=\"1\" class=\"dataframe\">\n",
              "  <thead>\n",
              "    <tr style=\"text-align: right;\">\n",
              "      <th></th>\n",
              "      <th>province</th>\n",
              "      <th>avg_pop</th>\n",
              "    </tr>\n",
              "  </thead>\n",
              "  <tbody>\n",
              "    <tr>\n",
              "      <th>0</th>\n",
              "      <td>Chiang Mai</td>\n",
              "      <td>1.660804e+06</td>\n",
              "    </tr>\n",
              "    <tr>\n",
              "      <th>1</th>\n",
              "      <td>Phrae</td>\n",
              "      <td>4.103237e+05</td>\n",
              "    </tr>\n",
              "  </tbody>\n",
              "</table>\n",
              "</div>"
            ],
            "text/plain": [
              "     province       avg_pop\n",
              "0  Chiang Mai  1.660804e+06\n",
              "1       Phrae  4.103237e+05"
            ]
          },
          "execution_count": 179,
          "metadata": {},
          "output_type": "execute_result"
        }
      ],
      "source": [
        "avg_df = df.groupby('province')['population'].mean().reset_index(name='avg_pop')\n",
        "avg_df"
      ]
    },
    {
      "cell_type": "code",
      "execution_count": 180,
      "metadata": {
        "id": "Dd_b2p9HiHFk"
      },
      "outputs": [
        {
          "data": {
            "text/plain": [
              "province      object\n",
              "year           int64\n",
              "population     int64\n",
              "dtype: object"
            ]
          },
          "execution_count": 180,
          "metadata": {},
          "output_type": "execute_result"
        }
      ],
      "source": [
        "df.dtypes"
      ]
    },
    {
      "cell_type": "code",
      "execution_count": 181,
      "metadata": {
        "id": "OC9B6YgPiHFl"
      },
      "outputs": [
        {
          "data": {
            "text/plain": [
              "province     object\n",
              "avg_pop     float64\n",
              "dtype: object"
            ]
          },
          "execution_count": 181,
          "metadata": {},
          "output_type": "execute_result"
        }
      ],
      "source": [
        "avg_df.dtypes"
      ]
    },
    {
      "cell_type": "code",
      "execution_count": 182,
      "metadata": {
        "id": "1Yp_npbciHFp",
        "scrolled": true
      },
      "outputs": [
        {
          "data": {
            "text/html": [
              "<div>\n",
              "<style scoped>\n",
              "    .dataframe tbody tr th:only-of-type {\n",
              "        vertical-align: middle;\n",
              "    }\n",
              "\n",
              "    .dataframe tbody tr th {\n",
              "        vertical-align: top;\n",
              "    }\n",
              "\n",
              "    .dataframe thead th {\n",
              "        text-align: right;\n",
              "    }\n",
              "</style>\n",
              "<table border=\"1\" class=\"dataframe\">\n",
              "  <thead>\n",
              "    <tr style=\"text-align: right;\">\n",
              "      <th></th>\n",
              "      <th>province</th>\n",
              "      <th>year</th>\n",
              "      <th>population</th>\n",
              "      <th>avg_pop</th>\n",
              "    </tr>\n",
              "  </thead>\n",
              "  <tbody>\n",
              "    <tr>\n",
              "      <th>0</th>\n",
              "      <td>Chiang Mai</td>\n",
              "      <td>2016</td>\n",
              "      <td>1630428</td>\n",
              "      <td>1.660804e+06</td>\n",
              "    </tr>\n",
              "    <tr>\n",
              "      <th>1</th>\n",
              "      <td>Chiang Mai</td>\n",
              "      <td>2017</td>\n",
              "      <td>1664012</td>\n",
              "      <td>1.660804e+06</td>\n",
              "    </tr>\n",
              "    <tr>\n",
              "      <th>2</th>\n",
              "      <td>Chiang Mai</td>\n",
              "      <td>2018</td>\n",
              "      <td>1687971</td>\n",
              "      <td>1.660804e+06</td>\n",
              "    </tr>\n",
              "    <tr>\n",
              "      <th>3</th>\n",
              "      <td>Phrae</td>\n",
              "      <td>2016</td>\n",
              "      <td>398936</td>\n",
              "      <td>4.103237e+05</td>\n",
              "    </tr>\n",
              "    <tr>\n",
              "      <th>4</th>\n",
              "      <td>Phrae</td>\n",
              "      <td>2017</td>\n",
              "      <td>410382</td>\n",
              "      <td>4.103237e+05</td>\n",
              "    </tr>\n",
              "    <tr>\n",
              "      <th>5</th>\n",
              "      <td>Phrae</td>\n",
              "      <td>2018</td>\n",
              "      <td>421653</td>\n",
              "      <td>4.103237e+05</td>\n",
              "    </tr>\n",
              "  </tbody>\n",
              "</table>\n",
              "</div>"
            ],
            "text/plain": [
              "     province  year  population       avg_pop\n",
              "0  Chiang Mai  2016     1630428  1.660804e+06\n",
              "1  Chiang Mai  2017     1664012  1.660804e+06\n",
              "2  Chiang Mai  2018     1687971  1.660804e+06\n",
              "3       Phrae  2016      398936  4.103237e+05\n",
              "4       Phrae  2017      410382  4.103237e+05\n",
              "5       Phrae  2018      421653  4.103237e+05"
            ]
          },
          "execution_count": 182,
          "metadata": {},
          "output_type": "execute_result"
        }
      ],
      "source": [
        "df.merge(avg_df, on = 'province', how = 'inner')"
      ]
    },
    {
      "cell_type": "markdown",
      "metadata": {
        "id": "Cqfv_mFviHFs"
      },
      "source": [
        "## SQL"
      ]
    },
    {
      "cell_type": "code",
      "execution_count": 183,
      "metadata": {
        "id": "bo_dSLraiHFs"
      },
      "outputs": [
        {
          "name": "stdout",
          "output_type": "stream",
          "text": [
            "Looking in indexes: https://pypi.org/simple, https://pypi.ngc.nvidia.com"
          ]
        },
        {
          "name": "stderr",
          "output_type": "stream",
          "text": [
            "DEPRECATION: markdown 3.3.5 has a non-standard dependency specifier importlib-metadata>='4.4'; python_version < \"3.10\". pip 24.0 will enforce this behaviour change. A possible replacement is to upgrade to a newer version of markdown or contact the author to suggest that they release a version with a conforming dependency specifiers. Discussion can be found at https://github.com/pypa/pip/issues/12063\n",
            "\n",
            "[notice] A new release of pip is available: 23.3.1 -> 24.2\n",
            "[notice] To update, run: C:\\Users\\Om\\AppData\\Local\\Microsoft\\WindowsApps\\PythonSoftwareFoundation.Python.3.9_qbz5n2kfra8p0\\python.exe -m pip install --upgrade pip\n"
          ]
        },
        {
          "name": "stdout",
          "output_type": "stream",
          "text": [
            "\n",
            "Collecting pandasql\n",
            "  Downloading pandasql-0.7.3.tar.gz (26 kB)\n",
            "  Preparing metadata (setup.py): started\n",
            "  Preparing metadata (setup.py): finished with status 'done'\n",
            "Requirement already satisfied: numpy in c:\\users\\om\\appdata\\local\\packages\\pythonsoftwarefoundation.python.3.9_qbz5n2kfra8p0\\localcache\\local-packages\\python39\\site-packages (from pandasql) (1.26.1)\n",
            "Requirement already satisfied: pandas in c:\\users\\om\\appdata\\local\\packages\\pythonsoftwarefoundation.python.3.9_qbz5n2kfra8p0\\localcache\\local-packages\\python39\\site-packages (from pandasql) (1.3.5)\n",
            "Requirement already satisfied: sqlalchemy in c:\\users\\om\\appdata\\local\\packages\\pythonsoftwarefoundation.python.3.9_qbz5n2kfra8p0\\localcache\\local-packages\\python39\\site-packages (from pandasql) (1.4.45)\n",
            "Requirement already satisfied: python-dateutil>=2.7.3 in c:\\users\\om\\appdata\\local\\packages\\pythonsoftwarefoundation.python.3.9_qbz5n2kfra8p0\\localcache\\local-packages\\python39\\site-packages (from pandas->pandasql) (2.8.2)\n",
            "Requirement already satisfied: pytz>=2017.3 in c:\\users\\om\\appdata\\local\\packages\\pythonsoftwarefoundation.python.3.9_qbz5n2kfra8p0\\localcache\\local-packages\\python39\\site-packages (from pandas->pandasql) (2021.3)\n",
            "Requirement already satisfied: greenlet!=0.4.17 in c:\\users\\om\\appdata\\local\\packages\\pythonsoftwarefoundation.python.3.9_qbz5n2kfra8p0\\localcache\\local-packages\\python39\\site-packages (from sqlalchemy->pandasql) (2.0.1)\n",
            "Requirement already satisfied: six>=1.5 in c:\\users\\om\\appdata\\local\\packages\\pythonsoftwarefoundation.python.3.9_qbz5n2kfra8p0\\localcache\\local-packages\\python39\\site-packages (from python-dateutil>=2.7.3->pandas->pandasql) (1.16.0)\n",
            "Building wheels for collected packages: pandasql\n",
            "  Building wheel for pandasql (setup.py): started\n",
            "  Building wheel for pandasql (setup.py): finished with status 'done'\n",
            "  Created wheel for pandasql: filename=pandasql-0.7.3-py3-none-any.whl size=26781 sha256=56824746e04b11e7e76e3389ab1c9574d6f75a99633f2590a33f1a6dc781a1a8\n",
            "  Stored in directory: C:\\Users\\Om\\AppData\\Local\\Temp\\pip-ephem-wheel-cache-p7vhbt1q\\wheels\\63\\e8\\ec\\75b1df467ecf57b6ececb32cb16f4e86697cbfe55cb0c51f07\n",
            "Successfully built pandasql\n",
            "Installing collected packages: pandasql\n",
            "Successfully installed pandasql-0.7.3\n"
          ]
        }
      ],
      "source": [
        "!pip install pandasql"
      ]
    },
    {
      "cell_type": "code",
      "execution_count": 184,
      "metadata": {
        "id": "dcJuR9ixiHFx"
      },
      "outputs": [],
      "source": [
        "import pandasql"
      ]
    },
    {
      "cell_type": "code",
      "execution_count": 185,
      "metadata": {
        "id": "OoDSKiKuiHF1"
      },
      "outputs": [
        {
          "data": {
            "text/html": [
              "<div>\n",
              "<style scoped>\n",
              "    .dataframe tbody tr th:only-of-type {\n",
              "        vertical-align: middle;\n",
              "    }\n",
              "\n",
              "    .dataframe tbody tr th {\n",
              "        vertical-align: top;\n",
              "    }\n",
              "\n",
              "    .dataframe thead th {\n",
              "        text-align: right;\n",
              "    }\n",
              "</style>\n",
              "<table border=\"1\" class=\"dataframe\">\n",
              "  <thead>\n",
              "    <tr style=\"text-align: right;\">\n",
              "      <th></th>\n",
              "      <th>province</th>\n",
              "      <th>year</th>\n",
              "      <th>population</th>\n",
              "    </tr>\n",
              "  </thead>\n",
              "  <tbody>\n",
              "    <tr>\n",
              "      <th>0</th>\n",
              "      <td>Chiang Mai</td>\n",
              "      <td>2016</td>\n",
              "      <td>1630428</td>\n",
              "    </tr>\n",
              "    <tr>\n",
              "      <th>1</th>\n",
              "      <td>Chiang Mai</td>\n",
              "      <td>2017</td>\n",
              "      <td>1664012</td>\n",
              "    </tr>\n",
              "    <tr>\n",
              "      <th>2</th>\n",
              "      <td>Chiang Mai</td>\n",
              "      <td>2018</td>\n",
              "      <td>1687971</td>\n",
              "    </tr>\n",
              "    <tr>\n",
              "      <th>3</th>\n",
              "      <td>Phrae</td>\n",
              "      <td>2016</td>\n",
              "      <td>398936</td>\n",
              "    </tr>\n",
              "    <tr>\n",
              "      <th>4</th>\n",
              "      <td>Phrae</td>\n",
              "      <td>2017</td>\n",
              "      <td>410382</td>\n",
              "    </tr>\n",
              "    <tr>\n",
              "      <th>5</th>\n",
              "      <td>Phrae</td>\n",
              "      <td>2018</td>\n",
              "      <td>421653</td>\n",
              "    </tr>\n",
              "  </tbody>\n",
              "</table>\n",
              "</div>"
            ],
            "text/plain": [
              "     province  year  population\n",
              "0  Chiang Mai  2016     1630428\n",
              "1  Chiang Mai  2017     1664012\n",
              "2  Chiang Mai  2018     1687971\n",
              "3       Phrae  2016      398936\n",
              "4       Phrae  2017      410382\n",
              "5       Phrae  2018      421653"
            ]
          },
          "execution_count": 185,
          "metadata": {},
          "output_type": "execute_result"
        }
      ],
      "source": [
        "sql_df = pandasql.sqldf(\"SELECT * FROM df;\")\n",
        "sql_df"
      ]
    },
    {
      "cell_type": "code",
      "execution_count": 186,
      "metadata": {
        "id": "3vrg_IZOiHF2"
      },
      "outputs": [
        {
          "data": {
            "text/html": [
              "<div>\n",
              "<style scoped>\n",
              "    .dataframe tbody tr th:only-of-type {\n",
              "        vertical-align: middle;\n",
              "    }\n",
              "\n",
              "    .dataframe tbody tr th {\n",
              "        vertical-align: top;\n",
              "    }\n",
              "\n",
              "    .dataframe thead th {\n",
              "        text-align: right;\n",
              "    }\n",
              "</style>\n",
              "<table border=\"1\" class=\"dataframe\">\n",
              "  <thead>\n",
              "    <tr style=\"text-align: right;\">\n",
              "      <th></th>\n",
              "      <th>province</th>\n",
              "      <th>avg(population)</th>\n",
              "    </tr>\n",
              "  </thead>\n",
              "  <tbody>\n",
              "    <tr>\n",
              "      <th>0</th>\n",
              "      <td>Chiang Mai</td>\n",
              "      <td>1.660804e+06</td>\n",
              "    </tr>\n",
              "    <tr>\n",
              "      <th>1</th>\n",
              "      <td>Phrae</td>\n",
              "      <td>4.103237e+05</td>\n",
              "    </tr>\n",
              "  </tbody>\n",
              "</table>\n",
              "</div>"
            ],
            "text/plain": [
              "     province  avg(population)\n",
              "0  Chiang Mai     1.660804e+06\n",
              "1       Phrae     4.103237e+05"
            ]
          },
          "execution_count": 186,
          "metadata": {},
          "output_type": "execute_result"
        }
      ],
      "source": [
        "sql_df = pandasql.sqldf(\"select province, avg(population) from df group by province;\")\n",
        "sql_df"
      ]
    },
    {
      "cell_type": "code",
      "execution_count": null,
      "metadata": {
        "id": "bTjQUZadeaVu"
      },
      "outputs": [],
      "source": []
    }
  ],
  "metadata": {
    "colab": {
      "name": "Pandas.ipynb",
      "provenance": [],
      "toc_visible": true
    },
    "kernelspec": {
      "display_name": "Python 3",
      "language": "python",
      "name": "python3"
    },
    "language_info": {
      "codemirror_mode": {
        "name": "ipython",
        "version": 3
      },
      "file_extension": ".py",
      "mimetype": "text/x-python",
      "name": "python",
      "nbconvert_exporter": "python",
      "pygments_lexer": "ipython3",
      "version": "3.9.13"
    },
    "toc": {
      "base_numbering": 1,
      "nav_menu": {},
      "number_sections": true,
      "sideBar": true,
      "skip_h1_title": false,
      "title_cell": "Table of Contents",
      "title_sidebar": "Contents",
      "toc_cell": false,
      "toc_position": {
        "height": "calc(100% - 180px)",
        "left": "10px",
        "top": "150px",
        "width": "498.594px"
      },
      "toc_section_display": true,
      "toc_window_display": true
    },
    "varInspector": {
      "cols": {
        "lenName": 16,
        "lenType": 16,
        "lenVar": 40
      },
      "kernels_config": {
        "python": {
          "delete_cmd_postfix": "",
          "delete_cmd_prefix": "del ",
          "library": "var_list.py",
          "varRefreshCmd": "print(var_dic_list())"
        },
        "r": {
          "delete_cmd_postfix": ") ",
          "delete_cmd_prefix": "rm(",
          "library": "var_list.r",
          "varRefreshCmd": "cat(var_dic_list()) "
        }
      },
      "types_to_exclude": [
        "module",
        "function",
        "builtin_function_or_method",
        "instance",
        "_Feature"
      ],
      "window_display": false
    }
  },
  "nbformat": 4,
  "nbformat_minor": 0
}
