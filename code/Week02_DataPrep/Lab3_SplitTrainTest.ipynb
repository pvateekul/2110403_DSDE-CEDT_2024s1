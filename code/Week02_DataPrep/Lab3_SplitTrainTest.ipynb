{
  "cells": [
    {
      "cell_type": "code",
      "execution_count": null,
      "metadata": {
        "id": "OUaRhvSCD4re"
      },
      "outputs": [],
      "source": [
        "import pandas as pd\n",
        "import numpy as np\n",
        "#pd.set_option('max_columns', 120)\n",
        "#pd.set_option('max_colwidth', 5000)\n",
        "\n",
        "import matplotlib.pyplot as plt\n",
        "import seaborn as sns\n",
        "%matplotlib inline\n",
        "plt.rcParams['figure.figsize'] = (12,8)"
      ]
    },
    {
      "cell_type": "code",
      "execution_count": null,
      "metadata": {
        "colab": {
          "background_save": true
        },
        "id": "sFfmILRTD4rl"
      },
      "outputs": [],
      "source": [
        "loans = pd.read_csv('https://github.com/kaopanboonyuen/2110446_DataScience_2021s2/raw/main/datasets/cleaned_loans_2007.csv')\n",
        "loans.head()"
      ]
    },
    {
      "cell_type": "code",
      "execution_count": null,
      "metadata": {
        "colab": {
          "background_save": true
        },
        "id": "REr8H9ZUD4rp"
      },
      "outputs": [],
      "source": [
        "loans.shape"
      ]
    },
    {
      "cell_type": "code",
      "execution_count": null,
      "metadata": {
        "colab": {
          "background_save": true
        },
        "id": "T357iBrrD4rs"
      },
      "outputs": [],
      "source": [
        "loans['loan_status'].value_counts() / loans.shape[0]"
      ]
    },
    {
      "cell_type": "code",
      "execution_count": null,
      "metadata": {
        "colab": {
          "base_uri": "https://localhost:8080/",
          "height": 411
        },
        "id": "i5Ym454eD4rv",
        "outputId": "62b0667a-7695-4eaa-a8f7-6c12ab7166be"
      },
      "outputs": [
        {
          "data": {
            "text/html": [
              "\n",
              "  <div id=\"df-a1a5f8e5-7cc7-4899-8abc-b647643378b5\">\n",
              "    <div class=\"colab-df-container\">\n",
              "      <div>\n",
              "<style scoped>\n",
              "    .dataframe tbody tr th:only-of-type {\n",
              "        vertical-align: middle;\n",
              "    }\n",
              "\n",
              "    .dataframe tbody tr th {\n",
              "        vertical-align: top;\n",
              "    }\n",
              "\n",
              "    .dataframe thead th {\n",
              "        text-align: right;\n",
              "    }\n",
              "</style>\n",
              "<table border=\"1\" class=\"dataframe\">\n",
              "  <thead>\n",
              "    <tr style=\"text-align: right;\">\n",
              "      <th></th>\n",
              "      <th>loan_amnt</th>\n",
              "      <th>installment</th>\n",
              "      <th>grade</th>\n",
              "      <th>emp_length</th>\n",
              "      <th>annual_inc</th>\n",
              "      <th>loan_status</th>\n",
              "      <th>dti</th>\n",
              "      <th>delinq_2yrs</th>\n",
              "      <th>inq_last_6mths</th>\n",
              "      <th>open_acc</th>\n",
              "      <th>...</th>\n",
              "      <th>purpose_major_purchase</th>\n",
              "      <th>purpose_medical</th>\n",
              "      <th>purpose_moving</th>\n",
              "      <th>purpose_other</th>\n",
              "      <th>purpose_renewable_energy</th>\n",
              "      <th>purpose_small_business</th>\n",
              "      <th>purpose_vacation</th>\n",
              "      <th>purpose_wedding</th>\n",
              "      <th>term_ 36 months</th>\n",
              "      <th>term_ 60 months</th>\n",
              "    </tr>\n",
              "  </thead>\n",
              "  <tbody>\n",
              "    <tr>\n",
              "      <th>count</th>\n",
              "      <td>39177.000000</td>\n",
              "      <td>39177.000000</td>\n",
              "      <td>39177.000000</td>\n",
              "      <td>39177.000000</td>\n",
              "      <td>3.917700e+04</td>\n",
              "      <td>39177.000000</td>\n",
              "      <td>39177.000000</td>\n",
              "      <td>39177.000000</td>\n",
              "      <td>39177.000000</td>\n",
              "      <td>39177.000000</td>\n",
              "      <td>...</td>\n",
              "      <td>39177.000000</td>\n",
              "      <td>39177.000000</td>\n",
              "      <td>39177.000000</td>\n",
              "      <td>39177.000000</td>\n",
              "      <td>39177.000000</td>\n",
              "      <td>39177.000000</td>\n",
              "      <td>39177.000000</td>\n",
              "      <td>39177.000000</td>\n",
              "      <td>39177.000000</td>\n",
              "      <td>39177.000000</td>\n",
              "    </tr>\n",
              "    <tr>\n",
              "      <th>mean</th>\n",
              "      <td>11143.689537</td>\n",
              "      <td>323.514635</td>\n",
              "      <td>2.565561</td>\n",
              "      <td>4.828471</td>\n",
              "      <td>6.891654e+04</td>\n",
              "      <td>0.856191</td>\n",
              "      <td>13.298736</td>\n",
              "      <td>0.146540</td>\n",
              "      <td>0.870230</td>\n",
              "      <td>9.292646</td>\n",
              "      <td>...</td>\n",
              "      <td>0.055594</td>\n",
              "      <td>0.017561</td>\n",
              "      <td>0.014805</td>\n",
              "      <td>0.100084</td>\n",
              "      <td>0.002629</td>\n",
              "      <td>0.045741</td>\n",
              "      <td>0.009623</td>\n",
              "      <td>0.023994</td>\n",
              "      <td>0.741277</td>\n",
              "      <td>0.258723</td>\n",
              "    </tr>\n",
              "    <tr>\n",
              "      <th>std</th>\n",
              "      <td>7398.202266</td>\n",
              "      <td>208.483501</td>\n",
              "      <td>1.383501</td>\n",
              "      <td>3.603729</td>\n",
              "      <td>6.400410e+04</td>\n",
              "      <td>0.350900</td>\n",
              "      <td>6.674513</td>\n",
              "      <td>0.491341</td>\n",
              "      <td>1.071069</td>\n",
              "      <td>4.400309</td>\n",
              "      <td>...</td>\n",
              "      <td>0.229139</td>\n",
              "      <td>0.131352</td>\n",
              "      <td>0.120772</td>\n",
              "      <td>0.300116</td>\n",
              "      <td>0.051208</td>\n",
              "      <td>0.208926</td>\n",
              "      <td>0.097625</td>\n",
              "      <td>0.153031</td>\n",
              "      <td>0.437939</td>\n",
              "      <td>0.437939</td>\n",
              "    </tr>\n",
              "    <tr>\n",
              "      <th>min</th>\n",
              "      <td>500.000000</td>\n",
              "      <td>15.690000</td>\n",
              "      <td>1.000000</td>\n",
              "      <td>0.000000</td>\n",
              "      <td>4.000000e+03</td>\n",
              "      <td>0.000000</td>\n",
              "      <td>0.000000</td>\n",
              "      <td>0.000000</td>\n",
              "      <td>0.000000</td>\n",
              "      <td>2.000000</td>\n",
              "      <td>...</td>\n",
              "      <td>0.000000</td>\n",
              "      <td>0.000000</td>\n",
              "      <td>0.000000</td>\n",
              "      <td>0.000000</td>\n",
              "      <td>0.000000</td>\n",
              "      <td>0.000000</td>\n",
              "      <td>0.000000</td>\n",
              "      <td>0.000000</td>\n",
              "      <td>0.000000</td>\n",
              "      <td>0.000000</td>\n",
              "    </tr>\n",
              "    <tr>\n",
              "      <th>25%</th>\n",
              "      <td>5425.000000</td>\n",
              "      <td>166.500000</td>\n",
              "      <td>1.000000</td>\n",
              "      <td>2.000000</td>\n",
              "      <td>4.020000e+04</td>\n",
              "      <td>1.000000</td>\n",
              "      <td>8.160000</td>\n",
              "      <td>0.000000</td>\n",
              "      <td>0.000000</td>\n",
              "      <td>6.000000</td>\n",
              "      <td>...</td>\n",
              "      <td>0.000000</td>\n",
              "      <td>0.000000</td>\n",
              "      <td>0.000000</td>\n",
              "      <td>0.000000</td>\n",
              "      <td>0.000000</td>\n",
              "      <td>0.000000</td>\n",
              "      <td>0.000000</td>\n",
              "      <td>0.000000</td>\n",
              "      <td>0.000000</td>\n",
              "      <td>0.000000</td>\n",
              "    </tr>\n",
              "    <tr>\n",
              "      <th>50%</th>\n",
              "      <td>10000.000000</td>\n",
              "      <td>279.160000</td>\n",
              "      <td>2.000000</td>\n",
              "      <td>4.000000</td>\n",
              "      <td>5.900000e+04</td>\n",
              "      <td>1.000000</td>\n",
              "      <td>13.390000</td>\n",
              "      <td>0.000000</td>\n",
              "      <td>1.000000</td>\n",
              "      <td>9.000000</td>\n",
              "      <td>...</td>\n",
              "      <td>0.000000</td>\n",
              "      <td>0.000000</td>\n",
              "      <td>0.000000</td>\n",
              "      <td>0.000000</td>\n",
              "      <td>0.000000</td>\n",
              "      <td>0.000000</td>\n",
              "      <td>0.000000</td>\n",
              "      <td>0.000000</td>\n",
              "      <td>1.000000</td>\n",
              "      <td>0.000000</td>\n",
              "    </tr>\n",
              "    <tr>\n",
              "      <th>75%</th>\n",
              "      <td>15000.000000</td>\n",
              "      <td>428.030000</td>\n",
              "      <td>3.000000</td>\n",
              "      <td>9.000000</td>\n",
              "      <td>8.200000e+04</td>\n",
              "      <td>1.000000</td>\n",
              "      <td>18.580000</td>\n",
              "      <td>0.000000</td>\n",
              "      <td>1.000000</td>\n",
              "      <td>12.000000</td>\n",
              "      <td>...</td>\n",
              "      <td>0.000000</td>\n",
              "      <td>0.000000</td>\n",
              "      <td>0.000000</td>\n",
              "      <td>0.000000</td>\n",
              "      <td>0.000000</td>\n",
              "      <td>0.000000</td>\n",
              "      <td>0.000000</td>\n",
              "      <td>0.000000</td>\n",
              "      <td>1.000000</td>\n",
              "      <td>1.000000</td>\n",
              "    </tr>\n",
              "    <tr>\n",
              "      <th>max</th>\n",
              "      <td>35000.000000</td>\n",
              "      <td>1305.190000</td>\n",
              "      <td>7.000000</td>\n",
              "      <td>10.000000</td>\n",
              "      <td>6.000000e+06</td>\n",
              "      <td>1.000000</td>\n",
              "      <td>29.990000</td>\n",
              "      <td>11.000000</td>\n",
              "      <td>8.000000</td>\n",
              "      <td>44.000000</td>\n",
              "      <td>...</td>\n",
              "      <td>1.000000</td>\n",
              "      <td>1.000000</td>\n",
              "      <td>1.000000</td>\n",
              "      <td>1.000000</td>\n",
              "      <td>1.000000</td>\n",
              "      <td>1.000000</td>\n",
              "      <td>1.000000</td>\n",
              "      <td>1.000000</td>\n",
              "      <td>1.000000</td>\n",
              "      <td>1.000000</td>\n",
              "    </tr>\n",
              "  </tbody>\n",
              "</table>\n",
              "<p>8 rows × 39 columns</p>\n",
              "</div>\n",
              "      <button class=\"colab-df-convert\" onclick=\"convertToInteractive('df-a1a5f8e5-7cc7-4899-8abc-b647643378b5')\"\n",
              "              title=\"Convert this dataframe to an interactive table.\"\n",
              "              style=\"display:none;\">\n",
              "        \n",
              "  <svg xmlns=\"http://www.w3.org/2000/svg\" height=\"24px\"viewBox=\"0 0 24 24\"\n",
              "       width=\"24px\">\n",
              "    <path d=\"M0 0h24v24H0V0z\" fill=\"none\"/>\n",
              "    <path d=\"M18.56 5.44l.94 2.06.94-2.06 2.06-.94-2.06-.94-.94-2.06-.94 2.06-2.06.94zm-11 1L8.5 8.5l.94-2.06 2.06-.94-2.06-.94L8.5 2.5l-.94 2.06-2.06.94zm10 10l.94 2.06.94-2.06 2.06-.94-2.06-.94-.94-2.06-.94 2.06-2.06.94z\"/><path d=\"M17.41 7.96l-1.37-1.37c-.4-.4-.92-.59-1.43-.59-.52 0-1.04.2-1.43.59L10.3 9.45l-7.72 7.72c-.78.78-.78 2.05 0 2.83L4 21.41c.39.39.9.59 1.41.59.51 0 1.02-.2 1.41-.59l7.78-7.78 2.81-2.81c.8-.78.8-2.07 0-2.86zM5.41 20L4 18.59l7.72-7.72 1.47 1.35L5.41 20z\"/>\n",
              "  </svg>\n",
              "      </button>\n",
              "      \n",
              "  <style>\n",
              "    .colab-df-container {\n",
              "      display:flex;\n",
              "      flex-wrap:wrap;\n",
              "      gap: 12px;\n",
              "    }\n",
              "\n",
              "    .colab-df-convert {\n",
              "      background-color: #E8F0FE;\n",
              "      border: none;\n",
              "      border-radius: 50%;\n",
              "      cursor: pointer;\n",
              "      display: none;\n",
              "      fill: #1967D2;\n",
              "      height: 32px;\n",
              "      padding: 0 0 0 0;\n",
              "      width: 32px;\n",
              "    }\n",
              "\n",
              "    .colab-df-convert:hover {\n",
              "      background-color: #E2EBFA;\n",
              "      box-shadow: 0px 1px 2px rgba(60, 64, 67, 0.3), 0px 1px 3px 1px rgba(60, 64, 67, 0.15);\n",
              "      fill: #174EA6;\n",
              "    }\n",
              "\n",
              "    [theme=dark] .colab-df-convert {\n",
              "      background-color: #3B4455;\n",
              "      fill: #D2E3FC;\n",
              "    }\n",
              "\n",
              "    [theme=dark] .colab-df-convert:hover {\n",
              "      background-color: #434B5C;\n",
              "      box-shadow: 0px 1px 3px 1px rgba(0, 0, 0, 0.15);\n",
              "      filter: drop-shadow(0px 1px 2px rgba(0, 0, 0, 0.3));\n",
              "      fill: #FFFFFF;\n",
              "    }\n",
              "  </style>\n",
              "\n",
              "      <script>\n",
              "        const buttonEl =\n",
              "          document.querySelector('#df-a1a5f8e5-7cc7-4899-8abc-b647643378b5 button.colab-df-convert');\n",
              "        buttonEl.style.display =\n",
              "          google.colab.kernel.accessAllowed ? 'block' : 'none';\n",
              "\n",
              "        async function convertToInteractive(key) {\n",
              "          const element = document.querySelector('#df-a1a5f8e5-7cc7-4899-8abc-b647643378b5');\n",
              "          const dataTable =\n",
              "            await google.colab.kernel.invokeFunction('convertToInteractive',\n",
              "                                                     [key], {});\n",
              "          if (!dataTable) return;\n",
              "\n",
              "          const docLinkHtml = 'Like what you see? Visit the ' +\n",
              "            '<a target=\"_blank\" href=https://colab.research.google.com/notebooks/data_table.ipynb>data table notebook</a>'\n",
              "            + ' to learn more about interactive tables.';\n",
              "          element.innerHTML = '';\n",
              "          dataTable['output_type'] = 'display_data';\n",
              "          await google.colab.output.renderOutput(dataTable, element);\n",
              "          const docLink = document.createElement('div');\n",
              "          docLink.innerHTML = docLinkHtml;\n",
              "          element.appendChild(docLink);\n",
              "        }\n",
              "      </script>\n",
              "    </div>\n",
              "  </div>\n",
              "  "
            ],
            "text/plain": [
              "          loan_amnt   installment         grade    emp_length    annual_inc  \\\n",
              "count  39177.000000  39177.000000  39177.000000  39177.000000  3.917700e+04   \n",
              "mean   11143.689537    323.514635      2.565561      4.828471  6.891654e+04   \n",
              "std     7398.202266    208.483501      1.383501      3.603729  6.400410e+04   \n",
              "min      500.000000     15.690000      1.000000      0.000000  4.000000e+03   \n",
              "25%     5425.000000    166.500000      1.000000      2.000000  4.020000e+04   \n",
              "50%    10000.000000    279.160000      2.000000      4.000000  5.900000e+04   \n",
              "75%    15000.000000    428.030000      3.000000      9.000000  8.200000e+04   \n",
              "max    35000.000000   1305.190000      7.000000     10.000000  6.000000e+06   \n",
              "\n",
              "        loan_status           dti   delinq_2yrs  inq_last_6mths      open_acc  \\\n",
              "count  39177.000000  39177.000000  39177.000000    39177.000000  39177.000000   \n",
              "mean       0.856191     13.298736      0.146540        0.870230      9.292646   \n",
              "std        0.350900      6.674513      0.491341        1.071069      4.400309   \n",
              "min        0.000000      0.000000      0.000000        0.000000      2.000000   \n",
              "25%        1.000000      8.160000      0.000000        0.000000      6.000000   \n",
              "50%        1.000000     13.390000      0.000000        1.000000      9.000000   \n",
              "75%        1.000000     18.580000      0.000000        1.000000     12.000000   \n",
              "max        1.000000     29.990000     11.000000        8.000000     44.000000   \n",
              "\n",
              "       ...  purpose_major_purchase  purpose_medical  purpose_moving  \\\n",
              "count  ...            39177.000000     39177.000000    39177.000000   \n",
              "mean   ...                0.055594         0.017561        0.014805   \n",
              "std    ...                0.229139         0.131352        0.120772   \n",
              "min    ...                0.000000         0.000000        0.000000   \n",
              "25%    ...                0.000000         0.000000        0.000000   \n",
              "50%    ...                0.000000         0.000000        0.000000   \n",
              "75%    ...                0.000000         0.000000        0.000000   \n",
              "max    ...                1.000000         1.000000        1.000000   \n",
              "\n",
              "       purpose_other  purpose_renewable_energy  purpose_small_business  \\\n",
              "count   39177.000000              39177.000000            39177.000000   \n",
              "mean        0.100084                  0.002629                0.045741   \n",
              "std         0.300116                  0.051208                0.208926   \n",
              "min         0.000000                  0.000000                0.000000   \n",
              "25%         0.000000                  0.000000                0.000000   \n",
              "50%         0.000000                  0.000000                0.000000   \n",
              "75%         0.000000                  0.000000                0.000000   \n",
              "max         1.000000                  1.000000                1.000000   \n",
              "\n",
              "       purpose_vacation  purpose_wedding  term_ 36 months  term_ 60 months  \n",
              "count      39177.000000     39177.000000     39177.000000     39177.000000  \n",
              "mean           0.009623         0.023994         0.741277         0.258723  \n",
              "std            0.097625         0.153031         0.437939         0.437939  \n",
              "min            0.000000         0.000000         0.000000         0.000000  \n",
              "25%            0.000000         0.000000         0.000000         0.000000  \n",
              "50%            0.000000         0.000000         1.000000         0.000000  \n",
              "75%            0.000000         0.000000         1.000000         1.000000  \n",
              "max            1.000000         1.000000         1.000000         1.000000  \n",
              "\n",
              "[8 rows x 39 columns]"
            ]
          },
          "execution_count": 15,
          "metadata": {},
          "output_type": "execute_result"
        }
      ],
      "source": [
        "loans.describe()"
      ]
    },
    {
      "cell_type": "code",
      "execution_count": null,
      "metadata": {
        "id": "0REBJxGkD4ry"
      },
      "outputs": [],
      "source": [
        "from sklearn.model_selection import train_test_split\n",
        "y = loans.pop('loan_status')\n",
        "X = loans\n",
        "\n",
        "X_train,X_test,y_train,y_test = train_test_split(X,y,stratify=y,test_size=0.25, random_state=42)"
      ]
    },
    {
      "cell_type": "code",
      "execution_count": null,
      "metadata": {
        "colab": {
          "base_uri": "https://localhost:8080/"
        },
        "id": "iOFdqYPgD4r1",
        "outputId": "9d90d0fb-968c-4001-a0a5-f324403d1d00"
      },
      "outputs": [
        {
          "name": "stdout",
          "output_type": "stream",
          "text": [
            "(29382, 38)\n"
          ]
        }
      ],
      "source": [
        "print(X_train.shape)"
      ]
    },
    {
      "cell_type": "code",
      "execution_count": null,
      "metadata": {
        "colab": {
          "base_uri": "https://localhost:8080/"
        },
        "id": "It4I4f9FD4r4",
        "outputId": "61ecaec6-127c-4ce3-84f4-33d37139a1cf"
      },
      "outputs": [
        {
          "name": "stdout",
          "output_type": "stream",
          "text": [
            "(9795, 38)\n"
          ]
        }
      ],
      "source": [
        "print(X_test.shape)"
      ]
    },
    {
      "cell_type": "code",
      "execution_count": null,
      "metadata": {
        "colab": {
          "base_uri": "https://localhost:8080/"
        },
        "id": "9_8s72aID4r7",
        "outputId": "586aef92-56d9-4716-fd6d-2ae1ec6e59f2"
      },
      "outputs": [
        {
          "data": {
            "text/plain": [
              "1    0.856204\n",
              "0    0.143796\n",
              "Name: loan_status, dtype: float64"
            ]
          },
          "execution_count": 19,
          "metadata": {},
          "output_type": "execute_result"
        }
      ],
      "source": [
        "y_train.value_counts() / y_train.shape[0]"
      ]
    },
    {
      "cell_type": "code",
      "execution_count": null,
      "metadata": {
        "colab": {
          "base_uri": "https://localhost:8080/"
        },
        "id": "TyLSPupjD4r-",
        "outputId": "6fc72ed3-a34f-452f-9619-d626d2928369"
      },
      "outputs": [
        {
          "data": {
            "text/plain": [
              "1    0.856151\n",
              "0    0.143849\n",
              "Name: loan_status, dtype: float64"
            ]
          },
          "execution_count": 20,
          "metadata": {},
          "output_type": "execute_result"
        }
      ],
      "source": [
        "y_test.value_counts() / y_test.shape[0]"
      ]
    }
  ],
  "metadata": {
    "accelerator": "GPU",
    "anaconda-cloud": {},
    "colab": {
      "gpuType": "T4",
      "provenance": []
    },
    "kernelspec": {
      "display_name": "Python 3",
      "name": "python3"
    },
    "language_info": {
      "codemirror_mode": {
        "name": "ipython",
        "version": 3
      },
      "file_extension": ".py",
      "mimetype": "text/x-python",
      "name": "python",
      "nbconvert_exporter": "python",
      "pygments_lexer": "ipython3",
      "version": "3.8.3"
    },
    "toc": {
      "base_numbering": 1,
      "nav_menu": {},
      "number_sections": true,
      "sideBar": true,
      "skip_h1_title": false,
      "title_cell": "Table of Contents",
      "title_sidebar": "Contents",
      "toc_cell": false,
      "toc_position": {},
      "toc_section_display": true,
      "toc_window_display": false
    }
  },
  "nbformat": 4,
  "nbformat_minor": 0
}